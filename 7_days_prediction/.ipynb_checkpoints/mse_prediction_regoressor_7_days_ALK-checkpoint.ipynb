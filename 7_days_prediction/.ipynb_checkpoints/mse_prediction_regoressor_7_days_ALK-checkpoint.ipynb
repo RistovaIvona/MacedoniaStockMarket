{
 "cells": [
  {
   "cell_type": "code",
   "execution_count": 1,
   "metadata": {},
   "outputs": [
    {
     "name": "stderr",
     "output_type": "stream",
     "text": [
      "Using TensorFlow backend.\n"
     ]
    }
   ],
   "source": [
    "import pandas as pd\n",
    "import numpy as np\n",
    "import scipy as sp\n",
    "import matplotlib.pyplot as plt\n",
    "import seaborn as sns\n",
    "import math\n",
    "import itertools\n",
    "import regex as re\n",
    "\n",
    "import xgboost as xgb\n",
    "from sklearn.ensemble import RandomForestRegressor\n",
    "from sklearn.preprocessing import MinMaxScaler, LabelEncoder\n",
    "from sklearn.metrics import mean_squared_error, mean_absolute_error\n",
    "from sklearn.preprocessing import StandardScaler, Normalizer, MinMaxScaler, normalize\n",
    "from sklearn.model_selection import train_test_split, GridSearchCV\n",
    "\n",
    "from keras.callbacks import ModelCheckpoint, EarlyStopping\n",
    "from keras.models import Sequential\n",
    "from keras.layers import Dense, LSTM, SimpleRNN, Activation\n",
    "%matplotlib inline"
   ]
  },
  {
   "cell_type": "markdown",
   "metadata": {},
   "source": [
    "### loading preprocessed dataset"
   ]
  },
  {
   "cell_type": "code",
   "execution_count": 2,
   "metadata": {},
   "outputs": [],
   "source": [
    "df = pd.read_csv('C:/Users/Gj/Documents/Git/macedonian_stock_exchange_market/tmp/mse_raw.csv', parse_dates=['date', 'start_date'], index_col='Unnamed: 0')"
   ]
  },
  {
   "cell_type": "code",
   "execution_count": 3,
   "metadata": {},
   "outputs": [
    {
     "data": {
      "text/html": [
       "<div>\n",
       "<style scoped>\n",
       "    .dataframe tbody tr th:only-of-type {\n",
       "        vertical-align: middle;\n",
       "    }\n",
       "\n",
       "    .dataframe tbody tr th {\n",
       "        vertical-align: top;\n",
       "    }\n",
       "\n",
       "    .dataframe thead th {\n",
       "        text-align: right;\n",
       "    }\n",
       "</style>\n",
       "<table border=\"1\" class=\"dataframe\">\n",
       "  <thead>\n",
       "    <tr style=\"text-align: right;\">\n",
       "      <th></th>\n",
       "      <th>stock_id</th>\n",
       "      <th>date</th>\n",
       "      <th>open</th>\n",
       "      <th>high</th>\n",
       "      <th>low</th>\n",
       "      <th>average</th>\n",
       "      <th>close</th>\n",
       "      <th>volume</th>\n",
       "      <th>quantity</th>\n",
       "      <th>change %</th>\n",
       "      <th>volume total</th>\n",
       "      <th>start_date</th>\n",
       "    </tr>\n",
       "  </thead>\n",
       "  <tbody>\n",
       "    <tr>\n",
       "      <th>0</th>\n",
       "      <td>ALK</td>\n",
       "      <td>1997-01-09</td>\n",
       "      <td>1070.0</td>\n",
       "      <td>1070.0</td>\n",
       "      <td>1070.0</td>\n",
       "      <td>1070.0</td>\n",
       "      <td>1070.0</td>\n",
       "      <td>279270.0</td>\n",
       "      <td>261.0</td>\n",
       "      <td>0.0</td>\n",
       "      <td>279270.0</td>\n",
       "      <td>1997-01-09</td>\n",
       "    </tr>\n",
       "    <tr>\n",
       "      <th>22</th>\n",
       "      <td>ALK</td>\n",
       "      <td>1997-01-10</td>\n",
       "      <td>1070.0</td>\n",
       "      <td>1070.0</td>\n",
       "      <td>1070.0</td>\n",
       "      <td>1070.0</td>\n",
       "      <td>1070.0</td>\n",
       "      <td>0.0</td>\n",
       "      <td>0.0</td>\n",
       "      <td>0.0</td>\n",
       "      <td>0.0</td>\n",
       "      <td>1997-01-09</td>\n",
       "    </tr>\n",
       "    <tr>\n",
       "      <th>44</th>\n",
       "      <td>ALK</td>\n",
       "      <td>1997-01-11</td>\n",
       "      <td>1070.0</td>\n",
       "      <td>1070.0</td>\n",
       "      <td>1070.0</td>\n",
       "      <td>1070.0</td>\n",
       "      <td>1070.0</td>\n",
       "      <td>0.0</td>\n",
       "      <td>0.0</td>\n",
       "      <td>0.0</td>\n",
       "      <td>0.0</td>\n",
       "      <td>1997-01-09</td>\n",
       "    </tr>\n",
       "    <tr>\n",
       "      <th>66</th>\n",
       "      <td>ALK</td>\n",
       "      <td>1997-01-12</td>\n",
       "      <td>1070.0</td>\n",
       "      <td>1070.0</td>\n",
       "      <td>1070.0</td>\n",
       "      <td>1070.0</td>\n",
       "      <td>1070.0</td>\n",
       "      <td>0.0</td>\n",
       "      <td>0.0</td>\n",
       "      <td>0.0</td>\n",
       "      <td>0.0</td>\n",
       "      <td>1997-01-09</td>\n",
       "    </tr>\n",
       "    <tr>\n",
       "      <th>88</th>\n",
       "      <td>ALK</td>\n",
       "      <td>1997-01-13</td>\n",
       "      <td>1070.0</td>\n",
       "      <td>1070.0</td>\n",
       "      <td>1070.0</td>\n",
       "      <td>1070.0</td>\n",
       "      <td>1070.0</td>\n",
       "      <td>0.0</td>\n",
       "      <td>0.0</td>\n",
       "      <td>0.0</td>\n",
       "      <td>0.0</td>\n",
       "      <td>1997-01-09</td>\n",
       "    </tr>\n",
       "  </tbody>\n",
       "</table>\n",
       "</div>"
      ],
      "text/plain": [
       "   stock_id       date    open    high     low  average   close    volume  \\\n",
       "0       ALK 1997-01-09  1070.0  1070.0  1070.0   1070.0  1070.0  279270.0   \n",
       "22      ALK 1997-01-10  1070.0  1070.0  1070.0   1070.0  1070.0       0.0   \n",
       "44      ALK 1997-01-11  1070.0  1070.0  1070.0   1070.0  1070.0       0.0   \n",
       "66      ALK 1997-01-12  1070.0  1070.0  1070.0   1070.0  1070.0       0.0   \n",
       "88      ALK 1997-01-13  1070.0  1070.0  1070.0   1070.0  1070.0       0.0   \n",
       "\n",
       "    quantity  change %  volume total start_date  \n",
       "0      261.0       0.0      279270.0 1997-01-09  \n",
       "22       0.0       0.0           0.0 1997-01-09  \n",
       "44       0.0       0.0           0.0 1997-01-09  \n",
       "66       0.0       0.0           0.0 1997-01-09  \n",
       "88       0.0       0.0           0.0 1997-01-09  "
      ]
     },
     "execution_count": 3,
     "metadata": {},
     "output_type": "execute_result"
    }
   ],
   "source": [
    "df.head(5)"
   ]
  },
  {
   "cell_type": "markdown",
   "metadata": {},
   "source": [
    "## feature engineering"
   ]
  },
  {
   "cell_type": "code",
   "execution_count": 4,
   "metadata": {},
   "outputs": [],
   "source": [
    "# dates - (year, month, day etc...)\n",
    "# rolling - (QTY, volume, volumne total etc...) depend on target (1day, 7days, 30days up to 1 year)\n",
    "# target closing price - (1day, 7days, 30days, 2months etc)\n",
    "# target QTY - (1day, 7days, 30days, 2months etc)"
   ]
  },
  {
   "cell_type": "code",
   "execution_count": 5,
   "metadata": {},
   "outputs": [],
   "source": [
    "df_final = df.copy()"
   ]
  },
  {
   "cell_type": "code",
   "execution_count": 6,
   "metadata": {},
   "outputs": [],
   "source": [
    "def display_all(df):\n",
    "    with pd.option_context(\"display.max_rows\", 10000, \"display.max_columns\", 10000): \n",
    "        display(df)"
   ]
  },
  {
   "cell_type": "markdown",
   "metadata": {},
   "source": [
    "### date extraction"
   ]
  },
  {
   "cell_type": "code",
   "execution_count": 7,
   "metadata": {},
   "outputs": [],
   "source": [
    "df_final['sale_year'] = df_final.date.dt.year\n",
    "df_final['sale_month'] = df_final.date.dt.month\n",
    "df_final['sale_week'] = df_final.date.dt.week\n",
    "df_final['sale_day'] = df_final.date.dt.day\n",
    "df_final['sale_dayofweek'] = df_final.date.dt.dayofweek\n",
    "df_final['sale_dayofyear'] = df_final.date.dt.dayofyear\n",
    "df_final['is_month_end'] = df_final.date.dt.is_month_end\n",
    "df_final['is_month_start'] = df_final.date.dt.is_month_start\n",
    "df_final['is_quarter_end'] = df_final.date.dt.is_quarter_end\n",
    "df_final['is_quarter_start'] = df_final.date.dt.is_quarter_start\n",
    "df_final['is_year_end'] = df_final.date.dt.is_year_end\n",
    "df_final['is_year_start'] = df_final.date.dt.is_year_start\n",
    "df_final['days_in_month'] = df_final.date.dt.days_in_month\n",
    "df_final['is_leap_year'] = df_final.date.dt.is_leap_year\n",
    "df_final['sales_elapsed'] = df_final.date - df_final.start_date\n",
    "df_final['sales_elapsed'] = df_final.sales_elapsed.dt.days"
   ]
  },
  {
   "cell_type": "code",
   "execution_count": 8,
   "metadata": {},
   "outputs": [
    {
     "data": {
      "text/html": [
       "<div>\n",
       "<style scoped>\n",
       "    .dataframe tbody tr th:only-of-type {\n",
       "        vertical-align: middle;\n",
       "    }\n",
       "\n",
       "    .dataframe tbody tr th {\n",
       "        vertical-align: top;\n",
       "    }\n",
       "\n",
       "    .dataframe thead th {\n",
       "        text-align: right;\n",
       "    }\n",
       "</style>\n",
       "<table border=\"1\" class=\"dataframe\">\n",
       "  <thead>\n",
       "    <tr style=\"text-align: right;\">\n",
       "      <th></th>\n",
       "      <th>stock_id</th>\n",
       "      <th>date</th>\n",
       "      <th>open</th>\n",
       "      <th>high</th>\n",
       "      <th>low</th>\n",
       "      <th>average</th>\n",
       "      <th>close</th>\n",
       "      <th>volume</th>\n",
       "      <th>quantity</th>\n",
       "      <th>change %</th>\n",
       "      <th>volume total</th>\n",
       "      <th>start_date</th>\n",
       "      <th>sale_year</th>\n",
       "      <th>sale_month</th>\n",
       "      <th>sale_week</th>\n",
       "      <th>sale_day</th>\n",
       "      <th>sale_dayofweek</th>\n",
       "      <th>sale_dayofyear</th>\n",
       "      <th>is_month_end</th>\n",
       "      <th>is_month_start</th>\n",
       "      <th>is_quarter_end</th>\n",
       "      <th>is_quarter_start</th>\n",
       "      <th>is_year_end</th>\n",
       "      <th>is_year_start</th>\n",
       "      <th>days_in_month</th>\n",
       "      <th>is_leap_year</th>\n",
       "      <th>sales_elapsed</th>\n",
       "    </tr>\n",
       "  </thead>\n",
       "  <tbody>\n",
       "    <tr>\n",
       "      <th>189837</th>\n",
       "      <td>VITA</td>\n",
       "      <td>2020-08-24</td>\n",
       "      <td>14080.0</td>\n",
       "      <td>14080.0</td>\n",
       "      <td>14080.0</td>\n",
       "      <td>14080.0</td>\n",
       "      <td>14080.0</td>\n",
       "      <td>0.0</td>\n",
       "      <td>0.0</td>\n",
       "      <td>0.0</td>\n",
       "      <td>0.0</td>\n",
       "      <td>1998-10-13</td>\n",
       "      <td>2020</td>\n",
       "      <td>8</td>\n",
       "      <td>35</td>\n",
       "      <td>24</td>\n",
       "      <td>0</td>\n",
       "      <td>237</td>\n",
       "      <td>False</td>\n",
       "      <td>False</td>\n",
       "      <td>False</td>\n",
       "      <td>False</td>\n",
       "      <td>False</td>\n",
       "      <td>False</td>\n",
       "      <td>31</td>\n",
       "      <td>True</td>\n",
       "      <td>7986</td>\n",
       "    </tr>\n",
       "    <tr>\n",
       "      <th>189859</th>\n",
       "      <td>VITA</td>\n",
       "      <td>2020-08-25</td>\n",
       "      <td>14080.0</td>\n",
       "      <td>14080.0</td>\n",
       "      <td>14080.0</td>\n",
       "      <td>14080.0</td>\n",
       "      <td>14080.0</td>\n",
       "      <td>0.0</td>\n",
       "      <td>0.0</td>\n",
       "      <td>0.0</td>\n",
       "      <td>0.0</td>\n",
       "      <td>1998-10-13</td>\n",
       "      <td>2020</td>\n",
       "      <td>8</td>\n",
       "      <td>35</td>\n",
       "      <td>25</td>\n",
       "      <td>1</td>\n",
       "      <td>238</td>\n",
       "      <td>False</td>\n",
       "      <td>False</td>\n",
       "      <td>False</td>\n",
       "      <td>False</td>\n",
       "      <td>False</td>\n",
       "      <td>False</td>\n",
       "      <td>31</td>\n",
       "      <td>True</td>\n",
       "      <td>7987</td>\n",
       "    </tr>\n",
       "  </tbody>\n",
       "</table>\n",
       "</div>"
      ],
      "text/plain": [
       "       stock_id       date     open     high      low  average    close  \\\n",
       "189837     VITA 2020-08-24  14080.0  14080.0  14080.0  14080.0  14080.0   \n",
       "189859     VITA 2020-08-25  14080.0  14080.0  14080.0  14080.0  14080.0   \n",
       "\n",
       "        volume  quantity  change %  volume total start_date  sale_year  \\\n",
       "189837     0.0       0.0       0.0           0.0 1998-10-13       2020   \n",
       "189859     0.0       0.0       0.0           0.0 1998-10-13       2020   \n",
       "\n",
       "        sale_month  sale_week  sale_day  sale_dayofweek  sale_dayofyear  \\\n",
       "189837           8         35        24               0             237   \n",
       "189859           8         35        25               1             238   \n",
       "\n",
       "        is_month_end  is_month_start  is_quarter_end  is_quarter_start  \\\n",
       "189837         False           False           False             False   \n",
       "189859         False           False           False             False   \n",
       "\n",
       "        is_year_end  is_year_start  days_in_month  is_leap_year  sales_elapsed  \n",
       "189837        False          False             31          True           7986  \n",
       "189859        False          False             31          True           7987  "
      ]
     },
     "metadata": {},
     "output_type": "display_data"
    }
   ],
   "source": [
    "display_all(df_final.tail(2))"
   ]
  },
  {
   "cell_type": "markdown",
   "metadata": {},
   "source": [
    "### rolling"
   ]
  },
  {
   "cell_type": "code",
   "execution_count": 9,
   "metadata": {},
   "outputs": [],
   "source": [
    "df_final = df_final.set_index('date')"
   ]
  },
  {
   "cell_type": "code",
   "execution_count": 10,
   "metadata": {},
   "outputs": [
    {
     "data": {
      "text/html": [
       "<div>\n",
       "<style scoped>\n",
       "    .dataframe tbody tr th:only-of-type {\n",
       "        vertical-align: middle;\n",
       "    }\n",
       "\n",
       "    .dataframe tbody tr th {\n",
       "        vertical-align: top;\n",
       "    }\n",
       "\n",
       "    .dataframe thead th {\n",
       "        text-align: right;\n",
       "    }\n",
       "</style>\n",
       "<table border=\"1\" class=\"dataframe\">\n",
       "  <thead>\n",
       "    <tr style=\"text-align: right;\">\n",
       "      <th></th>\n",
       "      <th>stock_id</th>\n",
       "      <th>open</th>\n",
       "      <th>high</th>\n",
       "      <th>low</th>\n",
       "      <th>average</th>\n",
       "      <th>close</th>\n",
       "      <th>volume</th>\n",
       "      <th>quantity</th>\n",
       "      <th>change %</th>\n",
       "      <th>volume total</th>\n",
       "      <th>...</th>\n",
       "      <th>sale_dayofyear</th>\n",
       "      <th>is_month_end</th>\n",
       "      <th>is_month_start</th>\n",
       "      <th>is_quarter_end</th>\n",
       "      <th>is_quarter_start</th>\n",
       "      <th>is_year_end</th>\n",
       "      <th>is_year_start</th>\n",
       "      <th>days_in_month</th>\n",
       "      <th>is_leap_year</th>\n",
       "      <th>sales_elapsed</th>\n",
       "    </tr>\n",
       "    <tr>\n",
       "      <th>date</th>\n",
       "      <th></th>\n",
       "      <th></th>\n",
       "      <th></th>\n",
       "      <th></th>\n",
       "      <th></th>\n",
       "      <th></th>\n",
       "      <th></th>\n",
       "      <th></th>\n",
       "      <th></th>\n",
       "      <th></th>\n",
       "      <th></th>\n",
       "      <th></th>\n",
       "      <th></th>\n",
       "      <th></th>\n",
       "      <th></th>\n",
       "      <th></th>\n",
       "      <th></th>\n",
       "      <th></th>\n",
       "      <th></th>\n",
       "      <th></th>\n",
       "      <th></th>\n",
       "    </tr>\n",
       "  </thead>\n",
       "  <tbody>\n",
       "    <tr>\n",
       "      <th>1997-01-09</th>\n",
       "      <td>ALK</td>\n",
       "      <td>1070.0</td>\n",
       "      <td>1070.0</td>\n",
       "      <td>1070.0</td>\n",
       "      <td>1070.0</td>\n",
       "      <td>1070.0</td>\n",
       "      <td>279270.0</td>\n",
       "      <td>261.0</td>\n",
       "      <td>0.0</td>\n",
       "      <td>279270.0</td>\n",
       "      <td>...</td>\n",
       "      <td>9</td>\n",
       "      <td>False</td>\n",
       "      <td>False</td>\n",
       "      <td>False</td>\n",
       "      <td>False</td>\n",
       "      <td>False</td>\n",
       "      <td>False</td>\n",
       "      <td>31</td>\n",
       "      <td>False</td>\n",
       "      <td>0</td>\n",
       "    </tr>\n",
       "    <tr>\n",
       "      <th>1997-01-10</th>\n",
       "      <td>ALK</td>\n",
       "      <td>1070.0</td>\n",
       "      <td>1070.0</td>\n",
       "      <td>1070.0</td>\n",
       "      <td>1070.0</td>\n",
       "      <td>1070.0</td>\n",
       "      <td>0.0</td>\n",
       "      <td>0.0</td>\n",
       "      <td>0.0</td>\n",
       "      <td>0.0</td>\n",
       "      <td>...</td>\n",
       "      <td>10</td>\n",
       "      <td>False</td>\n",
       "      <td>False</td>\n",
       "      <td>False</td>\n",
       "      <td>False</td>\n",
       "      <td>False</td>\n",
       "      <td>False</td>\n",
       "      <td>31</td>\n",
       "      <td>False</td>\n",
       "      <td>1</td>\n",
       "    </tr>\n",
       "    <tr>\n",
       "      <th>1997-01-11</th>\n",
       "      <td>ALK</td>\n",
       "      <td>1070.0</td>\n",
       "      <td>1070.0</td>\n",
       "      <td>1070.0</td>\n",
       "      <td>1070.0</td>\n",
       "      <td>1070.0</td>\n",
       "      <td>0.0</td>\n",
       "      <td>0.0</td>\n",
       "      <td>0.0</td>\n",
       "      <td>0.0</td>\n",
       "      <td>...</td>\n",
       "      <td>11</td>\n",
       "      <td>False</td>\n",
       "      <td>False</td>\n",
       "      <td>False</td>\n",
       "      <td>False</td>\n",
       "      <td>False</td>\n",
       "      <td>False</td>\n",
       "      <td>31</td>\n",
       "      <td>False</td>\n",
       "      <td>2</td>\n",
       "    </tr>\n",
       "  </tbody>\n",
       "</table>\n",
       "<p>3 rows × 26 columns</p>\n",
       "</div>"
      ],
      "text/plain": [
       "           stock_id    open    high     low  average   close    volume  \\\n",
       "date                                                                     \n",
       "1997-01-09      ALK  1070.0  1070.0  1070.0   1070.0  1070.0  279270.0   \n",
       "1997-01-10      ALK  1070.0  1070.0  1070.0   1070.0  1070.0       0.0   \n",
       "1997-01-11      ALK  1070.0  1070.0  1070.0   1070.0  1070.0       0.0   \n",
       "\n",
       "            quantity  change %  volume total  ... sale_dayofyear  \\\n",
       "date                                          ...                  \n",
       "1997-01-09     261.0       0.0      279270.0  ...              9   \n",
       "1997-01-10       0.0       0.0           0.0  ...             10   \n",
       "1997-01-11       0.0       0.0           0.0  ...             11   \n",
       "\n",
       "            is_month_end  is_month_start  is_quarter_end  is_quarter_start  \\\n",
       "date                                                                         \n",
       "1997-01-09         False           False           False             False   \n",
       "1997-01-10         False           False           False             False   \n",
       "1997-01-11         False           False           False             False   \n",
       "\n",
       "            is_year_end  is_year_start  days_in_month  is_leap_year  \\\n",
       "date                                                                  \n",
       "1997-01-09        False          False             31         False   \n",
       "1997-01-10        False          False             31         False   \n",
       "1997-01-11        False          False             31         False   \n",
       "\n",
       "            sales_elapsed  \n",
       "date                       \n",
       "1997-01-09              0  \n",
       "1997-01-10              1  \n",
       "1997-01-11              2  \n",
       "\n",
       "[3 rows x 26 columns]"
      ]
     },
     "execution_count": 10,
     "metadata": {},
     "output_type": "execute_result"
    }
   ],
   "source": [
    "df_final.head(3)"
   ]
  },
  {
   "cell_type": "code",
   "execution_count": 11,
   "metadata": {},
   "outputs": [],
   "source": [
    "#rolloing list for 7 days target shifted by 7 days\n",
    "sum_7_qty_by_stock = []\n",
    "volumne_moving_avg_7 = []\n",
    "close_moving_avg_7 = []\n",
    "close_volatility_7 = []\n",
    "max_7_days = []\n",
    "min_7_days = []\n",
    "change_by_stock_daily_prev = []\n",
    "profitability_daily_prev = []\n",
    "ratio_prev = []"
   ]
  },
  {
   "cell_type": "code",
   "execution_count": 12,
   "metadata": {},
   "outputs": [],
   "source": [
    "for stock in df_final.stock_id.unique():\n",
    "    # sum quantity over last 7 days\n",
    "    qty_sum_7 = df_final[df_final.stock_id == stock].quantity.shift(7).rolling(7).sum()\n",
    "    sum_7_qty_by_stock.append(qty_sum_7)\n",
    "    # moving average on volumne over last 7 days\n",
    "    volumne_ma_7 = df_final[df_final.stock_id == stock].volume.shift(7).rolling(7).mean()\n",
    "    volumne_moving_avg_7.append(volumne_ma_7)\n",
    "    # moving average on close price over last 7 days\n",
    "    close_ma_7 = df_final[df_final.stock_id == stock].close.shift(7).rolling(7).mean()\n",
    "    close_moving_avg_7.append(close_ma_7)\n",
    "    # volatility in close price over last 7 days\n",
    "    close_volatility_7_by_stock = df_final[df_final.stock_id == stock].close.shift(7).rolling(7).std() #shift()\n",
    "    close_volatility_7.append(close_volatility_7_by_stock)\n",
    "    # max close price in last 7 days\n",
    "    max_7_by_stock = df_final[df_final.stock_id == stock].close.shift(7).rolling(7).max()\n",
    "    max_7_days.append(max_7_by_stock)\n",
    "    # min close price in last 7 days\n",
    "    min_7_by_stock = df_final[df_final.stock_id == stock].close.shift(7).rolling(7).min()\n",
    "    min_7_days.append(min_7_by_stock)\n",
    "    # ratio overall will be average price devided by max closing price over all time\n",
    "    mean_close_price = df_final[df_final.stock_id == stock].close.shift(7).mean()\n",
    "    ratio_by_stock_prev = df_final[df_final.stock_id == stock].close.shift(7) / mean_close_price\n",
    "    ratio_prev.append(ratio_by_stock_prev)\n",
    "    \n",
    "    # daily_change new feature\n",
    "    today = df_final[df_final.stock_id == stock].close.shift(7)\n",
    "    yesterday = today.shift(8)\n",
    "    change_by_stock =  today / yesterday - 1\n",
    "    change_by_stock_daily_prev.append(change_by_stock)\n",
    "    \n",
    "    # daily_profitability_prev new feature\n",
    "    profitability_by_stock_prev = df_final[df_final.stock_id == stock].close.shift(7) - df_final[df_final.stock_id == stock].open.shift(7)\n",
    "    profitability_daily_prev.append(profitability_by_stock_prev)"
   ]
  },
  {
   "cell_type": "code",
   "execution_count": 13,
   "metadata": {},
   "outputs": [],
   "source": [
    "chain_object_1 = itertools.chain.from_iterable(sum_7_qty_by_stock)\n",
    "flattened_list_1 = list(chain_object_1)\n",
    "\n",
    "chain_object_3 = itertools.chain.from_iterable(volumne_moving_avg_7)\n",
    "flattened_list_3 = list(chain_object_3)\n",
    "\n",
    "chain_object_5 = itertools.chain.from_iterable(close_moving_avg_7)\n",
    "flattened_list_5 = list(chain_object_5)\n",
    "\n",
    "chain_object_7 = itertools.chain.from_iterable(close_volatility_7)\n",
    "flattened_list_7 = list(chain_object_7)\n",
    "\n",
    "chain_object_9 = itertools.chain.from_iterable(max_7_days)\n",
    "flattened_list_9 = list(chain_object_9)\n",
    "\n",
    "chain_object_11 = itertools.chain.from_iterable(min_7_days)\n",
    "flattened_list_11 = list(chain_object_11)\n",
    "\n",
    "ratio_object = itertools.chain.from_iterable(ratio_prev)\n",
    "flattened_list_13 = list(ratio_object)\n",
    "\n",
    "change_daily_object = itertools.chain.from_iterable(change_by_stock_daily_prev)\n",
    "flattened_list_14 = list(change_daily_object)\n",
    "\n",
    "profitability_object = itertools.chain.from_iterable(profitability_daily_prev)\n",
    "flattened_list_15 = list(profitability_object)"
   ]
  },
  {
   "cell_type": "code",
   "execution_count": 14,
   "metadata": {},
   "outputs": [],
   "source": [
    "rolling_7_days = pd.DataFrame({'sum_7_qty_by_stock':flattened_list_1,\n",
    "                               'moving_avg_volume_7_days':flattened_list_3,\n",
    "                               'moving_avg_close_7_days':flattened_list_5,\n",
    "                               'volatility_7_days':flattened_list_7,\n",
    "                               'max_7_days':flattened_list_9,\n",
    "                               'min_7_days':flattened_list_11,\n",
    "                               'ratio_overall_prev':flattened_list_13,\n",
    "                               'change_daily_prev':flattened_list_14,\n",
    "                               'profitability_daily_prev':flattened_list_15\n",
    "                              }\n",
    "                             )"
   ]
  },
  {
   "cell_type": "code",
   "execution_count": 15,
   "metadata": {},
   "outputs": [
    {
     "name": "stdout",
     "output_type": "stream",
     "text": [
      "(164754, 26) (164754, 9)\n"
     ]
    }
   ],
   "source": [
    "print(df_final.shape, rolling_7_days.shape)"
   ]
  },
  {
   "cell_type": "code",
   "execution_count": 16,
   "metadata": {},
   "outputs": [],
   "source": [
    "df_7_days = pd.concat([df_final.reset_index(), rolling_7_days], axis=1)"
   ]
  },
  {
   "cell_type": "code",
   "execution_count": 17,
   "metadata": {},
   "outputs": [
    {
     "data": {
      "text/plain": [
       "36"
      ]
     },
     "execution_count": 17,
     "metadata": {},
     "output_type": "execute_result"
    }
   ],
   "source": [
    "len(df_7_days.columns)"
   ]
  },
  {
   "cell_type": "code",
   "execution_count": 18,
   "metadata": {},
   "outputs": [],
   "source": [
    "ratio_7_days = []\n",
    "\n",
    "# Calculating ratios up to 7 days\n",
    "for stock in df_7_days.stock_id.unique():\n",
    "    ratio_7 = df_7_days[df_7_days.stock_id == stock].average.shift(7) / df_7_days[df_7_days.stock_id == stock].average.shift(7).mean()\n",
    "    ratio_7_days.append(ratio_7)\n"
   ]
  },
  {
   "cell_type": "code",
   "execution_count": 19,
   "metadata": {},
   "outputs": [],
   "source": [
    "chain_object_16 = itertools.chain.from_iterable(ratio_7_days)\n",
    "flattened_list_16 = list(chain_object_16)\n",
    "\n",
    "ratios_df = pd.DataFrame({'ratio_7_days':flattened_list_16\n",
    "                         }\n",
    "                        )"
   ]
  },
  {
   "cell_type": "code",
   "execution_count": 20,
   "metadata": {},
   "outputs": [],
   "source": [
    "df_7_days = pd.concat([df_7_days, ratios_df], axis=1)"
   ]
  },
  {
   "cell_type": "code",
   "execution_count": 21,
   "metadata": {},
   "outputs": [
    {
     "data": {
      "text/plain": [
       "37"
      ]
     },
     "execution_count": 21,
     "metadata": {},
     "output_type": "execute_result"
    }
   ],
   "source": [
    "len(df_7_days.columns)"
   ]
  },
  {
   "cell_type": "code",
   "execution_count": 22,
   "metadata": {},
   "outputs": [],
   "source": [
    "### Add column based on data analysis\n",
    "\n",
    "# 1 day\n",
    "df_7_days['prevopen_1'] = df_7_days.groupby(['stock_id'])['open'].shift(7)\n",
    "#(open - prevopen) / prevopen\n",
    "df_7_days['returnsOpenPrevRaw1'] = (df_7_days.open.shift(8) - df_7_days.prevopen_1) / df_7_days.prevopen_1\n",
    "\n",
    "#10 days\n",
    "df_7_days['prevopen_7'] = df_7_days.groupby(['stock_id'])['open'].shift(14)\n",
    "df_7_days['returnsOpenPrevRaw_7'] = (df_7_days.open.shift(7) - df_7_days.prevopen_7) / df_7_days.prevopen_7\n",
    "\n",
    "#Rate of change\n",
    "\n",
    "# pct_chg = lambda x:x.pct_change()\n",
    "# df_7_days['pct'] = df_7_days.groupby(['stock_id'])['close'].apply(pct_chg)\n",
    "\n",
    "#Z-score\n",
    "# zscore = lambda x:(x-x.mean())/x.std()\n",
    "# df_7_days['z_score'] = df_7_days.groupby(['stock_id'])['close'].apply(zscore)\n",
    "\n",
    "#percentile transformation\n",
    "#rollrank = lambda x: x.rolling(200, min_periods=20).apply(lambda x:pd.Series(x).rank(pct=True)[0])\n",
    "#df_7_days['percentile'] = df_7_days.groupby(['stock_id'])['volume'].apply(rollrank)"
   ]
  },
  {
   "cell_type": "code",
   "execution_count": 23,
   "metadata": {},
   "outputs": [
    {
     "data": {
      "text/html": [
       "<div>\n",
       "<style scoped>\n",
       "    .dataframe tbody tr th:only-of-type {\n",
       "        vertical-align: middle;\n",
       "    }\n",
       "\n",
       "    .dataframe tbody tr th {\n",
       "        vertical-align: top;\n",
       "    }\n",
       "\n",
       "    .dataframe thead th {\n",
       "        text-align: right;\n",
       "    }\n",
       "</style>\n",
       "<table border=\"1\" class=\"dataframe\">\n",
       "  <thead>\n",
       "    <tr style=\"text-align: right;\">\n",
       "      <th></th>\n",
       "      <th>8625</th>\n",
       "      <th>8626</th>\n",
       "      <th>8627</th>\n",
       "      <th>8628</th>\n",
       "      <th>8629</th>\n",
       "    </tr>\n",
       "  </thead>\n",
       "  <tbody>\n",
       "    <tr>\n",
       "      <th>date</th>\n",
       "      <td>2020-08-21 00:00:00</td>\n",
       "      <td>2020-08-22 00:00:00</td>\n",
       "      <td>2020-08-23 00:00:00</td>\n",
       "      <td>2020-08-24 00:00:00</td>\n",
       "      <td>2020-08-25 00:00:00</td>\n",
       "    </tr>\n",
       "    <tr>\n",
       "      <th>stock_id</th>\n",
       "      <td>ALK</td>\n",
       "      <td>ALK</td>\n",
       "      <td>ALK</td>\n",
       "      <td>ALK</td>\n",
       "      <td>ALK</td>\n",
       "    </tr>\n",
       "    <tr>\n",
       "      <th>open</th>\n",
       "      <td>12223</td>\n",
       "      <td>12290</td>\n",
       "      <td>12290</td>\n",
       "      <td>12290</td>\n",
       "      <td>12290</td>\n",
       "    </tr>\n",
       "    <tr>\n",
       "      <th>high</th>\n",
       "      <td>12290</td>\n",
       "      <td>12290</td>\n",
       "      <td>12290</td>\n",
       "      <td>12290</td>\n",
       "      <td>12222</td>\n",
       "    </tr>\n",
       "    <tr>\n",
       "      <th>low</th>\n",
       "      <td>12289</td>\n",
       "      <td>12290</td>\n",
       "      <td>12290</td>\n",
       "      <td>12289</td>\n",
       "      <td>12200</td>\n",
       "    </tr>\n",
       "    <tr>\n",
       "      <th>average</th>\n",
       "      <td>12289.5</td>\n",
       "      <td>12290</td>\n",
       "      <td>12290</td>\n",
       "      <td>12289.7</td>\n",
       "      <td>12201.5</td>\n",
       "    </tr>\n",
       "    <tr>\n",
       "      <th>close</th>\n",
       "      <td>12290</td>\n",
       "      <td>12290</td>\n",
       "      <td>12290</td>\n",
       "      <td>12290</td>\n",
       "      <td>12200</td>\n",
       "    </tr>\n",
       "    <tr>\n",
       "      <th>volume</th>\n",
       "      <td>614476</td>\n",
       "      <td>0</td>\n",
       "      <td>0</td>\n",
       "      <td>73738</td>\n",
       "      <td>3.66044e+06</td>\n",
       "    </tr>\n",
       "    <tr>\n",
       "      <th>quantity</th>\n",
       "      <td>50</td>\n",
       "      <td>0</td>\n",
       "      <td>0</td>\n",
       "      <td>6</td>\n",
       "      <td>300</td>\n",
       "    </tr>\n",
       "    <tr>\n",
       "      <th>change %</th>\n",
       "      <td>-0.05</td>\n",
       "      <td>0</td>\n",
       "      <td>0</td>\n",
       "      <td>0</td>\n",
       "      <td>-0.72</td>\n",
       "    </tr>\n",
       "    <tr>\n",
       "      <th>volume total</th>\n",
       "      <td>614476</td>\n",
       "      <td>0</td>\n",
       "      <td>0</td>\n",
       "      <td>73738</td>\n",
       "      <td>3.66044e+06</td>\n",
       "    </tr>\n",
       "    <tr>\n",
       "      <th>start_date</th>\n",
       "      <td>1997-01-09 00:00:00</td>\n",
       "      <td>1997-01-09 00:00:00</td>\n",
       "      <td>1997-01-09 00:00:00</td>\n",
       "      <td>1997-01-09 00:00:00</td>\n",
       "      <td>1997-01-09 00:00:00</td>\n",
       "    </tr>\n",
       "    <tr>\n",
       "      <th>sale_year</th>\n",
       "      <td>2020</td>\n",
       "      <td>2020</td>\n",
       "      <td>2020</td>\n",
       "      <td>2020</td>\n",
       "      <td>2020</td>\n",
       "    </tr>\n",
       "    <tr>\n",
       "      <th>sale_month</th>\n",
       "      <td>8</td>\n",
       "      <td>8</td>\n",
       "      <td>8</td>\n",
       "      <td>8</td>\n",
       "      <td>8</td>\n",
       "    </tr>\n",
       "    <tr>\n",
       "      <th>sale_week</th>\n",
       "      <td>34</td>\n",
       "      <td>34</td>\n",
       "      <td>34</td>\n",
       "      <td>35</td>\n",
       "      <td>35</td>\n",
       "    </tr>\n",
       "    <tr>\n",
       "      <th>sale_day</th>\n",
       "      <td>21</td>\n",
       "      <td>22</td>\n",
       "      <td>23</td>\n",
       "      <td>24</td>\n",
       "      <td>25</td>\n",
       "    </tr>\n",
       "    <tr>\n",
       "      <th>sale_dayofweek</th>\n",
       "      <td>4</td>\n",
       "      <td>5</td>\n",
       "      <td>6</td>\n",
       "      <td>0</td>\n",
       "      <td>1</td>\n",
       "    </tr>\n",
       "    <tr>\n",
       "      <th>sale_dayofyear</th>\n",
       "      <td>234</td>\n",
       "      <td>235</td>\n",
       "      <td>236</td>\n",
       "      <td>237</td>\n",
       "      <td>238</td>\n",
       "    </tr>\n",
       "    <tr>\n",
       "      <th>is_month_end</th>\n",
       "      <td>False</td>\n",
       "      <td>False</td>\n",
       "      <td>False</td>\n",
       "      <td>False</td>\n",
       "      <td>False</td>\n",
       "    </tr>\n",
       "    <tr>\n",
       "      <th>is_month_start</th>\n",
       "      <td>False</td>\n",
       "      <td>False</td>\n",
       "      <td>False</td>\n",
       "      <td>False</td>\n",
       "      <td>False</td>\n",
       "    </tr>\n",
       "    <tr>\n",
       "      <th>is_quarter_end</th>\n",
       "      <td>False</td>\n",
       "      <td>False</td>\n",
       "      <td>False</td>\n",
       "      <td>False</td>\n",
       "      <td>False</td>\n",
       "    </tr>\n",
       "    <tr>\n",
       "      <th>is_quarter_start</th>\n",
       "      <td>False</td>\n",
       "      <td>False</td>\n",
       "      <td>False</td>\n",
       "      <td>False</td>\n",
       "      <td>False</td>\n",
       "    </tr>\n",
       "    <tr>\n",
       "      <th>is_year_end</th>\n",
       "      <td>False</td>\n",
       "      <td>False</td>\n",
       "      <td>False</td>\n",
       "      <td>False</td>\n",
       "      <td>False</td>\n",
       "    </tr>\n",
       "    <tr>\n",
       "      <th>is_year_start</th>\n",
       "      <td>False</td>\n",
       "      <td>False</td>\n",
       "      <td>False</td>\n",
       "      <td>False</td>\n",
       "      <td>False</td>\n",
       "    </tr>\n",
       "    <tr>\n",
       "      <th>days_in_month</th>\n",
       "      <td>31</td>\n",
       "      <td>31</td>\n",
       "      <td>31</td>\n",
       "      <td>31</td>\n",
       "      <td>31</td>\n",
       "    </tr>\n",
       "    <tr>\n",
       "      <th>is_leap_year</th>\n",
       "      <td>True</td>\n",
       "      <td>True</td>\n",
       "      <td>True</td>\n",
       "      <td>True</td>\n",
       "      <td>True</td>\n",
       "    </tr>\n",
       "    <tr>\n",
       "      <th>sales_elapsed</th>\n",
       "      <td>8625</td>\n",
       "      <td>8626</td>\n",
       "      <td>8627</td>\n",
       "      <td>8628</td>\n",
       "      <td>8629</td>\n",
       "    </tr>\n",
       "    <tr>\n",
       "      <th>sum_7_qty_by_stock</th>\n",
       "      <td>630</td>\n",
       "      <td>630</td>\n",
       "      <td>630</td>\n",
       "      <td>385</td>\n",
       "      <td>276</td>\n",
       "    </tr>\n",
       "    <tr>\n",
       "      <th>moving_avg_volume_7_days</th>\n",
       "      <td>1.11779e+06</td>\n",
       "      <td>1.11779e+06</td>\n",
       "      <td>1.11779e+06</td>\n",
       "      <td>686235</td>\n",
       "      <td>489008</td>\n",
       "    </tr>\n",
       "    <tr>\n",
       "      <th>moving_avg_close_7_days</th>\n",
       "      <td>12450</td>\n",
       "      <td>12464.3</td>\n",
       "      <td>12478.6</td>\n",
       "      <td>12485.6</td>\n",
       "      <td>12457</td>\n",
       "    </tr>\n",
       "    <tr>\n",
       "      <th>volatility_7_days</th>\n",
       "      <td>64.5497</td>\n",
       "      <td>62.6783</td>\n",
       "      <td>56.6947</td>\n",
       "      <td>38.1744</td>\n",
       "      <td>78.8014</td>\n",
       "    </tr>\n",
       "    <tr>\n",
       "      <th>max_7_days</th>\n",
       "      <td>12500</td>\n",
       "      <td>12500</td>\n",
       "      <td>12500</td>\n",
       "      <td>12500</td>\n",
       "      <td>12500</td>\n",
       "    </tr>\n",
       "    <tr>\n",
       "      <th>min_7_days</th>\n",
       "      <td>12350</td>\n",
       "      <td>12350</td>\n",
       "      <td>12350</td>\n",
       "      <td>12399</td>\n",
       "      <td>12300</td>\n",
       "    </tr>\n",
       "    <tr>\n",
       "      <th>ratio_overall_prev</th>\n",
       "      <td>2.81635</td>\n",
       "      <td>2.81635</td>\n",
       "      <td>2.81635</td>\n",
       "      <td>2.7936</td>\n",
       "      <td>2.77129</td>\n",
       "    </tr>\n",
       "    <tr>\n",
       "      <th>change_daily_prev</th>\n",
       "      <td>0.0245902</td>\n",
       "      <td>0.00806452</td>\n",
       "      <td>0.00806452</td>\n",
       "      <td>-8.06452e-05</td>\n",
       "      <td>-0.00404858</td>\n",
       "    </tr>\n",
       "    <tr>\n",
       "      <th>profitability_daily_prev</th>\n",
       "      <td>0</td>\n",
       "      <td>0</td>\n",
       "      <td>0</td>\n",
       "      <td>-101</td>\n",
       "      <td>-99</td>\n",
       "    </tr>\n",
       "    <tr>\n",
       "      <th>ratio_7_days</th>\n",
       "      <td>2.81445</td>\n",
       "      <td>2.81635</td>\n",
       "      <td>2.81635</td>\n",
       "      <td>2.79359</td>\n",
       "      <td>2.77129</td>\n",
       "    </tr>\n",
       "    <tr>\n",
       "      <th>prevopen_1</th>\n",
       "      <td>12500</td>\n",
       "      <td>12500</td>\n",
       "      <td>12500</td>\n",
       "      <td>12500</td>\n",
       "      <td>12399</td>\n",
       "    </tr>\n",
       "    <tr>\n",
       "      <th>returnsOpenPrevRaw1</th>\n",
       "      <td>0</td>\n",
       "      <td>0</td>\n",
       "      <td>0</td>\n",
       "      <td>0</td>\n",
       "      <td>0.00814582</td>\n",
       "    </tr>\n",
       "    <tr>\n",
       "      <th>prevopen_7</th>\n",
       "      <td>12200</td>\n",
       "      <td>12400</td>\n",
       "      <td>12400</td>\n",
       "      <td>12400</td>\n",
       "      <td>12350</td>\n",
       "    </tr>\n",
       "    <tr>\n",
       "      <th>returnsOpenPrevRaw_7</th>\n",
       "      <td>0.0245902</td>\n",
       "      <td>0.00806452</td>\n",
       "      <td>0.00806452</td>\n",
       "      <td>0.00806452</td>\n",
       "      <td>0.00396761</td>\n",
       "    </tr>\n",
       "  </tbody>\n",
       "</table>\n",
       "</div>"
      ],
      "text/plain": [
       "                                         8625                 8626  \\\n",
       "date                      2020-08-21 00:00:00  2020-08-22 00:00:00   \n",
       "stock_id                                  ALK                  ALK   \n",
       "open                                    12223                12290   \n",
       "high                                    12290                12290   \n",
       "low                                     12289                12290   \n",
       "average                               12289.5                12290   \n",
       "close                                   12290                12290   \n",
       "volume                                 614476                    0   \n",
       "quantity                                   50                    0   \n",
       "change %                                -0.05                    0   \n",
       "volume total                           614476                    0   \n",
       "start_date                1997-01-09 00:00:00  1997-01-09 00:00:00   \n",
       "sale_year                                2020                 2020   \n",
       "sale_month                                  8                    8   \n",
       "sale_week                                  34                   34   \n",
       "sale_day                                   21                   22   \n",
       "sale_dayofweek                              4                    5   \n",
       "sale_dayofyear                            234                  235   \n",
       "is_month_end                            False                False   \n",
       "is_month_start                          False                False   \n",
       "is_quarter_end                          False                False   \n",
       "is_quarter_start                        False                False   \n",
       "is_year_end                             False                False   \n",
       "is_year_start                           False                False   \n",
       "days_in_month                              31                   31   \n",
       "is_leap_year                             True                 True   \n",
       "sales_elapsed                            8625                 8626   \n",
       "sum_7_qty_by_stock                        630                  630   \n",
       "moving_avg_volume_7_days          1.11779e+06          1.11779e+06   \n",
       "moving_avg_close_7_days                 12450              12464.3   \n",
       "volatility_7_days                     64.5497              62.6783   \n",
       "max_7_days                              12500                12500   \n",
       "min_7_days                              12350                12350   \n",
       "ratio_overall_prev                    2.81635              2.81635   \n",
       "change_daily_prev                   0.0245902           0.00806452   \n",
       "profitability_daily_prev                    0                    0   \n",
       "ratio_7_days                          2.81445              2.81635   \n",
       "prevopen_1                              12500                12500   \n",
       "returnsOpenPrevRaw1                         0                    0   \n",
       "prevopen_7                              12200                12400   \n",
       "returnsOpenPrevRaw_7                0.0245902           0.00806452   \n",
       "\n",
       "                                         8627                 8628  \\\n",
       "date                      2020-08-23 00:00:00  2020-08-24 00:00:00   \n",
       "stock_id                                  ALK                  ALK   \n",
       "open                                    12290                12290   \n",
       "high                                    12290                12290   \n",
       "low                                     12290                12289   \n",
       "average                                 12290              12289.7   \n",
       "close                                   12290                12290   \n",
       "volume                                      0                73738   \n",
       "quantity                                    0                    6   \n",
       "change %                                    0                    0   \n",
       "volume total                                0                73738   \n",
       "start_date                1997-01-09 00:00:00  1997-01-09 00:00:00   \n",
       "sale_year                                2020                 2020   \n",
       "sale_month                                  8                    8   \n",
       "sale_week                                  34                   35   \n",
       "sale_day                                   23                   24   \n",
       "sale_dayofweek                              6                    0   \n",
       "sale_dayofyear                            236                  237   \n",
       "is_month_end                            False                False   \n",
       "is_month_start                          False                False   \n",
       "is_quarter_end                          False                False   \n",
       "is_quarter_start                        False                False   \n",
       "is_year_end                             False                False   \n",
       "is_year_start                           False                False   \n",
       "days_in_month                              31                   31   \n",
       "is_leap_year                             True                 True   \n",
       "sales_elapsed                            8627                 8628   \n",
       "sum_7_qty_by_stock                        630                  385   \n",
       "moving_avg_volume_7_days          1.11779e+06               686235   \n",
       "moving_avg_close_7_days               12478.6              12485.6   \n",
       "volatility_7_days                     56.6947              38.1744   \n",
       "max_7_days                              12500                12500   \n",
       "min_7_days                              12350                12399   \n",
       "ratio_overall_prev                    2.81635               2.7936   \n",
       "change_daily_prev                  0.00806452         -8.06452e-05   \n",
       "profitability_daily_prev                    0                 -101   \n",
       "ratio_7_days                          2.81635              2.79359   \n",
       "prevopen_1                              12500                12500   \n",
       "returnsOpenPrevRaw1                         0                    0   \n",
       "prevopen_7                              12400                12400   \n",
       "returnsOpenPrevRaw_7               0.00806452           0.00806452   \n",
       "\n",
       "                                         8629  \n",
       "date                      2020-08-25 00:00:00  \n",
       "stock_id                                  ALK  \n",
       "open                                    12290  \n",
       "high                                    12222  \n",
       "low                                     12200  \n",
       "average                               12201.5  \n",
       "close                                   12200  \n",
       "volume                            3.66044e+06  \n",
       "quantity                                  300  \n",
       "change %                                -0.72  \n",
       "volume total                      3.66044e+06  \n",
       "start_date                1997-01-09 00:00:00  \n",
       "sale_year                                2020  \n",
       "sale_month                                  8  \n",
       "sale_week                                  35  \n",
       "sale_day                                   25  \n",
       "sale_dayofweek                              1  \n",
       "sale_dayofyear                            238  \n",
       "is_month_end                            False  \n",
       "is_month_start                          False  \n",
       "is_quarter_end                          False  \n",
       "is_quarter_start                        False  \n",
       "is_year_end                             False  \n",
       "is_year_start                           False  \n",
       "days_in_month                              31  \n",
       "is_leap_year                             True  \n",
       "sales_elapsed                            8629  \n",
       "sum_7_qty_by_stock                        276  \n",
       "moving_avg_volume_7_days               489008  \n",
       "moving_avg_close_7_days                 12457  \n",
       "volatility_7_days                     78.8014  \n",
       "max_7_days                              12500  \n",
       "min_7_days                              12300  \n",
       "ratio_overall_prev                    2.77129  \n",
       "change_daily_prev                 -0.00404858  \n",
       "profitability_daily_prev                  -99  \n",
       "ratio_7_days                          2.77129  \n",
       "prevopen_1                              12399  \n",
       "returnsOpenPrevRaw1                0.00814582  \n",
       "prevopen_7                              12350  \n",
       "returnsOpenPrevRaw_7               0.00396761  "
      ]
     },
     "metadata": {},
     "output_type": "display_data"
    }
   ],
   "source": [
    "display_all(df_7_days[df_7_days.stock_id=='ALK'].tail(5).T)"
   ]
  },
  {
   "cell_type": "markdown",
   "metadata": {},
   "source": [
    "### setting ALK dataset for training, validation and test"
   ]
  },
  {
   "cell_type": "code",
   "execution_count": 24,
   "metadata": {},
   "outputs": [],
   "source": [
    "alk_df = df_7_days[df_7_days.stock_id == 'ALK']"
   ]
  },
  {
   "cell_type": "code",
   "execution_count": 25,
   "metadata": {},
   "outputs": [],
   "source": [
    "to_drop = ['date','start_date', 'stock_id', 'open', 'high', 'low', 'average', 'volume', 'quantity', 'change %', 'volume total']"
   ]
  },
  {
   "cell_type": "code",
   "execution_count": 26,
   "metadata": {},
   "outputs": [],
   "source": [
    "alk_df = alk_df.dropna()"
   ]
  },
  {
   "cell_type": "code",
   "execution_count": 27,
   "metadata": {},
   "outputs": [],
   "source": [
    "alk_df.drop(to_drop, axis=1, inplace=True)"
   ]
  },
  {
   "cell_type": "code",
   "execution_count": 28,
   "metadata": {},
   "outputs": [
    {
     "data": {
      "text/plain": [
       "30"
      ]
     },
     "execution_count": 28,
     "metadata": {},
     "output_type": "execute_result"
    }
   ],
   "source": [
    "len(alk_df.columns)"
   ]
  },
  {
   "cell_type": "code",
   "execution_count": 29,
   "metadata": {},
   "outputs": [],
   "source": [
    "alk_df['close_shift'] = alk_df['close'].shift(7)"
   ]
  },
  {
   "cell_type": "code",
   "execution_count": 30,
   "metadata": {},
   "outputs": [],
   "source": [
    "alk_df = alk_df.dropna()"
   ]
  },
  {
   "cell_type": "code",
   "execution_count": 31,
   "metadata": {},
   "outputs": [
    {
     "data": {
      "text/html": [
       "<div>\n",
       "<style scoped>\n",
       "    .dataframe tbody tr th:only-of-type {\n",
       "        vertical-align: middle;\n",
       "    }\n",
       "\n",
       "    .dataframe tbody tr th {\n",
       "        vertical-align: top;\n",
       "    }\n",
       "\n",
       "    .dataframe thead th {\n",
       "        text-align: right;\n",
       "    }\n",
       "</style>\n",
       "<table border=\"1\" class=\"dataframe\">\n",
       "  <thead>\n",
       "    <tr style=\"text-align: right;\">\n",
       "      <th></th>\n",
       "      <th>close</th>\n",
       "      <th>sale_year</th>\n",
       "      <th>sale_month</th>\n",
       "      <th>sale_week</th>\n",
       "      <th>sale_day</th>\n",
       "      <th>sale_dayofweek</th>\n",
       "      <th>sale_dayofyear</th>\n",
       "      <th>is_month_end</th>\n",
       "      <th>is_month_start</th>\n",
       "      <th>is_quarter_end</th>\n",
       "      <th>is_quarter_start</th>\n",
       "      <th>is_year_end</th>\n",
       "      <th>is_year_start</th>\n",
       "      <th>days_in_month</th>\n",
       "      <th>is_leap_year</th>\n",
       "      <th>sales_elapsed</th>\n",
       "      <th>sum_7_qty_by_stock</th>\n",
       "      <th>moving_avg_volume_7_days</th>\n",
       "      <th>moving_avg_close_7_days</th>\n",
       "      <th>volatility_7_days</th>\n",
       "      <th>max_7_days</th>\n",
       "      <th>min_7_days</th>\n",
       "      <th>ratio_overall_prev</th>\n",
       "      <th>change_daily_prev</th>\n",
       "      <th>profitability_daily_prev</th>\n",
       "      <th>ratio_7_days</th>\n",
       "      <th>prevopen_1</th>\n",
       "      <th>returnsOpenPrevRaw1</th>\n",
       "      <th>prevopen_7</th>\n",
       "      <th>returnsOpenPrevRaw_7</th>\n",
       "      <th>close_shift</th>\n",
       "    </tr>\n",
       "  </thead>\n",
       "  <tbody>\n",
       "    <tr>\n",
       "      <th>22</th>\n",
       "      <td>1000.0</td>\n",
       "      <td>1997</td>\n",
       "      <td>1</td>\n",
       "      <td>5</td>\n",
       "      <td>31</td>\n",
       "      <td>4</td>\n",
       "      <td>31</td>\n",
       "      <td>True</td>\n",
       "      <td>False</td>\n",
       "      <td>False</td>\n",
       "      <td>False</td>\n",
       "      <td>False</td>\n",
       "      <td>False</td>\n",
       "      <td>31</td>\n",
       "      <td>False</td>\n",
       "      <td>22</td>\n",
       "      <td>478.0</td>\n",
       "      <td>69101.428571</td>\n",
       "      <td>1018.571429</td>\n",
       "      <td>10.690450</td>\n",
       "      <td>1030.0</td>\n",
       "      <td>1010.0</td>\n",
       "      <td>0.227561</td>\n",
       "      <td>-0.019417</td>\n",
       "      <td>0.0</td>\n",
       "      <td>0.227561</td>\n",
       "      <td>1010.0</td>\n",
       "      <td>0.0</td>\n",
       "      <td>1030.0</td>\n",
       "      <td>-0.019417</td>\n",
       "      <td>1010.0</td>\n",
       "    </tr>\n",
       "    <tr>\n",
       "      <th>23</th>\n",
       "      <td>1000.0</td>\n",
       "      <td>1997</td>\n",
       "      <td>2</td>\n",
       "      <td>5</td>\n",
       "      <td>1</td>\n",
       "      <td>5</td>\n",
       "      <td>32</td>\n",
       "      <td>False</td>\n",
       "      <td>True</td>\n",
       "      <td>False</td>\n",
       "      <td>False</td>\n",
       "      <td>False</td>\n",
       "      <td>False</td>\n",
       "      <td>28</td>\n",
       "      <td>False</td>\n",
       "      <td>23</td>\n",
       "      <td>478.0</td>\n",
       "      <td>69101.428571</td>\n",
       "      <td>1015.714286</td>\n",
       "      <td>9.759001</td>\n",
       "      <td>1030.0</td>\n",
       "      <td>1010.0</td>\n",
       "      <td>0.227561</td>\n",
       "      <td>-0.019417</td>\n",
       "      <td>0.0</td>\n",
       "      <td>0.227561</td>\n",
       "      <td>1010.0</td>\n",
       "      <td>0.0</td>\n",
       "      <td>1030.0</td>\n",
       "      <td>-0.019417</td>\n",
       "      <td>1010.0</td>\n",
       "    </tr>\n",
       "    <tr>\n",
       "      <th>24</th>\n",
       "      <td>1000.0</td>\n",
       "      <td>1997</td>\n",
       "      <td>2</td>\n",
       "      <td>5</td>\n",
       "      <td>2</td>\n",
       "      <td>6</td>\n",
       "      <td>33</td>\n",
       "      <td>False</td>\n",
       "      <td>False</td>\n",
       "      <td>False</td>\n",
       "      <td>False</td>\n",
       "      <td>False</td>\n",
       "      <td>False</td>\n",
       "      <td>28</td>\n",
       "      <td>False</td>\n",
       "      <td>24</td>\n",
       "      <td>478.0</td>\n",
       "      <td>69101.428571</td>\n",
       "      <td>1012.857143</td>\n",
       "      <td>7.559289</td>\n",
       "      <td>1030.0</td>\n",
       "      <td>1010.0</td>\n",
       "      <td>0.227561</td>\n",
       "      <td>-0.019417</td>\n",
       "      <td>0.0</td>\n",
       "      <td>0.227561</td>\n",
       "      <td>1010.0</td>\n",
       "      <td>0.0</td>\n",
       "      <td>1030.0</td>\n",
       "      <td>-0.019417</td>\n",
       "      <td>1010.0</td>\n",
       "    </tr>\n",
       "    <tr>\n",
       "      <th>25</th>\n",
       "      <td>1000.0</td>\n",
       "      <td>1997</td>\n",
       "      <td>2</td>\n",
       "      <td>6</td>\n",
       "      <td>3</td>\n",
       "      <td>0</td>\n",
       "      <td>34</td>\n",
       "      <td>False</td>\n",
       "      <td>False</td>\n",
       "      <td>False</td>\n",
       "      <td>False</td>\n",
       "      <td>False</td>\n",
       "      <td>False</td>\n",
       "      <td>28</td>\n",
       "      <td>False</td>\n",
       "      <td>25</td>\n",
       "      <td>478.0</td>\n",
       "      <td>69101.428571</td>\n",
       "      <td>1010.000000</td>\n",
       "      <td>0.000000</td>\n",
       "      <td>1010.0</td>\n",
       "      <td>1010.0</td>\n",
       "      <td>0.227561</td>\n",
       "      <td>-0.019417</td>\n",
       "      <td>0.0</td>\n",
       "      <td>0.227561</td>\n",
       "      <td>1010.0</td>\n",
       "      <td>0.0</td>\n",
       "      <td>1030.0</td>\n",
       "      <td>-0.019417</td>\n",
       "      <td>1010.0</td>\n",
       "    </tr>\n",
       "    <tr>\n",
       "      <th>26</th>\n",
       "      <td>1000.0</td>\n",
       "      <td>1997</td>\n",
       "      <td>2</td>\n",
       "      <td>6</td>\n",
       "      <td>4</td>\n",
       "      <td>1</td>\n",
       "      <td>35</td>\n",
       "      <td>False</td>\n",
       "      <td>False</td>\n",
       "      <td>False</td>\n",
       "      <td>False</td>\n",
       "      <td>False</td>\n",
       "      <td>False</td>\n",
       "      <td>28</td>\n",
       "      <td>False</td>\n",
       "      <td>26</td>\n",
       "      <td>707.0</td>\n",
       "      <td>101675.714286</td>\n",
       "      <td>1008.571429</td>\n",
       "      <td>3.779645</td>\n",
       "      <td>1010.0</td>\n",
       "      <td>1000.0</td>\n",
       "      <td>0.225308</td>\n",
       "      <td>-0.029126</td>\n",
       "      <td>-10.0</td>\n",
       "      <td>0.225308</td>\n",
       "      <td>1010.0</td>\n",
       "      <td>0.0</td>\n",
       "      <td>1030.0</td>\n",
       "      <td>-0.019417</td>\n",
       "      <td>1000.0</td>\n",
       "    </tr>\n",
       "  </tbody>\n",
       "</table>\n",
       "</div>"
      ],
      "text/plain": [
       "     close  sale_year  sale_month  sale_week  sale_day  sale_dayofweek  \\\n",
       "22  1000.0       1997           1          5        31               4   \n",
       "23  1000.0       1997           2          5         1               5   \n",
       "24  1000.0       1997           2          5         2               6   \n",
       "25  1000.0       1997           2          6         3               0   \n",
       "26  1000.0       1997           2          6         4               1   \n",
       "\n",
       "    sale_dayofyear  is_month_end  is_month_start  is_quarter_end  \\\n",
       "22              31          True           False           False   \n",
       "23              32         False            True           False   \n",
       "24              33         False           False           False   \n",
       "25              34         False           False           False   \n",
       "26              35         False           False           False   \n",
       "\n",
       "    is_quarter_start  is_year_end  is_year_start  days_in_month  is_leap_year  \\\n",
       "22             False        False          False             31         False   \n",
       "23             False        False          False             28         False   \n",
       "24             False        False          False             28         False   \n",
       "25             False        False          False             28         False   \n",
       "26             False        False          False             28         False   \n",
       "\n",
       "    sales_elapsed  sum_7_qty_by_stock  moving_avg_volume_7_days  \\\n",
       "22             22               478.0              69101.428571   \n",
       "23             23               478.0              69101.428571   \n",
       "24             24               478.0              69101.428571   \n",
       "25             25               478.0              69101.428571   \n",
       "26             26               707.0             101675.714286   \n",
       "\n",
       "    moving_avg_close_7_days  volatility_7_days  max_7_days  min_7_days  \\\n",
       "22              1018.571429          10.690450      1030.0      1010.0   \n",
       "23              1015.714286           9.759001      1030.0      1010.0   \n",
       "24              1012.857143           7.559289      1030.0      1010.0   \n",
       "25              1010.000000           0.000000      1010.0      1010.0   \n",
       "26              1008.571429           3.779645      1010.0      1000.0   \n",
       "\n",
       "    ratio_overall_prev  change_daily_prev  profitability_daily_prev  \\\n",
       "22            0.227561          -0.019417                       0.0   \n",
       "23            0.227561          -0.019417                       0.0   \n",
       "24            0.227561          -0.019417                       0.0   \n",
       "25            0.227561          -0.019417                       0.0   \n",
       "26            0.225308          -0.029126                     -10.0   \n",
       "\n",
       "    ratio_7_days  prevopen_1  returnsOpenPrevRaw1  prevopen_7  \\\n",
       "22      0.227561      1010.0                  0.0      1030.0   \n",
       "23      0.227561      1010.0                  0.0      1030.0   \n",
       "24      0.227561      1010.0                  0.0      1030.0   \n",
       "25      0.227561      1010.0                  0.0      1030.0   \n",
       "26      0.225308      1010.0                  0.0      1030.0   \n",
       "\n",
       "    returnsOpenPrevRaw_7  close_shift  \n",
       "22             -0.019417       1010.0  \n",
       "23             -0.019417       1010.0  \n",
       "24             -0.019417       1010.0  \n",
       "25             -0.019417       1010.0  \n",
       "26             -0.019417       1000.0  "
      ]
     },
     "metadata": {},
     "output_type": "display_data"
    }
   ],
   "source": [
    "display_all(alk_df.head(5))"
   ]
  },
  {
   "cell_type": "markdown",
   "metadata": {},
   "source": [
    "### split dataset"
   ]
  },
  {
   "cell_type": "code",
   "execution_count": 32,
   "metadata": {},
   "outputs": [],
   "source": [
    "X, y = alk_df.drop(['close', 'close_shift'], axis=1), alk_df.close_shift\n",
    "#X, y = alk_df_scaled[1:], alk_df_scaled[0]"
   ]
  },
  {
   "cell_type": "code",
   "execution_count": 33,
   "metadata": {},
   "outputs": [
    {
     "data": {
      "text/plain": [
       "((8594, 29), (7, 29), (7, 29), (8594,), (7,), (7,))"
      ]
     },
     "execution_count": 33,
     "metadata": {},
     "output_type": "execute_result"
    }
   ],
   "source": [
    "def split_vals(dataset, n_test):\n",
    "    n = dataset.shape[0] - n_test\n",
    "    train_valid = dataset[:n].copy()\n",
    "    return train_valid[:-n_test].copy(), train_valid[-n_test:n].copy(), dataset[-n_test:]\n",
    "\n",
    "n_test = 7\n",
    "X_train, X_valid, X_test = split_vals(X, n_test)\n",
    "y_train, y_valid, y_test = split_vals(y, n_test)\n",
    "X_train.shape, X_valid.shape, X_test.shape, y_train.shape, y_valid.shape, y_test.shape"
   ]
  },
  {
   "cell_type": "code",
   "execution_count": 34,
   "metadata": {},
   "outputs": [],
   "source": [
    "import math\n",
    "\n",
    "def rmse(x,y):\n",
    "    return math.sqrt(((x-y)**2).mean())\n",
    "\n",
    "def print_score(model, X_train, y_train, X_valid, y_valid):\n",
    "    res = [np.sqrt(mean_squared_error(model.predict(X_train), y_train)), \n",
    "           np.sqrt(mean_squared_error(model.predict(X_valid), y_valid)),\n",
    "           model.score(X_train, y_train),\n",
    "           model.score(X_valid, y_valid)]\n",
    "    if hasattr(model, 'oob_score_'):\n",
    "        res.append(model.oob_score_)\n",
    "    print(res)"
   ]
  },
  {
   "cell_type": "markdown",
   "metadata": {},
   "source": [
    "### Fine-tune RandomForestRegressor"
   ]
  },
  {
   "cell_type": "code",
   "execution_count": 35,
   "metadata": {},
   "outputs": [
    {
     "name": "stdout",
     "output_type": "stream",
     "text": [
      "Wall time: 1.31 s\n",
      "[6.059778319585853, 28.747065067585716, 0.9999957273874963, 0.88262813405797, 0.9999675465069678]\n"
     ]
    }
   ],
   "source": [
    "model = RandomForestRegressor(n_jobs=-1, n_estimators=40, min_samples_leaf=1, max_features=0.5, oob_score=True)\n",
    "%time model.fit(X_train, y_train)\n",
    "print_score(model, X_train, y_train, X_valid, y_valid)"
   ]
  },
  {
   "cell_type": "code",
   "execution_count": 36,
   "metadata": {},
   "outputs": [],
   "source": [
    "preds = np.stack([t.predict(X_valid) for t in model.estimators_])\n",
    "#print(f\"Trees: {len(preds[:,0])},\", f\"Mean of 0th row for prediction from all trees: : {np.mean(preds[:,0])},\", f\"Actual y: {y_valid[0]}\")"
   ]
  },
  {
   "cell_type": "code",
   "execution_count": 37,
   "metadata": {},
   "outputs": [
    {
     "data": {
      "image/png": "[encoded data removed]",
      "text/plain": [
       "<Figure size 432x288 with 1 Axes>"
      ]
     },
     "metadata": {
      "needs_background": "light"
     },
     "output_type": "display_data"
    }
   ],
   "source": [
    "from sklearn import metrics\n",
    "plt.plot([metrics.r2_score(y_valid, np.mean(preds[:i+1], axis=0)) for i in range(40)]);"
   ]
  },
  {
   "cell_type": "code",
   "execution_count": 38,
   "metadata": {},
   "outputs": [],
   "source": [
    "def rf_feat_importance(m, df):\n",
    "    return pd.DataFrame({'cols':df.columns, 'imp':m.feature_importances_}\n",
    "                       ).sort_values('imp', ascending=False)"
   ]
  },
  {
   "cell_type": "code",
   "execution_count": 39,
   "metadata": {},
   "outputs": [
    {
     "data": {
      "text/html": [
       "<div>\n",
       "<style scoped>\n",
       "    .dataframe tbody tr th:only-of-type {\n",
       "        vertical-align: middle;\n",
       "    }\n",
       "\n",
       "    .dataframe tbody tr th {\n",
       "        vertical-align: top;\n",
       "    }\n",
       "\n",
       "    .dataframe thead th {\n",
       "        text-align: right;\n",
       "    }\n",
       "</style>\n",
       "<table border=\"1\" class=\"dataframe\">\n",
       "  <thead>\n",
       "    <tr style=\"text-align: right;\">\n",
       "      <th></th>\n",
       "      <th>cols</th>\n",
       "      <th>imp</th>\n",
       "    </tr>\n",
       "  </thead>\n",
       "  <tbody>\n",
       "    <tr>\n",
       "      <th>21</th>\n",
       "      <td>ratio_overall_prev</td>\n",
       "      <td>0.375120</td>\n",
       "    </tr>\n",
       "    <tr>\n",
       "      <th>24</th>\n",
       "      <td>ratio_7_days</td>\n",
       "      <td>0.300041</td>\n",
       "    </tr>\n",
       "    <tr>\n",
       "      <th>25</th>\n",
       "      <td>prevopen_1</td>\n",
       "      <td>0.123731</td>\n",
       "    </tr>\n",
       "    <tr>\n",
       "      <th>20</th>\n",
       "      <td>min_7_days</td>\n",
       "      <td>0.075631</td>\n",
       "    </tr>\n",
       "    <tr>\n",
       "      <th>17</th>\n",
       "      <td>moving_avg_close_7_days</td>\n",
       "      <td>0.063907</td>\n",
       "    </tr>\n",
       "    <tr>\n",
       "      <th>19</th>\n",
       "      <td>max_7_days</td>\n",
       "      <td>0.060757</td>\n",
       "    </tr>\n",
       "    <tr>\n",
       "      <th>27</th>\n",
       "      <td>prevopen_7</td>\n",
       "      <td>0.000451</td>\n",
       "    </tr>\n",
       "    <tr>\n",
       "      <th>14</th>\n",
       "      <td>sales_elapsed</td>\n",
       "      <td>0.000255</td>\n",
       "    </tr>\n",
       "    <tr>\n",
       "      <th>23</th>\n",
       "      <td>profitability_daily_prev</td>\n",
       "      <td>0.000023</td>\n",
       "    </tr>\n",
       "    <tr>\n",
       "      <th>0</th>\n",
       "      <td>sale_year</td>\n",
       "      <td>0.000015</td>\n",
       "    </tr>\n",
       "  </tbody>\n",
       "</table>\n",
       "</div>"
      ],
      "text/plain": [
       "                        cols       imp\n",
       "21        ratio_overall_prev  0.375120\n",
       "24              ratio_7_days  0.300041\n",
       "25                prevopen_1  0.123731\n",
       "20                min_7_days  0.075631\n",
       "17   moving_avg_close_7_days  0.063907\n",
       "19                max_7_days  0.060757\n",
       "27                prevopen_7  0.000451\n",
       "14             sales_elapsed  0.000255\n",
       "23  profitability_daily_prev  0.000023\n",
       "0                  sale_year  0.000015"
      ]
     },
     "execution_count": 39,
     "metadata": {},
     "output_type": "execute_result"
    }
   ],
   "source": [
    "fi = rf_feat_importance(model, X_train)\n",
    "fi[:10]"
   ]
  },
  {
   "cell_type": "code",
   "execution_count": 40,
   "metadata": {},
   "outputs": [
    {
     "data": {
      "image/png": "[encoded data removed]",
      "text/plain": [
       "<Figure size 864x288 with 1 Axes>"
      ]
     },
     "metadata": {
      "needs_background": "light"
     },
     "output_type": "display_data"
    }
   ],
   "source": [
    "fi.plot('cols', 'imp', figsize=(12,4), legend=False);"
   ]
  },
  {
   "cell_type": "code",
   "execution_count": 41,
   "metadata": {},
   "outputs": [
    {
     "data": {
      "text/plain": [
       "<matplotlib.axes._subplots.AxesSubplot at 0x28bb3aa0240>"
      ]
     },
     "execution_count": 41,
     "metadata": {},
     "output_type": "execute_result"
    },
    {
     "data": {
      "image/png": "[encoded data removed]",
      "text/plain": [
       "<Figure size 864x504 with 1 Axes>"
      ]
     },
     "metadata": {
      "needs_background": "light"
     },
     "output_type": "display_data"
    }
   ],
   "source": [
    "def plot_fi(fi):\n",
    "    return fi.plot('cols', 'imp', 'barh', figsize=(12,7), legend=False)\n",
    "plot_fi(fi[:30])"
   ]
  },
  {
   "cell_type": "code",
   "execution_count": 42,
   "metadata": {},
   "outputs": [
    {
     "data": {
      "text/plain": [
       "6"
      ]
     },
     "execution_count": 42,
     "metadata": {},
     "output_type": "execute_result"
    }
   ],
   "source": [
    "to_keep = fi[fi.imp>0.005].cols;\n",
    "len(to_keep)"
   ]
  },
  {
   "cell_type": "code",
   "execution_count": 43,
   "metadata": {},
   "outputs": [],
   "source": [
    "df_keep = alk_df[to_keep].copy()\n",
    "X_train_keep, X_valid_keep, X_test_keep = split_vals(df_keep, n_test)"
   ]
  },
  {
   "cell_type": "code",
   "execution_count": 44,
   "metadata": {},
   "outputs": [
    {
     "name": "stdout",
     "output_type": "stream",
     "text": [
      "Wall time: 606 ms\n",
      "[5.917734149726347, 24.256155330731627, 0.9999959253441382, 0.9164356739130421, 0.9999689711083769]\n"
     ]
    }
   ],
   "source": [
    "model_keep = RandomForestRegressor(n_jobs=-1, n_estimators=40, min_samples_leaf=1, max_features=0.5, oob_score=True)\n",
    "%time model_keep.fit(X_train_keep, y_train)\n",
    "print_score(model_keep, X_train_keep, y_train, X_valid_keep, y_valid)"
   ]
  },
  {
   "cell_type": "code",
   "execution_count": 45,
   "metadata": {},
   "outputs": [
    {
     "data": {
      "image/png": "[encoded data removed]",
      "text/plain": [
       "<Figure size 1152x720 with 1 Axes>"
      ]
     },
     "metadata": {
      "needs_background": "light"
     },
     "output_type": "display_data"
    }
   ],
   "source": [
    "from scipy.cluster import hierarchy as hc\n",
    "\n",
    "corr = np.round(sp.stats.spearmanr(df_keep).correlation, 4)\n",
    "corr_condensed = hc.distance.squareform(1-corr)\n",
    "z = hc.linkage(corr_condensed, method='average')\n",
    "fig = plt.figure(figsize=(16,10))\n",
    "dendrogram = hc.dendrogram(z, labels=df_keep.columns, orientation='left', leaf_font_size=16)\n",
    "plt.show()"
   ]
  },
  {
   "cell_type": "code",
   "execution_count": 46,
   "metadata": {},
   "outputs": [],
   "source": [
    "def get_oob(df):\n",
    "    m = RandomForestRegressor(n_jobs=-1, n_estimators=40, min_samples_leaf=1, max_features=0.5, oob_score=True)\n",
    "    x, _, _ = split_vals(df, n_test)\n",
    "    m.fit(x, y_train)\n",
    "    return m.oob_score_"
   ]
  },
  {
   "cell_type": "code",
   "execution_count": 47,
   "metadata": {},
   "outputs": [
    {
     "data": {
      "text/plain": [
       "0.9999675336187364"
      ]
     },
     "execution_count": 47,
     "metadata": {},
     "output_type": "execute_result"
    }
   ],
   "source": [
    "get_oob(df_keep)"
   ]
  },
  {
   "cell_type": "code",
   "execution_count": 48,
   "metadata": {},
   "outputs": [
    {
     "name": "stdout",
     "output_type": "stream",
     "text": [
      "ratio_7_days 0.9999104917689867\n",
      "ratio_overall_prev 0.9997482180544518\n"
     ]
    }
   ],
   "source": [
    "for c in ('ratio_7_days', 'ratio_overall_prev'):\n",
    "    print(c, get_oob(df_keep.drop(c, axis=1)))"
   ]
  },
  {
   "cell_type": "markdown",
   "metadata": {},
   "source": [
    "### extrapolation"
   ]
  },
  {
   "cell_type": "code",
   "execution_count": 49,
   "metadata": {},
   "outputs": [
    {
     "name": "stderr",
     "output_type": "stream",
     "text": [
      "C:\\Users\\Gj\\Anaconda3\\lib\\site-packages\\ipykernel_launcher.py:3: SettingWithCopyWarning: \n",
      "A value is trying to be set on a copy of a slice from a DataFrame\n",
      "\n",
      "See the caveats in the documentation: https://pandas.pydata.org/pandas-docs/stable/user_guide/indexing.html#returning-a-view-versus-a-copy\n",
      "  This is separate from the ipykernel package so we can avoid doing imports until\n"
     ]
    }
   ],
   "source": [
    "df_ext = df_keep.copy()\n",
    "df_ext['is_valid'] = 1\n",
    "df_ext.is_valid[:n_test] = 0"
   ]
  },
  {
   "cell_type": "code",
   "execution_count": 50,
   "metadata": {},
   "outputs": [],
   "source": [
    "X_ext, y_ext = df_ext.drop('is_valid', axis=1), df_ext.is_valid"
   ]
  },
  {
   "cell_type": "code",
   "execution_count": 51,
   "metadata": {},
   "outputs": [],
   "source": [
    "X_train_ext, X_valid_ext, X_test_ext = split_vals(X_ext, n_test)\n",
    "y_train_ext, y_valid_ext, y_test_ext = split_vals(y_ext, n_test)"
   ]
  },
  {
   "cell_type": "code",
   "execution_count": 52,
   "metadata": {},
   "outputs": [
    {
     "name": "stdout",
     "output_type": "stream",
     "text": [
      "Wall time: 369 ms\n"
     ]
    },
    {
     "data": {
      "text/plain": [
       "0.8366862070116057"
      ]
     },
     "execution_count": 52,
     "metadata": {},
     "output_type": "execute_result"
    }
   ],
   "source": [
    "model_ext = RandomForestRegressor(n_jobs=-1, n_estimators=40, min_samples_leaf=1, max_features=0.5, oob_score=True)\n",
    "%time model_ext.fit(X_train_ext, y_train_ext)\n",
    "model_ext.oob_score_"
   ]
  },
  {
   "cell_type": "code",
   "execution_count": 53,
   "metadata": {},
   "outputs": [
    {
     "data": {
      "text/html": [
       "<div>\n",
       "<style scoped>\n",
       "    .dataframe tbody tr th:only-of-type {\n",
       "        vertical-align: middle;\n",
       "    }\n",
       "\n",
       "    .dataframe tbody tr th {\n",
       "        vertical-align: top;\n",
       "    }\n",
       "\n",
       "    .dataframe thead th {\n",
       "        text-align: right;\n",
       "    }\n",
       "</style>\n",
       "<table border=\"1\" class=\"dataframe\">\n",
       "  <thead>\n",
       "    <tr style=\"text-align: right;\">\n",
       "      <th></th>\n",
       "      <th>cols</th>\n",
       "      <th>imp</th>\n",
       "    </tr>\n",
       "  </thead>\n",
       "  <tbody>\n",
       "    <tr>\n",
       "      <th>4</th>\n",
       "      <td>moving_avg_close_7_days</td>\n",
       "      <td>0.543095</td>\n",
       "    </tr>\n",
       "    <tr>\n",
       "      <th>2</th>\n",
       "      <td>prevopen_1</td>\n",
       "      <td>0.164697</td>\n",
       "    </tr>\n",
       "    <tr>\n",
       "      <th>5</th>\n",
       "      <td>max_7_days</td>\n",
       "      <td>0.108427</td>\n",
       "    </tr>\n",
       "    <tr>\n",
       "      <th>3</th>\n",
       "      <td>min_7_days</td>\n",
       "      <td>0.074448</td>\n",
       "    </tr>\n",
       "    <tr>\n",
       "      <th>0</th>\n",
       "      <td>ratio_overall_prev</td>\n",
       "      <td>0.059911</td>\n",
       "    </tr>\n",
       "    <tr>\n",
       "      <th>1</th>\n",
       "      <td>ratio_7_days</td>\n",
       "      <td>0.049421</td>\n",
       "    </tr>\n",
       "  </tbody>\n",
       "</table>\n",
       "</div>"
      ],
      "text/plain": [
       "                      cols       imp\n",
       "4  moving_avg_close_7_days  0.543095\n",
       "2               prevopen_1  0.164697\n",
       "5               max_7_days  0.108427\n",
       "3               min_7_days  0.074448\n",
       "0       ratio_overall_prev  0.059911\n",
       "1             ratio_7_days  0.049421"
      ]
     },
     "execution_count": 53,
     "metadata": {},
     "output_type": "execute_result"
    }
   ],
   "source": [
    "fi = rf_feat_importance(model_ext, X_train_ext); fi[:10]"
   ]
  },
  {
   "cell_type": "code",
   "execution_count": 54,
   "metadata": {},
   "outputs": [
    {
     "data": {
      "text/html": [
       "<div>\n",
       "<style scoped>\n",
       "    .dataframe tbody tr th:only-of-type {\n",
       "        vertical-align: middle;\n",
       "    }\n",
       "\n",
       "    .dataframe tbody tr th {\n",
       "        vertical-align: top;\n",
       "    }\n",
       "\n",
       "    .dataframe thead th {\n",
       "        text-align: right;\n",
       "    }\n",
       "</style>\n",
       "<table border=\"1\" class=\"dataframe\">\n",
       "  <thead>\n",
       "    <tr style=\"text-align: right;\">\n",
       "      <th></th>\n",
       "      <th>moving_avg_close_7_days</th>\n",
       "    </tr>\n",
       "  </thead>\n",
       "  <tbody>\n",
       "    <tr>\n",
       "      <th>count</th>\n",
       "      <td>8594.000000</td>\n",
       "    </tr>\n",
       "    <tr>\n",
       "      <th>mean</th>\n",
       "      <td>4.427299</td>\n",
       "    </tr>\n",
       "    <tr>\n",
       "      <th>std</th>\n",
       "      <td>2.926976</td>\n",
       "    </tr>\n",
       "    <tr>\n",
       "      <th>min</th>\n",
       "      <td>0.500000</td>\n",
       "    </tr>\n",
       "    <tr>\n",
       "      <th>25%</th>\n",
       "      <td>1.842750</td>\n",
       "    </tr>\n",
       "    <tr>\n",
       "      <th>50%</th>\n",
       "      <td>4.203643</td>\n",
       "    </tr>\n",
       "    <tr>\n",
       "      <th>75%</th>\n",
       "      <td>5.415143</td>\n",
       "    </tr>\n",
       "    <tr>\n",
       "      <th>max</th>\n",
       "      <td>13.892714</td>\n",
       "    </tr>\n",
       "  </tbody>\n",
       "</table>\n",
       "</div>"
      ],
      "text/plain": [
       "       moving_avg_close_7_days\n",
       "count              8594.000000\n",
       "mean                  4.427299\n",
       "std                   2.926976\n",
       "min                   0.500000\n",
       "25%                   1.842750\n",
       "50%                   4.203643\n",
       "75%                   5.415143\n",
       "max                  13.892714"
      ]
     },
     "execution_count": 54,
     "metadata": {},
     "output_type": "execute_result"
    }
   ],
   "source": [
    "feats=['moving_avg_close_7_days']\n",
    "(X_train_ext[feats]/1000).describe()"
   ]
  },
  {
   "cell_type": "code",
   "execution_count": 55,
   "metadata": {},
   "outputs": [
    {
     "data": {
      "text/plain": [
       "Index(['ratio_overall_prev', 'ratio_7_days', 'prevopen_1', 'min_7_days',\n",
       "       'moving_avg_close_7_days', 'max_7_days'],\n",
       "      dtype='object')"
      ]
     },
     "execution_count": 55,
     "metadata": {},
     "output_type": "execute_result"
    }
   ],
   "source": [
    "X_train_ext.columns"
   ]
  },
  {
   "cell_type": "code",
   "execution_count": 56,
   "metadata": {},
   "outputs": [
    {
     "data": {
      "text/plain": [
       "0.6961302822495011"
      ]
     },
     "execution_count": 56,
     "metadata": {},
     "output_type": "execute_result"
    }
   ],
   "source": [
    "X_train_ext.drop(feats, axis=1, inplace=True)\n",
    "m_drop = RandomForestRegressor(n_jobs=-1, n_estimators=40, min_samples_leaf=1, max_features=0.5, oob_score=True)\n",
    "m_drop.fit(X_train_ext, y_train_ext);\n",
    "m_drop.oob_score_"
   ]
  },
  {
   "cell_type": "code",
   "execution_count": 57,
   "metadata": {},
   "outputs": [
    {
     "name": "stdout",
     "output_type": "stream",
     "text": [
      "moving_avg_close_7_days\n",
      "[0.012097580353051618, 0.0, 0.8201757628566915, 1.0, 0.6907658760341517]\n"
     ]
    }
   ],
   "source": [
    "for f in feats:\n",
    "    df_subs = df_keep.drop(f, axis=1)\n",
    "    X_train_sub, X_valid_sub, X_test_sub = split_vals(df_subs, n_test)\n",
    "    m = RandomForestRegressor(n_jobs=-1, n_estimators=40, min_samples_leaf=1, max_features=0.5, oob_score=True)\n",
    "    m.fit(X_train_sub, y_train_ext)\n",
    "    print(f)\n",
    "    print_score(m, X_train_sub, y_train_ext, X_valid_sub, y_valid_ext)"
   ]
  },
  {
   "cell_type": "markdown",
   "metadata": {},
   "source": [
    "### final model"
   ]
  },
  {
   "cell_type": "code",
   "execution_count": 58,
   "metadata": {},
   "outputs": [],
   "source": [
    "X, y = alk_df.drop(['close'], axis=1), alk_df.close_shift"
   ]
  },
  {
   "cell_type": "code",
   "execution_count": 59,
   "metadata": {},
   "outputs": [
    {
     "data": {
      "text/plain": [
       "((8594, 30), (7, 30), (7, 30), (8594,), (7,), (7,))"
      ]
     },
     "execution_count": 59,
     "metadata": {},
     "output_type": "execute_result"
    }
   ],
   "source": [
    "X_train, X_valid, X_test = split_vals(X, n_test)\n",
    "y_train, y_valid, y_test = split_vals(y, n_test)\n",
    "X_train.shape, X_valid.shape, X_test.shape, y_train.shape, y_valid.shape, y_test.shape"
   ]
  },
  {
   "cell_type": "code",
   "execution_count": 60,
   "metadata": {},
   "outputs": [
    {
     "name": "stdout",
     "output_type": "stream",
     "text": [
      "Wall time: 1.33 s\n",
      "[3.439933358164167, 26.074000117796807, 0.9999986231707262, 0.9034410996376796, 0.999988869923077]\n"
     ]
    }
   ],
   "source": [
    "model_final = RandomForestRegressor(n_jobs=-1, n_estimators=40, min_samples_leaf=1, max_features=0.5, oob_score=True)\n",
    "%time model_final.fit(X_train, y_train)\n",
    "print_score(model_final, X_train, y_train, X_valid, y_valid)"
   ]
  },
  {
   "cell_type": "code",
   "execution_count": 61,
   "metadata": {},
   "outputs": [
    {
     "data": {
      "image/png": "[encoded data removed]",
      "text/plain": [
       "<Figure size 432x288 with 1 Axes>"
      ]
     },
     "metadata": {
      "needs_background": "light"
     },
     "output_type": "display_data"
    }
   ],
   "source": [
    "x_ax = range(len(y_valid))\n",
    "plt.plot(x_ax, y_valid, label=\"original\")\n",
    "plt.plot(x_ax, model_final.predict(X_valid), label=\"predicted\")\n",
    "plt.title(\"stock price and predicted price\")\n",
    "plt.legend()\n",
    "plt.show()"
   ]
  },
  {
   "cell_type": "code",
   "execution_count": 62,
   "metadata": {},
   "outputs": [],
   "source": [
    "ranfor_pred = model_final.predict(X_test)"
   ]
  },
  {
   "cell_type": "code",
   "execution_count": 92,
   "metadata": {},
   "outputs": [
    {
     "name": "stdout",
     "output_type": "stream",
     "text": [
      "Test score: 0.9930112995866657 \n",
      " Test RMSE: 6.099004602626396\n"
     ]
    }
   ],
   "source": [
    "print('Test score:',model_final.score(X_test, y_test), '\\n','Test RMSE:',rmse(ranfor_pred, y_test))"
   ]
  },
  {
   "cell_type": "code",
   "execution_count": 93,
   "metadata": {},
   "outputs": [
    {
     "name": "stdout",
     "output_type": "stream",
     "text": [
      "Difference on 7th day predictid price with actual is  6.899999999999636\n"
     ]
    }
   ],
   "source": [
    "print('Difference on 7th day predictid price with actual is ',rmse(ranfor_pred[-1], np.array(y_test)[-1]))"
   ]
  },
  {
   "cell_type": "code",
   "execution_count": 94,
   "metadata": {},
   "outputs": [
    {
     "data": {
      "image/png": "[encoded data removed]",
      "text/plain": [
       "<Figure size 720x360 with 1 Axes>"
      ]
     },
     "metadata": {
      "needs_background": "light"
     },
     "output_type": "display_data"
    }
   ],
   "source": [
    "plt.figure(figsize=(10,5))\n",
    "\n",
    "plt.scatter(y_test, ranfor_pred, color='red')\n",
    "plt.plot([y_train.min(), y_train.max()], [y_train.min(), y_train.max()], 'k--', lw=2)\n",
    "plt.title('Ground Truth vs Predicted - RF')\n",
    "plt.xlabel(xlabel='Actual')\n",
    "plt.ylabel(ylabel='Predicted')\n",
    "plt.show()"
   ]
  },
  {
   "cell_type": "markdown",
   "metadata": {},
   "source": [
    "### qty forecast"
   ]
  },
  {
   "cell_type": "code",
   "execution_count": 95,
   "metadata": {},
   "outputs": [],
   "source": [
    "alk_df_qty = df_7_days[df_7_days.stock_id == 'ALK']\n",
    "alk_df_qty = alk_df_qty.dropna()\n",
    "to_drop_qty = ['date', 'start_date','stock_id', 'open', 'high', 'low', 'average', 'volume', 'close', 'change %', 'volume total']\n",
    "alk_df_qty.drop(to_drop_qty, axis=1, inplace=True)"
   ]
  },
  {
   "cell_type": "code",
   "execution_count": 96,
   "metadata": {},
   "outputs": [],
   "source": [
    "alk_df_qty['qty_30'] = alk_df_qty.quantity.shift(30)"
   ]
  },
  {
   "cell_type": "code",
   "execution_count": 97,
   "metadata": {},
   "outputs": [],
   "source": [
    "alk_df_qty = alk_df_qty.dropna()"
   ]
  },
  {
   "cell_type": "code",
   "execution_count": 98,
   "metadata": {},
   "outputs": [],
   "source": [
    "X_qty, y_qty = alk_df_qty.drop(['quantity', 'qty_30'], axis=1), alk_df_qty.qty_30"
   ]
  },
  {
   "cell_type": "code",
   "execution_count": 99,
   "metadata": {},
   "outputs": [
    {
     "data": {
      "text/plain": [
       "((8571, 29), (7, 29), (7, 29), (8571,), (7,), (7,))"
      ]
     },
     "execution_count": 99,
     "metadata": {},
     "output_type": "execute_result"
    }
   ],
   "source": [
    "X_train_qty, X_valid_qty, X_test_qty = split_vals(X_qty, n_test)\n",
    "y_train_qty, y_valid_qty, y_test_qty = split_vals(y_qty, n_test)\n",
    "X_train_qty.shape, X_valid_qty.shape, X_test_qty.shape, y_train_qty.shape, y_valid_qty.shape, y_test_qty.shape"
   ]
  },
  {
   "cell_type": "code",
   "execution_count": 100,
   "metadata": {},
   "outputs": [],
   "source": [
    "#%%time\n",
    "\n",
    "#parametars = {\n",
    "#    'n_estimators': [30, 50, 100, 150, 200, 300, 400, 500],\n",
    "#    'min_samples_leaf': [1, 3, 5, 10, 25]\n",
    "#}\n",
    "#\n",
    "#model_qty = RandomForestRegressor(n_jobs=-1, max_features=0.5)\n",
    "#clf = GridSearchCV(model_qty, parametars)\n",
    "#clf.fit(X_train, y_train)\n",
    "\n",
    "#print(f'Best params: {clf.best_params_}')\n",
    "#print(f'Best score = {clf.best_score_}')"
   ]
  },
  {
   "cell_type": "code",
   "execution_count": 101,
   "metadata": {},
   "outputs": [
    {
     "name": "stdout",
     "output_type": "stream",
     "text": [
      "Wall time: 11.3 s\n",
      "[185.16120787278862, 145.8909135306022, 0.8890488502987521, -0.8901559245928322, 0.19598984714037992]\n"
     ]
    }
   ],
   "source": [
    "model_qty = RandomForestRegressor(n_jobs=-1, n_estimators=300, min_samples_leaf=1, max_features=0.5, oob_score=True)\n",
    "%time model_qty.fit(X_train_qty, y_train_qty)\n",
    "print_score(model_qty, X_train_qty, y_train_qty, X_valid_qty, y_valid_qty)"
   ]
  },
  {
   "cell_type": "code",
   "execution_count": 102,
   "metadata": {},
   "outputs": [
    {
     "data": {
      "image/png": "[encoded data removed]",
      "text/plain": [
       "<Figure size 432x288 with 1 Axes>"
      ]
     },
     "metadata": {
      "needs_background": "light"
     },
     "output_type": "display_data"
    }
   ],
   "source": [
    "x_ax = range(len(y_valid_qty))\n",
    "plt.plot(x_ax, y_valid_qty, label=\"original\")\n",
    "plt.plot(x_ax, model_qty.predict(X_valid_qty), label=\"predicted\")\n",
    "plt.title(\"stock price and predicted price\")\n",
    "plt.legend()\n",
    "plt.show()"
   ]
  },
  {
   "cell_type": "code",
   "execution_count": 103,
   "metadata": {},
   "outputs": [],
   "source": [
    "ranfor_pred_qty = model_qty.predict(X_test_qty)"
   ]
  },
  {
   "cell_type": "code",
   "execution_count": 104,
   "metadata": {},
   "outputs": [
    {
     "data": {
      "image/png": "[encoded data removed]",
      "text/plain": [
       "<Figure size 720x360 with 1 Axes>"
      ]
     },
     "metadata": {
      "needs_background": "light"
     },
     "output_type": "display_data"
    }
   ],
   "source": [
    "plt.figure(figsize=(10,5))\n",
    "\n",
    "plt.scatter(y_test_qty, ranfor_pred_qty, color='red')\n",
    "plt.plot([y_train_qty.min(), y_train_qty.max()], [y_train_qty.min(), y_train_qty.max()], 'k--', lw=2)\n",
    "plt.title('Ground Truth vs Predicted - RF')\n",
    "plt.xlabel(xlabel='Actual')\n",
    "plt.ylabel(ylabel='Predicted')\n",
    "plt.show()"
   ]
  },
  {
   "cell_type": "markdown",
   "metadata": {},
   "source": [
    "### XGBOOST"
   ]
  },
  {
   "cell_type": "code",
   "execution_count": 132,
   "metadata": {},
   "outputs": [],
   "source": [
    "xgb_reg = xgb.XGBRegressor(colsample_bylevel=0.7, colsample_bynode=0.7, colsample_bytree=0.7, \n",
    "                           learning_rate=0.05, n_estimators=400, \n",
    "                           gamma=0.02, max_depth=15)"
   ]
  },
  {
   "cell_type": "code",
   "execution_count": 133,
   "metadata": {},
   "outputs": [
    {
     "name": "stdout",
     "output_type": "stream",
     "text": [
      "[0.16398230293735014, 47.059706593265204, 0.9999999968712274, 0.6854603384128515]\n"
     ]
    }
   ],
   "source": [
    "xgb_reg.fit(X_train, y_train)\n",
    "print_score(xgb_reg, X_train, y_train, X_valid, y_valid)"
   ]
  },
  {
   "cell_type": "code",
   "execution_count": 108,
   "metadata": {},
   "outputs": [
    {
     "data": {
      "image/png": "[encoded data removed]",
      "text/plain": [
       "<Figure size 432x288 with 1 Axes>"
      ]
     },
     "metadata": {
      "needs_background": "light"
     },
     "output_type": "display_data"
    }
   ],
   "source": [
    "x_ax = range(len(y_valid))\n",
    "plt.plot(x_ax, y_valid, label=\"original\")\n",
    "plt.plot(x_ax, xgb_reg.predict(X_valid), label=\"predicted\")\n",
    "plt.title(\"stock price and predicted price\")\n",
    "plt.legend()\n",
    "plt.show()"
   ]
  },
  {
   "cell_type": "code",
   "execution_count": 109,
   "metadata": {},
   "outputs": [],
   "source": [
    "xgb_price = xgb_reg.predict(X_test)"
   ]
  },
  {
   "cell_type": "code",
   "execution_count": 110,
   "metadata": {},
   "outputs": [
    {
     "data": {
      "text/plain": [
       "0.7449559365002786"
      ]
     },
     "execution_count": 110,
     "metadata": {},
     "output_type": "execute_result"
    }
   ],
   "source": [
    "xgb_reg.score(X_test, y_test)"
   ]
  },
  {
   "cell_type": "code",
   "execution_count": 136,
   "metadata": {},
   "outputs": [
    {
     "data": {
      "text/plain": [
       "35.6875"
      ]
     },
     "execution_count": 136,
     "metadata": {},
     "output_type": "execute_result"
    }
   ],
   "source": [
    "rmse(np.array(y_test)[-1], xgb_price[-1])"
   ]
  },
  {
   "cell_type": "code",
   "execution_count": 137,
   "metadata": {},
   "outputs": [
    {
     "data": {
      "image/png": "[encoded data removed]",
      "text/plain": [
       "<Figure size 720x360 with 1 Axes>"
      ]
     },
     "metadata": {
      "needs_background": "light"
     },
     "output_type": "display_data"
    }
   ],
   "source": [
    "plt.figure(figsize=(10,5))\n",
    "\n",
    "plt.scatter(y_test, xgb_price, color='red')\n",
    "plt.plot([y_train.min(), y_train.max()], [y_train.min(), y_train.max()], 'k--', lw=2)\n",
    "plt.title('Ground Truth vs Predicted - XGB')\n",
    "plt.xlabel(xlabel='Actual')\n",
    "plt.ylabel(ylabel='Predicted')\n",
    "plt.show()"
   ]
  },
  {
   "cell_type": "code",
   "execution_count": 138,
   "metadata": {},
   "outputs": [],
   "source": [
    "xgb_reg_qty = xgb.XGBRegressor(colsample_bylevel=0.7, colsample_bynode=0.7, colsample_bytree=0.7, \n",
    "                           learning_rate=0.05, n_estimators=400, \n",
    "                           gamma=0.02, max_depth=15)"
   ]
  },
  {
   "cell_type": "code",
   "execution_count": 139,
   "metadata": {},
   "outputs": [
    {
     "name": "stdout",
     "output_type": "stream",
     "text": [
      "[7.085109960184517, 139.12908666992163, 0.9998375480285328, -0.7190044966937463]\n"
     ]
    }
   ],
   "source": [
    "xgb_reg_qty.fit(X_train_qty, y_train_qty)\n",
    "print_score(xgb_reg_qty, X_train_qty, y_train_qty, X_valid_qty, y_valid_qty)"
   ]
  },
  {
   "cell_type": "code",
   "execution_count": 140,
   "metadata": {},
   "outputs": [
    {
     "data": {
      "image/png": "[encoded data removed]",
      "text/plain": [
       "<Figure size 432x288 with 1 Axes>"
      ]
     },
     "metadata": {
      "needs_background": "light"
     },
     "output_type": "display_data"
    }
   ],
   "source": [
    "x_ax = range(len(y_valid_qty))\n",
    "plt.plot(x_ax, y_valid_qty, label=\"original\")\n",
    "plt.plot(x_ax, xgb_reg_qty.predict(X_valid_qty), label=\"predicted\")\n",
    "plt.title(\"stock price and predicted price\")\n",
    "plt.legend()\n",
    "plt.show()"
   ]
  },
  {
   "cell_type": "code",
   "execution_count": 141,
   "metadata": {},
   "outputs": [],
   "source": [
    "xgb_qty = xgb_reg_qty.predict(X_test_qty)"
   ]
  },
  {
   "cell_type": "code",
   "execution_count": 142,
   "metadata": {},
   "outputs": [
    {
     "data": {
      "image/png": "[encoded data removed]",
      "text/plain": [
       "<Figure size 720x360 with 1 Axes>"
      ]
     },
     "metadata": {
      "needs_background": "light"
     },
     "output_type": "display_data"
    }
   ],
   "source": [
    "plt.figure(figsize=(10,5))\n",
    "\n",
    "plt.scatter(y_test_qty, xgb_qty, color='red')\n",
    "plt.plot([y_train_qty.min(), y_train_qty.max()], [y_train_qty.min(), y_train_qty.max()], 'k--', lw=2)\n",
    "plt.title('Ground Truth vs Predicted - XGB')\n",
    "plt.xlabel(xlabel='Actual')\n",
    "plt.ylabel(ylabel='Predicted')\n",
    "plt.show()"
   ]
  }
 ],
 "metadata": {
  "kernelspec": {
   "display_name": "Python 3",
   "language": "python",
   "name": "python3"
  },
  "language_info": {
   "codemirror_mode": {
    "name": "ipython",
    "version": 3
   },
   "file_extension": ".py",
   "mimetype": "text/x-python",
   "name": "python",
   "nbconvert_exporter": "python",
   "pygments_lexer": "ipython3",
   "version": "3.7.3"
  }
 },
 "nbformat": 4,
 "nbformat_minor": 4
}
