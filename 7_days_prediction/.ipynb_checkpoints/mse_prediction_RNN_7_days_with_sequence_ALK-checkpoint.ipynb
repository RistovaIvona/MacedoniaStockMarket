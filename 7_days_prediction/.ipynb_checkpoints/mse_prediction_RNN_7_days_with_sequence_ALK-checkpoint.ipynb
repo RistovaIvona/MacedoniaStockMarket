{
 "cells": [
  {
   "cell_type": "code",
   "execution_count": 2,
   "metadata": {},
   "outputs": [
    {
     "name": "stderr",
     "output_type": "stream",
     "text": [
      "Using TensorFlow backend.\n"
     ]
    }
   ],
   "source": [
    "import pandas as pd\n",
    "import numpy as np\n",
    "import scipy as sp\n",
    "import matplotlib.pyplot as plt\n",
    "import seaborn as sns\n",
    "import math\n",
    "import itertools\n",
    "import regex as re\n",
    "\n",
    "import xgboost as xgb\n",
    "from sklearn.ensemble import RandomForestRegressor\n",
    "from sklearn.preprocessing import MinMaxScaler\n",
    "from sklearn.metrics import mean_squared_error, mean_absolute_error\n",
    "from sklearn.preprocessing import StandardScaler, Normalizer, MinMaxScaler, normalize\n",
    "from sklearn.model_selection import train_test_split, GridSearchCV\n",
    "\n",
    "from keras.callbacks import ModelCheckpoint, EarlyStopping\n",
    "from keras.models import Sequential\n",
    "from keras.layers import Dense, LSTM, SimpleRNN, Activation, Dropout, RepeatVector\n",
    "from keras.metrics import RootMeanSquaredError\n",
    "%matplotlib inline"
   ]
  },
  {
   "cell_type": "markdown",
   "metadata": {},
   "source": [
    "### Loading Preprocessed Dataset"
   ]
  },
  {
   "cell_type": "code",
   "execution_count": 3,
   "metadata": {},
   "outputs": [],
   "source": [
    "df = pd.read_csv('C:/Users/Gj/Documents/Git/macedonian_stock_exchange_market/tmp/mse_raw.csv', \n",
    "                 parse_dates=['date', 'start_date'], index_col='Unnamed: 0')"
   ]
  },
  {
   "cell_type": "code",
   "execution_count": 4,
   "metadata": {},
   "outputs": [
    {
     "data": {
      "text/html": [
       "<div>\n",
       "<style scoped>\n",
       "    .dataframe tbody tr th:only-of-type {\n",
       "        vertical-align: middle;\n",
       "    }\n",
       "\n",
       "    .dataframe tbody tr th {\n",
       "        vertical-align: top;\n",
       "    }\n",
       "\n",
       "    .dataframe thead th {\n",
       "        text-align: right;\n",
       "    }\n",
       "</style>\n",
       "<table border=\"1\" class=\"dataframe\">\n",
       "  <thead>\n",
       "    <tr style=\"text-align: right;\">\n",
       "      <th></th>\n",
       "      <th>stock_id</th>\n",
       "      <th>date</th>\n",
       "      <th>open</th>\n",
       "      <th>high</th>\n",
       "      <th>low</th>\n",
       "      <th>average</th>\n",
       "      <th>close</th>\n",
       "      <th>volume</th>\n",
       "      <th>quantity</th>\n",
       "      <th>change %</th>\n",
       "      <th>volume total</th>\n",
       "      <th>start_date</th>\n",
       "    </tr>\n",
       "  </thead>\n",
       "  <tbody>\n",
       "    <tr>\n",
       "      <th>0</th>\n",
       "      <td>ALK</td>\n",
       "      <td>1997-01-09</td>\n",
       "      <td>1070.0</td>\n",
       "      <td>1070.0</td>\n",
       "      <td>1070.0</td>\n",
       "      <td>1070.0</td>\n",
       "      <td>1070.0</td>\n",
       "      <td>279270.0</td>\n",
       "      <td>261.0</td>\n",
       "      <td>0.0</td>\n",
       "      <td>279270.0</td>\n",
       "      <td>1997-01-09</td>\n",
       "    </tr>\n",
       "    <tr>\n",
       "      <th>22</th>\n",
       "      <td>ALK</td>\n",
       "      <td>1997-01-10</td>\n",
       "      <td>1070.0</td>\n",
       "      <td>1070.0</td>\n",
       "      <td>1070.0</td>\n",
       "      <td>1070.0</td>\n",
       "      <td>1070.0</td>\n",
       "      <td>0.0</td>\n",
       "      <td>0.0</td>\n",
       "      <td>0.0</td>\n",
       "      <td>0.0</td>\n",
       "      <td>1997-01-09</td>\n",
       "    </tr>\n",
       "    <tr>\n",
       "      <th>44</th>\n",
       "      <td>ALK</td>\n",
       "      <td>1997-01-11</td>\n",
       "      <td>1070.0</td>\n",
       "      <td>1070.0</td>\n",
       "      <td>1070.0</td>\n",
       "      <td>1070.0</td>\n",
       "      <td>1070.0</td>\n",
       "      <td>0.0</td>\n",
       "      <td>0.0</td>\n",
       "      <td>0.0</td>\n",
       "      <td>0.0</td>\n",
       "      <td>1997-01-09</td>\n",
       "    </tr>\n",
       "    <tr>\n",
       "      <th>66</th>\n",
       "      <td>ALK</td>\n",
       "      <td>1997-01-12</td>\n",
       "      <td>1070.0</td>\n",
       "      <td>1070.0</td>\n",
       "      <td>1070.0</td>\n",
       "      <td>1070.0</td>\n",
       "      <td>1070.0</td>\n",
       "      <td>0.0</td>\n",
       "      <td>0.0</td>\n",
       "      <td>0.0</td>\n",
       "      <td>0.0</td>\n",
       "      <td>1997-01-09</td>\n",
       "    </tr>\n",
       "    <tr>\n",
       "      <th>88</th>\n",
       "      <td>ALK</td>\n",
       "      <td>1997-01-13</td>\n",
       "      <td>1070.0</td>\n",
       "      <td>1070.0</td>\n",
       "      <td>1070.0</td>\n",
       "      <td>1070.0</td>\n",
       "      <td>1070.0</td>\n",
       "      <td>0.0</td>\n",
       "      <td>0.0</td>\n",
       "      <td>0.0</td>\n",
       "      <td>0.0</td>\n",
       "      <td>1997-01-09</td>\n",
       "    </tr>\n",
       "  </tbody>\n",
       "</table>\n",
       "</div>"
      ],
      "text/plain": [
       "   stock_id       date    open    high     low  average   close    volume  \\\n",
       "0       ALK 1997-01-09  1070.0  1070.0  1070.0   1070.0  1070.0  279270.0   \n",
       "22      ALK 1997-01-10  1070.0  1070.0  1070.0   1070.0  1070.0       0.0   \n",
       "44      ALK 1997-01-11  1070.0  1070.0  1070.0   1070.0  1070.0       0.0   \n",
       "66      ALK 1997-01-12  1070.0  1070.0  1070.0   1070.0  1070.0       0.0   \n",
       "88      ALK 1997-01-13  1070.0  1070.0  1070.0   1070.0  1070.0       0.0   \n",
       "\n",
       "    quantity  change %  volume total start_date  \n",
       "0      261.0       0.0      279270.0 1997-01-09  \n",
       "22       0.0       0.0           0.0 1997-01-09  \n",
       "44       0.0       0.0           0.0 1997-01-09  \n",
       "66       0.0       0.0           0.0 1997-01-09  \n",
       "88       0.0       0.0           0.0 1997-01-09  "
      ]
     },
     "execution_count": 4,
     "metadata": {},
     "output_type": "execute_result"
    }
   ],
   "source": [
    "df.head(5)"
   ]
  },
  {
   "cell_type": "markdown",
   "metadata": {},
   "source": [
    "### setting RNN ALK dataset for training, validation and test"
   ]
  },
  {
   "cell_type": "code",
   "execution_count": 5,
   "metadata": {},
   "outputs": [],
   "source": [
    "alk_df = df[df.stock_id == 'ALK']"
   ]
  },
  {
   "cell_type": "code",
   "execution_count": 6,
   "metadata": {},
   "outputs": [
    {
     "data": {
      "text/plain": [
       "Index(['stock_id', 'date', 'open', 'high', 'low', 'average', 'close', 'volume',\n",
       "       'quantity', 'change %', 'volume total', 'start_date'],\n",
       "      dtype='object')"
      ]
     },
     "execution_count": 6,
     "metadata": {},
     "output_type": "execute_result"
    }
   ],
   "source": [
    "alk_df.columns"
   ]
  },
  {
   "cell_type": "markdown",
   "metadata": {},
   "source": [
    "### split dataset"
   ]
  },
  {
   "cell_type": "code",
   "execution_count": 7,
   "metadata": {},
   "outputs": [],
   "source": [
    "#Create a new dataframe with only closing price column\n",
    "close_price = alk_df['close']\n",
    "\n",
    "#Convert the dataframe into numpy array\n",
    "close_price = close_price.values"
   ]
  },
  {
   "cell_type": "code",
   "execution_count": 8,
   "metadata": {},
   "outputs": [
    {
     "data": {
      "text/plain": [
       "(8630,)"
      ]
     },
     "execution_count": 8,
     "metadata": {},
     "output_type": "execute_result"
    }
   ],
   "source": [
    "close_price.shape"
   ]
  },
  {
   "cell_type": "code",
   "execution_count": 9,
   "metadata": {},
   "outputs": [],
   "source": [
    "scaler = MinMaxScaler(feature_range=(0, 1))"
   ]
  },
  {
   "cell_type": "code",
   "execution_count": 10,
   "metadata": {},
   "outputs": [],
   "source": [
    "scaled_df = scaler.fit_transform(close_price.reshape(len(close_price), 1))"
   ]
  },
  {
   "cell_type": "code",
   "execution_count": 11,
   "metadata": {},
   "outputs": [
    {
     "data": {
      "text/plain": [
       "array([[0.04175824],\n",
       "       [0.04175824],\n",
       "       [0.04175824],\n",
       "       ...,\n",
       "       [0.86373626],\n",
       "       [0.86373626],\n",
       "       [0.85714286]])"
      ]
     },
     "execution_count": 11,
     "metadata": {},
     "output_type": "execute_result"
    }
   ],
   "source": [
    "scaled_df"
   ]
  },
  {
   "cell_type": "markdown",
   "metadata": {},
   "source": [
    "### univariate sequence many to many"
   ]
  },
  {
   "cell_type": "code",
   "execution_count": 12,
   "metadata": {},
   "outputs": [],
   "source": [
    "# function that segments the data\n",
    "# split a univariate sequence into samples\n",
    "def split_sequence(sequence, n_steps_in, n_steps_out):\n",
    "    X, y = list(), list()\n",
    "    for i in range(len(sequence)):\n",
    "        # find the end of this pattern\n",
    "        end_ix = i + n_steps_in\n",
    "        out_end_ix = end_ix + n_steps_out\n",
    "        # check if we are beyond the sequence\n",
    "        if out_end_ix > len(sequence):\n",
    "            break\n",
    "        # gather input and output parts of the pattern\n",
    "        seq_x, seq_y = sequence[i:end_ix], sequence[end_ix:out_end_ix]\n",
    "        X.append(seq_x)\n",
    "        y.append(seq_y)\n",
    "    return np.array(X), np.array(y)"
   ]
  },
  {
   "cell_type": "code",
   "execution_count": 13,
   "metadata": {},
   "outputs": [
    {
     "name": "stdout",
     "output_type": "stream",
     "text": [
      "[[0.04175824]\n",
      " [0.04175824]\n",
      " [0.04175824]\n",
      " [0.04175824]\n",
      " [0.04175824]\n",
      " [0.04029304]\n",
      " [0.04029304]\n",
      " [0.03882784]\n",
      " [0.03882784]\n",
      " [0.03882784]\n",
      " [0.03882784]\n",
      " [0.03882784]\n",
      " [0.03736264]\n",
      " [0.03736264]\n",
      " [0.03736264]\n",
      " [0.03736264]\n",
      " [0.03736264]\n",
      " [0.03736264]\n",
      " [0.03736264]\n",
      " [0.03663004]\n",
      " [0.03663004]\n",
      " [0.03663004]\n",
      " [0.03663004]\n",
      " [0.03663004]\n",
      " [0.03663004]\n",
      " [0.03663004]\n",
      " [0.03663004]\n",
      " [0.03663004]\n",
      " [0.03663004]\n",
      " [0.03663004]\n",
      " [0.03663004]\n",
      " [0.03663004]\n",
      " [0.03663004]\n",
      " [0.03443223]\n",
      " [0.03443223]\n",
      " [0.03443223]\n",
      " [0.03443223]\n",
      " [0.03443223]\n",
      " [0.03443223]\n",
      " [0.03443223]\n",
      " [0.03443223]\n",
      " [0.03443223]\n",
      " [0.03443223]\n",
      " [0.03443223]\n",
      " [0.03443223]\n",
      " [0.03443223]\n",
      " [0.03443223]\n",
      " [0.03443223]\n",
      " [0.03443223]\n",
      " [0.03443223]\n",
      " [0.03443223]\n",
      " [0.03443223]\n",
      " [0.03443223]\n",
      " [0.03443223]\n",
      " [0.03443223]\n",
      " [0.03443223]\n",
      " [0.14285714]\n",
      " [0.14285714]\n",
      " [0.14285714]\n",
      " [0.14285714]\n",
      " [0.14285714]\n",
      " [0.03443223]\n",
      " [0.03443223]\n",
      " [0.03443223]\n",
      " [0.03443223]\n",
      " [0.03443223]\n",
      " [0.03443223]\n",
      " [0.03443223]\n",
      " [0.03443223]\n",
      " [0.03443223]\n",
      " [0.03443223]\n",
      " [0.03443223]\n",
      " [0.03443223]\n",
      " [0.03443223]\n",
      " [0.03443223]\n",
      " [0.03443223]\n",
      " [0.03443223]\n",
      " [0.03443223]\n",
      " [0.03443223]\n",
      " [0.03443223]\n",
      " [0.03443223]\n",
      " [0.03443223]\n",
      " [0.03443223]\n",
      " [0.03443223]\n",
      " [0.03443223]\n",
      " [0.03443223]\n",
      " [0.03443223]\n",
      " [0.03443223]\n",
      " [0.03443223]\n",
      " [0.03443223]\n",
      " [0.03443223]\n",
      " [0.03443223]\n",
      " [0.03443223]\n",
      " [0.03443223]\n",
      " [0.03443223]\n",
      " [0.03443223]\n",
      " [0.03443223]\n",
      " [0.03443223]\n",
      " [0.03443223]\n",
      " [0.03443223]\n",
      " [0.03443223]\n",
      " [0.03443223]\n",
      " [0.03443223]\n",
      " [0.03443223]\n",
      " [0.03443223]\n",
      " [0.03443223]\n",
      " [0.03443223]\n",
      " [0.03443223]\n",
      " [0.03443223]\n",
      " [0.03443223]\n",
      " [0.03443223]\n",
      " [0.03443223]\n",
      " [0.03443223]\n",
      " [0.03443223]\n",
      " [0.03443223]\n",
      " [0.03443223]\n",
      " [0.03443223]\n",
      " [0.03443223]\n",
      " [0.03443223]\n",
      " [0.03443223]\n",
      " [0.03443223]\n",
      " [0.03443223]\n",
      " [0.03443223]\n",
      " [0.03443223]\n",
      " [0.03443223]\n",
      " [0.03443223]\n",
      " [0.03443223]\n",
      " [0.03443223]\n",
      " [0.03443223]\n",
      " [0.03443223]\n",
      " [0.03443223]\n",
      " [0.03443223]\n",
      " [0.03443223]\n",
      " [0.03443223]\n",
      " [0.03443223]\n",
      " [0.03443223]\n",
      " [0.03443223]\n",
      " [0.03443223]\n",
      " [0.03443223]\n",
      " [0.03443223]\n",
      " [0.03443223]\n",
      " [0.03443223]\n",
      " [0.03443223]\n",
      " [0.03443223]\n",
      " [0.03443223]\n",
      " [0.03443223]\n",
      " [0.03443223]\n",
      " [0.03443223]\n",
      " [0.03443223]\n",
      " [0.03443223]\n",
      " [0.03443223]\n",
      " [0.03443223]\n",
      " [0.03443223]\n",
      " [0.03443223]\n",
      " [0.03443223]\n",
      " [0.03443223]\n",
      " [0.03443223]\n",
      " [0.03443223]\n",
      " [0.03443223]\n",
      " [0.03443223]\n",
      " [0.03443223]\n",
      " [0.03443223]\n",
      " [0.03443223]\n",
      " [0.03443223]\n",
      " [0.03443223]\n",
      " [0.03443223]\n",
      " [0.03443223]\n",
      " [0.03443223]\n",
      " [0.03443223]\n",
      " [0.03443223]\n",
      " [0.03443223]\n",
      " [0.03443223]\n",
      " [0.03443223]\n",
      " [0.03443223]\n",
      " [0.03443223]\n",
      " [0.03443223]\n",
      " [0.03443223]\n",
      " [0.03443223]\n",
      " [0.03443223]\n",
      " [0.03443223]] \n",
      " Y:  [[0.03443223]\n",
      " [0.03443223]\n",
      " [0.03443223]\n",
      " [0.03443223]\n",
      " [0.03443223]\n",
      " [0.03443223]\n",
      " [0.03443223]]\n",
      "[[0.04175824]\n",
      " [0.04175824]\n",
      " [0.04175824]\n",
      " [0.04175824]\n",
      " [0.04029304]\n",
      " [0.04029304]\n",
      " [0.03882784]\n",
      " [0.03882784]\n",
      " [0.03882784]\n",
      " [0.03882784]\n",
      " [0.03882784]\n",
      " [0.03736264]\n",
      " [0.03736264]\n",
      " [0.03736264]\n",
      " [0.03736264]\n",
      " [0.03736264]\n",
      " [0.03736264]\n",
      " [0.03736264]\n",
      " [0.03663004]\n",
      " [0.03663004]\n",
      " [0.03663004]\n",
      " [0.03663004]\n",
      " [0.03663004]\n",
      " [0.03663004]\n",
      " [0.03663004]\n",
      " [0.03663004]\n",
      " [0.03663004]\n",
      " [0.03663004]\n",
      " [0.03663004]\n",
      " [0.03663004]\n",
      " [0.03663004]\n",
      " [0.03663004]\n",
      " [0.03443223]\n",
      " [0.03443223]\n",
      " [0.03443223]\n",
      " [0.03443223]\n",
      " [0.03443223]\n",
      " [0.03443223]\n",
      " [0.03443223]\n",
      " [0.03443223]\n",
      " [0.03443223]\n",
      " [0.03443223]\n",
      " [0.03443223]\n",
      " [0.03443223]\n",
      " [0.03443223]\n",
      " [0.03443223]\n",
      " [0.03443223]\n",
      " [0.03443223]\n",
      " [0.03443223]\n",
      " [0.03443223]\n",
      " [0.03443223]\n",
      " [0.03443223]\n",
      " [0.03443223]\n",
      " [0.03443223]\n",
      " [0.03443223]\n",
      " [0.14285714]\n",
      " [0.14285714]\n",
      " [0.14285714]\n",
      " [0.14285714]\n",
      " [0.14285714]\n",
      " [0.03443223]\n",
      " [0.03443223]\n",
      " [0.03443223]\n",
      " [0.03443223]\n",
      " [0.03443223]\n",
      " [0.03443223]\n",
      " [0.03443223]\n",
      " [0.03443223]\n",
      " [0.03443223]\n",
      " [0.03443223]\n",
      " [0.03443223]\n",
      " [0.03443223]\n",
      " [0.03443223]\n",
      " [0.03443223]\n",
      " [0.03443223]\n",
      " [0.03443223]\n",
      " [0.03443223]\n",
      " [0.03443223]\n",
      " [0.03443223]\n",
      " [0.03443223]\n",
      " [0.03443223]\n",
      " [0.03443223]\n",
      " [0.03443223]\n",
      " [0.03443223]\n",
      " [0.03443223]\n",
      " [0.03443223]\n",
      " [0.03443223]\n",
      " [0.03443223]\n",
      " [0.03443223]\n",
      " [0.03443223]\n",
      " [0.03443223]\n",
      " [0.03443223]\n",
      " [0.03443223]\n",
      " [0.03443223]\n",
      " [0.03443223]\n",
      " [0.03443223]\n",
      " [0.03443223]\n",
      " [0.03443223]\n",
      " [0.03443223]\n",
      " [0.03443223]\n",
      " [0.03443223]\n",
      " [0.03443223]\n",
      " [0.03443223]\n",
      " [0.03443223]\n",
      " [0.03443223]\n",
      " [0.03443223]\n",
      " [0.03443223]\n",
      " [0.03443223]\n",
      " [0.03443223]\n",
      " [0.03443223]\n",
      " [0.03443223]\n",
      " [0.03443223]\n",
      " [0.03443223]\n",
      " [0.03443223]\n",
      " [0.03443223]\n",
      " [0.03443223]\n",
      " [0.03443223]\n",
      " [0.03443223]\n",
      " [0.03443223]\n",
      " [0.03443223]\n",
      " [0.03443223]\n",
      " [0.03443223]\n",
      " [0.03443223]\n",
      " [0.03443223]\n",
      " [0.03443223]\n",
      " [0.03443223]\n",
      " [0.03443223]\n",
      " [0.03443223]\n",
      " [0.03443223]\n",
      " [0.03443223]\n",
      " [0.03443223]\n",
      " [0.03443223]\n",
      " [0.03443223]\n",
      " [0.03443223]\n",
      " [0.03443223]\n",
      " [0.03443223]\n",
      " [0.03443223]\n",
      " [0.03443223]\n",
      " [0.03443223]\n",
      " [0.03443223]\n",
      " [0.03443223]\n",
      " [0.03443223]\n",
      " [0.03443223]\n",
      " [0.03443223]\n",
      " [0.03443223]\n",
      " [0.03443223]\n",
      " [0.03443223]\n",
      " [0.03443223]\n",
      " [0.03443223]\n",
      " [0.03443223]\n",
      " [0.03443223]\n",
      " [0.03443223]\n",
      " [0.03443223]\n",
      " [0.03443223]\n",
      " [0.03443223]\n",
      " [0.03443223]\n",
      " [0.03443223]\n",
      " [0.03443223]\n",
      " [0.03443223]\n",
      " [0.03443223]\n",
      " [0.03443223]\n",
      " [0.03443223]\n",
      " [0.03443223]\n",
      " [0.03443223]\n",
      " [0.03443223]\n",
      " [0.03443223]\n",
      " [0.03443223]\n",
      " [0.03443223]\n",
      " [0.03443223]\n",
      " [0.03443223]\n",
      " [0.03443223]\n",
      " [0.03443223]\n",
      " [0.03443223]\n",
      " [0.03443223]\n",
      " [0.03443223]\n",
      " [0.03443223]\n",
      " [0.03443223]\n",
      " [0.03443223]\n",
      " [0.03443223]\n",
      " [0.03443223]] \n",
      " Y:  [[0.03443223]\n",
      " [0.03443223]\n",
      " [0.03443223]\n",
      " [0.03443223]\n",
      " [0.03443223]\n",
      " [0.03443223]\n",
      " [0.03443223]]\n",
      "[[0.04175824]\n",
      " [0.04175824]\n",
      " [0.04175824]\n",
      " [0.04029304]\n",
      " [0.04029304]\n",
      " [0.03882784]\n",
      " [0.03882784]\n",
      " [0.03882784]\n",
      " [0.03882784]\n",
      " [0.03882784]\n",
      " [0.03736264]\n",
      " [0.03736264]\n",
      " [0.03736264]\n",
      " [0.03736264]\n",
      " [0.03736264]\n",
      " [0.03736264]\n",
      " [0.03736264]\n",
      " [0.03663004]\n",
      " [0.03663004]\n",
      " [0.03663004]\n",
      " [0.03663004]\n",
      " [0.03663004]\n",
      " [0.03663004]\n",
      " [0.03663004]\n",
      " [0.03663004]\n",
      " [0.03663004]\n",
      " [0.03663004]\n",
      " [0.03663004]\n",
      " [0.03663004]\n",
      " [0.03663004]\n",
      " [0.03663004]\n",
      " [0.03443223]\n",
      " [0.03443223]\n",
      " [0.03443223]\n",
      " [0.03443223]\n",
      " [0.03443223]\n",
      " [0.03443223]\n",
      " [0.03443223]\n",
      " [0.03443223]\n",
      " [0.03443223]\n",
      " [0.03443223]\n",
      " [0.03443223]\n",
      " [0.03443223]\n",
      " [0.03443223]\n",
      " [0.03443223]\n",
      " [0.03443223]\n",
      " [0.03443223]\n",
      " [0.03443223]\n",
      " [0.03443223]\n",
      " [0.03443223]\n",
      " [0.03443223]\n",
      " [0.03443223]\n",
      " [0.03443223]\n",
      " [0.03443223]\n",
      " [0.14285714]\n",
      " [0.14285714]\n",
      " [0.14285714]\n",
      " [0.14285714]\n",
      " [0.14285714]\n",
      " [0.03443223]\n",
      " [0.03443223]\n",
      " [0.03443223]\n",
      " [0.03443223]\n",
      " [0.03443223]\n",
      " [0.03443223]\n",
      " [0.03443223]\n",
      " [0.03443223]\n",
      " [0.03443223]\n",
      " [0.03443223]\n",
      " [0.03443223]\n",
      " [0.03443223]\n",
      " [0.03443223]\n",
      " [0.03443223]\n",
      " [0.03443223]\n",
      " [0.03443223]\n",
      " [0.03443223]\n",
      " [0.03443223]\n",
      " [0.03443223]\n",
      " [0.03443223]\n",
      " [0.03443223]\n",
      " [0.03443223]\n",
      " [0.03443223]\n",
      " [0.03443223]\n",
      " [0.03443223]\n",
      " [0.03443223]\n",
      " [0.03443223]\n",
      " [0.03443223]\n",
      " [0.03443223]\n",
      " [0.03443223]\n",
      " [0.03443223]\n",
      " [0.03443223]\n",
      " [0.03443223]\n",
      " [0.03443223]\n",
      " [0.03443223]\n",
      " [0.03443223]\n",
      " [0.03443223]\n",
      " [0.03443223]\n",
      " [0.03443223]\n",
      " [0.03443223]\n",
      " [0.03443223]\n",
      " [0.03443223]\n",
      " [0.03443223]\n",
      " [0.03443223]\n",
      " [0.03443223]\n",
      " [0.03443223]\n",
      " [0.03443223]\n",
      " [0.03443223]\n",
      " [0.03443223]\n",
      " [0.03443223]\n",
      " [0.03443223]\n",
      " [0.03443223]\n",
      " [0.03443223]\n",
      " [0.03443223]\n",
      " [0.03443223]\n",
      " [0.03443223]\n",
      " [0.03443223]\n",
      " [0.03443223]\n",
      " [0.03443223]\n",
      " [0.03443223]\n",
      " [0.03443223]\n",
      " [0.03443223]\n",
      " [0.03443223]\n",
      " [0.03443223]\n",
      " [0.03443223]\n",
      " [0.03443223]\n",
      " [0.03443223]\n",
      " [0.03443223]\n",
      " [0.03443223]\n",
      " [0.03443223]\n",
      " [0.03443223]\n",
      " [0.03443223]\n",
      " [0.03443223]\n",
      " [0.03443223]\n",
      " [0.03443223]\n",
      " [0.03443223]\n",
      " [0.03443223]\n",
      " [0.03443223]\n",
      " [0.03443223]\n",
      " [0.03443223]\n",
      " [0.03443223]\n",
      " [0.03443223]\n",
      " [0.03443223]\n",
      " [0.03443223]\n",
      " [0.03443223]\n",
      " [0.03443223]\n",
      " [0.03443223]\n",
      " [0.03443223]\n",
      " [0.03443223]\n",
      " [0.03443223]\n",
      " [0.03443223]\n",
      " [0.03443223]\n",
      " [0.03443223]\n",
      " [0.03443223]\n",
      " [0.03443223]\n",
      " [0.03443223]\n",
      " [0.03443223]\n",
      " [0.03443223]\n",
      " [0.03443223]\n",
      " [0.03443223]\n",
      " [0.03443223]\n",
      " [0.03443223]\n",
      " [0.03443223]\n",
      " [0.03443223]\n",
      " [0.03443223]\n",
      " [0.03443223]\n",
      " [0.03443223]\n",
      " [0.03443223]\n",
      " [0.03443223]\n",
      " [0.03443223]\n",
      " [0.03443223]\n",
      " [0.03443223]\n",
      " [0.03443223]\n",
      " [0.03443223]\n",
      " [0.03443223]\n",
      " [0.03443223]\n",
      " [0.03443223]\n",
      " [0.03443223]\n",
      " [0.03443223]\n",
      " [0.03443223]\n",
      " [0.03443223]] \n",
      " Y:  [[0.03443223]\n",
      " [0.03443223]\n",
      " [0.03443223]\n",
      " [0.03443223]\n",
      " [0.03443223]\n",
      " [0.03443223]\n",
      " [0.03443223]]\n"
     ]
    }
   ],
   "source": [
    "# choose a number of time steps\n",
    "n_steps_in, n_steps_out = 180, 7\n",
    "n_features = 1\n",
    "\n",
    "# split the data into samples\n",
    "X, y = split_sequence(scaled_df, n_steps_in, n_steps_out)\n",
    "\n",
    "# print the first 3 samples for trainX and trainY\n",
    "for i in range(3):\n",
    "    print(X[i], \"\\n Y: \"  ,y[i])"
   ]
  },
  {
   "cell_type": "code",
   "execution_count": 14,
   "metadata": {},
   "outputs": [
    {
     "data": {
      "text/plain": [
       "((8444, 180, 1), (8444, 7, 1))"
      ]
     },
     "execution_count": 14,
     "metadata": {},
     "output_type": "execute_result"
    }
   ],
   "source": [
    "X.shape, y.shape"
   ]
  },
  {
   "cell_type": "code",
   "execution_count": 15,
   "metadata": {},
   "outputs": [],
   "source": [
    "X_train, X_valid, X_test = X[:int(len(X)-14),], X[int(len(X)-14):int(len(X)-7),], X[int(len(X)-7):,]\n",
    "y_train, y_valid, y_test = y[:int(len(X)-14),], y[int(len(X)-14):int(len(X)-7),], y[int(len(X)-7):,]"
   ]
  },
  {
   "cell_type": "code",
   "execution_count": 16,
   "metadata": {},
   "outputs": [
    {
     "data": {
      "text/plain": [
       "((8430, 180, 1), (7, 180, 1), (7, 180, 1), (8430, 7, 1), (7, 7, 1), (7, 7, 1))"
      ]
     },
     "execution_count": 16,
     "metadata": {},
     "output_type": "execute_result"
    }
   ],
   "source": [
    "X_train.shape, X_valid.shape, X_test.shape, y_train.shape, y_valid.shape, y_test.shape"
   ]
  },
  {
   "cell_type": "code",
   "execution_count": 17,
   "metadata": {},
   "outputs": [],
   "source": [
    "# There are 30 (n_steps_out) predictions for each data point. \n",
    "# Thus, we need to take the predicitons on each 'n_steps_out' step \n",
    "#X_valid, y_valid = X_valid[:,:n_steps_out], y_valid[:,:n_steps_out]\n",
    "#X_test, y_test = X_test[:,:n_steps_out], y_test[:,:n_steps_out]"
   ]
  },
  {
   "cell_type": "code",
   "execution_count": 18,
   "metadata": {},
   "outputs": [],
   "source": [
    "#X_train.shape, X_valid.shape, X_test.shape, y_train.shape, y_valid.shape, y_test.shape"
   ]
  },
  {
   "cell_type": "code",
   "execution_count": 37,
   "metadata": {},
   "outputs": [
    {
     "name": "stdout",
     "output_type": "stream",
     "text": [
      "Model: \"sequential_3\"\n",
      "_________________________________________________________________\n",
      "Layer (type)                 Output Shape              Param #   \n",
      "=================================================================\n",
      "lstm_4 (LSTM)                (None, 30)                3840      \n",
      "_________________________________________________________________\n",
      "repeat_vector_4 (RepeatVecto (None, 7, 30)             0         \n",
      "_________________________________________________________________\n",
      "dropout_4 (Dropout)          (None, 7, 30)             0         \n",
      "_________________________________________________________________\n",
      "dense_6 (Dense)              (None, 7, 25)             775       \n",
      "_________________________________________________________________\n",
      "dense_7 (Dense)              (None, 7, 1)              26        \n",
      "=================================================================\n",
      "Total params: 4,641\n",
      "Trainable params: 4,641\n",
      "Non-trainable params: 0\n",
      "_________________________________________________________________\n",
      "None\n"
     ]
    }
   ],
   "source": [
    "# define model\n",
    "model_many_to_many = Sequential()\n",
    "model_many_to_many.add(LSTM(30, activation='relu', input_shape=(n_steps_in, n_features)))\n",
    "model_many_to_many.add(RepeatVector(n_steps_out))\n",
    "model_many_to_many.add(Dropout(0.2))\n",
    "#model_many_to_many.add(LSTM(5, activation='relu', input_shape=(n_steps_in, n_features)))\n",
    "#model_many_to_many.add(RepeatVector(n_steps_out))\n",
    "#model_many_to_many.add(Dropout(0.2))\n",
    "#model_many_to_many.add(Dense(25))\n",
    "model_many_to_many.add(Dense(25))\n",
    "model_many_to_many.add(Dense(1))\n",
    "model_many_to_many.compile(optimizer='adam', loss='mse')\n",
    "print(model_many_to_many.summary())"
   ]
  },
  {
   "cell_type": "code",
   "execution_count": 38,
   "metadata": {},
   "outputs": [],
   "source": [
    "my_callback1 = ModelCheckpoint('best_score_30_days.pt', verbose=1, save_best_only=True, mode='min', monitor='val_loss')\n",
    "my_callback2 = EarlyStopping(patience=2)\n",
    "\n",
    "my_callbacks = [my_callback1, my_callback2]"
   ]
  },
  {
   "cell_type": "code",
   "execution_count": 39,
   "metadata": {
    "scrolled": true
   },
   "outputs": [
    {
     "name": "stdout",
     "output_type": "stream",
     "text": [
      "Train on 8430 samples, validate on 7 samples\n",
      "Epoch 1/5\n",
      "8430/8430 [==============================] - 38s 5ms/step - loss: 0.0057 - val_loss: 4.8898e-04\n",
      "\n",
      "Epoch 00001: val_loss improved from inf to 0.00049, saving model to best_score_30_days.pt\n",
      "Epoch 2/5\n",
      "8430/8430 [==============================] - 39s 5ms/step - loss: 0.0017 - val_loss: 1.4844e-04\n",
      "\n",
      "Epoch 00002: val_loss improved from 0.00049 to 0.00015, saving model to best_score_30_days.pt\n",
      "Epoch 3/5\n",
      "8430/8430 [==============================] - 39s 5ms/step - loss: 0.0015 - val_loss: 5.5044e-04\n",
      "\n",
      "Epoch 00003: val_loss did not improve from 0.00015\n",
      "Epoch 4/5\n",
      "8430/8430 [==============================] - 38s 5ms/step - loss: 0.0015 - val_loss: 1.4805e-04\n",
      "\n",
      "Epoch 00004: val_loss improved from 0.00015 to 0.00015, saving model to best_score_30_days.pt\n",
      "Epoch 5/5\n",
      "8430/8430 [==============================] - 39s 5ms/step - loss: 0.0015 - val_loss: 6.0089e-04\n",
      "\n",
      "Epoch 00005: val_loss did not improve from 0.00015\n"
     ]
    }
   ],
   "source": [
    "history = model_many_to_many.fit(X_train, y_train,\n",
    "                                 epochs=5,\n",
    "                                 callbacks=my_callbacks,\n",
    "                                 verbose=1,\n",
    "                                 validation_data=(X_valid, y_valid))"
   ]
  },
  {
   "cell_type": "code",
   "execution_count": 40,
   "metadata": {},
   "outputs": [
    {
     "data": {
      "image/png": "[encoded data removed]",
      "text/plain": [
       "<Figure size 432x288 with 1 Axes>"
      ]
     },
     "metadata": {
      "needs_background": "light"
     },
     "output_type": "display_data"
    }
   ],
   "source": [
    "# plot train and validation loss\n",
    "plt.plot(history.history['loss'])\n",
    "plt.plot(history.history['val_loss'])\n",
    "plt.title('model train vs validation loss')\n",
    "plt.ylabel('loss')\n",
    "plt.xlabel('epoch')\n",
    "plt.legend(['train', 'validation'], loc='upper right')\n",
    "plt.show()"
   ]
  },
  {
   "cell_type": "code",
   "execution_count": 41,
   "metadata": {},
   "outputs": [],
   "source": [
    "# make predictions\n",
    "yhat = model_many_to_many.predict(X_test, verbose=0)"
   ]
  },
  {
   "cell_type": "code",
   "execution_count": 42,
   "metadata": {},
   "outputs": [],
   "source": [
    "yhat = yhat.reshape(yhat.shape[0]*yhat.shape[1],1)\n",
    "y_test = y_test.reshape(y_test.shape[0]*y_test.shape[1],1)"
   ]
  },
  {
   "cell_type": "code",
   "execution_count": 43,
   "metadata": {},
   "outputs": [
    {
     "data": {
      "text/plain": [
       "195.64935014283625"
      ]
     },
     "execution_count": 43,
     "metadata": {},
     "output_type": "execute_result"
    }
   ],
   "source": [
    "y_actual = scaler.inverse_transform(y_test)\n",
    "y_pred = scaler.inverse_transform(yhat)\n",
    "np.sqrt(mean_squared_error(y_actual, y_pred))"
   ]
  },
  {
   "cell_type": "code",
   "execution_count": 44,
   "metadata": {},
   "outputs": [],
   "source": [
    "y_train_pred = model_many_to_many.predict(X_train)\n",
    "y_train_pred = scaler.inverse_transform(y_train_pred.reshape(y_train_pred.shape[0]*y_train_pred.shape[1],1))"
   ]
  },
  {
   "cell_type": "code",
   "execution_count": 45,
   "metadata": {},
   "outputs": [],
   "source": [
    "y_valid_pred = model_many_to_many.predict(X_valid)\n",
    "y_valid_pred = scaler.inverse_transform(y_valid_pred.reshape(y_valid_pred.shape[0]*y_valid_pred.shape[1],1))"
   ]
  },
  {
   "cell_type": "code",
   "execution_count": 46,
   "metadata": {},
   "outputs": [
    {
     "data": {
      "image/png": "[encoded data removed]",
      "text/plain": [
       "<Figure size 432x288 with 1 Axes>"
      ]
     },
     "metadata": {
      "needs_background": "light"
     },
     "output_type": "display_data"
    }
   ],
   "source": [
    "# plot the test data and predicitons\n",
    "plt.plot(y_actual[::7])\n",
    "plt.plot(y_pred[::7])\n",
    "plt.show()"
   ]
  },
  {
   "cell_type": "code",
   "execution_count": 47,
   "metadata": {},
   "outputs": [
    {
     "data": {
      "text/plain": [
       "(array([12300.]), array([12147.049], dtype=float32))"
      ]
     },
     "execution_count": 47,
     "metadata": {},
     "output_type": "execute_result"
    }
   ],
   "source": [
    "y_actual[::7][-1], y_pred[::7][-1]"
   ]
  },
  {
   "cell_type": "code",
   "execution_count": 48,
   "metadata": {},
   "outputs": [
    {
     "data": {
      "image/png": "[encoded data removed]",
      "text/plain": [
       "<Figure size 1152x576 with 1 Axes>"
      ]
     },
     "metadata": {
      "needs_background": "light"
     },
     "output_type": "display_data"
    }
   ],
   "source": [
    "#plot the data\n",
    "train_actual = scaler.inverse_transform(y_train.reshape(y_train.shape[0]*y_train.shape[1],1))\n",
    "valid_actual = scaler.inverse_transform(y_valid.reshape(y_valid.shape[0]*y_valid.shape[1],1))\n",
    "test_actual = scaler.inverse_transform(y_test.reshape(y_test.shape[0]*y_test.shape[1],1))\n",
    "all_actual = np.concatenate([train_actual, valid_actual, test_actual], axis=0)\n",
    "all_prediction = np.concatenate([y_train_pred, y_valid_pred, y_pred], axis=0)\n",
    "#valid['Predictions'] = predictions\n",
    "#Visualize the Plot\n",
    "plt.figure(figsize=(16,8))\n",
    "plt.title('Model')\n",
    "plt.xlabel('Days', fontsize=18)\n",
    "plt.ylabel('Closing Price in (MKD)', fontsize=18)\n",
    "plt.plot(all_actual)\n",
    "plt.plot(all_prediction)\n",
    "plt.legend(['Train','Val'], loc= 'lower right')\n",
    "plt.show()"
   ]
  },
  {
   "cell_type": "code",
   "execution_count": 49,
   "metadata": {},
   "outputs": [
    {
     "name": "stdout",
     "output_type": "stream",
     "text": [
      "Train RMSE: 255.00 RMSE\n",
      "Validation RMSE: 334.60 RMSE\n",
      "Test RMSE: 195.65 RMSE\n"
     ]
    }
   ],
   "source": [
    "# calculate root mean squared error on the train, validation and test data\n",
    "train_score = np.sqrt(mean_squared_error(train_actual, y_train_pred))\n",
    "print('Train RMSE: %.2f RMSE' % (train_score))\n",
    "valid_score = np.sqrt(mean_squared_error(valid_actual, y_valid_pred))\n",
    "print('Validation RMSE: %.2f RMSE' % (valid_score))\n",
    "test_score = np.sqrt(mean_squared_error(test_actual, y_pred))\n",
    "print('Test RMSE: %.2f RMSE' % (test_score))"
   ]
  },
  {
   "cell_type": "code",
   "execution_count": 72,
   "metadata": {},
   "outputs": [
    {
     "name": "stdout",
     "output_type": "stream",
     "text": [
      "The difference between actual and predicted price on 7th test day is 152.951171875\n"
     ]
    }
   ],
   "source": [
    "p = y_pred[::7][-1].item()\n",
    "a = test_actual[::7][-1].item()\n",
    "print('The difference between actual and predicted price on 7th test day is', a-p)"
   ]
  },
  {
   "cell_type": "code",
   "execution_count": 75,
   "metadata": {},
   "outputs": [],
   "source": [
    "#create new data frame\n",
    "new_df= close_price"
   ]
  },
  {
   "cell_type": "code",
   "execution_count": 77,
   "metadata": {},
   "outputs": [],
   "source": [
    "#Get last 180 days closing price\n",
    "last_180_days= new_df[-180:]"
   ]
  },
  {
   "cell_type": "code",
   "execution_count": 80,
   "metadata": {},
   "outputs": [],
   "source": [
    "#scale the data\n",
    "last_180_days_scaled = scaler.transform(last_180_days.reshape(-1,1))"
   ]
  },
  {
   "cell_type": "code",
   "execution_count": 81,
   "metadata": {},
   "outputs": [],
   "source": [
    "#create an empty list\n",
    "X_test = []\n",
    "#append the last 60 days prices to X_test\n",
    "X_test.append(last_180_days_scaled)"
   ]
  },
  {
   "cell_type": "code",
   "execution_count": 83,
   "metadata": {},
   "outputs": [],
   "source": [
    "#lets convert X_test to a Numpy array\n",
    "X_test = np.array(X_test)"
   ]
  },
  {
   "cell_type": "code",
   "execution_count": 84,
   "metadata": {},
   "outputs": [],
   "source": [
    "#Reshape the data to 3 dimentional\n",
    "X_test= np.reshape(X_test,(X_test.shape[0],X_test.shape[1],1))"
   ]
  },
  {
   "cell_type": "code",
   "execution_count": 85,
   "metadata": {},
   "outputs": [],
   "source": [
    "#Get the predicted scaled price\n",
    "pred_price= model_many_to_many.predict(X_test)"
   ]
  },
  {
   "cell_type": "code",
   "execution_count": 88,
   "metadata": {},
   "outputs": [
    {
     "data": {
      "text/plain": [
       "(1, 7, 1)"
      ]
     },
     "execution_count": 88,
     "metadata": {},
     "output_type": "execute_result"
    }
   ],
   "source": [
    "pred_price.shape"
   ]
  },
  {
   "cell_type": "code",
   "execution_count": 89,
   "metadata": {},
   "outputs": [],
   "source": [
    "#inverse Transform the Scaled data \n",
    "pred_price= scaler.inverse_transform(pred_price.reshape(pred_price.shape[0]*pred_price.shape[1],1))"
   ]
  },
  {
   "cell_type": "code",
   "execution_count": 102,
   "metadata": {},
   "outputs": [],
   "source": [
    "price = np.round(pred_price[-1].item(),0)"
   ]
  },
  {
   "cell_type": "code",
   "execution_count": 104,
   "metadata": {},
   "outputs": [
    {
     "name": "stdout",
     "output_type": "stream",
     "text": [
      "The price for ALK on 7th day will be:  12028.0\n"
     ]
    }
   ],
   "source": [
    "print(\"The price for ALK on 7th day will be: \",price)"
   ]
  }
 ],
 "metadata": {
  "kernelspec": {
   "display_name": "Python 3",
   "language": "python",
   "name": "python3"
  },
  "language_info": {
   "codemirror_mode": {
    "name": "ipython",
    "version": 3
   },
   "file_extension": ".py",
   "mimetype": "text/x-python",
   "name": "python",
   "nbconvert_exporter": "python",
   "pygments_lexer": "ipython3",
   "version": "3.7.3"
  }
 },
 "nbformat": 4,
 "nbformat_minor": 4
}
