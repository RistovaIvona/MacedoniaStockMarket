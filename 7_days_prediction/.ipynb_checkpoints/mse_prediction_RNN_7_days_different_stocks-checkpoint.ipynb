{
 "cells": [
  {
   "cell_type": "code",
   "execution_count": 1,
   "metadata": {},
   "outputs": [
    {
     "name": "stderr",
     "output_type": "stream",
     "text": [
      "Using TensorFlow backend.\n"
     ]
    }
   ],
   "source": [
    "import pandas as pd\n",
    "import numpy as np\n",
    "import scipy as sp\n",
    "import matplotlib.pyplot as plt\n",
    "import seaborn as sns\n",
    "import math\n",
    "import itertools\n",
    "import regex as re\n",
    "\n",
    "import xgboost as xgb\n",
    "from sklearn.ensemble import RandomForestRegressor\n",
    "from sklearn.preprocessing import MinMaxScaler\n",
    "from sklearn.metrics import mean_squared_error, mean_absolute_error\n",
    "from sklearn.preprocessing import StandardScaler, Normalizer, MinMaxScaler, normalize\n",
    "from sklearn.model_selection import train_test_split, GridSearchCV\n",
    "\n",
    "from keras.callbacks import ModelCheckpoint, EarlyStopping\n",
    "from keras.models import Sequential\n",
    "from keras.layers import Dense, LSTM, SimpleRNN, Activation, Dropout, RepeatVector\n",
    "from keras.metrics import RootMeanSquaredError\n",
    "%matplotlib inline"
   ]
  },
  {
   "cell_type": "markdown",
   "metadata": {},
   "source": [
    "### Loading Preprocessed Dataset"
   ]
  },
  {
   "cell_type": "code",
   "execution_count": 2,
   "metadata": {},
   "outputs": [],
   "source": [
    "df = pd.read_csv('C:/Users/Gj/Documents/Git/macedonian_stock_exchange_market/tmp/mse_raw.csv', \n",
    "                 parse_dates=['date', 'start_date'], index_col='Unnamed: 0')"
   ]
  },
  {
   "cell_type": "code",
   "execution_count": 3,
   "metadata": {},
   "outputs": [
    {
     "data": {
      "text/html": [
       "<div>\n",
       "<style scoped>\n",
       "    .dataframe tbody tr th:only-of-type {\n",
       "        vertical-align: middle;\n",
       "    }\n",
       "\n",
       "    .dataframe tbody tr th {\n",
       "        vertical-align: top;\n",
       "    }\n",
       "\n",
       "    .dataframe thead th {\n",
       "        text-align: right;\n",
       "    }\n",
       "</style>\n",
       "<table border=\"1\" class=\"dataframe\">\n",
       "  <thead>\n",
       "    <tr style=\"text-align: right;\">\n",
       "      <th></th>\n",
       "      <th>stock_id</th>\n",
       "      <th>date</th>\n",
       "      <th>open</th>\n",
       "      <th>high</th>\n",
       "      <th>low</th>\n",
       "      <th>average</th>\n",
       "      <th>close</th>\n",
       "      <th>volume</th>\n",
       "      <th>quantity</th>\n",
       "      <th>change %</th>\n",
       "      <th>volume total</th>\n",
       "      <th>start_date</th>\n",
       "    </tr>\n",
       "  </thead>\n",
       "  <tbody>\n",
       "    <tr>\n",
       "      <th>0</th>\n",
       "      <td>ALK</td>\n",
       "      <td>1997-01-09</td>\n",
       "      <td>1070.0</td>\n",
       "      <td>1070.0</td>\n",
       "      <td>1070.0</td>\n",
       "      <td>1070.0</td>\n",
       "      <td>1070.0</td>\n",
       "      <td>279270.0</td>\n",
       "      <td>261.0</td>\n",
       "      <td>0.0</td>\n",
       "      <td>279270.0</td>\n",
       "      <td>1997-01-09</td>\n",
       "    </tr>\n",
       "    <tr>\n",
       "      <th>22</th>\n",
       "      <td>ALK</td>\n",
       "      <td>1997-01-10</td>\n",
       "      <td>1070.0</td>\n",
       "      <td>1070.0</td>\n",
       "      <td>1070.0</td>\n",
       "      <td>1070.0</td>\n",
       "      <td>1070.0</td>\n",
       "      <td>0.0</td>\n",
       "      <td>0.0</td>\n",
       "      <td>0.0</td>\n",
       "      <td>0.0</td>\n",
       "      <td>1997-01-09</td>\n",
       "    </tr>\n",
       "    <tr>\n",
       "      <th>44</th>\n",
       "      <td>ALK</td>\n",
       "      <td>1997-01-11</td>\n",
       "      <td>1070.0</td>\n",
       "      <td>1070.0</td>\n",
       "      <td>1070.0</td>\n",
       "      <td>1070.0</td>\n",
       "      <td>1070.0</td>\n",
       "      <td>0.0</td>\n",
       "      <td>0.0</td>\n",
       "      <td>0.0</td>\n",
       "      <td>0.0</td>\n",
       "      <td>1997-01-09</td>\n",
       "    </tr>\n",
       "    <tr>\n",
       "      <th>66</th>\n",
       "      <td>ALK</td>\n",
       "      <td>1997-01-12</td>\n",
       "      <td>1070.0</td>\n",
       "      <td>1070.0</td>\n",
       "      <td>1070.0</td>\n",
       "      <td>1070.0</td>\n",
       "      <td>1070.0</td>\n",
       "      <td>0.0</td>\n",
       "      <td>0.0</td>\n",
       "      <td>0.0</td>\n",
       "      <td>0.0</td>\n",
       "      <td>1997-01-09</td>\n",
       "    </tr>\n",
       "    <tr>\n",
       "      <th>88</th>\n",
       "      <td>ALK</td>\n",
       "      <td>1997-01-13</td>\n",
       "      <td>1070.0</td>\n",
       "      <td>1070.0</td>\n",
       "      <td>1070.0</td>\n",
       "      <td>1070.0</td>\n",
       "      <td>1070.0</td>\n",
       "      <td>0.0</td>\n",
       "      <td>0.0</td>\n",
       "      <td>0.0</td>\n",
       "      <td>0.0</td>\n",
       "      <td>1997-01-09</td>\n",
       "    </tr>\n",
       "  </tbody>\n",
       "</table>\n",
       "</div>"
      ],
      "text/plain": [
       "   stock_id       date    open    high     low  average   close    volume  \\\n",
       "0       ALK 1997-01-09  1070.0  1070.0  1070.0   1070.0  1070.0  279270.0   \n",
       "22      ALK 1997-01-10  1070.0  1070.0  1070.0   1070.0  1070.0       0.0   \n",
       "44      ALK 1997-01-11  1070.0  1070.0  1070.0   1070.0  1070.0       0.0   \n",
       "66      ALK 1997-01-12  1070.0  1070.0  1070.0   1070.0  1070.0       0.0   \n",
       "88      ALK 1997-01-13  1070.0  1070.0  1070.0   1070.0  1070.0       0.0   \n",
       "\n",
       "    quantity  change %  volume total start_date  \n",
       "0      261.0       0.0      279270.0 1997-01-09  \n",
       "22       0.0       0.0           0.0 1997-01-09  \n",
       "44       0.0       0.0           0.0 1997-01-09  \n",
       "66       0.0       0.0           0.0 1997-01-09  \n",
       "88       0.0       0.0           0.0 1997-01-09  "
      ]
     },
     "execution_count": 3,
     "metadata": {},
     "output_type": "execute_result"
    }
   ],
   "source": [
    "df.head(5)"
   ]
  },
  {
   "cell_type": "code",
   "execution_count": 4,
   "metadata": {},
   "outputs": [],
   "source": [
    "stocks = ['ALK', 'GRNT', 'KMB', 'MPT']"
   ]
  },
  {
   "cell_type": "markdown",
   "metadata": {},
   "source": [
    "### setting RNN dataset for different  training, validation and test"
   ]
  },
  {
   "cell_type": "markdown",
   "metadata": {},
   "source": [
    "### split dataset"
   ]
  },
  {
   "cell_type": "code",
   "execution_count": 5,
   "metadata": {},
   "outputs": [],
   "source": [
    "new_df = df[['stock_id', 'close']][df['stock_id'].isin(stocks)]"
   ]
  },
  {
   "cell_type": "code",
   "execution_count": 6,
   "metadata": {},
   "outputs": [],
   "source": [
    "#Create a new dataframe with only closing price column\n",
    "close_price = []\n",
    "for stock in stocks:\n",
    "    sequence_by_stock = new_df['close'][new_df.stock_id == stock]\n",
    "    #Convert the dataframe into numpy array and make list of each stock\n",
    "    close_price.append(sequence_by_stock.values)"
   ]
  },
  {
   "cell_type": "code",
   "execution_count": 7,
   "metadata": {},
   "outputs": [
    {
     "data": {
      "text/plain": [
       "4"
      ]
     },
     "execution_count": 7,
     "metadata": {},
     "output_type": "execute_result"
    }
   ],
   "source": [
    "len(close_price)"
   ]
  },
  {
   "cell_type": "code",
   "execution_count": 8,
   "metadata": {},
   "outputs": [],
   "source": [
    "scaler = MinMaxScaler(feature_range=(0, 1))"
   ]
  },
  {
   "cell_type": "code",
   "execution_count": 9,
   "metadata": {},
   "outputs": [],
   "source": [
    "scaled_df = []\n",
    "for i in range(4):\n",
    "    scaled_df.append(scaler.fit_transform(close_price[i].reshape(len(close_price[i]), 1)))"
   ]
  },
  {
   "cell_type": "markdown",
   "metadata": {},
   "source": [
    "### univariate sequence many to many"
   ]
  },
  {
   "cell_type": "code",
   "execution_count": 10,
   "metadata": {},
   "outputs": [],
   "source": [
    "# function that segments the data\n",
    "# split a univariate sequence into samples\n",
    "def split_sequence(sequence, n_steps_in, n_steps_out):\n",
    "    X, y = list(), list()\n",
    "    for i in range(len(sequence)):\n",
    "        # find the end of this pattern\n",
    "        end_ix = i + n_steps_in\n",
    "        out_end_ix = end_ix + n_steps_out\n",
    "        # check if we are beyond the sequence\n",
    "        if out_end_ix > len(sequence):\n",
    "            break\n",
    "        # gather input and output parts of the pattern\n",
    "        seq_x, seq_y = sequence[i:end_ix], sequence[end_ix:out_end_ix]\n",
    "        X.append(seq_x)\n",
    "        y.append(seq_y)\n",
    "    return np.array(X), np.array(y)"
   ]
  },
  {
   "cell_type": "code",
   "execution_count": 11,
   "metadata": {},
   "outputs": [],
   "source": [
    "# choose a number of time steps\n",
    "n_steps_in, n_steps_out = 180, 7\n",
    "n_features = 1\n",
    "\n",
    "# split the data into samples\n",
    "X_list = []\n",
    "y_list = []\n",
    "for i in range(4):\n",
    "    X, y = split_sequence(scaled_df[i], n_steps_in, n_steps_out)\n",
    "    X_list.append(X)\n",
    "    y_list.append(y)\n",
    "\n",
    "\n",
    "    \n",
    "# print the first 3 samples for trainX and trainY\n",
    "#for i in range(3):\n",
    "#    print(X_list[i], \"\\n Y: \"  ,y_list[i])"
   ]
  },
  {
   "cell_type": "code",
   "execution_count": 12,
   "metadata": {},
   "outputs": [
    {
     "name": "stdout",
     "output_type": "stream",
     "text": [
      "(8444, 180, 1) (8444, 7, 1)\n",
      "(7422, 180, 1) (7422, 7, 1)\n",
      "(8318, 180, 1) (8318, 7, 1)\n",
      "(7949, 180, 1) (7949, 7, 1)\n"
     ]
    }
   ],
   "source": [
    " for i in range(4):\n",
    "        print(X_list[i].shape, y_list[i].shape)"
   ]
  },
  {
   "cell_type": "code",
   "execution_count": 13,
   "metadata": {},
   "outputs": [],
   "source": [
    "X_train_list = []\n",
    "y_train_list = []\n",
    "X_valid_list = []\n",
    "y_valid_list = []\n",
    "X_test_list = []\n",
    "y_test_list = []\n",
    "\n",
    "for i in range(4):\n",
    "    X_train, X_valid, X_test = X_list[i][:int(len(X_list[i])-14),], X_list[i][int(len(X_list[i])-14):int(len(X_list[i])-7),], X_list[i][int(len(X_list[i])-7):,]\n",
    "    y_train, y_valid, y_test = y_list[i][:int(len(X_list[i])-14),], y_list[i][int(len(X_list[i])-14):int(len(X_list[i])-7),], y_list[i][int(len(X_list[i])-7):,]\n",
    "    X_train_list.append(X_train), y_train_list.append(y_train)\n",
    "    X_valid_list.append(X_valid), y_valid_list.append(y_valid)\n",
    "    X_test_list.append(X_test), y_test_list.append(y_test)"
   ]
  },
  {
   "cell_type": "code",
   "execution_count": 14,
   "metadata": {},
   "outputs": [
    {
     "name": "stdout",
     "output_type": "stream",
     "text": [
      "(8430, 180, 1) (7, 180, 1) (7, 180, 1) (8430, 7, 1) (7, 7, 1) (7, 7, 1)\n",
      "(7408, 180, 1) (7, 180, 1) (7, 180, 1) (7408, 7, 1) (7, 7, 1) (7, 7, 1)\n",
      "(8304, 180, 1) (7, 180, 1) (7, 180, 1) (8304, 7, 1) (7, 7, 1) (7, 7, 1)\n",
      "(7935, 180, 1) (7, 180, 1) (7, 180, 1) (7935, 7, 1) (7, 7, 1) (7, 7, 1)\n"
     ]
    }
   ],
   "source": [
    "for i in range(4):\n",
    "    print(X_train_list[i].shape, X_valid_list[i].shape, X_test_list[i].shape, \n",
    "          y_train_list[i].shape, y_valid_list[i].shape, y_test_list[i].shape)"
   ]
  },
  {
   "cell_type": "code",
   "execution_count": 15,
   "metadata": {},
   "outputs": [
    {
     "name": "stdout",
     "output_type": "stream",
     "text": [
      "Model: \"sequential_1\"\n",
      "_________________________________________________________________\n",
      "Layer (type)                 Output Shape              Param #   \n",
      "=================================================================\n",
      "lstm_1 (LSTM)                (None, 30)                3840      \n",
      "_________________________________________________________________\n",
      "repeat_vector_1 (RepeatVecto (None, 7, 30)             0         \n",
      "_________________________________________________________________\n",
      "dropout_1 (Dropout)          (None, 7, 30)             0         \n",
      "_________________________________________________________________\n",
      "dense_1 (Dense)              (None, 7, 25)             775       \n",
      "_________________________________________________________________\n",
      "dense_2 (Dense)              (None, 7, 1)              26        \n",
      "=================================================================\n",
      "Total params: 4,641\n",
      "Trainable params: 4,641\n",
      "Non-trainable params: 0\n",
      "_________________________________________________________________\n",
      "None\n"
     ]
    }
   ],
   "source": [
    "# define model\n",
    "model_many_to_many = Sequential()\n",
    "model_many_to_many.add(LSTM(30, activation='relu', input_shape=(n_steps_in, n_features)))\n",
    "model_many_to_many.add(RepeatVector(n_steps_out))\n",
    "model_many_to_many.add(Dropout(0.2))\n",
    "#model_many_to_many.add(LSTM(5, activation='relu', input_shape=(n_steps_in, n_features)))\n",
    "#model_many_to_many.add(RepeatVector(n_steps_out))\n",
    "#model_many_to_many.add(Dropout(0.2))\n",
    "#model_many_to_many.add(Dense(25))\n",
    "model_many_to_many.add(Dense(25))\n",
    "model_many_to_many.add(Dense(1))\n",
    "model_many_to_many.compile(optimizer='adam', loss='mse')\n",
    "print(model_many_to_many.summary())"
   ]
  },
  {
   "cell_type": "code",
   "execution_count": 16,
   "metadata": {},
   "outputs": [],
   "source": [
    "my_callback1 = ModelCheckpoint('best_score_7_days.pt', verbose=1, save_best_only=True, mode='min', monitor='val_loss')\n",
    "my_callback2 = EarlyStopping(patience=2)\n",
    "\n",
    "my_callbacks = [my_callback1, my_callback2]"
   ]
  },
  {
   "cell_type": "code",
   "execution_count": 17,
   "metadata": {
    "scrolled": true
   },
   "outputs": [
    {
     "name": "stdout",
     "output_type": "stream",
     "text": [
      "Train on 8430 samples, validate on 7 samples\n",
      "Epoch 1/5\n",
      "8430/8430 [==============================] - 44s 5ms/step - loss: 0.0052 - val_loss: 7.1180e-04\n",
      "\n",
      "Epoch 00001: val_loss improved from inf to 0.00071, saving model to best_score_7_days.pt\n",
      "Epoch 2/5\n",
      "8430/8430 [==============================] - 36s 4ms/step - loss: 0.0017 - val_loss: 0.0031\n",
      "\n",
      "Epoch 00002: val_loss did not improve from 0.00071\n",
      "Epoch 3/5\n",
      "8430/8430 [==============================] - 36s 4ms/step - loss: 0.0016 - val_loss: 0.0019\n",
      "\n",
      "Epoch 00003: val_loss did not improve from 0.00071\n",
      "Train on 7408 samples, validate on 7 samples\n",
      "Epoch 1/5\n",
      "7408/7408 [==============================] - 32s 4ms/step - loss: 0.0010 - val_loss: 9.1572e-05\n",
      "\n",
      "Epoch 00001: val_loss improved from 0.00071 to 0.00009, saving model to best_score_7_days.pt\n",
      "Epoch 2/5\n",
      "7408/7408 [==============================] - 32s 4ms/step - loss: 9.5544e-04 - val_loss: 3.0786e-05\n",
      "\n",
      "Epoch 00002: val_loss improved from 0.00009 to 0.00003, saving model to best_score_7_days.pt\n",
      "Epoch 3/5\n",
      "7408/7408 [==============================] - 33s 5ms/step - loss: 9.5624e-04 - val_loss: 2.9849e-05\n",
      "\n",
      "Epoch 00003: val_loss improved from 0.00003 to 0.00003, saving model to best_score_7_days.pt\n",
      "Epoch 4/5\n",
      "7408/7408 [==============================] - 38s 5ms/step - loss: 9.4089e-04 - val_loss: 1.0153e-04\n",
      "\n",
      "Epoch 00004: val_loss did not improve from 0.00003\n",
      "Epoch 5/5\n",
      "7408/7408 [==============================] - 35s 5ms/step - loss: 9.5386e-04 - val_loss: 1.1862e-05\n",
      "\n",
      "Epoch 00005: val_loss improved from 0.00003 to 0.00001, saving model to best_score_7_days.pt\n",
      "Train on 8304 samples, validate on 7 samples\n",
      "Epoch 1/5\n",
      "8304/8304 [==============================] - 43s 5ms/step - loss: 0.0021 - val_loss: 1.4651e-04\n",
      "\n",
      "Epoch 00001: val_loss did not improve from 0.00001\n",
      "Epoch 2/5\n",
      "8304/8304 [==============================] - 40s 5ms/step - loss: 0.0021 - val_loss: 1.1166e-05\n",
      "\n",
      "Epoch 00002: val_loss improved from 0.00001 to 0.00001, saving model to best_score_7_days.pt\n",
      "Epoch 3/5\n",
      "8304/8304 [==============================] - 40s 5ms/step - loss: 0.0020 - val_loss: 1.8207e-05\n",
      "\n",
      "Epoch 00003: val_loss did not improve from 0.00001\n",
      "Epoch 4/5\n",
      "8304/8304 [==============================] - 46s 5ms/step - loss: 0.0020 - val_loss: 2.4624e-04\n",
      "\n",
      "Epoch 00004: val_loss did not improve from 0.00001\n",
      "Train on 7935 samples, validate on 7 samples\n",
      "Epoch 1/5\n",
      "7935/7935 [==============================] - 38s 5ms/step - loss: 8.9521e-04 - val_loss: 2.3907e-05\n",
      "\n",
      "Epoch 00001: val_loss did not improve from 0.00001\n",
      "Epoch 2/5\n",
      "7935/7935 [==============================] - 44s 6ms/step - loss: 8.3493e-04 - val_loss: 8.5930e-05\n",
      "\n",
      "Epoch 00002: val_loss did not improve from 0.00001\n",
      "Epoch 3/5\n",
      "7935/7935 [==============================] - 49s 6ms/step - loss: 8.2552e-04 - val_loss: 2.4371e-05\n",
      "\n",
      "Epoch 00003: val_loss did not improve from 0.00001\n"
     ]
    }
   ],
   "source": [
    "history_list = []\n",
    "for i in range(4):\n",
    "    history = model_many_to_many.fit(X_train_list[i], y_train_list[i],\n",
    "                                     epochs=5,\n",
    "                                     callbacks=my_callbacks,\n",
    "                                     verbose=1,\n",
    "                                     validation_data=(X_valid_list[i], y_valid_list[i]))\n",
    "    \n",
    "    history_list.append(history)"
   ]
  },
  {
   "cell_type": "code",
   "execution_count": 18,
   "metadata": {},
   "outputs": [
    {
     "data": {
      "image/png": "[encoded data removed]",
      "text/plain": [
       "<Figure size 432x288 with 1 Axes>"
      ]
     },
     "metadata": {
      "needs_background": "light"
     },
     "output_type": "display_data"
    },
    {
     "data": {
      "image/png": "[encoded data removed]",
      "text/plain": [
       "<Figure size 432x288 with 1 Axes>"
      ]
     },
     "metadata": {
      "needs_background": "light"
     },
     "output_type": "display_data"
    },
    {
     "data": {
      "image/png": "[encoded data removed]",
      "text/plain": [
       "<Figure size 432x288 with 1 Axes>"
      ]
     },
     "metadata": {
      "needs_background": "light"
     },
     "output_type": "display_data"
    },
    {
     "data": {
      "image/png": "[encoded data removed]",
      "text/plain": [
       "<Figure size 432x288 with 1 Axes>"
      ]
     },
     "metadata": {
      "needs_background": "light"
     },
     "output_type": "display_data"
    }
   ],
   "source": [
    "# plot train and validation loss\n",
    "for i in range(4):\n",
    "    plt.plot(history_list[i].history['loss'])\n",
    "    plt.plot(history_list[i].history['val_loss'])\n",
    "    plt.title('model train vs validation loss for {}'.format(stocks[i]))\n",
    "    plt.ylabel('loss')\n",
    "    plt.xlabel('epoch')\n",
    "    plt.legend(['train', 'validation'], loc='upper right')\n",
    "    plt.show()"
   ]
  },
  {
   "cell_type": "code",
   "execution_count": 19,
   "metadata": {},
   "outputs": [],
   "source": [
    "# make predictions\n",
    "y_predictions = []\n",
    "for i in range(4):\n",
    "    yhat = model_many_to_many.predict(X_test_list[i], verbose=0)\n",
    "    y_predictions.append(yhat)"
   ]
  },
  {
   "cell_type": "code",
   "execution_count": 20,
   "metadata": {},
   "outputs": [
    {
     "data": {
      "text/plain": [
       "(7, 7, 1)"
      ]
     },
     "execution_count": 20,
     "metadata": {},
     "output_type": "execute_result"
    }
   ],
   "source": [
    "y_predictions[0].shape"
   ]
  },
  {
   "cell_type": "code",
   "execution_count": 21,
   "metadata": {},
   "outputs": [],
   "source": [
    "y_pred_reshape = []\n",
    "y_actual_reshape = []\n",
    "for i in range(4):\n",
    "    yhat = y_predictions[i].reshape(y_predictions[i].shape[0]*y_predictions[i].shape[1],1)\n",
    "    y_test = y_test_list[i].reshape(y_test_list[i].shape[0]*y_test_list[i].shape[1],1)\n",
    "    y_pred_reshape.append(yhat)\n",
    "    y_actual_reshape.append(y_test)\n",
    "    "
   ]
  },
  {
   "cell_type": "markdown",
   "metadata": {},
   "source": [
    "### inverse values from predicitons and actual labels"
   ]
  },
  {
   "cell_type": "code",
   "execution_count": 208,
   "metadata": {},
   "outputs": [],
   "source": [
    "a = scaler.fit_transform(close_price[0].reshape(len(close_price[0]), 1))\n",
    "alk_inverse_pred = scaler.inverse_transform(y_pred_reshape[0])\n",
    "alk_inverse_actual = scaler.inverse_transform(y_actual_reshape[0])"
   ]
  },
  {
   "cell_type": "code",
   "execution_count": 209,
   "metadata": {},
   "outputs": [],
   "source": [
    "g = scaler.fit_transform(close_price[1].reshape(len(close_price[1]), 1))\n",
    "grnt_inverse_pred = scaler.inverse_transform(y_pred_reshape[1])\n",
    "grnt_inverse_actual = scaler.inverse_transform(y_actual_reshape[1])"
   ]
  },
  {
   "cell_type": "code",
   "execution_count": 210,
   "metadata": {},
   "outputs": [],
   "source": [
    "k = scaler.fit_transform(close_price[2].reshape(len(close_price[2]), 1))\n",
    "kmb_inverse_pred = scaler.inverse_transform(y_pred_reshape[2])\n",
    "kmb_inverse_actual = scaler.inverse_transform(y_actual_reshape[2])"
   ]
  },
  {
   "cell_type": "code",
   "execution_count": 211,
   "metadata": {},
   "outputs": [],
   "source": [
    "m = scaler.fit_transform(close_price[3].reshape(len(close_price[3]), 1))\n",
    "mpt_inverse_pred = scaler.inverse_transform(y_pred_reshape[3])\n",
    "mpt_inverse_actual = scaler.inverse_transform(y_actual_reshape[3])"
   ]
  },
  {
   "cell_type": "code",
   "execution_count": 218,
   "metadata": {},
   "outputs": [],
   "source": [
    "y_pred_list = []\n",
    "y_actual_list = []\n",
    "y_pred_list.extend((alk_inverse_pred, grnt_inverse_pred, kmb_inverse_pred, mpt_inverse_pred))\n",
    "y_actual_list.extend((alk_inverse_actual, grnt_inverse_actual, kmb_inverse_actual, mpt_inverse_actual))\n"
   ]
  },
  {
   "cell_type": "code",
   "execution_count": 219,
   "metadata": {},
   "outputs": [
    {
     "name": "stdout",
     "output_type": "stream",
     "text": [
      "RMSE for ALK 231.35555498841563\n",
      "RMSE for GRNT 8.719370640640028\n",
      "RMSE for KMB 147.92728201463785\n",
      "RMSE for MPT 1544.2897617738238\n"
     ]
    }
   ],
   "source": [
    "for i in range(4):\n",
    "    print('RMSE for {}'.format(stocks[i]), np.sqrt(mean_squared_error(y_actual_list[i], y_pred_list[i])))"
   ]
  },
  {
   "cell_type": "code",
   "execution_count": 225,
   "metadata": {},
   "outputs": [
    {
     "name": "stdout",
     "output_type": "stream",
     "text": [
      "RMSE on 7th day for ALK is: 233.6904296875\n",
      "RMSE on 7th day for GRNT is: 4.8170166015625\n",
      "RMSE on 7th day for KMB is: 110.08251953125\n",
      "RMSE on 7th day for MPT is: 258.32421875\n"
     ]
    }
   ],
   "source": [
    "for i in range(4):\n",
    "    print('RMSE on 7th day for {} is:'.format(stocks[i]), np.sqrt(mean_squared_error(y_actual_list[i][::7][-1], y_pred_list[i][::7][-1])))"
   ]
  },
  {
   "cell_type": "code",
   "execution_count": null,
   "metadata": {},
   "outputs": [],
   "source": [
    "y_train_pred = model_many_to_many.predict(X_train)\n",
    "y_train_pred = scaler.inverse_transform(y_train_pred.reshape(y_train_pred.shape[0]*y_train_pred.shape[1],1))"
   ]
  },
  {
   "cell_type": "code",
   "execution_count": null,
   "metadata": {},
   "outputs": [],
   "source": [
    "y_valid_pred = model_many_to_many.predict(X_valid)\n",
    "y_valid_pred = scaler.inverse_transform(y_valid_pred.reshape(y_valid_pred.shape[0]*y_valid_pred.shape[1],1))"
   ]
  },
  {
   "cell_type": "code",
   "execution_count": null,
   "metadata": {},
   "outputs": [],
   "source": [
    "# plot the test data and predicitons\n",
    "plt.plot(y_actual[::7])\n",
    "plt.plot(y_pred[::7])\n",
    "plt.show()"
   ]
  },
  {
   "cell_type": "code",
   "execution_count": null,
   "metadata": {},
   "outputs": [],
   "source": [
    "y_actual[::7][-1], y_pred[::7][-1]"
   ]
  },
  {
   "cell_type": "code",
   "execution_count": null,
   "metadata": {},
   "outputs": [],
   "source": [
    "#plot the data\n",
    "train_actual = scaler.inverse_transform(y_train.reshape(y_train.shape[0]*y_train.shape[1],1))\n",
    "valid_actual = scaler.inverse_transform(y_valid.reshape(y_valid.shape[0]*y_valid.shape[1],1))\n",
    "test_actual = scaler.inverse_transform(y_test.reshape(y_test.shape[0]*y_test.shape[1],1))\n",
    "all_actual = np.concatenate([train_actual, valid_actual, test_actual], axis=0)\n",
    "all_prediction = np.concatenate([y_train_pred, y_valid_pred, y_pred], axis=0)\n",
    "#valid['Predictions'] = predictions\n",
    "#Visualize the Plot\n",
    "plt.figure(figsize=(16,8))\n",
    "plt.title('Model')\n",
    "plt.xlabel('Days', fontsize=18)\n",
    "plt.ylabel('Closing Price in (MKD)', fontsize=18)\n",
    "plt.plot(all_actual)\n",
    "plt.plot(all_prediction)\n",
    "plt.legend(['Train','Val'], loc= 'lower right')\n",
    "plt.show()"
   ]
  },
  {
   "cell_type": "code",
   "execution_count": null,
   "metadata": {},
   "outputs": [],
   "source": [
    "# calculate root mean squared error on the train, validation and test data\n",
    "train_score = np.sqrt(mean_squared_error(train_actual, y_train_pred))\n",
    "print('Train RMSE: %.2f RMSE' % (train_score))\n",
    "valid_score = np.sqrt(mean_squared_error(valid_actual, y_valid_pred))\n",
    "print('Validation RMSE: %.2f RMSE' % (valid_score))\n",
    "test_score = np.sqrt(mean_squared_error(test_actual, y_pred))\n",
    "print('Test RMSE: %.2f RMSE' % (test_score))"
   ]
  },
  {
   "cell_type": "code",
   "execution_count": null,
   "metadata": {},
   "outputs": [],
   "source": [
    "p = y_pred[::7][-1].item()\n",
    "a = test_actual[::7][-1].item()\n",
    "print('The difference between actual and predicted price on 7th test day is', a-p)"
   ]
  },
  {
   "cell_type": "code",
   "execution_count": null,
   "metadata": {},
   "outputs": [],
   "source": [
    "#create new data frame\n",
    "new_df= close_price"
   ]
  },
  {
   "cell_type": "code",
   "execution_count": null,
   "metadata": {},
   "outputs": [],
   "source": [
    "#Get last 180 days closing price\n",
    "last_180_days= new_df[-180:]"
   ]
  },
  {
   "cell_type": "code",
   "execution_count": null,
   "metadata": {},
   "outputs": [],
   "source": [
    "#scale the data\n",
    "last_180_days_scaled = scaler.transform(last_180_days.reshape(-1,1))"
   ]
  },
  {
   "cell_type": "code",
   "execution_count": null,
   "metadata": {},
   "outputs": [],
   "source": [
    "#create an empty list\n",
    "X_test = []\n",
    "#append the last 60 days prices to X_test\n",
    "X_test.append(last_180_days_scaled)"
   ]
  },
  {
   "cell_type": "code",
   "execution_count": null,
   "metadata": {},
   "outputs": [],
   "source": [
    "#lets convert X_test to a Numpy array\n",
    "X_test = np.array(X_test)"
   ]
  },
  {
   "cell_type": "code",
   "execution_count": null,
   "metadata": {},
   "outputs": [],
   "source": [
    "#Reshape the data to 3 dimentional\n",
    "X_test= np.reshape(X_test,(X_test.shape[0],X_test.shape[1],1))"
   ]
  },
  {
   "cell_type": "code",
   "execution_count": null,
   "metadata": {},
   "outputs": [],
   "source": [
    "#Get the predicted scaled price\n",
    "pred_price= model_many_to_many.predict(X_test)"
   ]
  },
  {
   "cell_type": "code",
   "execution_count": null,
   "metadata": {},
   "outputs": [],
   "source": [
    "pred_price.shape"
   ]
  },
  {
   "cell_type": "code",
   "execution_count": null,
   "metadata": {},
   "outputs": [],
   "source": [
    "#inverse Transform the Scaled data \n",
    "pred_price= scaler.inverse_transform(pred_price.reshape(pred_price.shape[0]*pred_price.shape[1],1))"
   ]
  },
  {
   "cell_type": "code",
   "execution_count": null,
   "metadata": {},
   "outputs": [],
   "source": [
    "price = np.round(pred_price[-1].item(),0)"
   ]
  },
  {
   "cell_type": "code",
   "execution_count": null,
   "metadata": {},
   "outputs": [],
   "source": [
    "print(\"The price for ALK on 7th day will be: \",price)"
   ]
  }
 ],
 "metadata": {
  "kernelspec": {
   "display_name": "Python 3",
   "language": "python",
   "name": "python3"
  },
  "language_info": {
   "codemirror_mode": {
    "name": "ipython",
    "version": 3
   },
   "file_extension": ".py",
   "mimetype": "text/x-python",
   "name": "python",
   "nbconvert_exporter": "python",
   "pygments_lexer": "ipython3",
   "version": "3.7.3"
  }
 },
 "nbformat": 4,
 "nbformat_minor": 4
}
