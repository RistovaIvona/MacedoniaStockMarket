{
 "cells": [
  {
   "cell_type": "code",
   "execution_count": 1,
   "metadata": {},
   "outputs": [
    {
     "name": "stderr",
     "output_type": "stream",
     "text": [
      "Using TensorFlow backend.\n"
     ]
    }
   ],
   "source": [
    "import pandas as pd\n",
    "import numpy as np\n",
    "import scipy as sp\n",
    "import matplotlib.pyplot as plt\n",
    "import seaborn as sns\n",
    "import math\n",
    "import itertools\n",
    "import regex as re\n",
    "\n",
    "import xgboost as xgb\n",
    "from sklearn.ensemble import RandomForestRegressor\n",
    "from sklearn.preprocessing import MinMaxScaler, LabelEncoder\n",
    "from sklearn.metrics import mean_squared_error, mean_absolute_error\n",
    "from sklearn.preprocessing import StandardScaler, Normalizer, MinMaxScaler, normalize\n",
    "from sklearn.model_selection import train_test_split, GridSearchCV\n",
    "\n",
    "from keras.callbacks import ModelCheckpoint, EarlyStopping\n",
    "from keras.models import Sequential\n",
    "from keras.layers import Dense, LSTM, SimpleRNN, Activation\n",
    "%matplotlib inline"
   ]
  },
  {
   "cell_type": "markdown",
   "metadata": {},
   "source": [
    "### loading preprocessed dataset"
   ]
  },
  {
   "cell_type": "code",
   "execution_count": 2,
   "metadata": {},
   "outputs": [],
   "source": [
    "load_df = pd.read_csv('C:/Users/Gj/Documents/Git/macedonian_stock_exchange_market/tmp/mse_raw.csv', \n",
    "                      parse_dates=['date', 'start_date'], index_col='Unnamed: 0')"
   ]
  },
  {
   "cell_type": "code",
   "execution_count": 3,
   "metadata": {},
   "outputs": [
    {
     "data": {
      "text/html": [
       "<div>\n",
       "<style scoped>\n",
       "    .dataframe tbody tr th:only-of-type {\n",
       "        vertical-align: middle;\n",
       "    }\n",
       "\n",
       "    .dataframe tbody tr th {\n",
       "        vertical-align: top;\n",
       "    }\n",
       "\n",
       "    .dataframe thead th {\n",
       "        text-align: right;\n",
       "    }\n",
       "</style>\n",
       "<table border=\"1\" class=\"dataframe\">\n",
       "  <thead>\n",
       "    <tr style=\"text-align: right;\">\n",
       "      <th></th>\n",
       "      <th>stock_id</th>\n",
       "      <th>date</th>\n",
       "      <th>open</th>\n",
       "      <th>high</th>\n",
       "      <th>low</th>\n",
       "      <th>average</th>\n",
       "      <th>close</th>\n",
       "      <th>volume</th>\n",
       "      <th>quantity</th>\n",
       "      <th>change %</th>\n",
       "      <th>volume total</th>\n",
       "      <th>start_date</th>\n",
       "    </tr>\n",
       "  </thead>\n",
       "  <tbody>\n",
       "    <tr>\n",
       "      <th>0</th>\n",
       "      <td>ALK</td>\n",
       "      <td>1997-01-09</td>\n",
       "      <td>1070.0</td>\n",
       "      <td>1070.0</td>\n",
       "      <td>1070.0</td>\n",
       "      <td>1070.0</td>\n",
       "      <td>1070.0</td>\n",
       "      <td>279270.0</td>\n",
       "      <td>261.0</td>\n",
       "      <td>0.0</td>\n",
       "      <td>279270.0</td>\n",
       "      <td>1997-01-09</td>\n",
       "    </tr>\n",
       "    <tr>\n",
       "      <th>22</th>\n",
       "      <td>ALK</td>\n",
       "      <td>1997-01-10</td>\n",
       "      <td>1070.0</td>\n",
       "      <td>1070.0</td>\n",
       "      <td>1070.0</td>\n",
       "      <td>1070.0</td>\n",
       "      <td>1070.0</td>\n",
       "      <td>0.0</td>\n",
       "      <td>0.0</td>\n",
       "      <td>0.0</td>\n",
       "      <td>0.0</td>\n",
       "      <td>1997-01-09</td>\n",
       "    </tr>\n",
       "    <tr>\n",
       "      <th>44</th>\n",
       "      <td>ALK</td>\n",
       "      <td>1997-01-11</td>\n",
       "      <td>1070.0</td>\n",
       "      <td>1070.0</td>\n",
       "      <td>1070.0</td>\n",
       "      <td>1070.0</td>\n",
       "      <td>1070.0</td>\n",
       "      <td>0.0</td>\n",
       "      <td>0.0</td>\n",
       "      <td>0.0</td>\n",
       "      <td>0.0</td>\n",
       "      <td>1997-01-09</td>\n",
       "    </tr>\n",
       "    <tr>\n",
       "      <th>66</th>\n",
       "      <td>ALK</td>\n",
       "      <td>1997-01-12</td>\n",
       "      <td>1070.0</td>\n",
       "      <td>1070.0</td>\n",
       "      <td>1070.0</td>\n",
       "      <td>1070.0</td>\n",
       "      <td>1070.0</td>\n",
       "      <td>0.0</td>\n",
       "      <td>0.0</td>\n",
       "      <td>0.0</td>\n",
       "      <td>0.0</td>\n",
       "      <td>1997-01-09</td>\n",
       "    </tr>\n",
       "    <tr>\n",
       "      <th>88</th>\n",
       "      <td>ALK</td>\n",
       "      <td>1997-01-13</td>\n",
       "      <td>1070.0</td>\n",
       "      <td>1070.0</td>\n",
       "      <td>1070.0</td>\n",
       "      <td>1070.0</td>\n",
       "      <td>1070.0</td>\n",
       "      <td>0.0</td>\n",
       "      <td>0.0</td>\n",
       "      <td>0.0</td>\n",
       "      <td>0.0</td>\n",
       "      <td>1997-01-09</td>\n",
       "    </tr>\n",
       "  </tbody>\n",
       "</table>\n",
       "</div>"
      ],
      "text/plain": [
       "   stock_id       date    open    high     low  average   close    volume  \\\n",
       "0       ALK 1997-01-09  1070.0  1070.0  1070.0   1070.0  1070.0  279270.0   \n",
       "22      ALK 1997-01-10  1070.0  1070.0  1070.0   1070.0  1070.0       0.0   \n",
       "44      ALK 1997-01-11  1070.0  1070.0  1070.0   1070.0  1070.0       0.0   \n",
       "66      ALK 1997-01-12  1070.0  1070.0  1070.0   1070.0  1070.0       0.0   \n",
       "88      ALK 1997-01-13  1070.0  1070.0  1070.0   1070.0  1070.0       0.0   \n",
       "\n",
       "    quantity  change %  volume total start_date  \n",
       "0      261.0       0.0      279270.0 1997-01-09  \n",
       "22       0.0       0.0           0.0 1997-01-09  \n",
       "44       0.0       0.0           0.0 1997-01-09  \n",
       "66       0.0       0.0           0.0 1997-01-09  \n",
       "88       0.0       0.0           0.0 1997-01-09  "
      ]
     },
     "execution_count": 3,
     "metadata": {},
     "output_type": "execute_result"
    }
   ],
   "source": [
    "load_df.head(5)"
   ]
  },
  {
   "cell_type": "markdown",
   "metadata": {},
   "source": [
    "## feature engineering"
   ]
  },
  {
   "cell_type": "code",
   "execution_count": 4,
   "metadata": {},
   "outputs": [],
   "source": [
    "# dates - (year, month, day etc...)\n",
    "# rolling - (QTY, volume, volumne total etc...) depend on target (1day, 7days, 30days up to 1 year)\n",
    "# target closing price - (1day, 7days, 30days, 2months etc)\n",
    "# target QTY - (1day, 7days, 30days, 2months etc)"
   ]
  },
  {
   "cell_type": "code",
   "execution_count": 5,
   "metadata": {},
   "outputs": [],
   "source": [
    "df_final = load_df.copy()"
   ]
  },
  {
   "cell_type": "code",
   "execution_count": 6,
   "metadata": {},
   "outputs": [],
   "source": [
    "def display_all(df):\n",
    "    with pd.option_context(\"display.max_rows\", 10000, \"display.max_columns\", 10000): \n",
    "        display(df)"
   ]
  },
  {
   "cell_type": "markdown",
   "metadata": {},
   "source": [
    "### date extraction"
   ]
  },
  {
   "cell_type": "code",
   "execution_count": 7,
   "metadata": {},
   "outputs": [],
   "source": [
    "df_final['sale_year'] = df_final.date.dt.year\n",
    "df_final['sale_month'] = df_final.date.dt.month\n",
    "df_final['sale_week'] = df_final.date.dt.week\n",
    "df_final['sale_day'] = df_final.date.dt.day\n",
    "df_final['sale_dayofweek'] = df_final.date.dt.dayofweek\n",
    "df_final['sale_dayofyear'] = df_final.date.dt.dayofyear\n",
    "df_final['is_month_end'] = df_final.date.dt.is_month_end\n",
    "df_final['is_month_start'] = df_final.date.dt.is_month_start\n",
    "df_final['is_quarter_end'] = df_final.date.dt.is_quarter_end\n",
    "df_final['is_quarter_start'] = df_final.date.dt.is_quarter_start\n",
    "df_final['is_year_end'] = df_final.date.dt.is_year_end\n",
    "df_final['is_year_start'] = df_final.date.dt.is_year_start\n",
    "df_final['days_in_month'] = df_final.date.dt.days_in_month\n",
    "df_final['is_leap_year'] = df_final.date.dt.is_leap_year\n",
    "#df_final['sales_elapsed'] = df_final.date - df_final.start_date\n",
    "# converting object into integer\n",
    "#df_final['sales_elapsed'] = df_final.sales_elapsed.dt.days"
   ]
  },
  {
   "cell_type": "code",
   "execution_count": 8,
   "metadata": {},
   "outputs": [
    {
     "data": {
      "text/html": [
       "<div>\n",
       "<style scoped>\n",
       "    .dataframe tbody tr th:only-of-type {\n",
       "        vertical-align: middle;\n",
       "    }\n",
       "\n",
       "    .dataframe tbody tr th {\n",
       "        vertical-align: top;\n",
       "    }\n",
       "\n",
       "    .dataframe thead th {\n",
       "        text-align: right;\n",
       "    }\n",
       "</style>\n",
       "<table border=\"1\" class=\"dataframe\">\n",
       "  <thead>\n",
       "    <tr style=\"text-align: right;\">\n",
       "      <th></th>\n",
       "      <th>stock_id</th>\n",
       "      <th>date</th>\n",
       "      <th>open</th>\n",
       "      <th>high</th>\n",
       "      <th>low</th>\n",
       "      <th>average</th>\n",
       "      <th>close</th>\n",
       "      <th>volume</th>\n",
       "      <th>quantity</th>\n",
       "      <th>change %</th>\n",
       "      <th>volume total</th>\n",
       "      <th>start_date</th>\n",
       "      <th>sale_year</th>\n",
       "      <th>sale_month</th>\n",
       "      <th>sale_week</th>\n",
       "      <th>sale_day</th>\n",
       "      <th>sale_dayofweek</th>\n",
       "      <th>sale_dayofyear</th>\n",
       "      <th>is_month_end</th>\n",
       "      <th>is_month_start</th>\n",
       "      <th>is_quarter_end</th>\n",
       "      <th>is_quarter_start</th>\n",
       "      <th>is_year_end</th>\n",
       "      <th>is_year_start</th>\n",
       "      <th>days_in_month</th>\n",
       "      <th>is_leap_year</th>\n",
       "    </tr>\n",
       "  </thead>\n",
       "  <tbody>\n",
       "    <tr>\n",
       "      <th>189837</th>\n",
       "      <td>VITA</td>\n",
       "      <td>2020-08-24</td>\n",
       "      <td>14080.0</td>\n",
       "      <td>14080.0</td>\n",
       "      <td>14080.0</td>\n",
       "      <td>14080.0</td>\n",
       "      <td>14080.0</td>\n",
       "      <td>0.0</td>\n",
       "      <td>0.0</td>\n",
       "      <td>0.0</td>\n",
       "      <td>0.0</td>\n",
       "      <td>1998-10-13</td>\n",
       "      <td>2020</td>\n",
       "      <td>8</td>\n",
       "      <td>35</td>\n",
       "      <td>24</td>\n",
       "      <td>0</td>\n",
       "      <td>237</td>\n",
       "      <td>False</td>\n",
       "      <td>False</td>\n",
       "      <td>False</td>\n",
       "      <td>False</td>\n",
       "      <td>False</td>\n",
       "      <td>False</td>\n",
       "      <td>31</td>\n",
       "      <td>True</td>\n",
       "    </tr>\n",
       "    <tr>\n",
       "      <th>189859</th>\n",
       "      <td>VITA</td>\n",
       "      <td>2020-08-25</td>\n",
       "      <td>14080.0</td>\n",
       "      <td>14080.0</td>\n",
       "      <td>14080.0</td>\n",
       "      <td>14080.0</td>\n",
       "      <td>14080.0</td>\n",
       "      <td>0.0</td>\n",
       "      <td>0.0</td>\n",
       "      <td>0.0</td>\n",
       "      <td>0.0</td>\n",
       "      <td>1998-10-13</td>\n",
       "      <td>2020</td>\n",
       "      <td>8</td>\n",
       "      <td>35</td>\n",
       "      <td>25</td>\n",
       "      <td>1</td>\n",
       "      <td>238</td>\n",
       "      <td>False</td>\n",
       "      <td>False</td>\n",
       "      <td>False</td>\n",
       "      <td>False</td>\n",
       "      <td>False</td>\n",
       "      <td>False</td>\n",
       "      <td>31</td>\n",
       "      <td>True</td>\n",
       "    </tr>\n",
       "  </tbody>\n",
       "</table>\n",
       "</div>"
      ],
      "text/plain": [
       "       stock_id       date     open     high      low  average    close  \\\n",
       "189837     VITA 2020-08-24  14080.0  14080.0  14080.0  14080.0  14080.0   \n",
       "189859     VITA 2020-08-25  14080.0  14080.0  14080.0  14080.0  14080.0   \n",
       "\n",
       "        volume  quantity  change %  volume total start_date  sale_year  \\\n",
       "189837     0.0       0.0       0.0           0.0 1998-10-13       2020   \n",
       "189859     0.0       0.0       0.0           0.0 1998-10-13       2020   \n",
       "\n",
       "        sale_month  sale_week  sale_day  sale_dayofweek  sale_dayofyear  \\\n",
       "189837           8         35        24               0             237   \n",
       "189859           8         35        25               1             238   \n",
       "\n",
       "        is_month_end  is_month_start  is_quarter_end  is_quarter_start  \\\n",
       "189837         False           False           False             False   \n",
       "189859         False           False           False             False   \n",
       "\n",
       "        is_year_end  is_year_start  days_in_month  is_leap_year  \n",
       "189837        False          False             31          True  \n",
       "189859        False          False             31          True  "
      ]
     },
     "metadata": {},
     "output_type": "display_data"
    }
   ],
   "source": [
    "display_all(df_final.tail(2))"
   ]
  },
  {
   "cell_type": "markdown",
   "metadata": {},
   "source": [
    "### rolling"
   ]
  },
  {
   "cell_type": "code",
   "execution_count": 9,
   "metadata": {},
   "outputs": [],
   "source": [
    "df_final = df_final.set_index('date')"
   ]
  },
  {
   "cell_type": "code",
   "execution_count": 10,
   "metadata": {},
   "outputs": [
    {
     "data": {
      "text/html": [
       "<div>\n",
       "<style scoped>\n",
       "    .dataframe tbody tr th:only-of-type {\n",
       "        vertical-align: middle;\n",
       "    }\n",
       "\n",
       "    .dataframe tbody tr th {\n",
       "        vertical-align: top;\n",
       "    }\n",
       "\n",
       "    .dataframe thead th {\n",
       "        text-align: right;\n",
       "    }\n",
       "</style>\n",
       "<table border=\"1\" class=\"dataframe\">\n",
       "  <thead>\n",
       "    <tr style=\"text-align: right;\">\n",
       "      <th></th>\n",
       "      <th>stock_id</th>\n",
       "      <th>open</th>\n",
       "      <th>high</th>\n",
       "      <th>low</th>\n",
       "      <th>average</th>\n",
       "      <th>close</th>\n",
       "      <th>volume</th>\n",
       "      <th>quantity</th>\n",
       "      <th>change %</th>\n",
       "      <th>volume total</th>\n",
       "      <th>...</th>\n",
       "      <th>sale_dayofweek</th>\n",
       "      <th>sale_dayofyear</th>\n",
       "      <th>is_month_end</th>\n",
       "      <th>is_month_start</th>\n",
       "      <th>is_quarter_end</th>\n",
       "      <th>is_quarter_start</th>\n",
       "      <th>is_year_end</th>\n",
       "      <th>is_year_start</th>\n",
       "      <th>days_in_month</th>\n",
       "      <th>is_leap_year</th>\n",
       "    </tr>\n",
       "    <tr>\n",
       "      <th>date</th>\n",
       "      <th></th>\n",
       "      <th></th>\n",
       "      <th></th>\n",
       "      <th></th>\n",
       "      <th></th>\n",
       "      <th></th>\n",
       "      <th></th>\n",
       "      <th></th>\n",
       "      <th></th>\n",
       "      <th></th>\n",
       "      <th></th>\n",
       "      <th></th>\n",
       "      <th></th>\n",
       "      <th></th>\n",
       "      <th></th>\n",
       "      <th></th>\n",
       "      <th></th>\n",
       "      <th></th>\n",
       "      <th></th>\n",
       "      <th></th>\n",
       "      <th></th>\n",
       "    </tr>\n",
       "  </thead>\n",
       "  <tbody>\n",
       "    <tr>\n",
       "      <th>1997-01-09</th>\n",
       "      <td>ALK</td>\n",
       "      <td>1070.0</td>\n",
       "      <td>1070.0</td>\n",
       "      <td>1070.0</td>\n",
       "      <td>1070.0</td>\n",
       "      <td>1070.0</td>\n",
       "      <td>279270.0</td>\n",
       "      <td>261.0</td>\n",
       "      <td>0.0</td>\n",
       "      <td>279270.0</td>\n",
       "      <td>...</td>\n",
       "      <td>3</td>\n",
       "      <td>9</td>\n",
       "      <td>False</td>\n",
       "      <td>False</td>\n",
       "      <td>False</td>\n",
       "      <td>False</td>\n",
       "      <td>False</td>\n",
       "      <td>False</td>\n",
       "      <td>31</td>\n",
       "      <td>False</td>\n",
       "    </tr>\n",
       "    <tr>\n",
       "      <th>1997-01-10</th>\n",
       "      <td>ALK</td>\n",
       "      <td>1070.0</td>\n",
       "      <td>1070.0</td>\n",
       "      <td>1070.0</td>\n",
       "      <td>1070.0</td>\n",
       "      <td>1070.0</td>\n",
       "      <td>0.0</td>\n",
       "      <td>0.0</td>\n",
       "      <td>0.0</td>\n",
       "      <td>0.0</td>\n",
       "      <td>...</td>\n",
       "      <td>4</td>\n",
       "      <td>10</td>\n",
       "      <td>False</td>\n",
       "      <td>False</td>\n",
       "      <td>False</td>\n",
       "      <td>False</td>\n",
       "      <td>False</td>\n",
       "      <td>False</td>\n",
       "      <td>31</td>\n",
       "      <td>False</td>\n",
       "    </tr>\n",
       "    <tr>\n",
       "      <th>1997-01-11</th>\n",
       "      <td>ALK</td>\n",
       "      <td>1070.0</td>\n",
       "      <td>1070.0</td>\n",
       "      <td>1070.0</td>\n",
       "      <td>1070.0</td>\n",
       "      <td>1070.0</td>\n",
       "      <td>0.0</td>\n",
       "      <td>0.0</td>\n",
       "      <td>0.0</td>\n",
       "      <td>0.0</td>\n",
       "      <td>...</td>\n",
       "      <td>5</td>\n",
       "      <td>11</td>\n",
       "      <td>False</td>\n",
       "      <td>False</td>\n",
       "      <td>False</td>\n",
       "      <td>False</td>\n",
       "      <td>False</td>\n",
       "      <td>False</td>\n",
       "      <td>31</td>\n",
       "      <td>False</td>\n",
       "    </tr>\n",
       "  </tbody>\n",
       "</table>\n",
       "<p>3 rows × 25 columns</p>\n",
       "</div>"
      ],
      "text/plain": [
       "           stock_id    open    high     low  average   close    volume  \\\n",
       "date                                                                     \n",
       "1997-01-09      ALK  1070.0  1070.0  1070.0   1070.0  1070.0  279270.0   \n",
       "1997-01-10      ALK  1070.0  1070.0  1070.0   1070.0  1070.0       0.0   \n",
       "1997-01-11      ALK  1070.0  1070.0  1070.0   1070.0  1070.0       0.0   \n",
       "\n",
       "            quantity  change %  volume total  ... sale_dayofweek  \\\n",
       "date                                          ...                  \n",
       "1997-01-09     261.0       0.0      279270.0  ...              3   \n",
       "1997-01-10       0.0       0.0           0.0  ...              4   \n",
       "1997-01-11       0.0       0.0           0.0  ...              5   \n",
       "\n",
       "            sale_dayofyear  is_month_end  is_month_start  is_quarter_end  \\\n",
       "date                                                                       \n",
       "1997-01-09               9         False           False           False   \n",
       "1997-01-10              10         False           False           False   \n",
       "1997-01-11              11         False           False           False   \n",
       "\n",
       "            is_quarter_start  is_year_end  is_year_start  days_in_month  \\\n",
       "date                                                                      \n",
       "1997-01-09             False        False          False             31   \n",
       "1997-01-10             False        False          False             31   \n",
       "1997-01-11             False        False          False             31   \n",
       "\n",
       "            is_leap_year  \n",
       "date                      \n",
       "1997-01-09         False  \n",
       "1997-01-10         False  \n",
       "1997-01-11         False  \n",
       "\n",
       "[3 rows x 25 columns]"
      ]
     },
     "execution_count": 10,
     "metadata": {},
     "output_type": "execute_result"
    }
   ],
   "source": [
    "df_final.head(3)"
   ]
  },
  {
   "cell_type": "code",
   "execution_count": 11,
   "metadata": {},
   "outputs": [],
   "source": [
    "#rolloing list for 7 days target shifted by 7 days\n",
    "sum_7_qty_by_stock = []\n",
    "volumne_moving_avg_7 = []\n",
    "close_moving_avg_7 = []\n",
    "average_moving_avg_7 = []\n",
    "close_volatility_7 = []\n",
    "max_7_days = []\n",
    "min_7_days = []\n",
    "change_by_stock_daily_prev = []\n",
    "profitability_daily_prev = []\n",
    "ratio_prev = []"
   ]
  },
  {
   "cell_type": "code",
   "execution_count": 12,
   "metadata": {},
   "outputs": [],
   "source": [
    "for stock in df_final.stock_id.unique():\n",
    "    # sum quantity over last 7 days\n",
    "    qty_sum_7 = df_final[df_final.stock_id == stock].quantity.rolling(7).sum()\n",
    "    sum_7_qty_by_stock.append(qty_sum_7)\n",
    "    # moving average on volumne over last 7 days\n",
    "    volumne_ma_7 = df_final[df_final.stock_id == stock].volume.rolling(7).mean()\n",
    "    volumne_moving_avg_7.append(volumne_ma_7)\n",
    "    # moving average on close price over last 7 days\n",
    "    close_ma_7 = df_final[df_final.stock_id == stock].close.rolling(7).mean()\n",
    "    close_moving_avg_7.append(close_ma_7)\n",
    "    # moving average on average price over last 7 days\n",
    "    avg_ma_7 = df_final[df_final.stock_id == stock].average.rolling(7).mean()\n",
    "    average_moving_avg_7.append(avg_ma_7)\n",
    "    # volatility in close price over last 7 days\n",
    "    close_volatility_7_by_stock = df_final[df_final.stock_id == stock].close.rolling(7).std() #shift()\n",
    "    close_volatility_7.append(close_volatility_7_by_stock)\n",
    "    # max close price in last 7 days\n",
    "    max_7_by_stock = df_final[df_final.stock_id == stock].close.rolling(7).max()\n",
    "    max_7_days.append(max_7_by_stock)\n",
    "    # min close price in last 7 days\n",
    "    min_7_by_stock = df_final[df_final.stock_id == stock].close.rolling(7).min()\n",
    "    min_7_days.append(min_7_by_stock)\n",
    "    # ratio overall will be average price devided by max closing price over all time\n",
    "    mean_close_price = df_final[df_final.stock_id == stock].close.mean()\n",
    "    ratio_by_stock_prev = df_final[df_final.stock_id == stock].close / mean_close_price\n",
    "    ratio_prev.append(ratio_by_stock_prev)\n",
    "    \n",
    "    # daily_change new feature\n",
    "    today = df_final[df_final.stock_id == stock].close\n",
    "    yesterday = today.shift(1)\n",
    "    change_by_stock =  today / yesterday - 1\n",
    "    change_by_stock_daily_prev.append(change_by_stock)\n",
    "    \n",
    "    # daily_profitability_prev new feature\n",
    "    profitability_by_stock_prev = df_final[df_final.stock_id == stock].close - df_final[df_final.stock_id == stock].open\n",
    "    profitability_daily_prev.append(profitability_by_stock_prev)"
   ]
  },
  {
   "cell_type": "code",
   "execution_count": 13,
   "metadata": {},
   "outputs": [],
   "source": [
    "chain_object_1 = itertools.chain.from_iterable(sum_7_qty_by_stock)\n",
    "flattened_list_1 = list(chain_object_1)\n",
    "\n",
    "chain_object_3 = itertools.chain.from_iterable(volumne_moving_avg_7)\n",
    "flattened_list_3 = list(chain_object_3)\n",
    "\n",
    "chain_object_5 = itertools.chain.from_iterable(close_moving_avg_7)\n",
    "flattened_list_5 = list(chain_object_5)\n",
    "\n",
    "chain_object_16 = itertools.chain.from_iterable(average_moving_avg_7)\n",
    "flattened_list_16 = list(chain_object_16)\n",
    "\n",
    "chain_object_7 = itertools.chain.from_iterable(close_volatility_7)\n",
    "flattened_list_7 = list(chain_object_7)\n",
    "\n",
    "chain_object_9 = itertools.chain.from_iterable(max_7_days)\n",
    "flattened_list_9 = list(chain_object_9)\n",
    "\n",
    "chain_object_11 = itertools.chain.from_iterable(min_7_days)\n",
    "flattened_list_11 = list(chain_object_11)\n",
    "\n",
    "ratio_object = itertools.chain.from_iterable(ratio_prev)\n",
    "flattened_list_13 = list(ratio_object)\n",
    "\n",
    "change_daily_object = itertools.chain.from_iterable(change_by_stock_daily_prev)\n",
    "flattened_list_14 = list(change_daily_object)\n",
    "\n",
    "profitability_object = itertools.chain.from_iterable(profitability_daily_prev)\n",
    "flattened_list_15 = list(profitability_object)"
   ]
  },
  {
   "cell_type": "code",
   "execution_count": 14,
   "metadata": {},
   "outputs": [],
   "source": [
    "rolling_7_days = pd.DataFrame({'sum_7_qty_by_stock':flattened_list_1,\n",
    "                               'moving_avg_volume_7_days':flattened_list_3,\n",
    "                               'moving_avg_close_7_days':flattened_list_5,\n",
    "                               'moving_avg_average_7_days':flattened_list_16,\n",
    "                               'volatility_7_days':flattened_list_7,\n",
    "                               'max_7_days':flattened_list_9,\n",
    "                               'min_7_days':flattened_list_11,\n",
    "                               'ratio_overall_prev':flattened_list_13,\n",
    "                               'change_daily_prev':flattened_list_14,\n",
    "                               'profitability_daily_prev':flattened_list_15\n",
    "                              }\n",
    "                             )"
   ]
  },
  {
   "cell_type": "code",
   "execution_count": 15,
   "metadata": {},
   "outputs": [
    {
     "name": "stdout",
     "output_type": "stream",
     "text": [
      "(164754, 25) (164754, 10)\n"
     ]
    }
   ],
   "source": [
    "print(df_final.shape, rolling_7_days.shape)"
   ]
  },
  {
   "cell_type": "code",
   "execution_count": 16,
   "metadata": {},
   "outputs": [],
   "source": [
    "df_7_days = pd.concat([df_final.reset_index(), rolling_7_days], axis=1)"
   ]
  },
  {
   "cell_type": "code",
   "execution_count": 17,
   "metadata": {},
   "outputs": [
    {
     "data": {
      "text/plain": [
       "36"
      ]
     },
     "execution_count": 17,
     "metadata": {},
     "output_type": "execute_result"
    }
   ],
   "source": [
    "len(df_7_days.columns)"
   ]
  },
  {
   "cell_type": "code",
   "execution_count": 18,
   "metadata": {},
   "outputs": [],
   "source": [
    "ratio_7_days = []\n",
    "\n",
    "# Calculating average ratios up to 7 days\n",
    "for stock in df_7_days.stock_id.unique():\n",
    "    ratio_7 = df_7_days[df_7_days.stock_id == stock].average / df_7_days[df_7_days.stock_id == stock].average.mean()\n",
    "    ratio_7_days.append(ratio_7)\n"
   ]
  },
  {
   "cell_type": "code",
   "execution_count": 19,
   "metadata": {},
   "outputs": [],
   "source": [
    "chain_object_16 = itertools.chain.from_iterable(ratio_7_days)\n",
    "flattened_list_16 = list(chain_object_16)\n",
    "\n",
    "ratios_df = pd.DataFrame({'ratio_7_days':flattened_list_16\n",
    "                         }\n",
    "                        )"
   ]
  },
  {
   "cell_type": "code",
   "execution_count": 20,
   "metadata": {},
   "outputs": [],
   "source": [
    "df_7_days = pd.concat([df_7_days, ratios_df], axis=1)"
   ]
  },
  {
   "cell_type": "code",
   "execution_count": 21,
   "metadata": {},
   "outputs": [
    {
     "data": {
      "text/plain": [
       "37"
      ]
     },
     "execution_count": 21,
     "metadata": {},
     "output_type": "execute_result"
    }
   ],
   "source": [
    "len(df_7_days.columns)"
   ]
  },
  {
   "cell_type": "code",
   "execution_count": 22,
   "metadata": {},
   "outputs": [],
   "source": [
    "### Add column based on data analysis for close price\n",
    "#7 days\n",
    "df_7_days['prevClose_7'] = df_7_days.groupby(['stock_id'])['close'].shift(-7)\n",
    "df_7_days['returnsClosePrevRaw_7'] = (df_7_days.close.shift(-8) - df_7_days.prevClose_7) / df_7_days.prevClose_7\n",
    "\n",
    "#14 days\n",
    "df_7_days['prevClose_14'] = df_7_days.groupby(['stock_id'])['close'].shift(-14)\n",
    "df_7_days['returnsClosePrevRaw_14'] = (df_7_days.close.shift(-15) - df_7_days.prevClose_14) / df_7_days.prevClose_14\n",
    "\n",
    "#21 days\n",
    "df_7_days['prevClose_21'] = df_7_days.groupby(['stock_id'])['close'].shift(-21)\n",
    "df_7_days['returnsClosePrevRaw_21'] = (df_7_days.close.shift(-22) - df_7_days.prevClose_21) / df_7_days.prevClose_21\n",
    "\n",
    "#30 days\n",
    "df_7_days['prevClose_30'] = df_7_days.groupby(['stock_id'])['close'].shift(-30)\n",
    "df_7_days['returnsClosePrevRaw_30'] = (df_7_days.close.shift(-30) - df_7_days.prevClose_30) / df_7_days.prevClose_30"
   ]
  },
  {
   "cell_type": "code",
   "execution_count": 23,
   "metadata": {},
   "outputs": [],
   "source": [
    "### Add column based on data analysis for average price\n",
    "\n",
    "# 1 day\n",
    "#df_7_days['prevopen_1'] = df_7_days.groupby(['stock_id'])['open'].shift(1)\n",
    "#(open - prevopen) / prevopen\n",
    "#df_7_days['returnsOpenPrevRaw1'] = (df_7_days.open - df_7_days.prevopen_1) / df_7_days.prevopen_1\n",
    "\n",
    "#7 days\n",
    "df_7_days['prevopen_7'] = df_7_days.groupby(['stock_id'])['open'].shift(-7)\n",
    "df_7_days['returnsOpenPrevRaw_7'] = (df_7_days.open.shift(-8) - df_7_days.prevopen_7) / df_7_days.prevopen_7\n",
    "\n",
    "#7 days\n",
    "df_7_days['prevaverage_7'] = df_7_days.groupby(['stock_id'])['average'].shift(-7)\n",
    "df_7_days['returnsAvgPrevRaw_7'] = (df_7_days.average.shift(-8) - df_7_days.prevaverage_7) / df_7_days.prevaverage_7\n",
    "\n",
    "#14 days\n",
    "df_7_days['prevaverage_14'] = df_7_days.groupby(['stock_id'])['average'].shift(-14)\n",
    "df_7_days['returnsAvgPrevRaw_14'] = (df_7_days.average.shift(-15) - df_7_days.prevaverage_14) / df_7_days.prevaverage_14\n",
    "\n",
    "#21 days\n",
    "df_7_days['prevaverage_21'] = df_7_days.groupby(['stock_id'])['average'].shift(-21)\n",
    "df_7_days['returnsAvgPrevRaw_21'] = (df_7_days.average.shift(-22) - df_7_days.prevaverage_21) / df_7_days.prevaverage_21\n",
    "\n",
    "#30 days\n",
    "df_7_days['prevaverage_30'] = df_7_days.groupby(['stock_id'])['average'].shift(-30)\n",
    "df_7_days['returnsAvgPrevRaw_30'] = (df_7_days.average.shift(-30) - df_7_days.prevaverage_30) / df_7_days.prevaverage_30\n",
    "\n",
    "#60 days\n",
    "df_7_days['prevaverage_60'] = df_7_days.groupby(['stock_id'])['average'].shift(-60)\n",
    "df_7_days['returnsAvgPrevRaw_60'] = (df_7_days.average.shift(-60) - df_7_days.prevaverage_60) / df_7_days.prevaverage_60\n",
    "\n",
    "#Rate of change\n",
    "\n",
    "# pct_chg = lambda x:x.pct_change()\n",
    "# df_7_days['pct'] = df_7_days.groupby(['stock_id'])['close'].apply(pct_chg)\n",
    "\n",
    "#Z-score\n",
    "# zscore = lambda x:(x-x.mean())/x.std()\n",
    "# df_7_days['z_score'] = df_7_days.groupby(['stock_id'])['close'].apply(zscore)\n",
    "\n",
    "#percentile transformation\n",
    "#rollrank = lambda x: x.rolling(200, min_periods=20).apply(lambda x:pd.Series(x).rank(pct=True)[0])\n",
    "#df_7_days['percentile'] = df_7_days.groupby(['stock_id'])['volume'].apply(rollrank)"
   ]
  },
  {
   "cell_type": "markdown",
   "metadata": {},
   "source": [
    "### setting ALK, GRNT, KMB, MPT dataset for training, validation and test"
   ]
  },
  {
   "cell_type": "code",
   "execution_count": 24,
   "metadata": {},
   "outputs": [
    {
     "name": "stdout",
     "output_type": "stream",
     "text": [
      "['ALK' 'BESK' 'FERS' 'GRNT' 'KMB' 'MPT' 'MTUR' 'OKTA' 'PKB' 'PPIV' 'REPL'\n",
      " 'SBT' 'STBP' 'STB' 'STIL' 'TEL' 'TKVS' 'TNB' 'TTK' 'UNI' 'USJE' 'VITA']\n"
     ]
    }
   ],
   "source": [
    "print(df_7_days.stock_id.unique())"
   ]
  },
  {
   "cell_type": "code",
   "execution_count": 25,
   "metadata": {},
   "outputs": [],
   "source": [
    "stocks = ['ALK', 'GRNT', 'KMB', 'MPT']"
   ]
  },
  {
   "cell_type": "code",
   "execution_count": 26,
   "metadata": {},
   "outputs": [],
   "source": [
    "select_df = df_7_days[df_7_days.stock_id.isin(stocks)]"
   ]
  },
  {
   "cell_type": "code",
   "execution_count": 27,
   "metadata": {},
   "outputs": [],
   "source": [
    "#select_df.sort_values(by=['stock_id', 'date'], ascending=True, inplace=True)"
   ]
  },
  {
   "cell_type": "code",
   "execution_count": 28,
   "metadata": {},
   "outputs": [],
   "source": [
    "to_drop = ['date','start_date','change %']#, 'open', 'high', 'low', 'average','volume', 'quantity', 'change %', 'volume total']"
   ]
  },
  {
   "cell_type": "code",
   "execution_count": 29,
   "metadata": {},
   "outputs": [],
   "source": [
    "select_df = select_df.dropna()"
   ]
  },
  {
   "cell_type": "code",
   "execution_count": 30,
   "metadata": {},
   "outputs": [],
   "source": [
    "select_df.drop(to_drop, axis=1, inplace=True)"
   ]
  },
  {
   "cell_type": "code",
   "execution_count": 31,
   "metadata": {},
   "outputs": [
    {
     "data": {
      "text/plain": [
       "54"
      ]
     },
     "execution_count": 31,
     "metadata": {},
     "output_type": "execute_result"
    }
   ],
   "source": [
    "len(select_df.columns)"
   ]
  },
  {
   "cell_type": "code",
   "execution_count": 32,
   "metadata": {},
   "outputs": [
    {
     "name": "stderr",
     "output_type": "stream",
     "text": [
      "C:\\Users\\Gj\\Anaconda3\\lib\\site-packages\\ipykernel_launcher.py:5: SettingWithCopyWarning: \n",
      "A value is trying to be set on a copy of a slice from a DataFrame.\n",
      "Try using .loc[row_indexer,col_indexer] = value instead\n",
      "\n",
      "See the caveats in the documentation: https://pandas.pydata.org/pandas-docs/stable/user_guide/indexing.html#returning-a-view-versus-a-copy\n",
      "  \"\"\"\n"
     ]
    }
   ],
   "source": [
    "each_stock_list = []\n",
    "\n",
    "for stock in stocks:\n",
    "    each_stock = select_df[select_df.stock_id == stock]\n",
    "    each_stock['close'] = each_stock['close'].shift(-7, fill_value=0)\n",
    "    each_stock_list.append(each_stock)"
   ]
  },
  {
   "cell_type": "code",
   "execution_count": 33,
   "metadata": {},
   "outputs": [],
   "source": [
    "df = pd.concat(each_stock_list)"
   ]
  },
  {
   "cell_type": "code",
   "execution_count": 34,
   "metadata": {},
   "outputs": [],
   "source": [
    "df = df.dropna() #subset=df.columns[:-1]"
   ]
  },
  {
   "cell_type": "code",
   "execution_count": 35,
   "metadata": {},
   "outputs": [],
   "source": [
    "encoder = LabelEncoder()"
   ]
  },
  {
   "cell_type": "code",
   "execution_count": 36,
   "metadata": {},
   "outputs": [],
   "source": [
    "df['stock_id'] = encoder.fit_transform(df.stock_id)"
   ]
  },
  {
   "cell_type": "code",
   "execution_count": 37,
   "metadata": {},
   "outputs": [
    {
     "data": {
      "text/plain": [
       "array([0, 1, 2, 3])"
      ]
     },
     "execution_count": 37,
     "metadata": {},
     "output_type": "execute_result"
    }
   ],
   "source": [
    "df.stock_id.unique()"
   ]
  },
  {
   "cell_type": "code",
   "execution_count": 38,
   "metadata": {},
   "outputs": [],
   "source": [
    "scaler = MinMaxScaler()"
   ]
  },
  {
   "cell_type": "markdown",
   "metadata": {},
   "source": [
    "### split dataset"
   ]
  },
  {
   "cell_type": "code",
   "execution_count": 59,
   "metadata": {},
   "outputs": [],
   "source": [
    "X_list = []\n",
    "y_list = []\n",
    "\n",
    "for stock in range(4):\n",
    "    each_stock = df[df.stock_id == stock]\n",
    "    X, y = each_stock.drop(['close'], axis=1), each_stock.close\n",
    "    #X = scaler.fit_transform(X)\n",
    "    X_list.append(X)\n",
    "    y_list.append(y)"
   ]
  },
  {
   "cell_type": "code",
   "execution_count": 60,
   "metadata": {},
   "outputs": [],
   "source": [
    "def split_vals(dataset, n_test):\n",
    "    n = dataset.shape[0] - n_test\n",
    "    train_valid = dataset[:n].copy()\n",
    "    return train_valid[:-n_test].copy(), train_valid[-n_test:n].copy(), dataset[-n_test:]\n",
    "\n",
    "import math\n",
    "\n",
    "def rmse(x,y):\n",
    "    return math.sqrt(((x-y)**2).mean())\n",
    "\n",
    "def print_score(model, X_train, y_train, X_valid, y_valid):\n",
    "    res = [np.sqrt(mean_squared_error(model.predict(X_train), y_train)), \n",
    "           np.sqrt(mean_squared_error(model.predict(X_valid), y_valid)),\n",
    "           model.score(X_train, y_train),\n",
    "           model.score(X_valid, y_valid)]\n",
    "    if hasattr(model, 'oob_score_'):\n",
    "        res.append(model.oob_score_)\n",
    "    print(res)"
   ]
  },
  {
   "cell_type": "markdown",
   "metadata": {},
   "source": [
    "### creating models for 4 different types of stocks"
   ]
  },
  {
   "cell_type": "code",
   "execution_count": 61,
   "metadata": {},
   "outputs": [],
   "source": [
    "rf_reg = RandomForestRegressor(n_jobs=-1, n_estimators=40, min_samples_leaf=1, max_features=0.5)\n",
    "xgb_reg = xgb.XGBRegressor(colsample_bylevel=0.7, colsample_bynode=0.7, colsample_bytree=0.7, \n",
    "                           learning_rate=0.05, n_estimators=400, \n",
    "                           gamma=0.02, max_depth=15)\n",
    "\n",
    "n_test = 7\n",
    "\n",
    "rf_predictions = []\n",
    "xgb_predictions = []\n",
    "rf_scores = []\n",
    "xgb_scores = []\n",
    "y_test_list = []"
   ]
  },
  {
   "cell_type": "markdown",
   "metadata": {},
   "source": [
    "### split the dataset on train, valid and test set\n",
    "### make predictions and add them in lists"
   ]
  },
  {
   "cell_type": "code",
   "execution_count": 62,
   "metadata": {},
   "outputs": [],
   "source": [
    "from sklearn.tree import DecisionTreeClassifier, export_graphviz\n",
    "import IPython\n",
    "import graphviz\n",
    "def draw_tree(t, df, size=10, ratio=0.6, precision=0):\n",
    "    \"\"\" Draws a representation of a random forest in IPython.\n",
    "\n",
    "    Parameters:\n",
    "    -----------\n",
    "    t: The tree you wish to draw\n",
    "    df: The data used to train the tree. This is used to get the names of the features.\n",
    "    \"\"\"\n",
    "    s=export_graphviz(t, out_file=None, feature_names=df.columns, filled=True,\n",
    "                      special_characters=True, rotate=True, precision=precision)\n",
    "    IPython.display.display(graphviz.Source(re.sub('Tree {',\n",
    "       f'Tree {{ size={size}; ratio={ratio}', s)))"
   ]
  },
  {
   "cell_type": "code",
   "execution_count": 63,
   "metadata": {
    "scrolled": true
   },
   "outputs": [],
   "source": [
    "#draw_tree(rf_reg.estimators_[0], X_train, precision=3)"
   ]
  },
  {
   "cell_type": "code",
   "execution_count": 64,
   "metadata": {},
   "outputs": [],
   "source": [
    "#pd.DataFrame(rf_reg.predict(X_train)).to_excel('train_prediction.xlsx')"
   ]
  },
  {
   "cell_type": "code",
   "execution_count": 65,
   "metadata": {
    "scrolled": false
   },
   "outputs": [
    {
     "name": "stdout",
     "output_type": "stream",
     "text": [
      "ALK\n",
      "[6.913050069058517, 38.79684610708927, 0.9999942594615133, 0.8885993720792168]\n",
      "ALK\n",
      "[0.15641615171624737, 28.48373409734298, 0.9999999970611568, 0.9399533697572767]\n"
     ]
    },
    {
     "data": {
      "image/png": "[encoded data removed]",
      "text/plain": [
       "<Figure size 1080x360 with 2 Axes>"
      ]
     },
     "metadata": {
      "needs_background": "light"
     },
     "output_type": "display_data"
    },
    {
     "name": "stdout",
     "output_type": "stream",
     "text": [
      "GRNT\n",
      "[1.9541741204643075, 1.376168334802928, 0.9999838073170235, 0.9360894455922874]\n",
      "GRNT\n",
      "[0.05014808013316479, 6.359592609173711, 0.9999999893364717, -0.36485984130729143]\n"
     ]
    },
    {
     "data": {
      "image/png": "[encoded data removed]",
      "text/plain": [
       "<Figure size 1080x360 with 2 Axes>"
      ]
     },
     "metadata": {
      "needs_background": "light"
     },
     "output_type": "display_data"
    },
    {
     "name": "stdout",
     "output_type": "stream",
     "text": [
      "KMB\n",
      "[9.304065087454553, 10.688979638594283, 0.9999694705512098, 0.9130997764808165]\n",
      "KMB\n",
      "[0.16603643217337202, 18.166834075005568, 0.9999999902774482, 0.7489808277174596]\n"
     ]
    },
    {
     "data": {
      "image/png": "[encoded data removed]",
      "text/plain": [
       "<Figure size 1080x360 with 2 Axes>"
      ]
     },
     "metadata": {
      "needs_background": "light"
     },
     "output_type": "display_data"
    },
    {
     "name": "stdout",
     "output_type": "stream",
     "text": [
      "MPT\n",
      "[97.1353885154551, 119.93712564149325, 0.9999878391884376, 0.9749077797596429]\n",
      "MPT\n",
      "[1.096811138378593, 334.79059573063927, 0.9999999984495017, 0.804485794233269]\n"
     ]
    },
    {
     "data": {
      "image/png": "[encoded data removed]",
      "text/plain": [
       "<Figure size 1080x360 with 2 Axes>"
      ]
     },
     "metadata": {
      "needs_background": "light"
     },
     "output_type": "display_data"
    }
   ],
   "source": [
    "for i in range(4):\n",
    "    X_train, X_valid, X_test = split_vals(X_list[i], n_test)\n",
    "    y_train, y_valid, _ = split_vals(y_list[i], n_test)\n",
    "    rf_reg.fit(X_train, y_train)\n",
    "    print(encoder.inverse_transform([i])[0]), print_score(rf_reg, X_train, y_train, X_valid, y_valid)\n",
    "    xgb_reg.fit(X_train, y_train)\n",
    "    print(encoder.inverse_transform([i])[0]), print_score(xgb_reg, X_train, y_train, X_valid, y_valid)\n",
    "    \n",
    "    rf_predictions.append(rf_reg.predict(X_test))\n",
    "    xgb_predictions.append(xgb_reg.predict(X_test))\n",
    "    rf_scores.append(rf_reg.score(X_valid, y_valid))\n",
    "    xgb_scores.append(xgb_reg.score(X_valid, y_valid))\n",
    "\n",
    "    x_ax = range(len(y_valid))\n",
    "    fig, (ax1, ax2) = plt.subplots(1, 2,figsize=(15,5))\n",
    "    ax1.plot(x_ax, y_valid, label=\"original\")\n",
    "    ax1.plot(x_ax, rf_reg.predict(X_valid), label=\"predicted\")\n",
    "    ax1.set_title('RandomForest')\n",
    "    ax1.legend()\n",
    "    ax2.plot(x_ax, y_valid, label=\"original\")\n",
    "    ax2.plot(x_ax, xgb_reg.predict(X_valid), label=\"predicted\")\n",
    "    ax2.set_title('XGBoost')\n",
    "    ax2.legend()\n",
    "    plt.show()"
   ]
  },
  {
   "cell_type": "markdown",
   "metadata": {},
   "source": [
    "### results"
   ]
  },
  {
   "cell_type": "code",
   "execution_count": 80,
   "metadata": {},
   "outputs": [],
   "source": [
    "import datetime\n",
    "last_day = df_7_days.date.max()\n",
    "prediction_date = last_day + datetime.timedelta(days=7)"
   ]
  },
  {
   "cell_type": "code",
   "execution_count": 91,
   "metadata": {},
   "outputs": [
    {
     "name": "stdout",
     "output_type": "stream",
     "text": [
      "Random Forest results are: \n",
      "\n",
      "Price for ALK on 2020-09-01 will be: 11994.0\n",
      "Price for GRNT on 2020-09-01 will be: 950.0\n",
      "Price for KMB on 2020-09-01 will be: 5891.0\n",
      "Price for MPT on 2020-09-01 will be: 64382.0\n"
     ]
    }
   ],
   "source": [
    "print('Random Forest results are:','\\n')\n",
    "for i in range(4):\n",
    "    print('Price for {} on {} will be:'.format(stocks[i], prediction_date.date()), np.round(rf_predictions[i][-1],0))"
   ]
  },
  {
   "cell_type": "code",
   "execution_count": 92,
   "metadata": {},
   "outputs": [
    {
     "name": "stdout",
     "output_type": "stream",
     "text": [
      "XGBoost results are: \n",
      "\n",
      "Price for ALK on 2020-09-01 will be: 11869.0\n",
      "Price for GRNT on 2020-09-01 will be: 952.0\n",
      "Price for KMB on 2020-09-01 will be: 5886.0\n",
      "Price for MPT on 2020-09-01 will be: 64705.0\n"
     ]
    }
   ],
   "source": [
    "print('XGBoost results are:','\\n')\n",
    "for i in range(4):\n",
    "    print('Price for {} on {} will be:'.format(stocks[i], prediction_date.date()), np.round(xgb_predictions[i][-1],0))"
   ]
  }
 ],
 "metadata": {
  "kernelspec": {
   "display_name": "Python 3",
   "language": "python",
   "name": "python3"
  },
  "language_info": {
   "codemirror_mode": {
    "name": "ipython",
    "version": 3
   },
   "file_extension": ".py",
   "mimetype": "text/x-python",
   "name": "python",
   "nbconvert_exporter": "python",
   "pygments_lexer": "ipython3",
   "version": "3.7.3"
  }
 },
 "nbformat": 4,
 "nbformat_minor": 4
}
