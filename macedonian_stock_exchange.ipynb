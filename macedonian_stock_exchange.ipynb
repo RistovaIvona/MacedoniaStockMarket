{
 "cells": [
  {
   "cell_type": "code",
   "execution_count": 22,
   "metadata": {},
   "outputs": [],
   "source": [
    "#import libraries\n",
    "import numpy \n",
    "import matplotlib.pyplot as plt\n",
    "import pandas as pd\n",
    "import math\n",
    "from keras.models import Sequential\n",
    "from keras.layers import Dense\n",
    "from keras.layers import LSTM\n",
    "from keras.layers import SimpleRNN\n",
    "from sklearn.preprocessing import MinMaxScaler\n",
    "from sklearn.metrics import mean_squared_error\n",
    "from sklearn.metrics import mean_absolute_error\n",
    "from keras.callbacks import ModelCheckpoint, EarlyStopping"
   ]
  },
  {
   "cell_type": "code",
   "execution_count": 24,
   "metadata": {},
   "outputs": [],
   "source": [
    "df = pd.read_csv(r'C:\\Users\\USER\\Desktop\\Data Science Academy\\12_MacedonianStockExchangeMarket\\dataset\\data_mse_mse_historic_data_active.csv', sep=\"\\t\")"
   ]
  },
  {
   "cell_type": "code",
   "execution_count": 20,
   "metadata": {},
   "outputs": [
    {
     "name": "stdout",
     "output_type": "stream",
     "text": [
      "         Date stock_id     Open     High      Low    Close   Volume  \\\n",
      "0  2020-08-25      ALK  12290.0  12222.0  12200.0  12200.0  3660440   \n",
      "1  2020-08-24      ALK  12290.0  12290.0  12289.0  12290.0    73738   \n",
      "2  2020-08-21      ALK  12223.0  12290.0  12289.0  12290.0   614476   \n",
      "3  2020-08-20      ALK  12300.0  12300.0  12223.0  12223.0   651640   \n",
      "4  2020-08-19      ALK  12300.0  12300.0  12300.0  12300.0  2952000   \n",
      "\n",
      "   Adj Close  Quantity   Average  Change %  Volume Total  Ratio  Ratio 1m  \\\n",
      "0    12200.0       300  12201.47     -0.72       3660440  0.878     0.971   \n",
      "1    12290.0         6  12289.67      0.00         73738  0.885     0.978   \n",
      "2    12290.0        50  12289.52     -0.05        614476  0.885     0.978   \n",
      "3    12223.0        53  12295.09     -0.04        651640  0.885     0.979   \n",
      "4    12300.0       240  12300.00      0.00       2952000  0.885     0.979   \n",
      "\n",
      "   Ratio 3m  Ratio 6m  Ratio 1y  Ratio 2y  Ratio 3y  \n",
      "0     0.971     0.937     0.916     0.916     0.916  \n",
      "1     0.978     0.944     0.922     0.922     0.922  \n",
      "2     0.978     0.944     0.922     0.922     0.922  \n",
      "3     0.979     0.945     0.923     0.923     0.923  \n",
      "4     0.979     0.945     0.923     0.923     0.923  \n",
      "(43441, 19)\n",
      "Index(['Date', 'stock_id', 'Open', 'High', 'Low', 'Close', 'Volume',\n",
      "       'Adj Close', 'Quantity', 'Average', 'Change %', 'Volume Total', 'Ratio',\n",
      "       'Ratio 1m', 'Ratio 3m', 'Ratio 6m', 'Ratio 1y', 'Ratio 2y', 'Ratio 3y'],\n",
      "      dtype='object')\n"
     ]
    }
   ],
   "source": [
    "print(df.head())\n",
    "print(df.shape)\n",
    "print(df.columns)"
   ]
  },
  {
   "cell_type": "code",
   "execution_count": 19,
   "metadata": {},
   "outputs": [],
   "source": [
    "def features_build(df):\n",
    "    df['Date'] = pd.to_datetime(df['Date'])\n",
    "    df['Year'] = df['Date'].dt.year\n",
    "    df['Month'] = df.Date.dt.month\n",
    "    df['Day'] = df.Date.dt.day\n",
    "    df['WeekOfYear'] = df.Date.dt.weekofyear"
   ]
  },
  {
   "cell_type": "code",
   "execution_count": 23,
   "metadata": {},
   "outputs": [
    {
     "data": {
      "image/png": "[encoded data removed]",
      "text/plain": [
       "<Figure size 432x288 with 1 Axes>"
      ]
     },
     "metadata": {
      "needs_background": "light"
     },
     "output_type": "display_data"
    }
   ],
   "source": [
    "# Visualize the dataset\n",
    "data = pd.read_csv(r'C:\\Users\\USER\\Desktop\\Data Science Academy\\12_MacedonianStockExchangeMarket\\dataset\\data_mse_mse_historic_data_active.csv', sep=\"\\t\", usecols=['High'], parse_dates=True, squeeze=True)\n",
    "plt.plot(data, color='blue')\n",
    "plt.show()"
   ]
  },
  {
   "cell_type": "markdown",
   "metadata": {},
   "source": [
    "#### TO DO\n",
    "\n",
    "- missing data (dates)\n",
    "- fill the missing data (about dates)\n",
    "- fill the missing data from previous day\n",
    "- target - close price, ratio\n"
   ]
  },
  {
   "cell_type": "code",
   "execution_count": null,
   "metadata": {},
   "outputs": [],
   "source": []
  }
 ],
 "metadata": {
  "kernelspec": {
   "display_name": "Python 3",
   "language": "python",
   "name": "python3"
  },
  "language_info": {
   "codemirror_mode": {
    "name": "ipython",
    "version": 3
   },
   "file_extension": ".py",
   "mimetype": "text/x-python",
   "name": "python",
   "nbconvert_exporter": "python",
   "pygments_lexer": "ipython3",
   "version": "3.7.3"
  }
 },
 "nbformat": 4,
 "nbformat_minor": 2
}
