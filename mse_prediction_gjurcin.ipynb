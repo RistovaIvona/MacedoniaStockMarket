{
 "cells": [
  {
   "cell_type": "code",
   "execution_count": 1,
   "metadata": {},
   "outputs": [
    {
     "name": "stderr",
     "output_type": "stream",
     "text": [
      "C:\\Users\\Gj\\Anaconda3\\lib\\importlib\\_bootstrap.py:219: RuntimeWarning: numpy.ufunc size changed, may indicate binary incompatibility. Expected 192 from C header, got 216 from PyObject\n",
      "  return f(*args, **kwds)\n"
     ]
    }
   ],
   "source": [
    "import pandas as pd\n",
    "import numpy as np\n",
    "import scipy as sp\n",
    "import matplotlib.pyplot as plt\n",
    "import seaborn as sns\n",
    "import math\n",
    "\n",
    "from keras.models import Sequential\n",
    "from keras.layers import Dense, LSTM, SimpleRNN, Activation\n",
    "from sklearn.preprocessing import MinMaxScaler\n",
    "from sklearn.metrics import mean_squared_error, mean_absolute_error\n",
    "from keras.callbacks import ModelCheckpoint, EarlyStopping\n",
    "\n",
    "%matplotlib inline"
   ]
  },
  {
   "cell_type": "markdown",
   "metadata": {},
   "source": [
    "# Loading Dataset"
   ]
  },
  {
   "cell_type": "code",
   "execution_count": 2,
   "metadata": {},
   "outputs": [],
   "source": [
    "stock_exchange_mk = pd.read_csv('data_mse_mse_historic_data_active.csv', sep='\\t', parse_dates=['Date'])"
   ]
  },
  {
   "cell_type": "code",
   "execution_count": 3,
   "metadata": {},
   "outputs": [],
   "source": [
    "df = pd.DataFrame(stock_exchange_mk)\n",
    "df[\"stock_id\"] = df[\"stock_id\"].astype('category')\n",
    "df.columns = df.columns.str.lower()"
   ]
  },
  {
   "cell_type": "markdown",
   "metadata": {},
   "source": [
    "# Missing Dates"
   ]
  },
  {
   "cell_type": "code",
   "execution_count": 103,
   "metadata": {},
   "outputs": [],
   "source": [
    "stocks = df.stock_id.unique()\n",
    "dates_all = df.set_index('date').index\n",
    "idx = pd.MultiIndex.from_product((dates_all, stocks), names=['date', 'stock_id'])\n",
    "df = df.set_index(['date', 'stock_id']).reindex(idx, fill_value=0).reset_index()"
   ]
  },
  {
   "cell_type": "code",
   "execution_count": 169,
   "metadata": {},
   "outputs": [],
   "source": [
    "date_index = []\n",
    "for i in df_list:\n",
    "    idx = min(i.date)[0][1]\n",
    "    date_index.append(idx)"
   ]
  },
  {
   "cell_type": "code",
   "execution_count": 176,
   "metadata": {},
   "outputs": [],
   "source": [
    "start_date = dict(zip(stocks, date_index))"
   ]
  },
  {
   "cell_type": "code",
   "execution_count": 192,
   "metadata": {},
   "outputs": [
    {
     "data": {
      "text/html": [
       "<div>\n",
       "<style scoped>\n",
       "    .dataframe tbody tr th:only-of-type {\n",
       "        vertical-align: middle;\n",
       "    }\n",
       "\n",
       "    .dataframe tbody tr th {\n",
       "        vertical-align: top;\n",
       "    }\n",
       "\n",
       "    .dataframe thead th {\n",
       "        text-align: right;\n",
       "    }\n",
       "</style>\n",
       "<table border=\"1\" class=\"dataframe\">\n",
       "  <thead>\n",
       "    <tr style=\"text-align: right;\">\n",
       "      <th></th>\n",
       "      <th>0</th>\n",
       "    </tr>\n",
       "  </thead>\n",
       "  <tbody>\n",
       "    <tr>\n",
       "      <th>ALK</th>\n",
       "      <td>1997-01-09</td>\n",
       "    </tr>\n",
       "    <tr>\n",
       "      <th>BESK</th>\n",
       "      <td>2002-10-10</td>\n",
       "    </tr>\n",
       "    <tr>\n",
       "      <th>FERS</th>\n",
       "      <td>1999-04-15</td>\n",
       "    </tr>\n",
       "    <tr>\n",
       "      <th>GRNT</th>\n",
       "      <td>1999-10-28</td>\n",
       "    </tr>\n",
       "    <tr>\n",
       "      <th>KMB</th>\n",
       "      <td>1997-05-15</td>\n",
       "    </tr>\n",
       "    <tr>\n",
       "      <th>MPT</th>\n",
       "      <td>1998-05-19</td>\n",
       "    </tr>\n",
       "    <tr>\n",
       "      <th>MTUR</th>\n",
       "      <td>1998-07-23</td>\n",
       "    </tr>\n",
       "    <tr>\n",
       "      <th>OKTA</th>\n",
       "      <td>2000-03-21</td>\n",
       "    </tr>\n",
       "    <tr>\n",
       "      <th>PKB</th>\n",
       "      <td>1999-11-09</td>\n",
       "    </tr>\n",
       "    <tr>\n",
       "      <th>PPIV</th>\n",
       "      <td>1999-05-18</td>\n",
       "    </tr>\n",
       "    <tr>\n",
       "      <th>REPL</th>\n",
       "      <td>2001-02-01</td>\n",
       "    </tr>\n",
       "    <tr>\n",
       "      <th>SBT</th>\n",
       "      <td>1998-05-26</td>\n",
       "    </tr>\n",
       "    <tr>\n",
       "      <th>STBP</th>\n",
       "      <td>2001-10-09</td>\n",
       "    </tr>\n",
       "    <tr>\n",
       "      <th>STB</th>\n",
       "      <td>2002-04-04</td>\n",
       "    </tr>\n",
       "    <tr>\n",
       "      <th>STIL</th>\n",
       "      <td>1997-12-16</td>\n",
       "    </tr>\n",
       "    <tr>\n",
       "      <th>TEL</th>\n",
       "      <td>2006-07-18</td>\n",
       "    </tr>\n",
       "    <tr>\n",
       "      <th>TKVS</th>\n",
       "      <td>2003-05-12</td>\n",
       "    </tr>\n",
       "    <tr>\n",
       "      <th>TNB</th>\n",
       "      <td>1998-06-30</td>\n",
       "    </tr>\n",
       "    <tr>\n",
       "      <th>TTK</th>\n",
       "      <td>2006-07-26</td>\n",
       "    </tr>\n",
       "    <tr>\n",
       "      <th>UNI</th>\n",
       "      <td>1998-01-29</td>\n",
       "    </tr>\n",
       "    <tr>\n",
       "      <th>USJE</th>\n",
       "      <td>1997-04-24</td>\n",
       "    </tr>\n",
       "    <tr>\n",
       "      <th>VITA</th>\n",
       "      <td>1998-10-13</td>\n",
       "    </tr>\n",
       "  </tbody>\n",
       "</table>\n",
       "</div>"
      ],
      "text/plain": [
       "               0\n",
       "ALK   1997-01-09\n",
       "BESK  2002-10-10\n",
       "FERS  1999-04-15\n",
       "GRNT  1999-10-28\n",
       "KMB   1997-05-15\n",
       "MPT   1998-05-19\n",
       "MTUR  1998-07-23\n",
       "OKTA  2000-03-21\n",
       "PKB   1999-11-09\n",
       "PPIV  1999-05-18\n",
       "REPL  2001-02-01\n",
       "SBT   1998-05-26\n",
       "STBP  2001-10-09\n",
       "STB   2002-04-04\n",
       "STIL  1997-12-16\n",
       "TEL   2006-07-18\n",
       "TKVS  2003-05-12\n",
       "TNB   1998-06-30\n",
       "TTK   2006-07-26\n",
       "UNI   1998-01-29\n",
       "USJE  1997-04-24\n",
       "VITA  1998-10-13"
      ]
     },
     "execution_count": 192,
     "metadata": {},
     "output_type": "execute_result"
    }
   ],
   "source": [
    "start_date_df = pd.DataFrame.from_dict(start_date, orient=\"index\")\n",
    "start_date_df"
   ]
  },
  {
   "cell_type": "code",
   "execution_count": 191,
   "metadata": {},
   "outputs": [
    {
     "data": {
      "text/html": [
       "<div>\n",
       "<style scoped>\n",
       "    .dataframe tbody tr th:only-of-type {\n",
       "        vertical-align: middle;\n",
       "    }\n",
       "\n",
       "    .dataframe tbody tr th {\n",
       "        vertical-align: top;\n",
       "    }\n",
       "\n",
       "    .dataframe thead th {\n",
       "        text-align: right;\n",
       "    }\n",
       "</style>\n",
       "<table border=\"1\" class=\"dataframe\">\n",
       "  <thead>\n",
       "    <tr style=\"text-align: right;\">\n",
       "      <th></th>\n",
       "      <th>stock_id</th>\n",
       "      <th>date</th>\n",
       "    </tr>\n",
       "  </thead>\n",
       "  <tbody>\n",
       "    <tr>\n",
       "      <th>0</th>\n",
       "      <td>ALK</td>\n",
       "      <td>2020-08-25</td>\n",
       "    </tr>\n",
       "    <tr>\n",
       "      <th>1</th>\n",
       "      <td>BESK</td>\n",
       "      <td>2020-08-25</td>\n",
       "    </tr>\n",
       "    <tr>\n",
       "      <th>2</th>\n",
       "      <td>FERS</td>\n",
       "      <td>2020-08-25</td>\n",
       "    </tr>\n",
       "    <tr>\n",
       "      <th>3</th>\n",
       "      <td>GRNT</td>\n",
       "      <td>2020-08-25</td>\n",
       "    </tr>\n",
       "    <tr>\n",
       "      <th>4</th>\n",
       "      <td>KMB</td>\n",
       "      <td>2020-08-25</td>\n",
       "    </tr>\n",
       "    <tr>\n",
       "      <th>...</th>\n",
       "      <td>...</td>\n",
       "      <td>...</td>\n",
       "    </tr>\n",
       "    <tr>\n",
       "      <th>955697</th>\n",
       "      <td>TNB</td>\n",
       "      <td>1998-10-13</td>\n",
       "    </tr>\n",
       "    <tr>\n",
       "      <th>955698</th>\n",
       "      <td>TTK</td>\n",
       "      <td>1998-10-13</td>\n",
       "    </tr>\n",
       "    <tr>\n",
       "      <th>955699</th>\n",
       "      <td>UNI</td>\n",
       "      <td>1998-10-13</td>\n",
       "    </tr>\n",
       "    <tr>\n",
       "      <th>955700</th>\n",
       "      <td>USJE</td>\n",
       "      <td>1998-10-13</td>\n",
       "    </tr>\n",
       "    <tr>\n",
       "      <th>955701</th>\n",
       "      <td>VITA</td>\n",
       "      <td>1998-10-13</td>\n",
       "    </tr>\n",
       "  </tbody>\n",
       "</table>\n",
       "<p>955702 rows × 2 columns</p>\n",
       "</div>"
      ],
      "text/plain": [
       "       stock_id       date\n",
       "0           ALK 2020-08-25\n",
       "1          BESK 2020-08-25\n",
       "2          FERS 2020-08-25\n",
       "3          GRNT 2020-08-25\n",
       "4           KMB 2020-08-25\n",
       "...         ...        ...\n",
       "955697      TNB 1998-10-13\n",
       "955698      TTK 1998-10-13\n",
       "955699      UNI 1998-10-13\n",
       "955700     USJE 1998-10-13\n",
       "955701     VITA 1998-10-13\n",
       "\n",
       "[955702 rows x 2 columns]"
      ]
     },
     "execution_count": 191,
     "metadata": {},
     "output_type": "execute_result"
    }
   ],
   "source": [
    "for i in df.drop()"
   ]
  },
  {
   "cell_type": "code",
   "execution_count": null,
   "metadata": {},
   "outputs": [],
   "source": []
  }
 ],
 "metadata": {
  "kernelspec": {
   "display_name": "Python 3",
   "language": "python",
   "name": "python3"
  },
  "language_info": {
   "codemirror_mode": {
    "name": "ipython",
    "version": 3
   },
   "file_extension": ".py",
   "mimetype": "text/x-python",
   "name": "python",
   "nbconvert_exporter": "python",
   "pygments_lexer": "ipython3",
   "version": "3.7.3"
  }
 },
 "nbformat": 4,
 "nbformat_minor": 4
}
