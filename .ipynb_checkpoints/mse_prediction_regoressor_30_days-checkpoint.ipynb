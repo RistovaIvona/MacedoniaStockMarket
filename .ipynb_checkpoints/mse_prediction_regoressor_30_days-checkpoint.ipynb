{
 "cells": [
  {
   "cell_type": "code",
   "execution_count": 146,
   "metadata": {},
   "outputs": [],
   "source": [
    "import pandas as pd\n",
    "import numpy as np\n",
    "import scipy as sp\n",
    "import matplotlib.pyplot as plt\n",
    "import seaborn as sns\n",
    "import math\n",
    "import itertools\n",
    "import regex as re\n",
    "\n",
    "import xgboost as xgb\n",
    "from sklearn.ensemble import RandomForestRegressor\n",
    "from sklearn.preprocessing import MinMaxScaler, LabelEncoder\n",
    "from sklearn.metrics import mean_squared_error, mean_absolute_error\n",
    "from sklearn.preprocessing import StandardScaler, Normalizer, MinMaxScaler, normalize\n",
    "from sklearn.model_selection import train_test_split, GridSearchCV\n",
    "\n",
    "from keras.callbacks import ModelCheckpoint, EarlyStopping\n",
    "from keras.models import Sequential\n",
    "from keras.layers import Dense, LSTM, SimpleRNN, Activation\n",
    "%matplotlib inline"
   ]
  },
  {
   "cell_type": "markdown",
   "metadata": {},
   "source": [
    "### loading preprocessed dataset"
   ]
  },
  {
   "cell_type": "code",
   "execution_count": 351,
   "metadata": {},
   "outputs": [],
   "source": [
    "df = pd.read_csv('tmp/mse_raw.csv', parse_dates=['date', 'start_date'], index_col='Unnamed: 0')"
   ]
  },
  {
   "cell_type": "code",
   "execution_count": 352,
   "metadata": {},
   "outputs": [
    {
     "data": {
      "text/html": [
       "<div>\n",
       "<style scoped>\n",
       "    .dataframe tbody tr th:only-of-type {\n",
       "        vertical-align: middle;\n",
       "    }\n",
       "\n",
       "    .dataframe tbody tr th {\n",
       "        vertical-align: top;\n",
       "    }\n",
       "\n",
       "    .dataframe thead th {\n",
       "        text-align: right;\n",
       "    }\n",
       "</style>\n",
       "<table border=\"1\" class=\"dataframe\">\n",
       "  <thead>\n",
       "    <tr style=\"text-align: right;\">\n",
       "      <th></th>\n",
       "      <th>stock_id</th>\n",
       "      <th>date</th>\n",
       "      <th>open</th>\n",
       "      <th>high</th>\n",
       "      <th>low</th>\n",
       "      <th>average</th>\n",
       "      <th>close</th>\n",
       "      <th>volume</th>\n",
       "      <th>quantity</th>\n",
       "      <th>change %</th>\n",
       "      <th>volume total</th>\n",
       "      <th>start_date</th>\n",
       "    </tr>\n",
       "  </thead>\n",
       "  <tbody>\n",
       "    <tr>\n",
       "      <th>0</th>\n",
       "      <td>ALK</td>\n",
       "      <td>1997-01-09</td>\n",
       "      <td>1070.0</td>\n",
       "      <td>1070.0</td>\n",
       "      <td>1070.0</td>\n",
       "      <td>1070.0</td>\n",
       "      <td>1070.0</td>\n",
       "      <td>279270.0</td>\n",
       "      <td>261.0</td>\n",
       "      <td>0.0</td>\n",
       "      <td>279270.0</td>\n",
       "      <td>1997-01-09</td>\n",
       "    </tr>\n",
       "    <tr>\n",
       "      <th>22</th>\n",
       "      <td>ALK</td>\n",
       "      <td>1997-01-10</td>\n",
       "      <td>1070.0</td>\n",
       "      <td>1070.0</td>\n",
       "      <td>1070.0</td>\n",
       "      <td>1070.0</td>\n",
       "      <td>1070.0</td>\n",
       "      <td>0.0</td>\n",
       "      <td>0.0</td>\n",
       "      <td>0.0</td>\n",
       "      <td>0.0</td>\n",
       "      <td>1997-01-09</td>\n",
       "    </tr>\n",
       "    <tr>\n",
       "      <th>44</th>\n",
       "      <td>ALK</td>\n",
       "      <td>1997-01-11</td>\n",
       "      <td>1070.0</td>\n",
       "      <td>1070.0</td>\n",
       "      <td>1070.0</td>\n",
       "      <td>1070.0</td>\n",
       "      <td>1070.0</td>\n",
       "      <td>0.0</td>\n",
       "      <td>0.0</td>\n",
       "      <td>0.0</td>\n",
       "      <td>0.0</td>\n",
       "      <td>1997-01-09</td>\n",
       "    </tr>\n",
       "    <tr>\n",
       "      <th>66</th>\n",
       "      <td>ALK</td>\n",
       "      <td>1997-01-12</td>\n",
       "      <td>1070.0</td>\n",
       "      <td>1070.0</td>\n",
       "      <td>1070.0</td>\n",
       "      <td>1070.0</td>\n",
       "      <td>1070.0</td>\n",
       "      <td>0.0</td>\n",
       "      <td>0.0</td>\n",
       "      <td>0.0</td>\n",
       "      <td>0.0</td>\n",
       "      <td>1997-01-09</td>\n",
       "    </tr>\n",
       "    <tr>\n",
       "      <th>88</th>\n",
       "      <td>ALK</td>\n",
       "      <td>1997-01-13</td>\n",
       "      <td>1070.0</td>\n",
       "      <td>1070.0</td>\n",
       "      <td>1070.0</td>\n",
       "      <td>1070.0</td>\n",
       "      <td>1070.0</td>\n",
       "      <td>0.0</td>\n",
       "      <td>0.0</td>\n",
       "      <td>0.0</td>\n",
       "      <td>0.0</td>\n",
       "      <td>1997-01-09</td>\n",
       "    </tr>\n",
       "  </tbody>\n",
       "</table>\n",
       "</div>"
      ],
      "text/plain": [
       "   stock_id       date    open    high     low  average   close    volume  \\\n",
       "0       ALK 1997-01-09  1070.0  1070.0  1070.0   1070.0  1070.0  279270.0   \n",
       "22      ALK 1997-01-10  1070.0  1070.0  1070.0   1070.0  1070.0       0.0   \n",
       "44      ALK 1997-01-11  1070.0  1070.0  1070.0   1070.0  1070.0       0.0   \n",
       "66      ALK 1997-01-12  1070.0  1070.0  1070.0   1070.0  1070.0       0.0   \n",
       "88      ALK 1997-01-13  1070.0  1070.0  1070.0   1070.0  1070.0       0.0   \n",
       "\n",
       "    quantity  change %  volume total start_date  \n",
       "0      261.0       0.0      279270.0 1997-01-09  \n",
       "22       0.0       0.0           0.0 1997-01-09  \n",
       "44       0.0       0.0           0.0 1997-01-09  \n",
       "66       0.0       0.0           0.0 1997-01-09  \n",
       "88       0.0       0.0           0.0 1997-01-09  "
      ]
     },
     "execution_count": 352,
     "metadata": {},
     "output_type": "execute_result"
    }
   ],
   "source": [
    "df.head(5)"
   ]
  },
  {
   "cell_type": "markdown",
   "metadata": {},
   "source": [
    "## feature engineering"
   ]
  },
  {
   "cell_type": "code",
   "execution_count": 353,
   "metadata": {},
   "outputs": [],
   "source": [
    "# dates - (year, month, day etc...)\n",
    "# rolling - (QTY, volume, volumne total etc...) depend on target (1day, 7days, 30days up to 1 year)\n",
    "# target closing price - (1day, 7days, 30days, 2months etc)\n",
    "# target QTY - (1day, 7days, 30days, 2months etc)"
   ]
  },
  {
   "cell_type": "code",
   "execution_count": 354,
   "metadata": {},
   "outputs": [],
   "source": [
    "df_final = df.copy()"
   ]
  },
  {
   "cell_type": "code",
   "execution_count": 355,
   "metadata": {},
   "outputs": [],
   "source": [
    "def display_all(df):\n",
    "    with pd.option_context(\"display.max_rows\", 10000, \"display.max_columns\", 10000): \n",
    "        display(df)"
   ]
  },
  {
   "cell_type": "markdown",
   "metadata": {},
   "source": [
    "### date extraction"
   ]
  },
  {
   "cell_type": "code",
   "execution_count": 356,
   "metadata": {},
   "outputs": [],
   "source": [
    "df_final['sale_year'] = df_final.date.dt.year\n",
    "df_final['sale_month'] = df_final.date.dt.month\n",
    "df_final['sale_week'] = df_final.date.dt.week\n",
    "df_final['sale_day'] = df_final.date.dt.day\n",
    "df_final['sale_dayofweek'] = df_final.date.dt.dayofweek\n",
    "df_final['sale_dayofyear'] = df_final.date.dt.dayofyear\n",
    "df_final['is_month_end'] = df_final.date.dt.is_month_end\n",
    "df_final['is_month_start'] = df_final.date.dt.is_month_start\n",
    "df_final['is_quarter_end'] = df_final.date.dt.is_quarter_end\n",
    "df_final['is_quarter_start'] = df_final.date.dt.is_quarter_start\n",
    "df_final['is_year_end'] = df_final.date.dt.is_year_end\n",
    "df_final['is_year_start'] = df_final.date.dt.is_year_start\n",
    "df_final['days_in_month'] = df_final.date.dt.days_in_month\n",
    "df_final['is_leap_year'] = df_final.date.dt.is_leap_year\n",
    "df_final['sales_elapsed'] = df_final.date - df_final.start_date\n",
    "df_final['sales_elapsed'] = df_final.sales_elapsed.dt.days"
   ]
  },
  {
   "cell_type": "code",
   "execution_count": 357,
   "metadata": {},
   "outputs": [
    {
     "data": {
      "text/html": [
       "<div>\n",
       "<style scoped>\n",
       "    .dataframe tbody tr th:only-of-type {\n",
       "        vertical-align: middle;\n",
       "    }\n",
       "\n",
       "    .dataframe tbody tr th {\n",
       "        vertical-align: top;\n",
       "    }\n",
       "\n",
       "    .dataframe thead th {\n",
       "        text-align: right;\n",
       "    }\n",
       "</style>\n",
       "<table border=\"1\" class=\"dataframe\">\n",
       "  <thead>\n",
       "    <tr style=\"text-align: right;\">\n",
       "      <th></th>\n",
       "      <th>stock_id</th>\n",
       "      <th>date</th>\n",
       "      <th>open</th>\n",
       "      <th>high</th>\n",
       "      <th>low</th>\n",
       "      <th>average</th>\n",
       "      <th>close</th>\n",
       "      <th>volume</th>\n",
       "      <th>quantity</th>\n",
       "      <th>change %</th>\n",
       "      <th>volume total</th>\n",
       "      <th>start_date</th>\n",
       "      <th>sale_year</th>\n",
       "      <th>sale_month</th>\n",
       "      <th>sale_week</th>\n",
       "      <th>sale_day</th>\n",
       "      <th>sale_dayofweek</th>\n",
       "      <th>sale_dayofyear</th>\n",
       "      <th>is_month_end</th>\n",
       "      <th>is_month_start</th>\n",
       "      <th>is_quarter_end</th>\n",
       "      <th>is_quarter_start</th>\n",
       "      <th>is_year_end</th>\n",
       "      <th>is_year_start</th>\n",
       "      <th>days_in_month</th>\n",
       "      <th>is_leap_year</th>\n",
       "      <th>sales_elapsed</th>\n",
       "    </tr>\n",
       "  </thead>\n",
       "  <tbody>\n",
       "    <tr>\n",
       "      <th>189837</th>\n",
       "      <td>VITA</td>\n",
       "      <td>2020-08-24</td>\n",
       "      <td>14080.0</td>\n",
       "      <td>14080.0</td>\n",
       "      <td>14080.0</td>\n",
       "      <td>14080.0</td>\n",
       "      <td>14080.0</td>\n",
       "      <td>0.0</td>\n",
       "      <td>0.0</td>\n",
       "      <td>0.0</td>\n",
       "      <td>0.0</td>\n",
       "      <td>1998-10-13</td>\n",
       "      <td>2020</td>\n",
       "      <td>8</td>\n",
       "      <td>35</td>\n",
       "      <td>24</td>\n",
       "      <td>0</td>\n",
       "      <td>237</td>\n",
       "      <td>False</td>\n",
       "      <td>False</td>\n",
       "      <td>False</td>\n",
       "      <td>False</td>\n",
       "      <td>False</td>\n",
       "      <td>False</td>\n",
       "      <td>31</td>\n",
       "      <td>True</td>\n",
       "      <td>7986</td>\n",
       "    </tr>\n",
       "    <tr>\n",
       "      <th>189859</th>\n",
       "      <td>VITA</td>\n",
       "      <td>2020-08-25</td>\n",
       "      <td>14080.0</td>\n",
       "      <td>14080.0</td>\n",
       "      <td>14080.0</td>\n",
       "      <td>14080.0</td>\n",
       "      <td>14080.0</td>\n",
       "      <td>0.0</td>\n",
       "      <td>0.0</td>\n",
       "      <td>0.0</td>\n",
       "      <td>0.0</td>\n",
       "      <td>1998-10-13</td>\n",
       "      <td>2020</td>\n",
       "      <td>8</td>\n",
       "      <td>35</td>\n",
       "      <td>25</td>\n",
       "      <td>1</td>\n",
       "      <td>238</td>\n",
       "      <td>False</td>\n",
       "      <td>False</td>\n",
       "      <td>False</td>\n",
       "      <td>False</td>\n",
       "      <td>False</td>\n",
       "      <td>False</td>\n",
       "      <td>31</td>\n",
       "      <td>True</td>\n",
       "      <td>7987</td>\n",
       "    </tr>\n",
       "  </tbody>\n",
       "</table>\n",
       "</div>"
      ],
      "text/plain": [
       "       stock_id       date     open     high      low  average    close  \\\n",
       "189837     VITA 2020-08-24  14080.0  14080.0  14080.0  14080.0  14080.0   \n",
       "189859     VITA 2020-08-25  14080.0  14080.0  14080.0  14080.0  14080.0   \n",
       "\n",
       "        volume  quantity  change %  volume total start_date  sale_year  \\\n",
       "189837     0.0       0.0       0.0           0.0 1998-10-13       2020   \n",
       "189859     0.0       0.0       0.0           0.0 1998-10-13       2020   \n",
       "\n",
       "        sale_month  sale_week  sale_day  sale_dayofweek  sale_dayofyear  \\\n",
       "189837           8         35        24               0             237   \n",
       "189859           8         35        25               1             238   \n",
       "\n",
       "        is_month_end  is_month_start  is_quarter_end  is_quarter_start  \\\n",
       "189837         False           False           False             False   \n",
       "189859         False           False           False             False   \n",
       "\n",
       "        is_year_end  is_year_start  days_in_month  is_leap_year  sales_elapsed  \n",
       "189837        False          False             31          True           7986  \n",
       "189859        False          False             31          True           7987  "
      ]
     },
     "metadata": {},
     "output_type": "display_data"
    }
   ],
   "source": [
    "display_all(df_final.tail(2))"
   ]
  },
  {
   "cell_type": "markdown",
   "metadata": {},
   "source": [
    "### rolling"
   ]
  },
  {
   "cell_type": "code",
   "execution_count": 358,
   "metadata": {},
   "outputs": [],
   "source": [
    "df_final = df_final.set_index('date')"
   ]
  },
  {
   "cell_type": "code",
   "execution_count": 359,
   "metadata": {},
   "outputs": [
    {
     "data": {
      "text/html": [
       "<div>\n",
       "<style scoped>\n",
       "    .dataframe tbody tr th:only-of-type {\n",
       "        vertical-align: middle;\n",
       "    }\n",
       "\n",
       "    .dataframe tbody tr th {\n",
       "        vertical-align: top;\n",
       "    }\n",
       "\n",
       "    .dataframe thead th {\n",
       "        text-align: right;\n",
       "    }\n",
       "</style>\n",
       "<table border=\"1\" class=\"dataframe\">\n",
       "  <thead>\n",
       "    <tr style=\"text-align: right;\">\n",
       "      <th></th>\n",
       "      <th>stock_id</th>\n",
       "      <th>open</th>\n",
       "      <th>high</th>\n",
       "      <th>low</th>\n",
       "      <th>average</th>\n",
       "      <th>close</th>\n",
       "      <th>volume</th>\n",
       "      <th>quantity</th>\n",
       "      <th>change %</th>\n",
       "      <th>volume total</th>\n",
       "      <th>...</th>\n",
       "      <th>sale_dayofyear</th>\n",
       "      <th>is_month_end</th>\n",
       "      <th>is_month_start</th>\n",
       "      <th>is_quarter_end</th>\n",
       "      <th>is_quarter_start</th>\n",
       "      <th>is_year_end</th>\n",
       "      <th>is_year_start</th>\n",
       "      <th>days_in_month</th>\n",
       "      <th>is_leap_year</th>\n",
       "      <th>sales_elapsed</th>\n",
       "    </tr>\n",
       "    <tr>\n",
       "      <th>date</th>\n",
       "      <th></th>\n",
       "      <th></th>\n",
       "      <th></th>\n",
       "      <th></th>\n",
       "      <th></th>\n",
       "      <th></th>\n",
       "      <th></th>\n",
       "      <th></th>\n",
       "      <th></th>\n",
       "      <th></th>\n",
       "      <th></th>\n",
       "      <th></th>\n",
       "      <th></th>\n",
       "      <th></th>\n",
       "      <th></th>\n",
       "      <th></th>\n",
       "      <th></th>\n",
       "      <th></th>\n",
       "      <th></th>\n",
       "      <th></th>\n",
       "      <th></th>\n",
       "    </tr>\n",
       "  </thead>\n",
       "  <tbody>\n",
       "    <tr>\n",
       "      <th>1997-01-09</th>\n",
       "      <td>ALK</td>\n",
       "      <td>1070.0</td>\n",
       "      <td>1070.0</td>\n",
       "      <td>1070.0</td>\n",
       "      <td>1070.0</td>\n",
       "      <td>1070.0</td>\n",
       "      <td>279270.0</td>\n",
       "      <td>261.0</td>\n",
       "      <td>0.0</td>\n",
       "      <td>279270.0</td>\n",
       "      <td>...</td>\n",
       "      <td>9</td>\n",
       "      <td>False</td>\n",
       "      <td>False</td>\n",
       "      <td>False</td>\n",
       "      <td>False</td>\n",
       "      <td>False</td>\n",
       "      <td>False</td>\n",
       "      <td>31</td>\n",
       "      <td>False</td>\n",
       "      <td>0</td>\n",
       "    </tr>\n",
       "    <tr>\n",
       "      <th>1997-01-10</th>\n",
       "      <td>ALK</td>\n",
       "      <td>1070.0</td>\n",
       "      <td>1070.0</td>\n",
       "      <td>1070.0</td>\n",
       "      <td>1070.0</td>\n",
       "      <td>1070.0</td>\n",
       "      <td>0.0</td>\n",
       "      <td>0.0</td>\n",
       "      <td>0.0</td>\n",
       "      <td>0.0</td>\n",
       "      <td>...</td>\n",
       "      <td>10</td>\n",
       "      <td>False</td>\n",
       "      <td>False</td>\n",
       "      <td>False</td>\n",
       "      <td>False</td>\n",
       "      <td>False</td>\n",
       "      <td>False</td>\n",
       "      <td>31</td>\n",
       "      <td>False</td>\n",
       "      <td>1</td>\n",
       "    </tr>\n",
       "    <tr>\n",
       "      <th>1997-01-11</th>\n",
       "      <td>ALK</td>\n",
       "      <td>1070.0</td>\n",
       "      <td>1070.0</td>\n",
       "      <td>1070.0</td>\n",
       "      <td>1070.0</td>\n",
       "      <td>1070.0</td>\n",
       "      <td>0.0</td>\n",
       "      <td>0.0</td>\n",
       "      <td>0.0</td>\n",
       "      <td>0.0</td>\n",
       "      <td>...</td>\n",
       "      <td>11</td>\n",
       "      <td>False</td>\n",
       "      <td>False</td>\n",
       "      <td>False</td>\n",
       "      <td>False</td>\n",
       "      <td>False</td>\n",
       "      <td>False</td>\n",
       "      <td>31</td>\n",
       "      <td>False</td>\n",
       "      <td>2</td>\n",
       "    </tr>\n",
       "  </tbody>\n",
       "</table>\n",
       "<p>3 rows × 26 columns</p>\n",
       "</div>"
      ],
      "text/plain": [
       "           stock_id    open    high     low  average   close    volume  \\\n",
       "date                                                                     \n",
       "1997-01-09      ALK  1070.0  1070.0  1070.0   1070.0  1070.0  279270.0   \n",
       "1997-01-10      ALK  1070.0  1070.0  1070.0   1070.0  1070.0       0.0   \n",
       "1997-01-11      ALK  1070.0  1070.0  1070.0   1070.0  1070.0       0.0   \n",
       "\n",
       "            quantity  change %  volume total  ... sale_dayofyear  \\\n",
       "date                                          ...                  \n",
       "1997-01-09     261.0       0.0      279270.0  ...              9   \n",
       "1997-01-10       0.0       0.0           0.0  ...             10   \n",
       "1997-01-11       0.0       0.0           0.0  ...             11   \n",
       "\n",
       "            is_month_end  is_month_start  is_quarter_end  is_quarter_start  \\\n",
       "date                                                                         \n",
       "1997-01-09         False           False           False             False   \n",
       "1997-01-10         False           False           False             False   \n",
       "1997-01-11         False           False           False             False   \n",
       "\n",
       "            is_year_end  is_year_start  days_in_month  is_leap_year  \\\n",
       "date                                                                  \n",
       "1997-01-09        False          False             31         False   \n",
       "1997-01-10        False          False             31         False   \n",
       "1997-01-11        False          False             31         False   \n",
       "\n",
       "            sales_elapsed  \n",
       "date                       \n",
       "1997-01-09              0  \n",
       "1997-01-10              1  \n",
       "1997-01-11              2  \n",
       "\n",
       "[3 rows x 26 columns]"
      ]
     },
     "execution_count": 359,
     "metadata": {},
     "output_type": "execute_result"
    }
   ],
   "source": [
    "df_final.head(3)"
   ]
  },
  {
   "cell_type": "code",
   "execution_count": 360,
   "metadata": {},
   "outputs": [],
   "source": [
    "#rolloing list for 30 days target shifted by 30 days\n",
    "sum_7_qty_by_stock = []\n",
    "sum_30_qty_by_stock = []\n",
    "volumne_moving_avg_7 = []\n",
    "volumne_moving_avg_30 = []\n",
    "close_moving_avg_7 = []\n",
    "close_moving_avg_30 = []\n",
    "close_volatility_7 = []\n",
    "close_volatility_30 = []\n",
    "max_7_days = []\n",
    "max_30_days = []\n",
    "min_7_days = []\n",
    "min_30_days = []\n",
    "change_by_stock_daily_prev = []\n",
    "profitability_daily_prev = []\n",
    "ratio_prev = []"
   ]
  },
  {
   "cell_type": "code",
   "execution_count": 361,
   "metadata": {},
   "outputs": [],
   "source": [
    "for stock in df_final.stock_id.unique():\n",
    "    # sum quantity over last 7 days\n",
    "    qty_sum_7 = df_final[df_final.stock_id == stock].quantity.shift(30).rolling(7).sum()\n",
    "    sum_7_qty_by_stock.append(qty_sum_7)\n",
    "    # sum quantity over last 30 days\n",
    "    qty_sum_30 = df_final[df_final.stock_id == stock].quantity.shift(30).rolling(30).sum()\n",
    "    sum_30_qty_by_stock.append(qty_sum_30)\n",
    "    # moving average on volumne over last 7 days\n",
    "    volumne_ma_7 = df_final[df_final.stock_id == stock].volume.shift(30).rolling(7).mean()\n",
    "    volumne_moving_avg_7.append(volumne_ma_7)\n",
    "    # moving average on volumne over last 30 days\n",
    "    volumne_ma_30 = df_final[df_final.stock_id == stock].volume.shift(30).rolling(30).mean()\n",
    "    volumne_moving_avg_30.append(volumne_ma_30)\n",
    "    # moving average on close price over last 7 days\n",
    "    close_ma_7 = df_final[df_final.stock_id == stock].close.shift(30).rolling(7).mean()\n",
    "    close_moving_avg_7.append(close_ma_7)\n",
    "    # moving average on close price over last 30 days\n",
    "    close_ma_30 = df_final[df_final.stock_id == stock].close.shift(30).rolling(30).mean()\n",
    "    close_moving_avg_30.append(close_ma_30)\n",
    "    # volatility in close price over last 7 days\n",
    "    close_volatility_7_by_stock = df_final[df_final.stock_id == stock].close.shift(30).rolling(7).std() #shift()\n",
    "    close_volatility_7.append(close_volatility_7_by_stock)\n",
    "    # volatility in close price over last 30 days\n",
    "    close_volatility_30_by_stock = df_final[df_final.stock_id == stock].close.shift(30).rolling(30).std() #shift()\n",
    "    close_volatility_30.append(close_volatility_30_by_stock)\n",
    "    # max close price in last 7 days\n",
    "    max_7_by_stock = df_final[df_final.stock_id == stock].close.shift(30).rolling(7).max()\n",
    "    max_7_days.append(max_7_by_stock)\n",
    "    # max close price in last 30 days\n",
    "    max_30_by_stock = df_final[df_final.stock_id == stock].close.shift(30).rolling(30).max()\n",
    "    max_30_days.append(max_30_by_stock)\n",
    "    # min close price in last 7 days\n",
    "    min_7_by_stock = df_final[df_final.stock_id == stock].close.shift(30).rolling(7).min()\n",
    "    min_7_days.append(min_7_by_stock)\n",
    "    # min close price in last 30 days\n",
    "    min_30_by_stock = df_final[df_final.stock_id == stock].close.shift(30).rolling(30).min()\n",
    "    min_30_days.append(min_30_by_stock)\n",
    "    # ratio overall will be average price devided by max closing price over all time\n",
    "    #mean_close_price = df_final[df_final.stock_id == stock].close.shift(30).mean()\n",
    "    #ratio_by_stock_prev = df_final[df_final.stock_id == stock].close.shift(30) / mean_close_price\n",
    "    #ratio_prev.append(ratio_by_stock_prev)\n",
    "    \n",
    "    # daily_change new feature\n",
    "    #today = df_final[df_final.stock_id == stock].close.shift(30)\n",
    "    #yesterday = today.shift(31)\n",
    "    #change_by_stock =  today / yesterday - 1\n",
    "    #change_by_stock_daily_prev.append(change_by_stock)\n",
    "    \n",
    "    # daily_profitability_prev new feature\n",
    "    #profitability_by_stock_prev = df_final[df_final.stock_id == stock].close.shift(30) - df_final[df_final.stock_id == stock].open.shift(30)\n",
    "    #profitability_daily_prev.append(profitability_by_stock_prev)"
   ]
  },
  {
   "cell_type": "code",
   "execution_count": 362,
   "metadata": {},
   "outputs": [],
   "source": [
    "chain_object_1 = itertools.chain.from_iterable(sum_7_qty_by_stock)\n",
    "flattened_list_1 = list(chain_object_1)\n",
    "\n",
    "chain_object_2 = itertools.chain.from_iterable(sum_30_qty_by_stock)\n",
    "flattened_list_2 = list(chain_object_2)\n",
    "\n",
    "chain_object_3 = itertools.chain.from_iterable(volumne_moving_avg_7)\n",
    "flattened_list_3 = list(chain_object_3)\n",
    "\n",
    "chain_object_4 = itertools.chain.from_iterable(volumne_moving_avg_30)\n",
    "flattened_list_4 = list(chain_object_4)\n",
    "\n",
    "chain_object_5 = itertools.chain.from_iterable(close_moving_avg_7)\n",
    "flattened_list_5 = list(chain_object_5)\n",
    "\n",
    "chain_object_6 = itertools.chain.from_iterable(close_moving_avg_30)\n",
    "flattened_list_6 = list(chain_object_6)\n",
    "\n",
    "chain_object_7 = itertools.chain.from_iterable(close_volatility_7)\n",
    "flattened_list_7 = list(chain_object_7)\n",
    "\n",
    "chain_object_8 = itertools.chain.from_iterable(close_volatility_30)\n",
    "flattened_list_8 = list(chain_object_8)\n",
    "\n",
    "chain_object_9 = itertools.chain.from_iterable(max_7_days)\n",
    "flattened_list_9 = list(chain_object_9)\n",
    "\n",
    "chain_object_10 = itertools.chain.from_iterable(max_30_days)\n",
    "flattened_list_10 = list(chain_object_10)\n",
    "\n",
    "chain_object_11 = itertools.chain.from_iterable(min_7_days)\n",
    "flattened_list_11 = list(chain_object_11)\n",
    "\n",
    "chain_object_12 = itertools.chain.from_iterable(min_30_days)\n",
    "flattened_list_12 = list(chain_object_12)\n",
    "\n",
    "ratio_object = itertools.chain.from_iterable(ratio_prev)\n",
    "flattened_list_13 = list(ratio_object)\n",
    "\n",
    "change_daily_object = itertools.chain.from_iterable(change_by_stock_daily_prev)\n",
    "flattened_list_14 = list(change_daily_object)\n",
    "\n",
    "profitability_object = itertools.chain.from_iterable(profitability_daily_prev)\n",
    "flattened_list_15 = list(profitability_object)"
   ]
  },
  {
   "cell_type": "code",
   "execution_count": 363,
   "metadata": {},
   "outputs": [],
   "source": [
    "rolling_7_days = pd.DataFrame({'sum_7_qty_by_stock':flattened_list_1,\n",
    "                               'sum_30_qty_by_stock':flattened_list_2,\n",
    "                               'moving_avg_volume_7_days':flattened_list_3,\n",
    "                               'moving_avg_volume_30_days':flattened_list_4,\n",
    "                               'moving_avg_close_7_days':flattened_list_5,\n",
    "                               'moving_avg_close_30_days':flattened_list_6,\n",
    "                               'volatility_7_days':flattened_list_7,\n",
    "                               'volatility_30_days':flattened_list_8,\n",
    "                               'max_7_days':flattened_list_9,\n",
    "                               'max_30_days':flattened_list_10,\n",
    "                               'min_7_days':flattened_list_11,\n",
    "                               'min_30_days':flattened_list_12\n",
    "                               #'ratio_overall_prev':flattened_list_13,\n",
    "                               #'change_daily_prev':flattened_list_14,\n",
    "                               #'profitability_daily_prev':flattened_list_15\n",
    "                              }\n",
    "                             )"
   ]
  },
  {
   "cell_type": "code",
   "execution_count": 364,
   "metadata": {},
   "outputs": [
    {
     "name": "stdout",
     "output_type": "stream",
     "text": [
      "(164754, 26) (164754, 12)\n"
     ]
    }
   ],
   "source": [
    "print(df_final.shape, rolling_7_days.shape)"
   ]
  },
  {
   "cell_type": "code",
   "execution_count": 365,
   "metadata": {},
   "outputs": [],
   "source": [
    "df_7_days = pd.concat([df_final.reset_index(), rolling_7_days], axis=1)"
   ]
  },
  {
   "cell_type": "code",
   "execution_count": 366,
   "metadata": {},
   "outputs": [
    {
     "data": {
      "text/plain": [
       "39"
      ]
     },
     "execution_count": 366,
     "metadata": {},
     "output_type": "execute_result"
    }
   ],
   "source": [
    "len(df_7_days.columns)"
   ]
  },
  {
   "cell_type": "code",
   "execution_count": 367,
   "metadata": {},
   "outputs": [],
   "source": [
    "ratio_7_days = []\n",
    "ratio_30_days = []\n",
    "\n",
    "# Calculating ratios up to 7 and 30 days\n",
    "for stock in df_7_days.stock_id.unique():\n",
    "    ratio_7 = df_7_days[df_7_days.stock_id == stock].average.shift(30) / df_7_days[df_7_days.stock_id == stock].average.shift(30).mean()\n",
    "    ratio_30 = df_7_days[df_7_days.stock_id == stock].average.shift(30) / df_7_days[df_7_days.stock_id == stock].average.shift(30).mean()\n",
    "    ratio_7_days.append(ratio_7)\n",
    "    ratio_30_days.append(ratio_30)\n"
   ]
  },
  {
   "cell_type": "code",
   "execution_count": 368,
   "metadata": {},
   "outputs": [],
   "source": [
    "chain_object_16 = itertools.chain.from_iterable(ratio_7_days)\n",
    "flattened_list_16 = list(chain_object_16)\n",
    "\n",
    "chain_object_17 = itertools.chain.from_iterable(ratio_30_days)\n",
    "flattened_list_17 = list(chain_object_17)\n",
    "\n",
    "ratios_df = pd.DataFrame({'ratio_7_days':flattened_list_16,\n",
    "                          'ratio_30_days':flattened_list_17\n",
    "                         }\n",
    "                        )"
   ]
  },
  {
   "cell_type": "code",
   "execution_count": 369,
   "metadata": {},
   "outputs": [],
   "source": [
    "df_7_days = pd.concat([df_7_days, ratios_df], axis=1)"
   ]
  },
  {
   "cell_type": "code",
   "execution_count": 370,
   "metadata": {},
   "outputs": [
    {
     "data": {
      "text/plain": [
       "41"
      ]
     },
     "execution_count": 370,
     "metadata": {},
     "output_type": "execute_result"
    }
   ],
   "source": [
    "len(df_7_days.columns)"
   ]
  },
  {
   "cell_type": "code",
   "execution_count": 371,
   "metadata": {},
   "outputs": [],
   "source": [
    "### Add column based on data analysis\n",
    "\n",
    "# 1 day\n",
    "df_7_days['prevopen_1'] = df_7_days.groupby(['stock_id'])['open'].shift(30)\n",
    "#(open - prevopen) / prevopen\n",
    "df_7_days['returnsOpenPrevRaw1'] = (df_7_days.open.shift(31) - df_7_days.prevopen_1) / df_7_days.prevopen_1\n",
    "\n",
    "#10 days\n",
    "df_7_days['prevopen_7'] = df_7_days.groupby(['stock_id'])['open'].shift(37)\n",
    "df_7_days['returnsOpenPrevRaw_7'] = (df_7_days.open.shift(31) - df_7_days.prevopen_7) / df_7_days.prevopen_7\n",
    "\n",
    "#Rate of change\n",
    "\n",
    "# pct_chg = lambda x:x.pct_change()\n",
    "# df_7_days['pct'] = df_7_days.groupby(['stock_id'])['close'].apply(pct_chg)\n",
    "\n",
    "#Z-score\n",
    "# zscore = lambda x:(x-x.mean())/x.std()\n",
    "# df_7_days['z_score'] = df_7_days.groupby(['stock_id'])['close'].apply(zscore)\n",
    "\n",
    "#percentile transformation\n",
    "#rollrank = lambda x: x.rolling(200, min_periods=20).apply(lambda x:pd.Series(x).rank(pct=True)[0])\n",
    "#df_7_days['percentile'] = df_7_days.groupby(['stock_id'])['volume'].apply(rollrank)"
   ]
  },
  {
   "cell_type": "code",
   "execution_count": 372,
   "metadata": {},
   "outputs": [
    {
     "data": {
      "text/html": [
       "<div>\n",
       "<style scoped>\n",
       "    .dataframe tbody tr th:only-of-type {\n",
       "        vertical-align: middle;\n",
       "    }\n",
       "\n",
       "    .dataframe tbody tr th {\n",
       "        vertical-align: top;\n",
       "    }\n",
       "\n",
       "    .dataframe thead th {\n",
       "        text-align: right;\n",
       "    }\n",
       "</style>\n",
       "<table border=\"1\" class=\"dataframe\">\n",
       "  <thead>\n",
       "    <tr style=\"text-align: right;\">\n",
       "      <th></th>\n",
       "      <th>8625</th>\n",
       "      <th>8626</th>\n",
       "      <th>8627</th>\n",
       "      <th>8628</th>\n",
       "      <th>8629</th>\n",
       "    </tr>\n",
       "  </thead>\n",
       "  <tbody>\n",
       "    <tr>\n",
       "      <th>date</th>\n",
       "      <td>2020-08-21 00:00:00</td>\n",
       "      <td>2020-08-22 00:00:00</td>\n",
       "      <td>2020-08-23 00:00:00</td>\n",
       "      <td>2020-08-24 00:00:00</td>\n",
       "      <td>2020-08-25 00:00:00</td>\n",
       "    </tr>\n",
       "    <tr>\n",
       "      <th>stock_id</th>\n",
       "      <td>ALK</td>\n",
       "      <td>ALK</td>\n",
       "      <td>ALK</td>\n",
       "      <td>ALK</td>\n",
       "      <td>ALK</td>\n",
       "    </tr>\n",
       "    <tr>\n",
       "      <th>open</th>\n",
       "      <td>12223</td>\n",
       "      <td>12290</td>\n",
       "      <td>12290</td>\n",
       "      <td>12290</td>\n",
       "      <td>12290</td>\n",
       "    </tr>\n",
       "    <tr>\n",
       "      <th>high</th>\n",
       "      <td>12290</td>\n",
       "      <td>12290</td>\n",
       "      <td>12290</td>\n",
       "      <td>12290</td>\n",
       "      <td>12222</td>\n",
       "    </tr>\n",
       "    <tr>\n",
       "      <th>low</th>\n",
       "      <td>12289</td>\n",
       "      <td>12290</td>\n",
       "      <td>12290</td>\n",
       "      <td>12289</td>\n",
       "      <td>12200</td>\n",
       "    </tr>\n",
       "    <tr>\n",
       "      <th>average</th>\n",
       "      <td>12289.5</td>\n",
       "      <td>12290</td>\n",
       "      <td>12290</td>\n",
       "      <td>12289.7</td>\n",
       "      <td>12201.5</td>\n",
       "    </tr>\n",
       "    <tr>\n",
       "      <th>close</th>\n",
       "      <td>12290</td>\n",
       "      <td>12290</td>\n",
       "      <td>12290</td>\n",
       "      <td>12290</td>\n",
       "      <td>12200</td>\n",
       "    </tr>\n",
       "    <tr>\n",
       "      <th>volume</th>\n",
       "      <td>614476</td>\n",
       "      <td>0</td>\n",
       "      <td>0</td>\n",
       "      <td>73738</td>\n",
       "      <td>3.66044e+06</td>\n",
       "    </tr>\n",
       "    <tr>\n",
       "      <th>quantity</th>\n",
       "      <td>50</td>\n",
       "      <td>0</td>\n",
       "      <td>0</td>\n",
       "      <td>6</td>\n",
       "      <td>300</td>\n",
       "    </tr>\n",
       "    <tr>\n",
       "      <th>change %</th>\n",
       "      <td>-0.05</td>\n",
       "      <td>0</td>\n",
       "      <td>0</td>\n",
       "      <td>0</td>\n",
       "      <td>-0.72</td>\n",
       "    </tr>\n",
       "    <tr>\n",
       "      <th>volume total</th>\n",
       "      <td>614476</td>\n",
       "      <td>0</td>\n",
       "      <td>0</td>\n",
       "      <td>73738</td>\n",
       "      <td>3.66044e+06</td>\n",
       "    </tr>\n",
       "    <tr>\n",
       "      <th>start_date</th>\n",
       "      <td>1997-01-09 00:00:00</td>\n",
       "      <td>1997-01-09 00:00:00</td>\n",
       "      <td>1997-01-09 00:00:00</td>\n",
       "      <td>1997-01-09 00:00:00</td>\n",
       "      <td>1997-01-09 00:00:00</td>\n",
       "    </tr>\n",
       "    <tr>\n",
       "      <th>sale_year</th>\n",
       "      <td>2020</td>\n",
       "      <td>2020</td>\n",
       "      <td>2020</td>\n",
       "      <td>2020</td>\n",
       "      <td>2020</td>\n",
       "    </tr>\n",
       "    <tr>\n",
       "      <th>sale_month</th>\n",
       "      <td>8</td>\n",
       "      <td>8</td>\n",
       "      <td>8</td>\n",
       "      <td>8</td>\n",
       "      <td>8</td>\n",
       "    </tr>\n",
       "    <tr>\n",
       "      <th>sale_week</th>\n",
       "      <td>34</td>\n",
       "      <td>34</td>\n",
       "      <td>34</td>\n",
       "      <td>35</td>\n",
       "      <td>35</td>\n",
       "    </tr>\n",
       "    <tr>\n",
       "      <th>sale_day</th>\n",
       "      <td>21</td>\n",
       "      <td>22</td>\n",
       "      <td>23</td>\n",
       "      <td>24</td>\n",
       "      <td>25</td>\n",
       "    </tr>\n",
       "    <tr>\n",
       "      <th>sale_dayofweek</th>\n",
       "      <td>4</td>\n",
       "      <td>5</td>\n",
       "      <td>6</td>\n",
       "      <td>0</td>\n",
       "      <td>1</td>\n",
       "    </tr>\n",
       "    <tr>\n",
       "      <th>sale_dayofyear</th>\n",
       "      <td>234</td>\n",
       "      <td>235</td>\n",
       "      <td>236</td>\n",
       "      <td>237</td>\n",
       "      <td>238</td>\n",
       "    </tr>\n",
       "    <tr>\n",
       "      <th>is_month_end</th>\n",
       "      <td>False</td>\n",
       "      <td>False</td>\n",
       "      <td>False</td>\n",
       "      <td>False</td>\n",
       "      <td>False</td>\n",
       "    </tr>\n",
       "    <tr>\n",
       "      <th>is_month_start</th>\n",
       "      <td>False</td>\n",
       "      <td>False</td>\n",
       "      <td>False</td>\n",
       "      <td>False</td>\n",
       "      <td>False</td>\n",
       "    </tr>\n",
       "    <tr>\n",
       "      <th>is_quarter_end</th>\n",
       "      <td>False</td>\n",
       "      <td>False</td>\n",
       "      <td>False</td>\n",
       "      <td>False</td>\n",
       "      <td>False</td>\n",
       "    </tr>\n",
       "    <tr>\n",
       "      <th>is_quarter_start</th>\n",
       "      <td>False</td>\n",
       "      <td>False</td>\n",
       "      <td>False</td>\n",
       "      <td>False</td>\n",
       "      <td>False</td>\n",
       "    </tr>\n",
       "    <tr>\n",
       "      <th>is_year_end</th>\n",
       "      <td>False</td>\n",
       "      <td>False</td>\n",
       "      <td>False</td>\n",
       "      <td>False</td>\n",
       "      <td>False</td>\n",
       "    </tr>\n",
       "    <tr>\n",
       "      <th>is_year_start</th>\n",
       "      <td>False</td>\n",
       "      <td>False</td>\n",
       "      <td>False</td>\n",
       "      <td>False</td>\n",
       "      <td>False</td>\n",
       "    </tr>\n",
       "    <tr>\n",
       "      <th>days_in_month</th>\n",
       "      <td>31</td>\n",
       "      <td>31</td>\n",
       "      <td>31</td>\n",
       "      <td>31</td>\n",
       "      <td>31</td>\n",
       "    </tr>\n",
       "    <tr>\n",
       "      <th>is_leap_year</th>\n",
       "      <td>True</td>\n",
       "      <td>True</td>\n",
       "      <td>True</td>\n",
       "      <td>True</td>\n",
       "      <td>True</td>\n",
       "    </tr>\n",
       "    <tr>\n",
       "      <th>sales_elapsed</th>\n",
       "      <td>8625</td>\n",
       "      <td>8626</td>\n",
       "      <td>8627</td>\n",
       "      <td>8628</td>\n",
       "      <td>8629</td>\n",
       "    </tr>\n",
       "    <tr>\n",
       "      <th>sum_7_qty_by_stock</th>\n",
       "      <td>1148</td>\n",
       "      <td>1535</td>\n",
       "      <td>1297</td>\n",
       "      <td>1297</td>\n",
       "      <td>1297</td>\n",
       "    </tr>\n",
       "    <tr>\n",
       "      <th>sum_30_qty_by_stock</th>\n",
       "      <td>2709</td>\n",
       "      <td>3150</td>\n",
       "      <td>3164</td>\n",
       "      <td>3139</td>\n",
       "      <td>3098</td>\n",
       "    </tr>\n",
       "    <tr>\n",
       "      <th>moving_avg_volume_7_days</th>\n",
       "      <td>1.97086e+06</td>\n",
       "      <td>2.65463e+06</td>\n",
       "      <td>2.24891e+06</td>\n",
       "      <td>2.24891e+06</td>\n",
       "      <td>2.24891e+06</td>\n",
       "    </tr>\n",
       "    <tr>\n",
       "      <th>moving_avg_volume_30_days</th>\n",
       "      <td>1.0803e+06</td>\n",
       "      <td>1.26152e+06</td>\n",
       "      <td>1.26771e+06</td>\n",
       "      <td>1.25792e+06</td>\n",
       "      <td>1.24172e+06</td>\n",
       "    </tr>\n",
       "    <tr>\n",
       "      <th>moving_avg_close_7_days</th>\n",
       "      <td>12028.3</td>\n",
       "      <td>12072.3</td>\n",
       "      <td>12145.3</td>\n",
       "      <td>12218.3</td>\n",
       "      <td>12291.3</td>\n",
       "    </tr>\n",
       "    <tr>\n",
       "      <th>moving_avg_close_30_days</th>\n",
       "      <td>11932.4</td>\n",
       "      <td>11945.8</td>\n",
       "      <td>11970.7</td>\n",
       "      <td>11995.6</td>\n",
       "      <td>12017.3</td>\n",
       "    </tr>\n",
       "    <tr>\n",
       "      <th>volatility_7_days</th>\n",
       "      <td>79.4475</td>\n",
       "      <td>127.038</td>\n",
       "      <td>198.129</td>\n",
       "      <td>223.467</td>\n",
       "      <td>219.512</td>\n",
       "    </tr>\n",
       "    <tr>\n",
       "      <th>volatility_30_days</th>\n",
       "      <td>90.1825</td>\n",
       "      <td>112.123</td>\n",
       "      <td>145.691</td>\n",
       "      <td>169.148</td>\n",
       "      <td>190.177</td>\n",
       "    </tr>\n",
       "    <tr>\n",
       "      <th>max_7_days</th>\n",
       "      <td>12201</td>\n",
       "      <td>12300</td>\n",
       "      <td>12500</td>\n",
       "      <td>12500</td>\n",
       "      <td>12500</td>\n",
       "    </tr>\n",
       "    <tr>\n",
       "      <th>max_30_days</th>\n",
       "      <td>12201</td>\n",
       "      <td>12300</td>\n",
       "      <td>12500</td>\n",
       "      <td>12500</td>\n",
       "      <td>12500</td>\n",
       "    </tr>\n",
       "    <tr>\n",
       "      <th>min_7_days</th>\n",
       "      <td>11988</td>\n",
       "      <td>11988</td>\n",
       "      <td>11988</td>\n",
       "      <td>11988</td>\n",
       "      <td>11988</td>\n",
       "    </tr>\n",
       "    <tr>\n",
       "      <th>min_30_days</th>\n",
       "      <td>11752</td>\n",
       "      <td>11752</td>\n",
       "      <td>11753</td>\n",
       "      <td>11807</td>\n",
       "      <td>11807</td>\n",
       "    </tr>\n",
       "    <tr>\n",
       "      <th>ratio_7_days</th>\n",
       "      <td>2.75606</td>\n",
       "      <td>2.78127</td>\n",
       "      <td>2.81488</td>\n",
       "      <td>2.83001</td>\n",
       "      <td>2.83001</td>\n",
       "    </tr>\n",
       "    <tr>\n",
       "      <th>ratio_30_days</th>\n",
       "      <td>2.75606</td>\n",
       "      <td>2.78127</td>\n",
       "      <td>2.81488</td>\n",
       "      <td>2.83001</td>\n",
       "      <td>2.83001</td>\n",
       "    </tr>\n",
       "    <tr>\n",
       "      <th>prevopen_1</th>\n",
       "      <td>12050</td>\n",
       "      <td>12201</td>\n",
       "      <td>12300</td>\n",
       "      <td>12500</td>\n",
       "      <td>12500</td>\n",
       "    </tr>\n",
       "    <tr>\n",
       "      <th>returnsOpenPrevRaw1</th>\n",
       "      <td>-0.00514523</td>\n",
       "      <td>-0.012376</td>\n",
       "      <td>-0.00804878</td>\n",
       "      <td>-0.016</td>\n",
       "      <td>0</td>\n",
       "    </tr>\n",
       "    <tr>\n",
       "      <th>prevopen_7</th>\n",
       "      <td>11905</td>\n",
       "      <td>11905</td>\n",
       "      <td>11992</td>\n",
       "      <td>11989</td>\n",
       "      <td>11989</td>\n",
       "    </tr>\n",
       "    <tr>\n",
       "      <th>returnsOpenPrevRaw_7</th>\n",
       "      <td>0.00697186</td>\n",
       "      <td>0.0121798</td>\n",
       "      <td>0.0174283</td>\n",
       "      <td>0.0259404</td>\n",
       "      <td>0.0426224</td>\n",
       "    </tr>\n",
       "  </tbody>\n",
       "</table>\n",
       "</div>"
      ],
      "text/plain": [
       "                                          8625                 8626  \\\n",
       "date                       2020-08-21 00:00:00  2020-08-22 00:00:00   \n",
       "stock_id                                   ALK                  ALK   \n",
       "open                                     12223                12290   \n",
       "high                                     12290                12290   \n",
       "low                                      12289                12290   \n",
       "average                                12289.5                12290   \n",
       "close                                    12290                12290   \n",
       "volume                                  614476                    0   \n",
       "quantity                                    50                    0   \n",
       "change %                                 -0.05                    0   \n",
       "volume total                            614476                    0   \n",
       "start_date                 1997-01-09 00:00:00  1997-01-09 00:00:00   \n",
       "sale_year                                 2020                 2020   \n",
       "sale_month                                   8                    8   \n",
       "sale_week                                   34                   34   \n",
       "sale_day                                    21                   22   \n",
       "sale_dayofweek                               4                    5   \n",
       "sale_dayofyear                             234                  235   \n",
       "is_month_end                             False                False   \n",
       "is_month_start                           False                False   \n",
       "is_quarter_end                           False                False   \n",
       "is_quarter_start                         False                False   \n",
       "is_year_end                              False                False   \n",
       "is_year_start                            False                False   \n",
       "days_in_month                               31                   31   \n",
       "is_leap_year                              True                 True   \n",
       "sales_elapsed                             8625                 8626   \n",
       "sum_7_qty_by_stock                        1148                 1535   \n",
       "sum_30_qty_by_stock                       2709                 3150   \n",
       "moving_avg_volume_7_days           1.97086e+06          2.65463e+06   \n",
       "moving_avg_volume_30_days           1.0803e+06          1.26152e+06   \n",
       "moving_avg_close_7_days                12028.3              12072.3   \n",
       "moving_avg_close_30_days               11932.4              11945.8   \n",
       "volatility_7_days                      79.4475              127.038   \n",
       "volatility_30_days                     90.1825              112.123   \n",
       "max_7_days                               12201                12300   \n",
       "max_30_days                              12201                12300   \n",
       "min_7_days                               11988                11988   \n",
       "min_30_days                              11752                11752   \n",
       "ratio_7_days                           2.75606              2.78127   \n",
       "ratio_30_days                          2.75606              2.78127   \n",
       "prevopen_1                               12050                12201   \n",
       "returnsOpenPrevRaw1                -0.00514523            -0.012376   \n",
       "prevopen_7                               11905                11905   \n",
       "returnsOpenPrevRaw_7                0.00697186            0.0121798   \n",
       "\n",
       "                                          8627                 8628  \\\n",
       "date                       2020-08-23 00:00:00  2020-08-24 00:00:00   \n",
       "stock_id                                   ALK                  ALK   \n",
       "open                                     12290                12290   \n",
       "high                                     12290                12290   \n",
       "low                                      12290                12289   \n",
       "average                                  12290              12289.7   \n",
       "close                                    12290                12290   \n",
       "volume                                       0                73738   \n",
       "quantity                                     0                    6   \n",
       "change %                                     0                    0   \n",
       "volume total                                 0                73738   \n",
       "start_date                 1997-01-09 00:00:00  1997-01-09 00:00:00   \n",
       "sale_year                                 2020                 2020   \n",
       "sale_month                                   8                    8   \n",
       "sale_week                                   34                   35   \n",
       "sale_day                                    23                   24   \n",
       "sale_dayofweek                               6                    0   \n",
       "sale_dayofyear                             236                  237   \n",
       "is_month_end                             False                False   \n",
       "is_month_start                           False                False   \n",
       "is_quarter_end                           False                False   \n",
       "is_quarter_start                         False                False   \n",
       "is_year_end                              False                False   \n",
       "is_year_start                            False                False   \n",
       "days_in_month                               31                   31   \n",
       "is_leap_year                              True                 True   \n",
       "sales_elapsed                             8627                 8628   \n",
       "sum_7_qty_by_stock                        1297                 1297   \n",
       "sum_30_qty_by_stock                       3164                 3139   \n",
       "moving_avg_volume_7_days           2.24891e+06          2.24891e+06   \n",
       "moving_avg_volume_30_days          1.26771e+06          1.25792e+06   \n",
       "moving_avg_close_7_days                12145.3              12218.3   \n",
       "moving_avg_close_30_days               11970.7              11995.6   \n",
       "volatility_7_days                      198.129              223.467   \n",
       "volatility_30_days                     145.691              169.148   \n",
       "max_7_days                               12500                12500   \n",
       "max_30_days                              12500                12500   \n",
       "min_7_days                               11988                11988   \n",
       "min_30_days                              11753                11807   \n",
       "ratio_7_days                           2.81488              2.83001   \n",
       "ratio_30_days                          2.81488              2.83001   \n",
       "prevopen_1                               12300                12500   \n",
       "returnsOpenPrevRaw1                -0.00804878               -0.016   \n",
       "prevopen_7                               11992                11989   \n",
       "returnsOpenPrevRaw_7                 0.0174283            0.0259404   \n",
       "\n",
       "                                          8629  \n",
       "date                       2020-08-25 00:00:00  \n",
       "stock_id                                   ALK  \n",
       "open                                     12290  \n",
       "high                                     12222  \n",
       "low                                      12200  \n",
       "average                                12201.5  \n",
       "close                                    12200  \n",
       "volume                             3.66044e+06  \n",
       "quantity                                   300  \n",
       "change %                                 -0.72  \n",
       "volume total                       3.66044e+06  \n",
       "start_date                 1997-01-09 00:00:00  \n",
       "sale_year                                 2020  \n",
       "sale_month                                   8  \n",
       "sale_week                                   35  \n",
       "sale_day                                    25  \n",
       "sale_dayofweek                               1  \n",
       "sale_dayofyear                             238  \n",
       "is_month_end                             False  \n",
       "is_month_start                           False  \n",
       "is_quarter_end                           False  \n",
       "is_quarter_start                         False  \n",
       "is_year_end                              False  \n",
       "is_year_start                            False  \n",
       "days_in_month                               31  \n",
       "is_leap_year                              True  \n",
       "sales_elapsed                             8629  \n",
       "sum_7_qty_by_stock                        1297  \n",
       "sum_30_qty_by_stock                       3098  \n",
       "moving_avg_volume_7_days           2.24891e+06  \n",
       "moving_avg_volume_30_days          1.24172e+06  \n",
       "moving_avg_close_7_days                12291.3  \n",
       "moving_avg_close_30_days               12017.3  \n",
       "volatility_7_days                      219.512  \n",
       "volatility_30_days                     190.177  \n",
       "max_7_days                               12500  \n",
       "max_30_days                              12500  \n",
       "min_7_days                               11988  \n",
       "min_30_days                              11807  \n",
       "ratio_7_days                           2.83001  \n",
       "ratio_30_days                          2.83001  \n",
       "prevopen_1                               12500  \n",
       "returnsOpenPrevRaw1                          0  \n",
       "prevopen_7                               11989  \n",
       "returnsOpenPrevRaw_7                 0.0426224  "
      ]
     },
     "metadata": {},
     "output_type": "display_data"
    }
   ],
   "source": [
    "display_all(df_7_days[df_7_days.stock_id=='ALK'].tail(5).T)"
   ]
  },
  {
   "cell_type": "markdown",
   "metadata": {},
   "source": [
    "### setting ALK dataset for training, validation and test"
   ]
  },
  {
   "cell_type": "code",
   "execution_count": 475,
   "metadata": {},
   "outputs": [],
   "source": [
    "alk_df = df_7_days[df_7_days.stock_id == 'ALK']"
   ]
  },
  {
   "cell_type": "code",
   "execution_count": 476,
   "metadata": {},
   "outputs": [],
   "source": [
    "to_drop = ['date','start_date', 'stock_id', 'open', 'high', 'low', 'average', 'volume', 'quantity', 'change %', 'volume total']"
   ]
  },
  {
   "cell_type": "code",
   "execution_count": 477,
   "metadata": {},
   "outputs": [],
   "source": [
    "alk_df = alk_df.dropna()"
   ]
  },
  {
   "cell_type": "code",
   "execution_count": 478,
   "metadata": {},
   "outputs": [],
   "source": [
    "alk_df.drop(to_drop, axis=1, inplace=True)"
   ]
  },
  {
   "cell_type": "code",
   "execution_count": 479,
   "metadata": {},
   "outputs": [
    {
     "data": {
      "text/plain": [
       "34"
      ]
     },
     "execution_count": 479,
     "metadata": {},
     "output_type": "execute_result"
    }
   ],
   "source": [
    "len(alk_df.columns)"
   ]
  },
  {
   "cell_type": "code",
   "execution_count": 482,
   "metadata": {},
   "outputs": [],
   "source": [
    "alk_df['close_shift'] = alk_df['close'].shift(30)"
   ]
  },
  {
   "cell_type": "code",
   "execution_count": 483,
   "metadata": {},
   "outputs": [],
   "source": [
    "alk_df = alk_df.dropna()"
   ]
  },
  {
   "cell_type": "code",
   "execution_count": 484,
   "metadata": {},
   "outputs": [
    {
     "data": {
      "text/html": [
       "<div>\n",
       "<style scoped>\n",
       "    .dataframe tbody tr th:only-of-type {\n",
       "        vertical-align: middle;\n",
       "    }\n",
       "\n",
       "    .dataframe tbody tr th {\n",
       "        vertical-align: top;\n",
       "    }\n",
       "\n",
       "    .dataframe thead th {\n",
       "        text-align: right;\n",
       "    }\n",
       "</style>\n",
       "<table border=\"1\" class=\"dataframe\">\n",
       "  <thead>\n",
       "    <tr style=\"text-align: right;\">\n",
       "      <th></th>\n",
       "      <th>close</th>\n",
       "      <th>sale_year</th>\n",
       "      <th>sale_month</th>\n",
       "      <th>sale_week</th>\n",
       "      <th>sale_day</th>\n",
       "      <th>sale_dayofweek</th>\n",
       "      <th>sale_dayofyear</th>\n",
       "      <th>is_month_end</th>\n",
       "      <th>is_month_start</th>\n",
       "      <th>is_quarter_end</th>\n",
       "      <th>is_quarter_start</th>\n",
       "      <th>is_year_end</th>\n",
       "      <th>is_year_start</th>\n",
       "      <th>days_in_month</th>\n",
       "      <th>is_leap_year</th>\n",
       "      <th>sales_elapsed</th>\n",
       "      <th>sum_7_qty_by_stock</th>\n",
       "      <th>sum_30_qty_by_stock</th>\n",
       "      <th>moving_avg_volume_7_days</th>\n",
       "      <th>moving_avg_volume_30_days</th>\n",
       "      <th>moving_avg_close_7_days</th>\n",
       "      <th>moving_avg_close_30_days</th>\n",
       "      <th>volatility_7_days</th>\n",
       "      <th>volatility_30_days</th>\n",
       "      <th>max_7_days</th>\n",
       "      <th>max_30_days</th>\n",
       "      <th>min_7_days</th>\n",
       "      <th>min_30_days</th>\n",
       "      <th>ratio_7_days</th>\n",
       "      <th>ratio_30_days</th>\n",
       "      <th>prevopen_1</th>\n",
       "      <th>returnsOpenPrevRaw1</th>\n",
       "      <th>prevopen_7</th>\n",
       "      <th>returnsOpenPrevRaw_7</th>\n",
       "      <th>close_shift</th>\n",
       "    </tr>\n",
       "  </thead>\n",
       "  <tbody>\n",
       "    <tr>\n",
       "      <th>89</th>\n",
       "      <td>970.0</td>\n",
       "      <td>1997</td>\n",
       "      <td>4</td>\n",
       "      <td>15</td>\n",
       "      <td>8</td>\n",
       "      <td>1</td>\n",
       "      <td>98</td>\n",
       "      <td>False</td>\n",
       "      <td>False</td>\n",
       "      <td>False</td>\n",
       "      <td>False</td>\n",
       "      <td>False</td>\n",
       "      <td>False</td>\n",
       "      <td>30</td>\n",
       "      <td>False</td>\n",
       "      <td>89</td>\n",
       "      <td>291.0</td>\n",
       "      <td>1523.0</td>\n",
       "      <td>40535.714286</td>\n",
       "      <td>49683.000000</td>\n",
       "      <td>1815.714286</td>\n",
       "      <td>1170.333333</td>\n",
       "      <td>791.093276</td>\n",
       "      <td>510.587784</td>\n",
       "      <td>2450.0</td>\n",
       "      <td>2450.0</td>\n",
       "      <td>970.0</td>\n",
       "      <td>970.0</td>\n",
       "      <td>0.554683</td>\n",
       "      <td>0.554683</td>\n",
       "      <td>2450.0</td>\n",
       "      <td>0.000000</td>\n",
       "      <td>970.0</td>\n",
       "      <td>1.525773</td>\n",
       "      <td>2450.0</td>\n",
       "    </tr>\n",
       "    <tr>\n",
       "      <th>90</th>\n",
       "      <td>970.0</td>\n",
       "      <td>1997</td>\n",
       "      <td>4</td>\n",
       "      <td>15</td>\n",
       "      <td>9</td>\n",
       "      <td>2</td>\n",
       "      <td>99</td>\n",
       "      <td>False</td>\n",
       "      <td>False</td>\n",
       "      <td>False</td>\n",
       "      <td>False</td>\n",
       "      <td>False</td>\n",
       "      <td>False</td>\n",
       "      <td>30</td>\n",
       "      <td>False</td>\n",
       "      <td>90</td>\n",
       "      <td>291.0</td>\n",
       "      <td>1523.0</td>\n",
       "      <td>40535.714286</td>\n",
       "      <td>49683.000000</td>\n",
       "      <td>2027.142857</td>\n",
       "      <td>1218.666667</td>\n",
       "      <td>722.166054</td>\n",
       "      <td>560.133810</td>\n",
       "      <td>2450.0</td>\n",
       "      <td>2450.0</td>\n",
       "      <td>970.0</td>\n",
       "      <td>970.0</td>\n",
       "      <td>0.554683</td>\n",
       "      <td>0.554683</td>\n",
       "      <td>2450.0</td>\n",
       "      <td>0.000000</td>\n",
       "      <td>970.0</td>\n",
       "      <td>1.525773</td>\n",
       "      <td>2450.0</td>\n",
       "    </tr>\n",
       "    <tr>\n",
       "      <th>91</th>\n",
       "      <td>970.0</td>\n",
       "      <td>1997</td>\n",
       "      <td>4</td>\n",
       "      <td>15</td>\n",
       "      <td>10</td>\n",
       "      <td>3</td>\n",
       "      <td>100</td>\n",
       "      <td>False</td>\n",
       "      <td>False</td>\n",
       "      <td>False</td>\n",
       "      <td>False</td>\n",
       "      <td>False</td>\n",
       "      <td>False</td>\n",
       "      <td>30</td>\n",
       "      <td>False</td>\n",
       "      <td>91</td>\n",
       "      <td>262.0</td>\n",
       "      <td>1784.0</td>\n",
       "      <td>36517.142857</td>\n",
       "      <td>58122.000000</td>\n",
       "      <td>2027.142857</td>\n",
       "      <td>1217.666667</td>\n",
       "      <td>722.166054</td>\n",
       "      <td>560.564268</td>\n",
       "      <td>2450.0</td>\n",
       "      <td>2450.0</td>\n",
       "      <td>970.0</td>\n",
       "      <td>970.0</td>\n",
       "      <td>0.219609</td>\n",
       "      <td>0.219609</td>\n",
       "      <td>2450.0</td>\n",
       "      <td>0.000000</td>\n",
       "      <td>970.0</td>\n",
       "      <td>1.525773</td>\n",
       "      <td>970.0</td>\n",
       "    </tr>\n",
       "    <tr>\n",
       "      <th>92</th>\n",
       "      <td>970.0</td>\n",
       "      <td>1997</td>\n",
       "      <td>4</td>\n",
       "      <td>15</td>\n",
       "      <td>11</td>\n",
       "      <td>4</td>\n",
       "      <td>101</td>\n",
       "      <td>False</td>\n",
       "      <td>False</td>\n",
       "      <td>False</td>\n",
       "      <td>False</td>\n",
       "      <td>False</td>\n",
       "      <td>False</td>\n",
       "      <td>30</td>\n",
       "      <td>False</td>\n",
       "      <td>92</td>\n",
       "      <td>262.0</td>\n",
       "      <td>1784.0</td>\n",
       "      <td>36517.142857</td>\n",
       "      <td>58122.000000</td>\n",
       "      <td>2027.142857</td>\n",
       "      <td>1216.666667</td>\n",
       "      <td>722.166054</td>\n",
       "      <td>560.992552</td>\n",
       "      <td>2450.0</td>\n",
       "      <td>2450.0</td>\n",
       "      <td>970.0</td>\n",
       "      <td>970.0</td>\n",
       "      <td>0.219609</td>\n",
       "      <td>0.219609</td>\n",
       "      <td>970.0</td>\n",
       "      <td>1.525773</td>\n",
       "      <td>970.0</td>\n",
       "      <td>1.525773</td>\n",
       "      <td>970.0</td>\n",
       "    </tr>\n",
       "    <tr>\n",
       "      <th>93</th>\n",
       "      <td>970.0</td>\n",
       "      <td>1997</td>\n",
       "      <td>4</td>\n",
       "      <td>15</td>\n",
       "      <td>12</td>\n",
       "      <td>5</td>\n",
       "      <td>102</td>\n",
       "      <td>False</td>\n",
       "      <td>False</td>\n",
       "      <td>False</td>\n",
       "      <td>False</td>\n",
       "      <td>False</td>\n",
       "      <td>False</td>\n",
       "      <td>30</td>\n",
       "      <td>False</td>\n",
       "      <td>93</td>\n",
       "      <td>417.0</td>\n",
       "      <td>1465.0</td>\n",
       "      <td>57784.285714</td>\n",
       "      <td>47417.666667</td>\n",
       "      <td>1815.714286</td>\n",
       "      <td>1216.666667</td>\n",
       "      <td>791.093276</td>\n",
       "      <td>560.992552</td>\n",
       "      <td>2450.0</td>\n",
       "      <td>2450.0</td>\n",
       "      <td>970.0</td>\n",
       "      <td>970.0</td>\n",
       "      <td>0.219609</td>\n",
       "      <td>0.219609</td>\n",
       "      <td>970.0</td>\n",
       "      <td>0.000000</td>\n",
       "      <td>970.0</td>\n",
       "      <td>0.000000</td>\n",
       "      <td>970.0</td>\n",
       "    </tr>\n",
       "  </tbody>\n",
       "</table>\n",
       "</div>"
      ],
      "text/plain": [
       "    close  sale_year  sale_month  sale_week  sale_day  sale_dayofweek  \\\n",
       "89  970.0       1997           4         15         8               1   \n",
       "90  970.0       1997           4         15         9               2   \n",
       "91  970.0       1997           4         15        10               3   \n",
       "92  970.0       1997           4         15        11               4   \n",
       "93  970.0       1997           4         15        12               5   \n",
       "\n",
       "    sale_dayofyear  is_month_end  is_month_start  is_quarter_end  \\\n",
       "89              98         False           False           False   \n",
       "90              99         False           False           False   \n",
       "91             100         False           False           False   \n",
       "92             101         False           False           False   \n",
       "93             102         False           False           False   \n",
       "\n",
       "    is_quarter_start  is_year_end  is_year_start  days_in_month  is_leap_year  \\\n",
       "89             False        False          False             30         False   \n",
       "90             False        False          False             30         False   \n",
       "91             False        False          False             30         False   \n",
       "92             False        False          False             30         False   \n",
       "93             False        False          False             30         False   \n",
       "\n",
       "    sales_elapsed  sum_7_qty_by_stock  sum_30_qty_by_stock  \\\n",
       "89             89               291.0               1523.0   \n",
       "90             90               291.0               1523.0   \n",
       "91             91               262.0               1784.0   \n",
       "92             92               262.0               1784.0   \n",
       "93             93               417.0               1465.0   \n",
       "\n",
       "    moving_avg_volume_7_days  moving_avg_volume_30_days  \\\n",
       "89              40535.714286               49683.000000   \n",
       "90              40535.714286               49683.000000   \n",
       "91              36517.142857               58122.000000   \n",
       "92              36517.142857               58122.000000   \n",
       "93              57784.285714               47417.666667   \n",
       "\n",
       "    moving_avg_close_7_days  moving_avg_close_30_days  volatility_7_days  \\\n",
       "89              1815.714286               1170.333333         791.093276   \n",
       "90              2027.142857               1218.666667         722.166054   \n",
       "91              2027.142857               1217.666667         722.166054   \n",
       "92              2027.142857               1216.666667         722.166054   \n",
       "93              1815.714286               1216.666667         791.093276   \n",
       "\n",
       "    volatility_30_days  max_7_days  max_30_days  min_7_days  min_30_days  \\\n",
       "89          510.587784      2450.0       2450.0       970.0        970.0   \n",
       "90          560.133810      2450.0       2450.0       970.0        970.0   \n",
       "91          560.564268      2450.0       2450.0       970.0        970.0   \n",
       "92          560.992552      2450.0       2450.0       970.0        970.0   \n",
       "93          560.992552      2450.0       2450.0       970.0        970.0   \n",
       "\n",
       "    ratio_7_days  ratio_30_days  prevopen_1  returnsOpenPrevRaw1  prevopen_7  \\\n",
       "89      0.554683       0.554683      2450.0             0.000000       970.0   \n",
       "90      0.554683       0.554683      2450.0             0.000000       970.0   \n",
       "91      0.219609       0.219609      2450.0             0.000000       970.0   \n",
       "92      0.219609       0.219609       970.0             1.525773       970.0   \n",
       "93      0.219609       0.219609       970.0             0.000000       970.0   \n",
       "\n",
       "    returnsOpenPrevRaw_7  close_shift  \n",
       "89              1.525773       2450.0  \n",
       "90              1.525773       2450.0  \n",
       "91              1.525773        970.0  \n",
       "92              1.525773        970.0  \n",
       "93              0.000000        970.0  "
      ]
     },
     "metadata": {},
     "output_type": "display_data"
    }
   ],
   "source": [
    "display_all(alk_df.head(5))"
   ]
  },
  {
   "cell_type": "markdown",
   "metadata": {},
   "source": [
    "### split dataset"
   ]
  },
  {
   "cell_type": "code",
   "execution_count": 485,
   "metadata": {},
   "outputs": [],
   "source": [
    "scaler = StandardScaler()\n",
    "normalizer = Normalizer()"
   ]
  },
  {
   "cell_type": "code",
   "execution_count": 486,
   "metadata": {},
   "outputs": [],
   "source": [
    "alk_df_scaled = scaler.fit_transform(alk_df)"
   ]
  },
  {
   "cell_type": "code",
   "execution_count": 487,
   "metadata": {},
   "outputs": [],
   "source": [
    "X, y = alk_df.drop(['close', 'close_shift'], axis=1), alk_df.close_shift\n",
    "#X, y = alk_df_scaled[1:], alk_df_scaled[0]"
   ]
  },
  {
   "cell_type": "code",
   "execution_count": 488,
   "metadata": {},
   "outputs": [
    {
     "data": {
      "text/plain": [
       "((8481, 33), (30, 33), (30, 33), (8481,), (30,), (30,))"
      ]
     },
     "execution_count": 488,
     "metadata": {},
     "output_type": "execute_result"
    }
   ],
   "source": [
    "def split_vals(dataset, n_test):\n",
    "    n = dataset.shape[0] - n_test\n",
    "    train_valid = dataset[:n].copy()\n",
    "    return train_valid[:-n_test].copy(), train_valid[-n_test:n].copy(), dataset[-n_test:]\n",
    "\n",
    "n_test = 30\n",
    "X_train, X_valid, X_test = split_vals(X, n_test)\n",
    "y_train, y_valid, y_test = split_vals(y, n_test)\n",
    "X_train.shape, X_valid.shape, X_test.shape, y_train.shape, y_valid.shape, y_test.shape"
   ]
  },
  {
   "cell_type": "code",
   "execution_count": 489,
   "metadata": {},
   "outputs": [],
   "source": [
    "import math\n",
    "\n",
    "def rmse(x,y):\n",
    "    return math.sqrt(((x-y)**2).mean())\n",
    "\n",
    "def print_score(model, X_train, y_train, X_valid, y_valid):\n",
    "    res = [np.sqrt(mean_squared_error(model.predict(X_train), y_train)), \n",
    "           np.sqrt(mean_squared_error(model.predict(X_valid), y_valid)),\n",
    "           model.score(X_train, y_train),\n",
    "           model.score(X_valid, y_valid)]\n",
    "    if hasattr(model, 'oob_score_'):\n",
    "        res.append(model.oob_score_)\n",
    "    print(res)"
   ]
  },
  {
   "cell_type": "markdown",
   "metadata": {},
   "source": [
    "### Fine-tune RandomForestRegressor"
   ]
  },
  {
   "cell_type": "code",
   "execution_count": 490,
   "metadata": {},
   "outputs": [
    {
     "name": "stdout",
     "output_type": "stream",
     "text": [
      "Wall time: 1.7 s\n",
      "[15.280600548077054, 70.77244476136183, 0.9999714605646531, 0.93118702090124, 0.9997977702141784]\n"
     ]
    }
   ],
   "source": [
    "model = RandomForestRegressor(n_jobs=-1, n_estimators=40, min_samples_leaf=1, max_features=0.5, oob_score=True)\n",
    "%time model.fit(X_train, y_train)\n",
    "print_score(model, X_train, y_train, X_valid, y_valid)"
   ]
  },
  {
   "cell_type": "code",
   "execution_count": 491,
   "metadata": {},
   "outputs": [],
   "source": [
    "preds = np.stack([t.predict(X_valid) for t in model.estimators_])\n",
    "#print(f\"Trees: {len(preds[:,0])},\", f\"Mean of 0th row for prediction from all trees: : {np.mean(preds[:,0])},\", f\"Actual y: {y_valid[0]}\")"
   ]
  },
  {
   "cell_type": "code",
   "execution_count": 492,
   "metadata": {},
   "outputs": [
    {
     "data": {
      "image/png": "[encoded data removed]",
      "text/plain": [
       "<Figure size 432x288 with 1 Axes>"
      ]
     },
     "metadata": {
      "needs_background": "light"
     },
     "output_type": "display_data"
    }
   ],
   "source": [
    "from sklearn import metrics\n",
    "plt.plot([metrics.r2_score(y_valid, np.mean(preds[:i+1], axis=0)) for i in range(40)]);"
   ]
  },
  {
   "cell_type": "code",
   "execution_count": null,
   "metadata": {},
   "outputs": [],
   "source": [
    "import graphviz, IPython\n",
    "from sklearn.tree import export_graphviz\n",
    "def draw_tree(t, df, size=10, ratio=0.6, precision=0):\n",
    "    \"\"\" Draws a representation of a random forest in IPython.\n",
    "\n",
    "    Parameters:\n",
    "    -----------\n",
    "    t: The tree you wish to draw\n",
    "    df: The data used to train the tree. This is used to get the names of the features.\n",
    "    \"\"\"\n",
    "    s=export_graphviz(t, out_file=None, feature_names=df.columns, filled=True,\n",
    "                      special_characters=True, rotate=True, precision=precision)\n",
    "    IPython.display.display(graphviz.Source(re.sub('Tree {',\n",
    "       f'Tree {{ size={size}; ratio={ratio}', s)))\n",
    "draw_tree(model.estimators_[0], X_valid, precision=3)"
   ]
  },
  {
   "cell_type": "code",
   "execution_count": 493,
   "metadata": {},
   "outputs": [],
   "source": [
    "def rf_feat_importance(m, df):\n",
    "    return pd.DataFrame({'cols':df.columns, 'imp':m.feature_importances_}\n",
    "                       ).sort_values('imp', ascending=False)"
   ]
  },
  {
   "cell_type": "code",
   "execution_count": 494,
   "metadata": {},
   "outputs": [
    {
     "data": {
      "text/html": [
       "<div>\n",
       "<style scoped>\n",
       "    .dataframe tbody tr th:only-of-type {\n",
       "        vertical-align: middle;\n",
       "    }\n",
       "\n",
       "    .dataframe tbody tr th {\n",
       "        vertical-align: top;\n",
       "    }\n",
       "\n",
       "    .dataframe thead th {\n",
       "        text-align: right;\n",
       "    }\n",
       "</style>\n",
       "<table border=\"1\" class=\"dataframe\">\n",
       "  <thead>\n",
       "    <tr style=\"text-align: right;\">\n",
       "      <th></th>\n",
       "      <th>cols</th>\n",
       "      <th>imp</th>\n",
       "    </tr>\n",
       "  </thead>\n",
       "  <tbody>\n",
       "    <tr>\n",
       "      <th>28</th>\n",
       "      <td>ratio_30_days</td>\n",
       "      <td>0.418777</td>\n",
       "    </tr>\n",
       "    <tr>\n",
       "      <th>27</th>\n",
       "      <td>ratio_7_days</td>\n",
       "      <td>0.224308</td>\n",
       "    </tr>\n",
       "    <tr>\n",
       "      <th>29</th>\n",
       "      <td>prevopen_1</td>\n",
       "      <td>0.158267</td>\n",
       "    </tr>\n",
       "    <tr>\n",
       "      <th>19</th>\n",
       "      <td>moving_avg_close_7_days</td>\n",
       "      <td>0.101742</td>\n",
       "    </tr>\n",
       "    <tr>\n",
       "      <th>25</th>\n",
       "      <td>min_7_days</td>\n",
       "      <td>0.076483</td>\n",
       "    </tr>\n",
       "    <tr>\n",
       "      <th>23</th>\n",
       "      <td>max_7_days</td>\n",
       "      <td>0.018356</td>\n",
       "    </tr>\n",
       "    <tr>\n",
       "      <th>20</th>\n",
       "      <td>moving_avg_close_30_days</td>\n",
       "      <td>0.001299</td>\n",
       "    </tr>\n",
       "    <tr>\n",
       "      <th>31</th>\n",
       "      <td>prevopen_7</td>\n",
       "      <td>0.000387</td>\n",
       "    </tr>\n",
       "    <tr>\n",
       "      <th>24</th>\n",
       "      <td>max_30_days</td>\n",
       "      <td>0.000209</td>\n",
       "    </tr>\n",
       "    <tr>\n",
       "      <th>14</th>\n",
       "      <td>sales_elapsed</td>\n",
       "      <td>0.000041</td>\n",
       "    </tr>\n",
       "  </tbody>\n",
       "</table>\n",
       "</div>"
      ],
      "text/plain": [
       "                        cols       imp\n",
       "28             ratio_30_days  0.418777\n",
       "27              ratio_7_days  0.224308\n",
       "29                prevopen_1  0.158267\n",
       "19   moving_avg_close_7_days  0.101742\n",
       "25                min_7_days  0.076483\n",
       "23                max_7_days  0.018356\n",
       "20  moving_avg_close_30_days  0.001299\n",
       "31                prevopen_7  0.000387\n",
       "24               max_30_days  0.000209\n",
       "14             sales_elapsed  0.000041"
      ]
     },
     "execution_count": 494,
     "metadata": {},
     "output_type": "execute_result"
    }
   ],
   "source": [
    "fi = rf_feat_importance(model, X_train)\n",
    "fi[:10]"
   ]
  },
  {
   "cell_type": "code",
   "execution_count": 495,
   "metadata": {},
   "outputs": [
    {
     "data": {
      "image/png": "[encoded data removed]",
      "text/plain": [
       "<Figure size 864x288 with 1 Axes>"
      ]
     },
     "metadata": {
      "needs_background": "light"
     },
     "output_type": "display_data"
    }
   ],
   "source": [
    "fi.plot('cols', 'imp', figsize=(12,4), legend=False);"
   ]
  },
  {
   "cell_type": "code",
   "execution_count": 496,
   "metadata": {},
   "outputs": [
    {
     "data": {
      "text/plain": [
       "<matplotlib.axes._subplots.AxesSubplot at 0x195105dd8d0>"
      ]
     },
     "execution_count": 496,
     "metadata": {},
     "output_type": "execute_result"
    },
    {
     "data": {
      "image/png": "[encoded data removed]",
      "text/plain": [
       "<Figure size 864x504 with 1 Axes>"
      ]
     },
     "metadata": {
      "needs_background": "light"
     },
     "output_type": "display_data"
    }
   ],
   "source": [
    "def plot_fi(fi):\n",
    "    return fi.plot('cols', 'imp', 'barh', figsize=(12,7), legend=False)\n",
    "plot_fi(fi[:30])"
   ]
  },
  {
   "cell_type": "code",
   "execution_count": 498,
   "metadata": {},
   "outputs": [
    {
     "data": {
      "text/plain": [
       "6"
      ]
     },
     "execution_count": 498,
     "metadata": {},
     "output_type": "execute_result"
    }
   ],
   "source": [
    "to_keep = fi[fi.imp>0.005].cols;\n",
    "len(to_keep)"
   ]
  },
  {
   "cell_type": "code",
   "execution_count": 499,
   "metadata": {},
   "outputs": [],
   "source": [
    "df_keep = alk_df[to_keep].copy()\n",
    "X_train_keep, X_valid_keep, X_test_keep = split_vals(df_keep, n_test)"
   ]
  },
  {
   "cell_type": "code",
   "execution_count": 502,
   "metadata": {},
   "outputs": [
    {
     "name": "stdout",
     "output_type": "stream",
     "text": [
      "Wall time: 763 ms\n",
      "[14.919256447684685, 42.61108106076002, 0.9999727943636468, 0.9750547954824056, 0.9998100671558335]\n"
     ]
    }
   ],
   "source": [
    "model_keep = RandomForestRegressor(n_jobs=-1, n_estimators=40, min_samples_leaf=1, max_features=0.5, oob_score=True)\n",
    "%time model_keep.fit(X_train_keep, y_train)\n",
    "print_score(model_keep, X_train_keep, y_train, X_valid_keep, y_valid)"
   ]
  },
  {
   "cell_type": "code",
   "execution_count": 503,
   "metadata": {},
   "outputs": [
    {
     "data": {
      "image/png": "[encoded data removed]",
      "text/plain": [
       "<Figure size 1152x720 with 1 Axes>"
      ]
     },
     "metadata": {
      "needs_background": "light"
     },
     "output_type": "display_data"
    }
   ],
   "source": [
    "from scipy.cluster import hierarchy as hc\n",
    "\n",
    "corr = np.round(sp.stats.spearmanr(df_keep).correlation, 4)\n",
    "corr_condensed = hc.distance.squareform(1-corr)\n",
    "z = hc.linkage(corr_condensed, method='average')\n",
    "fig = plt.figure(figsize=(16,10))\n",
    "dendrogram = hc.dendrogram(z, labels=df_keep.columns, orientation='left', leaf_font_size=16)\n",
    "plt.show()"
   ]
  },
  {
   "cell_type": "code",
   "execution_count": 504,
   "metadata": {},
   "outputs": [],
   "source": [
    "def get_oob(df):\n",
    "    m = RandomForestRegressor(n_jobs=-1, n_estimators=40, min_samples_leaf=1, max_features=0.5, oob_score=True)\n",
    "    x, _, _ = split_vals(df, n_test)\n",
    "    m.fit(x, y_train)\n",
    "    return m.oob_score_"
   ]
  },
  {
   "cell_type": "code",
   "execution_count": 505,
   "metadata": {},
   "outputs": [
    {
     "data": {
      "text/plain": [
       "0.9998114630584906"
      ]
     },
     "execution_count": 505,
     "metadata": {},
     "output_type": "execute_result"
    }
   ],
   "source": [
    "get_oob(df_keep)"
   ]
  },
  {
   "cell_type": "code",
   "execution_count": 506,
   "metadata": {},
   "outputs": [
    {
     "name": "stdout",
     "output_type": "stream",
     "text": [
      "ratio_7_days 0.9997199094610324\n",
      "ratio_30_days 0.9997382864303044\n"
     ]
    }
   ],
   "source": [
    "for c in ('ratio_7_days', 'ratio_30_days'):\n",
    "    print(c, get_oob(df_keep.drop(c, axis=1)))"
   ]
  },
  {
   "cell_type": "markdown",
   "metadata": {},
   "source": [
    "### extrapolation"
   ]
  },
  {
   "cell_type": "code",
   "execution_count": 507,
   "metadata": {},
   "outputs": [
    {
     "name": "stderr",
     "output_type": "stream",
     "text": [
      "C:\\Users\\Gj\\Anaconda3\\lib\\site-packages\\ipykernel_launcher.py:3: SettingWithCopyWarning: \n",
      "A value is trying to be set on a copy of a slice from a DataFrame\n",
      "\n",
      "See the caveats in the documentation: https://pandas.pydata.org/pandas-docs/stable/user_guide/indexing.html#returning-a-view-versus-a-copy\n",
      "  This is separate from the ipykernel package so we can avoid doing imports until\n"
     ]
    }
   ],
   "source": [
    "df_ext = df_keep.copy()\n",
    "df_ext['is_valid'] = 1\n",
    "df_ext.is_valid[:n_test] = 0"
   ]
  },
  {
   "cell_type": "code",
   "execution_count": 508,
   "metadata": {},
   "outputs": [],
   "source": [
    "X_ext, y_ext = df_ext.drop('is_valid', axis=1), df_ext.is_valid"
   ]
  },
  {
   "cell_type": "code",
   "execution_count": 509,
   "metadata": {},
   "outputs": [],
   "source": [
    "X_train_ext, X_valid_ext, X_test_ext = split_vals(X_ext, n_test)\n",
    "y_train_ext, y_valid_ext, y_test_ext = split_vals(y_ext, n_test)"
   ]
  },
  {
   "cell_type": "code",
   "execution_count": 510,
   "metadata": {},
   "outputs": [
    {
     "name": "stdout",
     "output_type": "stream",
     "text": [
      "Wall time: 333 ms\n"
     ]
    },
    {
     "data": {
      "text/plain": [
       "0.2690684392556407"
      ]
     },
     "execution_count": 510,
     "metadata": {},
     "output_type": "execute_result"
    }
   ],
   "source": [
    "model_ext = RandomForestRegressor(n_jobs=-1, n_estimators=40, min_samples_leaf=1, max_features=0.5, oob_score=True)\n",
    "%time model_ext.fit(X_train_ext, y_train_ext)\n",
    "model_ext.oob_score_"
   ]
  },
  {
   "cell_type": "code",
   "execution_count": 511,
   "metadata": {},
   "outputs": [
    {
     "data": {
      "text/html": [
       "<div>\n",
       "<style scoped>\n",
       "    .dataframe tbody tr th:only-of-type {\n",
       "        vertical-align: middle;\n",
       "    }\n",
       "\n",
       "    .dataframe tbody tr th {\n",
       "        vertical-align: top;\n",
       "    }\n",
       "\n",
       "    .dataframe thead th {\n",
       "        text-align: right;\n",
       "    }\n",
       "</style>\n",
       "<table border=\"1\" class=\"dataframe\">\n",
       "  <thead>\n",
       "    <tr style=\"text-align: right;\">\n",
       "      <th></th>\n",
       "      <th>cols</th>\n",
       "      <th>imp</th>\n",
       "    </tr>\n",
       "  </thead>\n",
       "  <tbody>\n",
       "    <tr>\n",
       "      <th>3</th>\n",
       "      <td>moving_avg_close_7_days</td>\n",
       "      <td>0.382344</td>\n",
       "    </tr>\n",
       "    <tr>\n",
       "      <th>5</th>\n",
       "      <td>max_7_days</td>\n",
       "      <td>0.335154</td>\n",
       "    </tr>\n",
       "    <tr>\n",
       "      <th>4</th>\n",
       "      <td>min_7_days</td>\n",
       "      <td>0.097537</td>\n",
       "    </tr>\n",
       "    <tr>\n",
       "      <th>0</th>\n",
       "      <td>ratio_30_days</td>\n",
       "      <td>0.082879</td>\n",
       "    </tr>\n",
       "    <tr>\n",
       "      <th>1</th>\n",
       "      <td>ratio_7_days</td>\n",
       "      <td>0.059586</td>\n",
       "    </tr>\n",
       "    <tr>\n",
       "      <th>2</th>\n",
       "      <td>prevopen_1</td>\n",
       "      <td>0.042501</td>\n",
       "    </tr>\n",
       "  </tbody>\n",
       "</table>\n",
       "</div>"
      ],
      "text/plain": [
       "                      cols       imp\n",
       "3  moving_avg_close_7_days  0.382344\n",
       "5               max_7_days  0.335154\n",
       "4               min_7_days  0.097537\n",
       "0            ratio_30_days  0.082879\n",
       "1             ratio_7_days  0.059586\n",
       "2               prevopen_1  0.042501"
      ]
     },
     "execution_count": 511,
     "metadata": {},
     "output_type": "execute_result"
    }
   ],
   "source": [
    "fi = rf_feat_importance(model_ext, X_train_ext); fi[:10]"
   ]
  },
  {
   "cell_type": "code",
   "execution_count": 512,
   "metadata": {},
   "outputs": [
    {
     "data": {
      "text/html": [
       "<div>\n",
       "<style scoped>\n",
       "    .dataframe tbody tr th:only-of-type {\n",
       "        vertical-align: middle;\n",
       "    }\n",
       "\n",
       "    .dataframe tbody tr th {\n",
       "        vertical-align: top;\n",
       "    }\n",
       "\n",
       "    .dataframe thead th {\n",
       "        text-align: right;\n",
       "    }\n",
       "</style>\n",
       "<table border=\"1\" class=\"dataframe\">\n",
       "  <thead>\n",
       "    <tr style=\"text-align: right;\">\n",
       "      <th></th>\n",
       "      <th>moving_avg_close_7_days</th>\n",
       "      <th>max_7_days</th>\n",
       "    </tr>\n",
       "  </thead>\n",
       "  <tbody>\n",
       "    <tr>\n",
       "      <th>count</th>\n",
       "      <td>8481.000000</td>\n",
       "      <td>8481.000000</td>\n",
       "    </tr>\n",
       "    <tr>\n",
       "      <th>mean</th>\n",
       "      <td>4.383400</td>\n",
       "      <td>4.452492</td>\n",
       "    </tr>\n",
       "    <tr>\n",
       "      <th>std</th>\n",
       "      <td>2.855125</td>\n",
       "      <td>2.910598</td>\n",
       "    </tr>\n",
       "    <tr>\n",
       "      <th>min</th>\n",
       "      <td>0.500000</td>\n",
       "      <td>0.500000</td>\n",
       "    </tr>\n",
       "    <tr>\n",
       "      <th>25%</th>\n",
       "      <td>1.848286</td>\n",
       "      <td>1.900000</td>\n",
       "    </tr>\n",
       "    <tr>\n",
       "      <th>50%</th>\n",
       "      <td>4.202286</td>\n",
       "      <td>4.216000</td>\n",
       "    </tr>\n",
       "    <tr>\n",
       "      <th>75%</th>\n",
       "      <td>5.396429</td>\n",
       "      <td>5.442000</td>\n",
       "    </tr>\n",
       "    <tr>\n",
       "      <th>max</th>\n",
       "      <td>13.892714</td>\n",
       "      <td>14.150000</td>\n",
       "    </tr>\n",
       "  </tbody>\n",
       "</table>\n",
       "</div>"
      ],
      "text/plain": [
       "       moving_avg_close_7_days   max_7_days\n",
       "count              8481.000000  8481.000000\n",
       "mean                  4.383400     4.452492\n",
       "std                   2.855125     2.910598\n",
       "min                   0.500000     0.500000\n",
       "25%                   1.848286     1.900000\n",
       "50%                   4.202286     4.216000\n",
       "75%                   5.396429     5.442000\n",
       "max                  13.892714    14.150000"
      ]
     },
     "execution_count": 512,
     "metadata": {},
     "output_type": "execute_result"
    }
   ],
   "source": [
    "feats=['moving_avg_close_7_days', 'max_7_days']\n",
    "(X_train_ext[feats]/1000).describe()"
   ]
  },
  {
   "cell_type": "code",
   "execution_count": 513,
   "metadata": {},
   "outputs": [
    {
     "data": {
      "text/plain": [
       "Index(['ratio_30_days', 'ratio_7_days', 'prevopen_1',\n",
       "       'moving_avg_close_7_days', 'min_7_days', 'max_7_days'],\n",
       "      dtype='object')"
      ]
     },
     "execution_count": 513,
     "metadata": {},
     "output_type": "execute_result"
    }
   ],
   "source": [
    "X_train_ext.columns"
   ]
  },
  {
   "cell_type": "code",
   "execution_count": 514,
   "metadata": {},
   "outputs": [
    {
     "data": {
      "text/plain": [
       "0.12086946199395576"
      ]
     },
     "execution_count": 514,
     "metadata": {},
     "output_type": "execute_result"
    }
   ],
   "source": [
    "X_train_ext.drop(feats, axis=1, inplace=True)\n",
    "m_drop = RandomForestRegressor(n_jobs=-1, n_estimators=40, min_samples_leaf=1, max_features=0.5, oob_score=True)\n",
    "m_drop.fit(X_train_ext, y_train_ext);\n",
    "m_drop.oob_score_"
   ]
  },
  {
   "cell_type": "code",
   "execution_count": 515,
   "metadata": {},
   "outputs": [
    {
     "name": "stdout",
     "output_type": "stream",
     "text": [
      "moving_avg_close_7_days\n",
      "[0.04965791508729541, 0.0, 0.3004129961382994, 1.0, 0.29143491501632435]\n",
      "max_7_days\n",
      "[0.04968122843292073, 0.0, 0.29975595920386877, 1.0, 0.25421022766474666]\n"
     ]
    }
   ],
   "source": [
    "for f in feats:\n",
    "    df_subs = df_keep.drop(f, axis=1)\n",
    "    X_train_sub, X_valid_sub, X_test_sub = split_vals(df_subs, n_test)\n",
    "    m = RandomForestRegressor(n_jobs=-1, n_estimators=40, min_samples_leaf=1, max_features=0.5, oob_score=True)\n",
    "    m.fit(X_train_sub, y_train_ext)\n",
    "    print(f)\n",
    "    print_score(m, X_train_sub, y_train_ext, X_valid_sub, y_valid_ext)"
   ]
  },
  {
   "cell_type": "markdown",
   "metadata": {},
   "source": [
    "### final model"
   ]
  },
  {
   "cell_type": "code",
   "execution_count": 525,
   "metadata": {},
   "outputs": [],
   "source": [
    "X, y = alk_df.drop(['close', 'max_7_days'], axis=1), alk_df.close_shift"
   ]
  },
  {
   "cell_type": "code",
   "execution_count": 526,
   "metadata": {},
   "outputs": [
    {
     "data": {
      "text/plain": [
       "((8481, 33), (30, 33), (30, 33), (8481,), (30,), (30,))"
      ]
     },
     "execution_count": 526,
     "metadata": {},
     "output_type": "execute_result"
    }
   ],
   "source": [
    "X_train, X_valid, X_test = split_vals(X, n_test)\n",
    "y_train, y_valid, y_test = split_vals(y, n_test)\n",
    "X_train.shape, X_valid.shape, X_test.shape, y_train.shape, y_valid.shape, y_test.shape"
   ]
  },
  {
   "cell_type": "code",
   "execution_count": 527,
   "metadata": {},
   "outputs": [
    {
     "name": "stdout",
     "output_type": "stream",
     "text": [
      "Wall time: 1.55 s\n",
      "[6.546514267888123, 40.48947085354399, 0.9999947617675338, 0.9774770036716826, 0.9999621995021364]\n"
     ]
    }
   ],
   "source": [
    "model_final = RandomForestRegressor(n_jobs=-1, n_estimators=40, min_samples_leaf=1, max_features=0.5, oob_score=True)\n",
    "%time model_final.fit(X_train, y_train)\n",
    "print_score(model_final, X_train, y_train, X_valid, y_valid)"
   ]
  },
  {
   "cell_type": "code",
   "execution_count": 528,
   "metadata": {},
   "outputs": [
    {
     "data": {
      "image/png": "[encoded data removed]",
      "text/plain": [
       "<Figure size 432x288 with 1 Axes>"
      ]
     },
     "metadata": {
      "needs_background": "light"
     },
     "output_type": "display_data"
    }
   ],
   "source": [
    "x_ax = range(len(y_valid))\n",
    "plt.plot(x_ax, y_valid, label=\"original\")\n",
    "plt.plot(x_ax, model_final.predict(X_valid), label=\"predicted\")\n",
    "plt.title(\"stock price and predicted price\")\n",
    "plt.legend()\n",
    "plt.show()"
   ]
  },
  {
   "cell_type": "code",
   "execution_count": 529,
   "metadata": {},
   "outputs": [],
   "source": [
    "ranfor_pred = model_final.predict(X_test)"
   ]
  },
  {
   "cell_type": "code",
   "execution_count": 531,
   "metadata": {},
   "outputs": [
    {
     "data": {
      "text/plain": [
       "0.967208694563615"
      ]
     },
     "execution_count": 531,
     "metadata": {},
     "output_type": "execute_result"
    }
   ],
   "source": [
    "model_final.score(X_test, y_test)"
   ]
  },
  {
   "cell_type": "code",
   "execution_count": 530,
   "metadata": {},
   "outputs": [
    {
     "data": {
      "image/png": "[encoded data removed]",
      "text/plain": [
       "<Figure size 720x360 with 1 Axes>"
      ]
     },
     "metadata": {
      "needs_background": "light"
     },
     "output_type": "display_data"
    }
   ],
   "source": [
    "plt.figure(figsize=(10,5))\n",
    "\n",
    "plt.scatter(y_test, ranfor_pred, color='red')\n",
    "plt.plot([y_train.min(), y_train.max()], [y_train.min(), y_train.max()], 'k--', lw=2)\n",
    "plt.title('Ground Truth vs Predicted - RF')\n",
    "plt.xlabel(xlabel='Actual')\n",
    "plt.ylabel(ylabel='Predicted')\n",
    "plt.show()"
   ]
  },
  {
   "cell_type": "markdown",
   "metadata": {},
   "source": [
    "### qty forecast"
   ]
  },
  {
   "cell_type": "code",
   "execution_count": 544,
   "metadata": {},
   "outputs": [],
   "source": [
    "alk_df_qty = df_7_days[df_7_days.stock_id == 'ALK']\n",
    "alk_df_qty = alk_df_qty.dropna()\n",
    "to_drop_qty = ['date', 'start_date','stock_id', 'open', 'high', 'low', 'average', 'volume', 'close', 'change %', 'volume total']\n",
    "alk_df_qty.drop(to_drop_qty, axis=1, inplace=True)"
   ]
  },
  {
   "cell_type": "code",
   "execution_count": 545,
   "metadata": {},
   "outputs": [],
   "source": [
    "alk_df_qty['qty_30'] = alk_df_qty.quantity.shift(30)"
   ]
  },
  {
   "cell_type": "code",
   "execution_count": 546,
   "metadata": {},
   "outputs": [],
   "source": [
    "alk_df_qty = alk_df_qty.dropna()"
   ]
  },
  {
   "cell_type": "code",
   "execution_count": 547,
   "metadata": {},
   "outputs": [],
   "source": [
    "X_qty, y_qty = alk_df_qty.drop(['quantity', 'qty_30'], axis=1), alk_df_qty.qty_30"
   ]
  },
  {
   "cell_type": "code",
   "execution_count": 548,
   "metadata": {},
   "outputs": [
    {
     "data": {
      "text/plain": [
       "((8481, 33), (30, 33), (30, 33), (8481,), (30,), (30,))"
      ]
     },
     "execution_count": 548,
     "metadata": {},
     "output_type": "execute_result"
    }
   ],
   "source": [
    "X_train_qty, X_valid_qty, X_test_qty = split_vals(X_qty, n_test)\n",
    "y_train_qty, y_valid_qty, y_test_qty = split_vals(y_qty, n_test)\n",
    "X_train_qty.shape, X_valid_qty.shape, X_test_qty.shape, y_train_qty.shape, y_valid_qty.shape, y_test_qty.shape"
   ]
  },
  {
   "cell_type": "code",
   "execution_count": 535,
   "metadata": {},
   "outputs": [
    {
     "ename": "KeyboardInterrupt",
     "evalue": "",
     "output_type": "error",
     "traceback": [
      "\u001b[1;31m---------------------------------------------------------------------------\u001b[0m",
      "\u001b[1;31mKeyboardInterrupt\u001b[0m                         Traceback (most recent call last)",
      "\u001b[1;32m<timed exec>\u001b[0m in \u001b[0;36m<module>\u001b[1;34m\u001b[0m\n",
      "\u001b[1;32m~\\Anaconda3\\lib\\site-packages\\sklearn\\model_selection\\_search.py\u001b[0m in \u001b[0;36mfit\u001b[1;34m(self, X, y, groups, **fit_params)\u001b[0m\n\u001b[0;32m    708\u001b[0m                 \u001b[1;32mreturn\u001b[0m \u001b[0mresults\u001b[0m\u001b[1;33m\u001b[0m\u001b[1;33m\u001b[0m\u001b[0m\n\u001b[0;32m    709\u001b[0m \u001b[1;33m\u001b[0m\u001b[0m\n\u001b[1;32m--> 710\u001b[1;33m             \u001b[0mself\u001b[0m\u001b[1;33m.\u001b[0m\u001b[0m_run_search\u001b[0m\u001b[1;33m(\u001b[0m\u001b[0mevaluate_candidates\u001b[0m\u001b[1;33m)\u001b[0m\u001b[1;33m\u001b[0m\u001b[1;33m\u001b[0m\u001b[0m\n\u001b[0m\u001b[0;32m    711\u001b[0m \u001b[1;33m\u001b[0m\u001b[0m\n\u001b[0;32m    712\u001b[0m         \u001b[1;31m# For multi-metric evaluation, store the best_index_, best_params_ and\u001b[0m\u001b[1;33m\u001b[0m\u001b[1;33m\u001b[0m\u001b[1;33m\u001b[0m\u001b[0m\n",
      "\u001b[1;32m~\\Anaconda3\\lib\\site-packages\\sklearn\\model_selection\\_search.py\u001b[0m in \u001b[0;36m_run_search\u001b[1;34m(self, evaluate_candidates)\u001b[0m\n\u001b[0;32m   1149\u001b[0m     \u001b[1;32mdef\u001b[0m \u001b[0m_run_search\u001b[0m\u001b[1;33m(\u001b[0m\u001b[0mself\u001b[0m\u001b[1;33m,\u001b[0m \u001b[0mevaluate_candidates\u001b[0m\u001b[1;33m)\u001b[0m\u001b[1;33m:\u001b[0m\u001b[1;33m\u001b[0m\u001b[1;33m\u001b[0m\u001b[0m\n\u001b[0;32m   1150\u001b[0m         \u001b[1;34m\"\"\"Search all candidates in param_grid\"\"\"\u001b[0m\u001b[1;33m\u001b[0m\u001b[1;33m\u001b[0m\u001b[0m\n\u001b[1;32m-> 1151\u001b[1;33m         \u001b[0mevaluate_candidates\u001b[0m\u001b[1;33m(\u001b[0m\u001b[0mParameterGrid\u001b[0m\u001b[1;33m(\u001b[0m\u001b[0mself\u001b[0m\u001b[1;33m.\u001b[0m\u001b[0mparam_grid\u001b[0m\u001b[1;33m)\u001b[0m\u001b[1;33m)\u001b[0m\u001b[1;33m\u001b[0m\u001b[1;33m\u001b[0m\u001b[0m\n\u001b[0m\u001b[0;32m   1152\u001b[0m \u001b[1;33m\u001b[0m\u001b[0m\n\u001b[0;32m   1153\u001b[0m \u001b[1;33m\u001b[0m\u001b[0m\n",
      "\u001b[1;32m~\\Anaconda3\\lib\\site-packages\\sklearn\\model_selection\\_search.py\u001b[0m in \u001b[0;36mevaluate_candidates\u001b[1;34m(candidate_params)\u001b[0m\n\u001b[0;32m    687\u001b[0m                                \u001b[1;32mfor\u001b[0m \u001b[0mparameters\u001b[0m\u001b[1;33m,\u001b[0m \u001b[1;33m(\u001b[0m\u001b[0mtrain\u001b[0m\u001b[1;33m,\u001b[0m \u001b[0mtest\u001b[0m\u001b[1;33m)\u001b[0m\u001b[1;33m\u001b[0m\u001b[1;33m\u001b[0m\u001b[0m\n\u001b[0;32m    688\u001b[0m                                in product(candidate_params,\n\u001b[1;32m--> 689\u001b[1;33m                                           cv.split(X, y, groups)))\n\u001b[0m\u001b[0;32m    690\u001b[0m \u001b[1;33m\u001b[0m\u001b[0m\n\u001b[0;32m    691\u001b[0m                 \u001b[1;32mif\u001b[0m \u001b[0mlen\u001b[0m\u001b[1;33m(\u001b[0m\u001b[0mout\u001b[0m\u001b[1;33m)\u001b[0m \u001b[1;33m<\u001b[0m \u001b[1;36m1\u001b[0m\u001b[1;33m:\u001b[0m\u001b[1;33m\u001b[0m\u001b[1;33m\u001b[0m\u001b[0m\n",
      "\u001b[1;32m~\\Anaconda3\\lib\\site-packages\\joblib\\parallel.py\u001b[0m in \u001b[0;36m__call__\u001b[1;34m(self, iterable)\u001b[0m\n\u001b[0;32m   1030\u001b[0m                 \u001b[0mself\u001b[0m\u001b[1;33m.\u001b[0m\u001b[0m_iterating\u001b[0m \u001b[1;33m=\u001b[0m \u001b[0mself\u001b[0m\u001b[1;33m.\u001b[0m\u001b[0m_original_iterator\u001b[0m \u001b[1;32mis\u001b[0m \u001b[1;32mnot\u001b[0m \u001b[1;32mNone\u001b[0m\u001b[1;33m\u001b[0m\u001b[1;33m\u001b[0m\u001b[0m\n\u001b[0;32m   1031\u001b[0m \u001b[1;33m\u001b[0m\u001b[0m\n\u001b[1;32m-> 1032\u001b[1;33m             \u001b[1;32mwhile\u001b[0m \u001b[0mself\u001b[0m\u001b[1;33m.\u001b[0m\u001b[0mdispatch_one_batch\u001b[0m\u001b[1;33m(\u001b[0m\u001b[0miterator\u001b[0m\u001b[1;33m)\u001b[0m\u001b[1;33m:\u001b[0m\u001b[1;33m\u001b[0m\u001b[1;33m\u001b[0m\u001b[0m\n\u001b[0m\u001b[0;32m   1033\u001b[0m                 \u001b[1;32mpass\u001b[0m\u001b[1;33m\u001b[0m\u001b[1;33m\u001b[0m\u001b[0m\n\u001b[0;32m   1034\u001b[0m \u001b[1;33m\u001b[0m\u001b[0m\n",
      "\u001b[1;32m~\\Anaconda3\\lib\\site-packages\\joblib\\parallel.py\u001b[0m in \u001b[0;36mdispatch_one_batch\u001b[1;34m(self, iterator)\u001b[0m\n\u001b[0;32m    845\u001b[0m                 \u001b[1;32mreturn\u001b[0m \u001b[1;32mFalse\u001b[0m\u001b[1;33m\u001b[0m\u001b[1;33m\u001b[0m\u001b[0m\n\u001b[0;32m    846\u001b[0m             \u001b[1;32melse\u001b[0m\u001b[1;33m:\u001b[0m\u001b[1;33m\u001b[0m\u001b[1;33m\u001b[0m\u001b[0m\n\u001b[1;32m--> 847\u001b[1;33m                 \u001b[0mself\u001b[0m\u001b[1;33m.\u001b[0m\u001b[0m_dispatch\u001b[0m\u001b[1;33m(\u001b[0m\u001b[0mtasks\u001b[0m\u001b[1;33m)\u001b[0m\u001b[1;33m\u001b[0m\u001b[1;33m\u001b[0m\u001b[0m\n\u001b[0m\u001b[0;32m    848\u001b[0m                 \u001b[1;32mreturn\u001b[0m \u001b[1;32mTrue\u001b[0m\u001b[1;33m\u001b[0m\u001b[1;33m\u001b[0m\u001b[0m\n\u001b[0;32m    849\u001b[0m \u001b[1;33m\u001b[0m\u001b[0m\n",
      "\u001b[1;32m~\\Anaconda3\\lib\\site-packages\\joblib\\parallel.py\u001b[0m in \u001b[0;36m_dispatch\u001b[1;34m(self, batch)\u001b[0m\n\u001b[0;32m    763\u001b[0m         \u001b[1;32mwith\u001b[0m \u001b[0mself\u001b[0m\u001b[1;33m.\u001b[0m\u001b[0m_lock\u001b[0m\u001b[1;33m:\u001b[0m\u001b[1;33m\u001b[0m\u001b[1;33m\u001b[0m\u001b[0m\n\u001b[0;32m    764\u001b[0m             \u001b[0mjob_idx\u001b[0m \u001b[1;33m=\u001b[0m \u001b[0mlen\u001b[0m\u001b[1;33m(\u001b[0m\u001b[0mself\u001b[0m\u001b[1;33m.\u001b[0m\u001b[0m_jobs\u001b[0m\u001b[1;33m)\u001b[0m\u001b[1;33m\u001b[0m\u001b[1;33m\u001b[0m\u001b[0m\n\u001b[1;32m--> 765\u001b[1;33m             \u001b[0mjob\u001b[0m \u001b[1;33m=\u001b[0m \u001b[0mself\u001b[0m\u001b[1;33m.\u001b[0m\u001b[0m_backend\u001b[0m\u001b[1;33m.\u001b[0m\u001b[0mapply_async\u001b[0m\u001b[1;33m(\u001b[0m\u001b[0mbatch\u001b[0m\u001b[1;33m,\u001b[0m \u001b[0mcallback\u001b[0m\u001b[1;33m=\u001b[0m\u001b[0mcb\u001b[0m\u001b[1;33m)\u001b[0m\u001b[1;33m\u001b[0m\u001b[1;33m\u001b[0m\u001b[0m\n\u001b[0m\u001b[0;32m    766\u001b[0m             \u001b[1;31m# A job can complete so quickly than its callback is\u001b[0m\u001b[1;33m\u001b[0m\u001b[1;33m\u001b[0m\u001b[1;33m\u001b[0m\u001b[0m\n\u001b[0;32m    767\u001b[0m             \u001b[1;31m# called before we get here, causing self._jobs to\u001b[0m\u001b[1;33m\u001b[0m\u001b[1;33m\u001b[0m\u001b[1;33m\u001b[0m\u001b[0m\n",
      "\u001b[1;32m~\\Anaconda3\\lib\\site-packages\\joblib\\_parallel_backends.py\u001b[0m in \u001b[0;36mapply_async\u001b[1;34m(self, func, callback)\u001b[0m\n\u001b[0;32m    204\u001b[0m     \u001b[1;32mdef\u001b[0m \u001b[0mapply_async\u001b[0m\u001b[1;33m(\u001b[0m\u001b[0mself\u001b[0m\u001b[1;33m,\u001b[0m \u001b[0mfunc\u001b[0m\u001b[1;33m,\u001b[0m \u001b[0mcallback\u001b[0m\u001b[1;33m=\u001b[0m\u001b[1;32mNone\u001b[0m\u001b[1;33m)\u001b[0m\u001b[1;33m:\u001b[0m\u001b[1;33m\u001b[0m\u001b[1;33m\u001b[0m\u001b[0m\n\u001b[0;32m    205\u001b[0m         \u001b[1;34m\"\"\"Schedule a func to be run\"\"\"\u001b[0m\u001b[1;33m\u001b[0m\u001b[1;33m\u001b[0m\u001b[0m\n\u001b[1;32m--> 206\u001b[1;33m         \u001b[0mresult\u001b[0m \u001b[1;33m=\u001b[0m \u001b[0mImmediateResult\u001b[0m\u001b[1;33m(\u001b[0m\u001b[0mfunc\u001b[0m\u001b[1;33m)\u001b[0m\u001b[1;33m\u001b[0m\u001b[1;33m\u001b[0m\u001b[0m\n\u001b[0m\u001b[0;32m    207\u001b[0m         \u001b[1;32mif\u001b[0m \u001b[0mcallback\u001b[0m\u001b[1;33m:\u001b[0m\u001b[1;33m\u001b[0m\u001b[1;33m\u001b[0m\u001b[0m\n\u001b[0;32m    208\u001b[0m             \u001b[0mcallback\u001b[0m\u001b[1;33m(\u001b[0m\u001b[0mresult\u001b[0m\u001b[1;33m)\u001b[0m\u001b[1;33m\u001b[0m\u001b[1;33m\u001b[0m\u001b[0m\n",
      "\u001b[1;32m~\\Anaconda3\\lib\\site-packages\\joblib\\_parallel_backends.py\u001b[0m in \u001b[0;36m__init__\u001b[1;34m(self, batch)\u001b[0m\n\u001b[0;32m    568\u001b[0m         \u001b[1;31m# Don't delay the application, to avoid keeping the input\u001b[0m\u001b[1;33m\u001b[0m\u001b[1;33m\u001b[0m\u001b[1;33m\u001b[0m\u001b[0m\n\u001b[0;32m    569\u001b[0m         \u001b[1;31m# arguments in memory\u001b[0m\u001b[1;33m\u001b[0m\u001b[1;33m\u001b[0m\u001b[1;33m\u001b[0m\u001b[0m\n\u001b[1;32m--> 570\u001b[1;33m         \u001b[0mself\u001b[0m\u001b[1;33m.\u001b[0m\u001b[0mresults\u001b[0m \u001b[1;33m=\u001b[0m \u001b[0mbatch\u001b[0m\u001b[1;33m(\u001b[0m\u001b[1;33m)\u001b[0m\u001b[1;33m\u001b[0m\u001b[1;33m\u001b[0m\u001b[0m\n\u001b[0m\u001b[0;32m    571\u001b[0m \u001b[1;33m\u001b[0m\u001b[0m\n\u001b[0;32m    572\u001b[0m     \u001b[1;32mdef\u001b[0m \u001b[0mget\u001b[0m\u001b[1;33m(\u001b[0m\u001b[0mself\u001b[0m\u001b[1;33m)\u001b[0m\u001b[1;33m:\u001b[0m\u001b[1;33m\u001b[0m\u001b[1;33m\u001b[0m\u001b[0m\n",
      "\u001b[1;32m~\\Anaconda3\\lib\\site-packages\\joblib\\parallel.py\u001b[0m in \u001b[0;36m__call__\u001b[1;34m(self)\u001b[0m\n\u001b[0;32m    251\u001b[0m         \u001b[1;32mwith\u001b[0m \u001b[0mparallel_backend\u001b[0m\u001b[1;33m(\u001b[0m\u001b[0mself\u001b[0m\u001b[1;33m.\u001b[0m\u001b[0m_backend\u001b[0m\u001b[1;33m,\u001b[0m \u001b[0mn_jobs\u001b[0m\u001b[1;33m=\u001b[0m\u001b[0mself\u001b[0m\u001b[1;33m.\u001b[0m\u001b[0m_n_jobs\u001b[0m\u001b[1;33m)\u001b[0m\u001b[1;33m:\u001b[0m\u001b[1;33m\u001b[0m\u001b[1;33m\u001b[0m\u001b[0m\n\u001b[0;32m    252\u001b[0m             return [func(*args, **kwargs)\n\u001b[1;32m--> 253\u001b[1;33m                     for func, args, kwargs in self.items]\n\u001b[0m\u001b[0;32m    254\u001b[0m \u001b[1;33m\u001b[0m\u001b[0m\n\u001b[0;32m    255\u001b[0m     \u001b[1;32mdef\u001b[0m \u001b[0m__reduce__\u001b[0m\u001b[1;33m(\u001b[0m\u001b[0mself\u001b[0m\u001b[1;33m)\u001b[0m\u001b[1;33m:\u001b[0m\u001b[1;33m\u001b[0m\u001b[1;33m\u001b[0m\u001b[0m\n",
      "\u001b[1;32m~\\Anaconda3\\lib\\site-packages\\joblib\\parallel.py\u001b[0m in \u001b[0;36m<listcomp>\u001b[1;34m(.0)\u001b[0m\n\u001b[0;32m    251\u001b[0m         \u001b[1;32mwith\u001b[0m \u001b[0mparallel_backend\u001b[0m\u001b[1;33m(\u001b[0m\u001b[0mself\u001b[0m\u001b[1;33m.\u001b[0m\u001b[0m_backend\u001b[0m\u001b[1;33m,\u001b[0m \u001b[0mn_jobs\u001b[0m\u001b[1;33m=\u001b[0m\u001b[0mself\u001b[0m\u001b[1;33m.\u001b[0m\u001b[0m_n_jobs\u001b[0m\u001b[1;33m)\u001b[0m\u001b[1;33m:\u001b[0m\u001b[1;33m\u001b[0m\u001b[1;33m\u001b[0m\u001b[0m\n\u001b[0;32m    252\u001b[0m             return [func(*args, **kwargs)\n\u001b[1;32m--> 253\u001b[1;33m                     for func, args, kwargs in self.items]\n\u001b[0m\u001b[0;32m    254\u001b[0m \u001b[1;33m\u001b[0m\u001b[0m\n\u001b[0;32m    255\u001b[0m     \u001b[1;32mdef\u001b[0m \u001b[0m__reduce__\u001b[0m\u001b[1;33m(\u001b[0m\u001b[0mself\u001b[0m\u001b[1;33m)\u001b[0m\u001b[1;33m:\u001b[0m\u001b[1;33m\u001b[0m\u001b[1;33m\u001b[0m\u001b[0m\n",
      "\u001b[1;32m~\\Anaconda3\\lib\\site-packages\\sklearn\\model_selection\\_validation.py\u001b[0m in \u001b[0;36m_fit_and_score\u001b[1;34m(estimator, X, y, scorer, train, test, verbose, parameters, fit_params, return_train_score, return_parameters, return_n_test_samples, return_times, return_estimator, error_score)\u001b[0m\n\u001b[0;32m    513\u001b[0m             \u001b[0mestimator\u001b[0m\u001b[1;33m.\u001b[0m\u001b[0mfit\u001b[0m\u001b[1;33m(\u001b[0m\u001b[0mX_train\u001b[0m\u001b[1;33m,\u001b[0m \u001b[1;33m**\u001b[0m\u001b[0mfit_params\u001b[0m\u001b[1;33m)\u001b[0m\u001b[1;33m\u001b[0m\u001b[1;33m\u001b[0m\u001b[0m\n\u001b[0;32m    514\u001b[0m         \u001b[1;32melse\u001b[0m\u001b[1;33m:\u001b[0m\u001b[1;33m\u001b[0m\u001b[1;33m\u001b[0m\u001b[0m\n\u001b[1;32m--> 515\u001b[1;33m             \u001b[0mestimator\u001b[0m\u001b[1;33m.\u001b[0m\u001b[0mfit\u001b[0m\u001b[1;33m(\u001b[0m\u001b[0mX_train\u001b[0m\u001b[1;33m,\u001b[0m \u001b[0my_train\u001b[0m\u001b[1;33m,\u001b[0m \u001b[1;33m**\u001b[0m\u001b[0mfit_params\u001b[0m\u001b[1;33m)\u001b[0m\u001b[1;33m\u001b[0m\u001b[1;33m\u001b[0m\u001b[0m\n\u001b[0m\u001b[0;32m    516\u001b[0m \u001b[1;33m\u001b[0m\u001b[0m\n\u001b[0;32m    517\u001b[0m     \u001b[1;32mexcept\u001b[0m \u001b[0mException\u001b[0m \u001b[1;32mas\u001b[0m \u001b[0me\u001b[0m\u001b[1;33m:\u001b[0m\u001b[1;33m\u001b[0m\u001b[1;33m\u001b[0m\u001b[0m\n",
      "\u001b[1;32m~\\Anaconda3\\lib\\site-packages\\sklearn\\ensemble\\_forest.py\u001b[0m in \u001b[0;36mfit\u001b[1;34m(self, X, y, sample_weight)\u001b[0m\n\u001b[0;32m    381\u001b[0m                     \u001b[0mverbose\u001b[0m\u001b[1;33m=\u001b[0m\u001b[0mself\u001b[0m\u001b[1;33m.\u001b[0m\u001b[0mverbose\u001b[0m\u001b[1;33m,\u001b[0m \u001b[0mclass_weight\u001b[0m\u001b[1;33m=\u001b[0m\u001b[0mself\u001b[0m\u001b[1;33m.\u001b[0m\u001b[0mclass_weight\u001b[0m\u001b[1;33m,\u001b[0m\u001b[1;33m\u001b[0m\u001b[1;33m\u001b[0m\u001b[0m\n\u001b[0;32m    382\u001b[0m                     n_samples_bootstrap=n_samples_bootstrap)\n\u001b[1;32m--> 383\u001b[1;33m                 for i, t in enumerate(trees))\n\u001b[0m\u001b[0;32m    384\u001b[0m \u001b[1;33m\u001b[0m\u001b[0m\n\u001b[0;32m    385\u001b[0m             \u001b[1;31m# Collect newly grown trees\u001b[0m\u001b[1;33m\u001b[0m\u001b[1;33m\u001b[0m\u001b[1;33m\u001b[0m\u001b[0m\n",
      "\u001b[1;32m~\\Anaconda3\\lib\\site-packages\\joblib\\parallel.py\u001b[0m in \u001b[0;36m__call__\u001b[1;34m(self, iterable)\u001b[0m\n\u001b[0;32m   1040\u001b[0m \u001b[1;33m\u001b[0m\u001b[0m\n\u001b[0;32m   1041\u001b[0m             \u001b[1;32mwith\u001b[0m \u001b[0mself\u001b[0m\u001b[1;33m.\u001b[0m\u001b[0m_backend\u001b[0m\u001b[1;33m.\u001b[0m\u001b[0mretrieval_context\u001b[0m\u001b[1;33m(\u001b[0m\u001b[1;33m)\u001b[0m\u001b[1;33m:\u001b[0m\u001b[1;33m\u001b[0m\u001b[1;33m\u001b[0m\u001b[0m\n\u001b[1;32m-> 1042\u001b[1;33m                 \u001b[0mself\u001b[0m\u001b[1;33m.\u001b[0m\u001b[0mretrieve\u001b[0m\u001b[1;33m(\u001b[0m\u001b[1;33m)\u001b[0m\u001b[1;33m\u001b[0m\u001b[1;33m\u001b[0m\u001b[0m\n\u001b[0m\u001b[0;32m   1043\u001b[0m             \u001b[1;31m# Make sure that we get a last message telling us we are done\u001b[0m\u001b[1;33m\u001b[0m\u001b[1;33m\u001b[0m\u001b[1;33m\u001b[0m\u001b[0m\n\u001b[0;32m   1044\u001b[0m             \u001b[0melapsed_time\u001b[0m \u001b[1;33m=\u001b[0m \u001b[0mtime\u001b[0m\u001b[1;33m.\u001b[0m\u001b[0mtime\u001b[0m\u001b[1;33m(\u001b[0m\u001b[1;33m)\u001b[0m \u001b[1;33m-\u001b[0m \u001b[0mself\u001b[0m\u001b[1;33m.\u001b[0m\u001b[0m_start_time\u001b[0m\u001b[1;33m\u001b[0m\u001b[1;33m\u001b[0m\u001b[0m\n",
      "\u001b[1;32m~\\Anaconda3\\lib\\site-packages\\joblib\\parallel.py\u001b[0m in \u001b[0;36mretrieve\u001b[1;34m(self)\u001b[0m\n\u001b[0;32m    919\u001b[0m             \u001b[1;32mtry\u001b[0m\u001b[1;33m:\u001b[0m\u001b[1;33m\u001b[0m\u001b[1;33m\u001b[0m\u001b[0m\n\u001b[0;32m    920\u001b[0m                 \u001b[1;32mif\u001b[0m \u001b[0mgetattr\u001b[0m\u001b[1;33m(\u001b[0m\u001b[0mself\u001b[0m\u001b[1;33m.\u001b[0m\u001b[0m_backend\u001b[0m\u001b[1;33m,\u001b[0m \u001b[1;34m'supports_timeout'\u001b[0m\u001b[1;33m,\u001b[0m \u001b[1;32mFalse\u001b[0m\u001b[1;33m)\u001b[0m\u001b[1;33m:\u001b[0m\u001b[1;33m\u001b[0m\u001b[1;33m\u001b[0m\u001b[0m\n\u001b[1;32m--> 921\u001b[1;33m                     \u001b[0mself\u001b[0m\u001b[1;33m.\u001b[0m\u001b[0m_output\u001b[0m\u001b[1;33m.\u001b[0m\u001b[0mextend\u001b[0m\u001b[1;33m(\u001b[0m\u001b[0mjob\u001b[0m\u001b[1;33m.\u001b[0m\u001b[0mget\u001b[0m\u001b[1;33m(\u001b[0m\u001b[0mtimeout\u001b[0m\u001b[1;33m=\u001b[0m\u001b[0mself\u001b[0m\u001b[1;33m.\u001b[0m\u001b[0mtimeout\u001b[0m\u001b[1;33m)\u001b[0m\u001b[1;33m)\u001b[0m\u001b[1;33m\u001b[0m\u001b[1;33m\u001b[0m\u001b[0m\n\u001b[0m\u001b[0;32m    922\u001b[0m                 \u001b[1;32melse\u001b[0m\u001b[1;33m:\u001b[0m\u001b[1;33m\u001b[0m\u001b[1;33m\u001b[0m\u001b[0m\n\u001b[0;32m    923\u001b[0m                     \u001b[0mself\u001b[0m\u001b[1;33m.\u001b[0m\u001b[0m_output\u001b[0m\u001b[1;33m.\u001b[0m\u001b[0mextend\u001b[0m\u001b[1;33m(\u001b[0m\u001b[0mjob\u001b[0m\u001b[1;33m.\u001b[0m\u001b[0mget\u001b[0m\u001b[1;33m(\u001b[0m\u001b[1;33m)\u001b[0m\u001b[1;33m)\u001b[0m\u001b[1;33m\u001b[0m\u001b[1;33m\u001b[0m\u001b[0m\n",
      "\u001b[1;32m~\\Anaconda3\\lib\\site-packages\\joblib\\_parallel_backends.py\u001b[0m in \u001b[0;36mwrap_future_result\u001b[1;34m(future, timeout)\u001b[0m\n\u001b[0;32m    538\u001b[0m         AsyncResults.get from multiprocessing.\"\"\"\n\u001b[0;32m    539\u001b[0m         \u001b[1;32mtry\u001b[0m\u001b[1;33m:\u001b[0m\u001b[1;33m\u001b[0m\u001b[1;33m\u001b[0m\u001b[0m\n\u001b[1;32m--> 540\u001b[1;33m             \u001b[1;32mreturn\u001b[0m \u001b[0mfuture\u001b[0m\u001b[1;33m.\u001b[0m\u001b[0mresult\u001b[0m\u001b[1;33m(\u001b[0m\u001b[0mtimeout\u001b[0m\u001b[1;33m=\u001b[0m\u001b[0mtimeout\u001b[0m\u001b[1;33m)\u001b[0m\u001b[1;33m\u001b[0m\u001b[1;33m\u001b[0m\u001b[0m\n\u001b[0m\u001b[0;32m    541\u001b[0m         \u001b[1;32mexcept\u001b[0m \u001b[0mCfTimeoutError\u001b[0m\u001b[1;33m:\u001b[0m\u001b[1;33m\u001b[0m\u001b[1;33m\u001b[0m\u001b[0m\n\u001b[0;32m    542\u001b[0m             \u001b[1;32mraise\u001b[0m \u001b[0mTimeoutError\u001b[0m\u001b[1;33m(\u001b[0m\u001b[1;33m)\u001b[0m\u001b[1;33m\u001b[0m\u001b[1;33m\u001b[0m\u001b[0m\n",
      "\u001b[1;32m~\\Anaconda3\\lib\\concurrent\\futures\\_base.py\u001b[0m in \u001b[0;36mresult\u001b[1;34m(self, timeout)\u001b[0m\n\u001b[0;32m    425\u001b[0m                 \u001b[1;32mreturn\u001b[0m \u001b[0mself\u001b[0m\u001b[1;33m.\u001b[0m\u001b[0m__get_result\u001b[0m\u001b[1;33m(\u001b[0m\u001b[1;33m)\u001b[0m\u001b[1;33m\u001b[0m\u001b[1;33m\u001b[0m\u001b[0m\n\u001b[0;32m    426\u001b[0m \u001b[1;33m\u001b[0m\u001b[0m\n\u001b[1;32m--> 427\u001b[1;33m             \u001b[0mself\u001b[0m\u001b[1;33m.\u001b[0m\u001b[0m_condition\u001b[0m\u001b[1;33m.\u001b[0m\u001b[0mwait\u001b[0m\u001b[1;33m(\u001b[0m\u001b[0mtimeout\u001b[0m\u001b[1;33m)\u001b[0m\u001b[1;33m\u001b[0m\u001b[1;33m\u001b[0m\u001b[0m\n\u001b[0m\u001b[0;32m    428\u001b[0m \u001b[1;33m\u001b[0m\u001b[0m\n\u001b[0;32m    429\u001b[0m             \u001b[1;32mif\u001b[0m \u001b[0mself\u001b[0m\u001b[1;33m.\u001b[0m\u001b[0m_state\u001b[0m \u001b[1;32min\u001b[0m \u001b[1;33m[\u001b[0m\u001b[0mCANCELLED\u001b[0m\u001b[1;33m,\u001b[0m \u001b[0mCANCELLED_AND_NOTIFIED\u001b[0m\u001b[1;33m]\u001b[0m\u001b[1;33m:\u001b[0m\u001b[1;33m\u001b[0m\u001b[1;33m\u001b[0m\u001b[0m\n",
      "\u001b[1;32m~\\Anaconda3\\lib\\threading.py\u001b[0m in \u001b[0;36mwait\u001b[1;34m(self, timeout)\u001b[0m\n\u001b[0;32m    294\u001b[0m         \u001b[1;32mtry\u001b[0m\u001b[1;33m:\u001b[0m    \u001b[1;31m# restore state no matter what (e.g., KeyboardInterrupt)\u001b[0m\u001b[1;33m\u001b[0m\u001b[1;33m\u001b[0m\u001b[0m\n\u001b[0;32m    295\u001b[0m             \u001b[1;32mif\u001b[0m \u001b[0mtimeout\u001b[0m \u001b[1;32mis\u001b[0m \u001b[1;32mNone\u001b[0m\u001b[1;33m:\u001b[0m\u001b[1;33m\u001b[0m\u001b[1;33m\u001b[0m\u001b[0m\n\u001b[1;32m--> 296\u001b[1;33m                 \u001b[0mwaiter\u001b[0m\u001b[1;33m.\u001b[0m\u001b[0macquire\u001b[0m\u001b[1;33m(\u001b[0m\u001b[1;33m)\u001b[0m\u001b[1;33m\u001b[0m\u001b[1;33m\u001b[0m\u001b[0m\n\u001b[0m\u001b[0;32m    297\u001b[0m                 \u001b[0mgotit\u001b[0m \u001b[1;33m=\u001b[0m \u001b[1;32mTrue\u001b[0m\u001b[1;33m\u001b[0m\u001b[1;33m\u001b[0m\u001b[0m\n\u001b[0;32m    298\u001b[0m             \u001b[1;32melse\u001b[0m\u001b[1;33m:\u001b[0m\u001b[1;33m\u001b[0m\u001b[1;33m\u001b[0m\u001b[0m\n",
      "\u001b[1;31mKeyboardInterrupt\u001b[0m: "
     ]
    }
   ],
   "source": [
    "%%time\n",
    "\n",
    "parametars = {\n",
    "    'n_estimators': [30, 50, 100, 150, 200, 300, 400, 500],\n",
    "    'min_samples_leaf': [1, 3, 5, 10, 25]\n",
    "}\n",
    "\n",
    "model_qty = RandomForestRegressor(n_jobs=-1, max_features=0.5)\n",
    "clf = GridSearchCV(model_qty, parametars)\n",
    "clf.fit(X_train, y_train)\n",
    "\n",
    "print(f'Best params: {clf.best_params_}')\n",
    "print(f'Best score = {clf.best_score_}')"
   ]
  },
  {
   "cell_type": "code",
   "execution_count": 550,
   "metadata": {},
   "outputs": [
    {
     "name": "stdout",
     "output_type": "stream",
     "text": [
      "Wall time: 13.2 s\n",
      "[170.42878192584342, 233.9140866714387, 0.9068245316375511, 0.1653227924929761, 0.3013125069125002]\n"
     ]
    }
   ],
   "source": [
    "model_qty = RandomForestRegressor(n_jobs=-1, n_estimators=300, min_samples_leaf=1, max_features=0.5, oob_score=True)\n",
    "%time model_qty.fit(X_train_qty, y_train_qty)\n",
    "print_score(model_qty, X_train_qty, y_train_qty, X_valid_qty, y_valid_qty)"
   ]
  },
  {
   "cell_type": "code",
   "execution_count": 551,
   "metadata": {},
   "outputs": [
    {
     "data": {
      "image/png": "[encoded data removed]",
      "text/plain": [
       "<Figure size 432x288 with 1 Axes>"
      ]
     },
     "metadata": {
      "needs_background": "light"
     },
     "output_type": "display_data"
    }
   ],
   "source": [
    "x_ax = range(len(y_valid_qty))\n",
    "plt.plot(x_ax, y_valid_qty, label=\"original\")\n",
    "plt.plot(x_ax, model_qty.predict(X_valid_qty), label=\"predicted\")\n",
    "plt.title(\"stock price and predicted price\")\n",
    "plt.legend()\n",
    "plt.show()"
   ]
  },
  {
   "cell_type": "code",
   "execution_count": 552,
   "metadata": {},
   "outputs": [],
   "source": [
    "ranfor_pred_qty = model_qty.predict(X_test_qty)"
   ]
  },
  {
   "cell_type": "code",
   "execution_count": 553,
   "metadata": {},
   "outputs": [
    {
     "data": {
      "image/png": "[encoded data removed]",
      "text/plain": [
       "<Figure size 720x360 with 1 Axes>"
      ]
     },
     "metadata": {
      "needs_background": "light"
     },
     "output_type": "display_data"
    }
   ],
   "source": [
    "plt.figure(figsize=(10,5))\n",
    "\n",
    "plt.scatter(y_test_qty, ranfor_pred_qty, color='red')\n",
    "plt.plot([y_train_qty.min(), y_train_qty.max()], [y_train_qty.min(), y_train_qty.max()], 'k--', lw=2)\n",
    "plt.title('Ground Truth vs Predicted - RF')\n",
    "plt.xlabel(xlabel='Actual')\n",
    "plt.ylabel(ylabel='Predicted')\n",
    "plt.show()"
   ]
  },
  {
   "cell_type": "markdown",
   "metadata": {},
   "source": [
    "### XGBOOST"
   ]
  },
  {
   "cell_type": "code",
   "execution_count": 554,
   "metadata": {},
   "outputs": [],
   "source": [
    "xgb_reg = xgb.XGBRegressor(colsample_bylevel=0.7, colsample_bynode=0.7, colsample_bytree=0.7, \n",
    "                           learning_rate=0.05, n_estimators=400, \n",
    "                           gamma=0.02, max_depth=15)"
   ]
  },
  {
   "cell_type": "code",
   "execution_count": 555,
   "metadata": {},
   "outputs": [
    {
     "name": "stdout",
     "output_type": "stream",
     "text": [
      "[0.2731034148332792, 59.07565745228528, 0.9999999908836962, 0.9520532592213408]\n"
     ]
    }
   ],
   "source": [
    "xgb_reg.fit(X_train, y_train)\n",
    "print_score(xgb_reg, X_train, y_train, X_valid, y_valid)"
   ]
  },
  {
   "cell_type": "code",
   "execution_count": 556,
   "metadata": {},
   "outputs": [
    {
     "data": {
      "image/png": "[encoded data removed]",
      "text/plain": [
       "<Figure size 432x288 with 1 Axes>"
      ]
     },
     "metadata": {
      "needs_background": "light"
     },
     "output_type": "display_data"
    }
   ],
   "source": [
    "x_ax = range(len(y_valid))\n",
    "plt.plot(x_ax, y_valid, label=\"original\")\n",
    "plt.plot(x_ax, xgb_reg.predict(X_valid), label=\"predicted\")\n",
    "plt.title(\"stock price and predicted price\")\n",
    "plt.legend()\n",
    "plt.show()"
   ]
  },
  {
   "cell_type": "code",
   "execution_count": 557,
   "metadata": {},
   "outputs": [],
   "source": [
    "xgb_price = xgb_reg.predict(X_test)"
   ]
  },
  {
   "cell_type": "code",
   "execution_count": 558,
   "metadata": {},
   "outputs": [
    {
     "data": {
      "image/png": "[encoded data removed]",
      "text/plain": [
       "<Figure size 720x360 with 1 Axes>"
      ]
     },
     "metadata": {
      "needs_background": "light"
     },
     "output_type": "display_data"
    }
   ],
   "source": [
    "plt.figure(figsize=(10,5))\n",
    "\n",
    "plt.scatter(y_test, xgb_price, color='red')\n",
    "plt.plot([y_train.min(), y_train.max()], [y_train.min(), y_train.max()], 'k--', lw=2)\n",
    "plt.title('Ground Truth vs Predicted - XGB')\n",
    "plt.xlabel(xlabel='Actual')\n",
    "plt.ylabel(ylabel='Predicted')\n",
    "plt.show()"
   ]
  },
  {
   "cell_type": "code",
   "execution_count": 559,
   "metadata": {},
   "outputs": [],
   "source": [
    "xgb_reg_qty = xgb.XGBRegressor(colsample_bylevel=0.7, colsample_bynode=0.7, colsample_bytree=0.7, \n",
    "                           learning_rate=0.05, n_estimators=400, \n",
    "                           gamma=0.02, max_depth=15)"
   ]
  },
  {
   "cell_type": "code",
   "execution_count": 560,
   "metadata": {},
   "outputs": [
    {
     "name": "stdout",
     "output_type": "stream",
     "text": [
      "[2.7590696655270004, 213.13041608147844, 0.9999755802599141, 0.3070583481550525]\n"
     ]
    }
   ],
   "source": [
    "xgb_reg_qty.fit(X_train_qty, y_train_qty)\n",
    "print_score(xgb_reg_qty, X_train_qty, y_train_qty, X_valid_qty, y_valid_qty)"
   ]
  },
  {
   "cell_type": "code",
   "execution_count": 561,
   "metadata": {},
   "outputs": [
    {
     "data": {
      "image/png": "[encoded data removed]",
      "text/plain": [
       "<Figure size 432x288 with 1 Axes>"
      ]
     },
     "metadata": {
      "needs_background": "light"
     },
     "output_type": "display_data"
    }
   ],
   "source": [
    "x_ax = range(len(y_valid_qty))\n",
    "plt.plot(x_ax, y_valid_qty, label=\"original\")\n",
    "plt.plot(x_ax, xgb_reg_qty.predict(X_valid_qty), label=\"predicted\")\n",
    "plt.title(\"stock price and predicted price\")\n",
    "plt.legend()\n",
    "plt.show()"
   ]
  },
  {
   "cell_type": "code",
   "execution_count": 562,
   "metadata": {},
   "outputs": [],
   "source": [
    "xgb_qty = xgb_reg_qty.predict(X_test_qty)"
   ]
  },
  {
   "cell_type": "code",
   "execution_count": 563,
   "metadata": {},
   "outputs": [
    {
     "data": {
      "image/png": "[encoded data removed]",
      "text/plain": [
       "<Figure size 720x360 with 1 Axes>"
      ]
     },
     "metadata": {
      "needs_background": "light"
     },
     "output_type": "display_data"
    }
   ],
   "source": [
    "plt.figure(figsize=(10,5))\n",
    "\n",
    "plt.scatter(y_test_qty, xgb_qty, color='red')\n",
    "plt.plot([y_train_qty.min(), y_train_qty.max()], [y_train_qty.min(), y_train_qty.max()], 'k--', lw=2)\n",
    "plt.title('Ground Truth vs Predicted - XGB')\n",
    "plt.xlabel(xlabel='Actual')\n",
    "plt.ylabel(ylabel='Predicted')\n",
    "plt.show()"
   ]
  }
 ],
 "metadata": {
  "kernelspec": {
   "display_name": "Python 3",
   "language": "python",
   "name": "python3"
  },
  "language_info": {
   "codemirror_mode": {
    "name": "ipython",
    "version": 3
   },
   "file_extension": ".py",
   "mimetype": "text/x-python",
   "name": "python",
   "nbconvert_exporter": "python",
   "pygments_lexer": "ipython3",
   "version": "3.7.3"
  }
 },
 "nbformat": 4,
 "nbformat_minor": 4
}
