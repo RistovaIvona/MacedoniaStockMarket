{
 "cells": [
  {
   "cell_type": "code",
   "execution_count": 200,
   "metadata": {},
   "outputs": [],
   "source": [
    "import pandas as pd\n",
    "import numpy as np\n",
    "import scipy as sp\n",
    "import matplotlib.pyplot as plt\n",
    "import seaborn as sns\n",
    "import math\n",
    "import itertools\n",
    "import regex as re\n",
    "\n",
    "import xgboost as xgb\n",
    "from sklearn.ensemble import RandomForestRegressor\n",
    "from sklearn.preprocessing import MinMaxScaler\n",
    "from sklearn.metrics import mean_squared_error, mean_absolute_error\n",
    "from sklearn.preprocessing import StandardScaler, Normalizer, MinMaxScaler, normalize\n",
    "from sklearn.model_selection import train_test_split, GridSearchCV\n",
    "\n",
    "from keras.callbacks import ModelCheckpoint, EarlyStopping\n",
    "from keras.models import Sequential\n",
    "from keras.layers import Dense, LSTM, SimpleRNN, Activation, Dropout\n",
    "from keras.metrics import RootMeanSquaredError\n",
    "%matplotlib inline"
   ]
  },
  {
   "cell_type": "markdown",
   "metadata": {},
   "source": [
    "### Loading Preprocessed Dataset"
   ]
  },
  {
   "cell_type": "code",
   "execution_count": 3,
   "metadata": {},
   "outputs": [],
   "source": [
    "df = pd.read_csv('tmp/mse_raw.csv', parse_dates=['date', 'start_date'], index_col='Unnamed: 0')"
   ]
  },
  {
   "cell_type": "code",
   "execution_count": 4,
   "metadata": {},
   "outputs": [
    {
     "data": {
      "text/html": [
       "<div>\n",
       "<style scoped>\n",
       "    .dataframe tbody tr th:only-of-type {\n",
       "        vertical-align: middle;\n",
       "    }\n",
       "\n",
       "    .dataframe tbody tr th {\n",
       "        vertical-align: top;\n",
       "    }\n",
       "\n",
       "    .dataframe thead th {\n",
       "        text-align: right;\n",
       "    }\n",
       "</style>\n",
       "<table border=\"1\" class=\"dataframe\">\n",
       "  <thead>\n",
       "    <tr style=\"text-align: right;\">\n",
       "      <th></th>\n",
       "      <th>stock_id</th>\n",
       "      <th>date</th>\n",
       "      <th>open</th>\n",
       "      <th>high</th>\n",
       "      <th>low</th>\n",
       "      <th>average</th>\n",
       "      <th>close</th>\n",
       "      <th>volume</th>\n",
       "      <th>quantity</th>\n",
       "      <th>change %</th>\n",
       "      <th>volume total</th>\n",
       "      <th>start_date</th>\n",
       "    </tr>\n",
       "  </thead>\n",
       "  <tbody>\n",
       "    <tr>\n",
       "      <th>0</th>\n",
       "      <td>ALK</td>\n",
       "      <td>1997-01-09</td>\n",
       "      <td>1070.0</td>\n",
       "      <td>1070.0</td>\n",
       "      <td>1070.0</td>\n",
       "      <td>1070.0</td>\n",
       "      <td>1070.0</td>\n",
       "      <td>279270.0</td>\n",
       "      <td>261.0</td>\n",
       "      <td>0.0</td>\n",
       "      <td>279270.0</td>\n",
       "      <td>1997-01-09</td>\n",
       "    </tr>\n",
       "    <tr>\n",
       "      <th>22</th>\n",
       "      <td>ALK</td>\n",
       "      <td>1997-01-10</td>\n",
       "      <td>1070.0</td>\n",
       "      <td>1070.0</td>\n",
       "      <td>1070.0</td>\n",
       "      <td>1070.0</td>\n",
       "      <td>1070.0</td>\n",
       "      <td>0.0</td>\n",
       "      <td>0.0</td>\n",
       "      <td>0.0</td>\n",
       "      <td>0.0</td>\n",
       "      <td>1997-01-09</td>\n",
       "    </tr>\n",
       "    <tr>\n",
       "      <th>44</th>\n",
       "      <td>ALK</td>\n",
       "      <td>1997-01-11</td>\n",
       "      <td>1070.0</td>\n",
       "      <td>1070.0</td>\n",
       "      <td>1070.0</td>\n",
       "      <td>1070.0</td>\n",
       "      <td>1070.0</td>\n",
       "      <td>0.0</td>\n",
       "      <td>0.0</td>\n",
       "      <td>0.0</td>\n",
       "      <td>0.0</td>\n",
       "      <td>1997-01-09</td>\n",
       "    </tr>\n",
       "    <tr>\n",
       "      <th>66</th>\n",
       "      <td>ALK</td>\n",
       "      <td>1997-01-12</td>\n",
       "      <td>1070.0</td>\n",
       "      <td>1070.0</td>\n",
       "      <td>1070.0</td>\n",
       "      <td>1070.0</td>\n",
       "      <td>1070.0</td>\n",
       "      <td>0.0</td>\n",
       "      <td>0.0</td>\n",
       "      <td>0.0</td>\n",
       "      <td>0.0</td>\n",
       "      <td>1997-01-09</td>\n",
       "    </tr>\n",
       "    <tr>\n",
       "      <th>88</th>\n",
       "      <td>ALK</td>\n",
       "      <td>1997-01-13</td>\n",
       "      <td>1070.0</td>\n",
       "      <td>1070.0</td>\n",
       "      <td>1070.0</td>\n",
       "      <td>1070.0</td>\n",
       "      <td>1070.0</td>\n",
       "      <td>0.0</td>\n",
       "      <td>0.0</td>\n",
       "      <td>0.0</td>\n",
       "      <td>0.0</td>\n",
       "      <td>1997-01-09</td>\n",
       "    </tr>\n",
       "  </tbody>\n",
       "</table>\n",
       "</div>"
      ],
      "text/plain": [
       "   stock_id       date    open    high     low  average   close    volume  \\\n",
       "0       ALK 1997-01-09  1070.0  1070.0  1070.0   1070.0  1070.0  279270.0   \n",
       "22      ALK 1997-01-10  1070.0  1070.0  1070.0   1070.0  1070.0       0.0   \n",
       "44      ALK 1997-01-11  1070.0  1070.0  1070.0   1070.0  1070.0       0.0   \n",
       "66      ALK 1997-01-12  1070.0  1070.0  1070.0   1070.0  1070.0       0.0   \n",
       "88      ALK 1997-01-13  1070.0  1070.0  1070.0   1070.0  1070.0       0.0   \n",
       "\n",
       "    quantity  change %  volume total start_date  \n",
       "0      261.0       0.0      279270.0 1997-01-09  \n",
       "22       0.0       0.0           0.0 1997-01-09  \n",
       "44       0.0       0.0           0.0 1997-01-09  \n",
       "66       0.0       0.0           0.0 1997-01-09  \n",
       "88       0.0       0.0           0.0 1997-01-09  "
      ]
     },
     "execution_count": 4,
     "metadata": {},
     "output_type": "execute_result"
    }
   ],
   "source": [
    "df.head(5)"
   ]
  },
  {
   "cell_type": "markdown",
   "metadata": {},
   "source": [
    "### setting RNN ALK dataset for training, validation and test"
   ]
  },
  {
   "cell_type": "code",
   "execution_count": 6,
   "metadata": {},
   "outputs": [],
   "source": [
    "alk_df = df[df.stock_id == 'ALK']"
   ]
  },
  {
   "cell_type": "code",
   "execution_count": 8,
   "metadata": {},
   "outputs": [
    {
     "data": {
      "text/plain": [
       "Index(['stock_id', 'date', 'open', 'high', 'low', 'average', 'close', 'volume',\n",
       "       'quantity', 'change %', 'volume total', 'start_date'],\n",
       "      dtype='object')"
      ]
     },
     "execution_count": 8,
     "metadata": {},
     "output_type": "execute_result"
    }
   ],
   "source": [
    "alk_df.columns"
   ]
  },
  {
   "cell_type": "markdown",
   "metadata": {},
   "source": [
    "### split dataset"
   ]
  },
  {
   "cell_type": "code",
   "execution_count": 13,
   "metadata": {},
   "outputs": [],
   "source": [
    "#Create a new dataframe with only closing price column\n",
    "close_price = alk_df['close']\n",
    "\n",
    "#Convert the dataframe into numpy array\n",
    "close_price = close_price.values"
   ]
  },
  {
   "cell_type": "code",
   "execution_count": 18,
   "metadata": {},
   "outputs": [
    {
     "data": {
      "text/plain": [
       "(8630,)"
      ]
     },
     "execution_count": 18,
     "metadata": {},
     "output_type": "execute_result"
    }
   ],
   "source": [
    "close_price.shape"
   ]
  },
  {
   "cell_type": "code",
   "execution_count": 16,
   "metadata": {},
   "outputs": [],
   "source": [
    "scaler = MinMaxScaler(feature_range=(0, 1))"
   ]
  },
  {
   "cell_type": "code",
   "execution_count": 23,
   "metadata": {},
   "outputs": [],
   "source": [
    "scaled_df = scaler.fit_transform(close_price.reshape(len(close_price), 1))"
   ]
  },
  {
   "cell_type": "code",
   "execution_count": 24,
   "metadata": {},
   "outputs": [
    {
     "data": {
      "text/plain": [
       "array([[0.04175824],\n",
       "       [0.04175824],\n",
       "       [0.04175824],\n",
       "       ...,\n",
       "       [0.86373626],\n",
       "       [0.86373626],\n",
       "       [0.85714286]])"
      ]
     },
     "execution_count": 24,
     "metadata": {},
     "output_type": "execute_result"
    }
   ],
   "source": [
    "scaled_df"
   ]
  },
  {
   "cell_type": "markdown",
   "metadata": {},
   "source": [
    "### univariate sequence"
   ]
  },
  {
   "cell_type": "code",
   "execution_count": 124,
   "metadata": {},
   "outputs": [],
   "source": [
    "# split a univariate sequence into samples with one day prediciton\n",
    "def split_sequence(sequence, n_steps):\n",
    "    X, y = list(), list()\n",
    "    for i in range(len(sequence)):\n",
    "        # find the end of this pattern\n",
    "        end_ix = i + n_steps\n",
    "        # check if we are beyond the sequence\n",
    "        if end_ix > len(sequence)-1:\n",
    "            break\n",
    "        # gather input and output parts of the pattern\n",
    "        seq_x, seq_y = sequence[i:end_ix], sequence[end_ix]\n",
    "        X.append(seq_x)\n",
    "        y.append(seq_y)\n",
    "    return np.array(X), np.array(y)"
   ]
  },
  {
   "cell_type": "code",
   "execution_count": 30,
   "metadata": {},
   "outputs": [
    {
     "name": "stdout",
     "output_type": "stream",
     "text": [
      "[[0.04175824]\n",
      " [0.04175824]\n",
      " [0.04175824]] [0.04175824]\n",
      "[[0.04175824]\n",
      " [0.04175824]\n",
      " [0.04175824]] [0.04175824]\n",
      "[[0.04175824]\n",
      " [0.04175824]\n",
      " [0.04175824]] [0.04029304]\n"
     ]
    }
   ],
   "source": [
    "# choose a number of time steps\n",
    "n_steps = 3\n",
    "# split into samples\n",
    "X, y = split_sequence(scaled_df, n_steps)\n",
    "# summarize the data\n",
    "for i in range(3):\n",
    "    print(X[i], y[i])"
   ]
  },
  {
   "cell_type": "markdown",
   "metadata": {},
   "source": [
    "### Vanilla LSTM, one day prediciton"
   ]
  },
  {
   "cell_type": "code",
   "execution_count": 83,
   "metadata": {},
   "outputs": [],
   "source": [
    "X_train, X_valid, X_test = X[:int(len(X)-60),], X[int(len(X)-60):int(len(X)-1),], X[int(len(X)-1):,]\n",
    "y_train, y_valid, y_test = y[:int(len(X)-60),], y[int(len(X)-60):int(len(X)-1),], y[int(len(X)-1):,]"
   ]
  },
  {
   "cell_type": "code",
   "execution_count": 84,
   "metadata": {},
   "outputs": [
    {
     "data": {
      "text/plain": [
       "((8567, 3, 1), (59, 3, 1), (1, 3, 1), (8567, 1), (59, 1), (1, 1))"
      ]
     },
     "execution_count": 84,
     "metadata": {},
     "output_type": "execute_result"
    }
   ],
   "source": [
    "X_train.shape, X_valid.shape, X_test.shape, y_train.shape, y_valid.shape, y_test.shape"
   ]
  },
  {
   "cell_type": "code",
   "execution_count": 85,
   "metadata": {},
   "outputs": [],
   "source": [
    "# reshape from [samples, timesteps] into [samples, timesteps, features]\n",
    "n_features = 1\n",
    "X_train = X_train.reshape((X_train.shape[0], X_train.shape[1], n_features))\n",
    "X_valid = X_valid.reshape((X_valid.shape[0], X_valid.shape[1], n_features))\n",
    "X_test = X_test.reshape((X_test.shape[0], X_test.shape[1], n_features))"
   ]
  },
  {
   "cell_type": "code",
   "execution_count": 103,
   "metadata": {},
   "outputs": [],
   "source": [
    "from keras import backend as K\n",
    "def root_mean_squared_error(y_true, y_pred):\n",
    "        return K.sqrt(K.mean(K.square(y_pred - y_true)))\n",
    "    \n",
    "rmse = RootMeanSquaredError()"
   ]
  },
  {
   "cell_type": "code",
   "execution_count": 111,
   "metadata": {},
   "outputs": [],
   "source": [
    "# define model\n",
    "model = Sequential()\n",
    "model.add(LSTM(50, activation='relu', input_shape=(n_steps, n_features)))\n",
    "model.add(Dense(1))\n",
    "model.compile(optimizer='adam', loss='mse')"
   ]
  },
  {
   "cell_type": "code",
   "execution_count": 112,
   "metadata": {},
   "outputs": [],
   "source": [
    "my_callback1 = ModelCheckpoint('vanila_best.pt', verbose=1, save_best_only=True, mode='min', monitor='val_loss')\n",
    "my_callback2 = EarlyStopping(patience=10)\n",
    "\n",
    "my_callbacks = [my_callback1, my_callback2]"
   ]
  },
  {
   "cell_type": "code",
   "execution_count": 113,
   "metadata": {
    "scrolled": true
   },
   "outputs": [
    {
     "name": "stdout",
     "output_type": "stream",
     "text": [
      "Train on 8567 samples, validate on 59 samples\n",
      "Epoch 1/50\n",
      "8567/8567 [==============================] - 2s 259us/step - loss: 0.0131 - val_loss: 1.6283e-04\n",
      "\n",
      "Epoch 00001: val_loss improved from inf to 0.00016, saving model to vanila_best.pt\n",
      "Epoch 2/50\n",
      "8567/8567 [==============================] - 2s 185us/step - loss: 7.8980e-05 - val_loss: 6.0614e-05\n",
      "\n",
      "Epoch 00002: val_loss improved from 0.00016 to 0.00006, saving model to vanila_best.pt\n",
      "Epoch 3/50\n",
      "8567/8567 [==============================] - 2s 203us/step - loss: 7.7059e-05 - val_loss: 6.0599e-05\n",
      "\n",
      "Epoch 00003: val_loss improved from 0.00006 to 0.00006, saving model to vanila_best.pt\n",
      "Epoch 4/50\n",
      "8567/8567 [==============================] - 2s 193us/step - loss: 7.7404e-05 - val_loss: 6.5257e-05\n",
      "\n",
      "Epoch 00004: val_loss did not improve from 0.00006\n",
      "Epoch 5/50\n",
      "8567/8567 [==============================] - 2s 188us/step - loss: 7.5061e-05 - val_loss: 7.9386e-05\n",
      "\n",
      "Epoch 00005: val_loss did not improve from 0.00006\n",
      "Epoch 6/50\n",
      "8567/8567 [==============================] - 2s 190us/step - loss: 7.5258e-05 - val_loss: 1.2660e-04\n",
      "\n",
      "Epoch 00006: val_loss did not improve from 0.00006\n",
      "Epoch 7/50\n",
      "8567/8567 [==============================] - 2s 198us/step - loss: 7.4946e-05 - val_loss: 8.2435e-05\n",
      "\n",
      "Epoch 00007: val_loss did not improve from 0.00006\n",
      "Epoch 8/50\n",
      "8567/8567 [==============================] - 2s 190us/step - loss: 7.6347e-05 - val_loss: 1.0144e-04\n",
      "\n",
      "Epoch 00008: val_loss did not improve from 0.00006\n",
      "Epoch 9/50\n",
      "8567/8567 [==============================] - 2s 195us/step - loss: 7.3816e-05 - val_loss: 6.4614e-05\n",
      "\n",
      "Epoch 00009: val_loss did not improve from 0.00006\n",
      "Epoch 10/50\n",
      "8567/8567 [==============================] - 2s 189us/step - loss: 7.4949e-05 - val_loss: 9.1933e-05\n",
      "\n",
      "Epoch 00010: val_loss did not improve from 0.00006\n",
      "Epoch 11/50\n",
      "8567/8567 [==============================] - 2s 188us/step - loss: 7.3992e-05 - val_loss: 5.6083e-05\n",
      "\n",
      "Epoch 00011: val_loss improved from 0.00006 to 0.00006, saving model to vanila_best.pt\n",
      "Epoch 12/50\n",
      "8567/8567 [==============================] - 2s 188us/step - loss: 7.2856e-05 - val_loss: 1.5146e-04\n",
      "\n",
      "Epoch 00012: val_loss did not improve from 0.00006\n",
      "Epoch 13/50\n",
      "8567/8567 [==============================] - 2s 193us/step - loss: 7.2116e-05 - val_loss: 7.4719e-05\n",
      "\n",
      "Epoch 00013: val_loss did not improve from 0.00006\n",
      "Epoch 14/50\n",
      "8567/8567 [==============================] - 2s 189us/step - loss: 7.2055e-05 - val_loss: 1.3754e-04\n",
      "\n",
      "Epoch 00014: val_loss did not improve from 0.00006\n",
      "Epoch 15/50\n",
      "8567/8567 [==============================] - 2s 227us/step - loss: 7.2119e-05 - val_loss: 1.5465e-04\n",
      "\n",
      "Epoch 00015: val_loss did not improve from 0.00006\n",
      "Epoch 16/50\n",
      "8567/8567 [==============================] - 2s 204us/step - loss: 7.2157e-05 - val_loss: 6.1560e-05\n",
      "\n",
      "Epoch 00016: val_loss did not improve from 0.00006\n",
      "Epoch 17/50\n",
      "8567/8567 [==============================] - 2s 194us/step - loss: 7.1474e-05 - val_loss: 7.0999e-05\n",
      "\n",
      "Epoch 00017: val_loss did not improve from 0.00006\n",
      "Epoch 18/50\n",
      "8567/8567 [==============================] - 2s 191us/step - loss: 6.6875e-05 - val_loss: 6.6925e-05\n",
      "\n",
      "Epoch 00018: val_loss did not improve from 0.00006\n",
      "Epoch 19/50\n",
      "8567/8567 [==============================] - 2s 191us/step - loss: 6.8385e-05 - val_loss: 1.1407e-04\n",
      "\n",
      "Epoch 00019: val_loss did not improve from 0.00006\n",
      "Epoch 20/50\n",
      "8567/8567 [==============================] - 2s 196us/step - loss: 6.9045e-05 - val_loss: 5.8935e-05\n",
      "\n",
      "Epoch 00020: val_loss did not improve from 0.00006\n",
      "Epoch 21/50\n",
      "8567/8567 [==============================] - 2s 224us/step - loss: 6.7685e-05 - val_loss: 1.5563e-04\n",
      "\n",
      "Epoch 00021: val_loss did not improve from 0.00006\n"
     ]
    },
    {
     "data": {
      "text/plain": [
       "<keras.callbacks.callbacks.History at 0x20131698780>"
      ]
     },
     "execution_count": 113,
     "metadata": {},
     "output_type": "execute_result"
    }
   ],
   "source": [
    "# fit model\n",
    "model.fit(X_train, y_train, epochs=50, callbacks=my_callbacks, validation_data=[X_valid, y_valid])"
   ]
  },
  {
   "cell_type": "code",
   "execution_count": 114,
   "metadata": {},
   "outputs": [],
   "source": [
    "yhat = model.predict(X_test, verbose=0)"
   ]
  },
  {
   "cell_type": "code",
   "execution_count": 115,
   "metadata": {},
   "outputs": [],
   "source": [
    "y_actual = scaler.inverse_transform(y_test)\n",
    "y_pred = scaler.inverse_transform(yhat)"
   ]
  },
  {
   "cell_type": "code",
   "execution_count": 118,
   "metadata": {},
   "outputs": [
    {
     "data": {
      "text/plain": [
       "36.423828125"
      ]
     },
     "execution_count": 118,
     "metadata": {},
     "output_type": "execute_result"
    }
   ],
   "source": [
    "np.sqrt(mean_squared_error(y_actual, y_pred))"
   ]
  },
  {
   "cell_type": "markdown",
   "metadata": {},
   "source": [
    "### Stacked LSTM, one day prediciton"
   ]
  },
  {
   "cell_type": "code",
   "execution_count": 119,
   "metadata": {},
   "outputs": [],
   "source": [
    "model = Sequential()\n",
    "model.add(LSTM(50, activation='relu', return_sequences=True, input_shape=(n_steps, n_features)))\n",
    "model.add(LSTM(50, activation='relu'))\n",
    "model.add(Dense(1))\n",
    "model.compile(optimizer='adam', loss='mse')"
   ]
  },
  {
   "cell_type": "code",
   "execution_count": null,
   "metadata": {},
   "outputs": [],
   "source": [
    "# fit model\n",
    "model.fit(X, y, epochs=200, verbose=1)"
   ]
  },
  {
   "cell_type": "code",
   "execution_count": 120,
   "metadata": {},
   "outputs": [
    {
     "name": "stdout",
     "output_type": "stream",
     "text": [
      "Train on 8567 samples, validate on 59 samples\n",
      "Epoch 1/50\n",
      "8567/8567 [==============================] - 4s 476us/step - loss: 0.0117 - val_loss: 3.8548e-04\n",
      "\n",
      "Epoch 00001: val_loss did not improve from 0.00006\n",
      "Epoch 2/50\n",
      "8567/8567 [==============================] - 3s 311us/step - loss: 1.0804e-04 - val_loss: 9.7736e-05\n",
      "\n",
      "Epoch 00002: val_loss did not improve from 0.00006\n",
      "Epoch 3/50\n",
      "8567/8567 [==============================] - 3s 328us/step - loss: 1.0243e-04 - val_loss: 8.1860e-05\n",
      "\n",
      "Epoch 00003: val_loss did not improve from 0.00006\n",
      "Epoch 4/50\n",
      "8567/8567 [==============================] - 3s 321us/step - loss: 9.9187e-05 - val_loss: 8.5131e-05\n",
      "\n",
      "Epoch 00004: val_loss did not improve from 0.00006\n",
      "Epoch 5/50\n",
      "8567/8567 [==============================] - 3s 314us/step - loss: 1.0051e-04 - val_loss: 4.3703e-04\n",
      "\n",
      "Epoch 00005: val_loss did not improve from 0.00006\n",
      "Epoch 6/50\n",
      "8567/8567 [==============================] - 3s 308us/step - loss: 1.0516e-04 - val_loss: 6.8270e-05\n",
      "\n",
      "Epoch 00006: val_loss did not improve from 0.00006\n",
      "Epoch 7/50\n",
      "8567/8567 [==============================] - 3s 311us/step - loss: 9.9253e-05 - val_loss: 1.7474e-04\n",
      "\n",
      "Epoch 00007: val_loss did not improve from 0.00006\n",
      "Epoch 8/50\n",
      "8567/8567 [==============================] - 3s 314us/step - loss: 1.0283e-04 - val_loss: 6.7167e-05\n",
      "\n",
      "Epoch 00008: val_loss did not improve from 0.00006\n",
      "Epoch 9/50\n",
      "8567/8567 [==============================] - 3s 309us/step - loss: 1.0310e-04 - val_loss: 1.3300e-04\n",
      "\n",
      "Epoch 00009: val_loss did not improve from 0.00006\n",
      "Epoch 10/50\n",
      "8567/8567 [==============================] - 3s 394us/step - loss: 1.0309e-04 - val_loss: 5.7282e-04\n",
      "\n",
      "Epoch 00010: val_loss did not improve from 0.00006\n",
      "Epoch 11/50\n",
      "8567/8567 [==============================] - 3s 377us/step - loss: 9.7677e-05 - val_loss: 9.0702e-05\n",
      "\n",
      "Epoch 00011: val_loss did not improve from 0.00006\n",
      "Epoch 12/50\n",
      "8567/8567 [==============================] - 3s 331us/step - loss: 1.0349e-04 - val_loss: 8.6069e-05\n",
      "\n",
      "Epoch 00012: val_loss did not improve from 0.00006\n",
      "Epoch 13/50\n",
      "8567/8567 [==============================] - 3s 345us/step - loss: 9.6905e-05 - val_loss: 9.8270e-05\n",
      "\n",
      "Epoch 00013: val_loss did not improve from 0.00006\n",
      "Epoch 14/50\n",
      "8567/8567 [==============================] - 3s 308us/step - loss: 1.0827e-04 - val_loss: 6.2319e-05\n",
      "\n",
      "Epoch 00014: val_loss did not improve from 0.00006\n",
      "Epoch 15/50\n",
      "8567/8567 [==============================] - 2s 280us/step - loss: 1.0766e-04 - val_loss: 1.0795e-04\n",
      "\n",
      "Epoch 00015: val_loss did not improve from 0.00006\n",
      "Epoch 16/50\n",
      "8567/8567 [==============================] - 2s 280us/step - loss: 9.9099e-05 - val_loss: 2.6918e-04\n",
      "\n",
      "Epoch 00016: val_loss did not improve from 0.00006\n",
      "Epoch 17/50\n",
      "8567/8567 [==============================] - 2s 282us/step - loss: 1.0500e-04 - val_loss: 1.7409e-04\n",
      "\n",
      "Epoch 00017: val_loss did not improve from 0.00006\n",
      "Epoch 18/50\n",
      "8567/8567 [==============================] - 2s 280us/step - loss: 1.0001e-04 - val_loss: 6.1960e-05\n",
      "\n",
      "Epoch 00018: val_loss did not improve from 0.00006\n",
      "Epoch 19/50\n",
      "8567/8567 [==============================] - 2s 270us/step - loss: 9.4961e-05 - val_loss: 1.0344e-04\n",
      "\n",
      "Epoch 00019: val_loss did not improve from 0.00006\n",
      "Epoch 20/50\n",
      "8567/8567 [==============================] - 2s 275us/step - loss: 9.6828e-05 - val_loss: 6.4881e-05\n",
      "\n",
      "Epoch 00020: val_loss did not improve from 0.00006\n",
      "Epoch 21/50\n",
      "8567/8567 [==============================] - 3s 313us/step - loss: 9.1122e-05 - val_loss: 9.9610e-05\n",
      "\n",
      "Epoch 00021: val_loss did not improve from 0.00006\n",
      "Epoch 22/50\n",
      "8567/8567 [==============================] - 3s 325us/step - loss: 9.7170e-05 - val_loss: 2.5843e-04\n",
      "\n",
      "Epoch 00022: val_loss did not improve from 0.00006\n",
      "Epoch 23/50\n",
      "8567/8567 [==============================] - 3s 356us/step - loss: 9.2772e-05 - val_loss: 1.3007e-04\n",
      "\n",
      "Epoch 00023: val_loss did not improve from 0.00006\n",
      "Epoch 24/50\n",
      "8567/8567 [==============================] - 3s 341us/step - loss: 8.8283e-05 - val_loss: 6.1551e-05\n",
      "\n",
      "Epoch 00024: val_loss did not improve from 0.00006\n",
      "Epoch 25/50\n",
      "8567/8567 [==============================] - 3s 361us/step - loss: 1.0194e-04 - val_loss: 6.2436e-05\n",
      "\n",
      "Epoch 00025: val_loss did not improve from 0.00006\n",
      "Epoch 26/50\n",
      "8567/8567 [==============================] - 3s 297us/step - loss: 9.2682e-05 - val_loss: 6.6816e-05\n",
      "\n",
      "Epoch 00026: val_loss did not improve from 0.00006\n",
      "Epoch 27/50\n",
      "8567/8567 [==============================] - 2s 280us/step - loss: 8.3948e-05 - val_loss: 1.2995e-04\n",
      "\n",
      "Epoch 00027: val_loss did not improve from 0.00006\n",
      "Epoch 28/50\n",
      "8567/8567 [==============================] - 2s 282us/step - loss: 9.0912e-05 - val_loss: 2.5542e-04\n",
      "\n",
      "Epoch 00028: val_loss did not improve from 0.00006\n",
      "Epoch 29/50\n",
      "8567/8567 [==============================] - 2s 277us/step - loss: 8.8084e-05 - val_loss: 1.1209e-04\n",
      "\n",
      "Epoch 00029: val_loss did not improve from 0.00006\n",
      "Epoch 30/50\n",
      "8567/8567 [==============================] - 2s 277us/step - loss: 8.6195e-05 - val_loss: 9.3290e-05\n",
      "\n",
      "Epoch 00030: val_loss did not improve from 0.00006\n",
      "Epoch 31/50\n",
      "8567/8567 [==============================] - 2s 291us/step - loss: 8.4213e-05 - val_loss: 9.8629e-05\n",
      "\n",
      "Epoch 00031: val_loss did not improve from 0.00006\n",
      "Epoch 32/50\n",
      "8567/8567 [==============================] - 3s 317us/step - loss: 8.4737e-05 - val_loss: 7.2324e-05\n",
      "\n",
      "Epoch 00032: val_loss did not improve from 0.00006\n",
      "Epoch 33/50\n",
      "8567/8567 [==============================] - 2s 277us/step - loss: 8.4597e-05 - val_loss: 5.6322e-05\n",
      "\n",
      "Epoch 00033: val_loss did not improve from 0.00006\n",
      "Epoch 34/50\n",
      "8567/8567 [==============================] - 2s 283us/step - loss: 7.8960e-05 - val_loss: 1.8134e-04\n",
      "\n",
      "Epoch 00034: val_loss did not improve from 0.00006\n",
      "Epoch 35/50\n",
      "8567/8567 [==============================] - 3s 318us/step - loss: 7.9373e-05 - val_loss: 2.5246e-04\n",
      "\n",
      "Epoch 00035: val_loss did not improve from 0.00006\n",
      "Epoch 36/50\n",
      "8567/8567 [==============================] - 3s 332us/step - loss: 7.8661e-05 - val_loss: 1.5083e-04\n",
      "\n",
      "Epoch 00036: val_loss did not improve from 0.00006\n",
      "Epoch 37/50\n",
      "8567/8567 [==============================] - 3s 298us/step - loss: 7.2889e-05 - val_loss: 6.5848e-05\n",
      "\n",
      "Epoch 00037: val_loss did not improve from 0.00006\n",
      "Epoch 38/50\n",
      "8567/8567 [==============================] - 3s 302us/step - loss: 7.7114e-05 - val_loss: 7.0185e-05\n",
      "\n",
      "Epoch 00038: val_loss did not improve from 0.00006\n",
      "Epoch 39/50\n",
      "8567/8567 [==============================] - 2s 287us/step - loss: 7.6801e-05 - val_loss: 1.8443e-04\n",
      "\n",
      "Epoch 00039: val_loss did not improve from 0.00006\n",
      "Epoch 40/50\n",
      "8567/8567 [==============================] - 2s 281us/step - loss: 7.3901e-05 - val_loss: 5.1972e-05\n",
      "\n",
      "Epoch 00040: val_loss improved from 0.00006 to 0.00005, saving model to vanila_best.pt\n",
      "Epoch 41/50\n",
      "8567/8567 [==============================] - 2s 275us/step - loss: 7.6278e-05 - val_loss: 7.1661e-05\n",
      "\n",
      "Epoch 00041: val_loss did not improve from 0.00005\n",
      "Epoch 42/50\n",
      "8567/8567 [==============================] - 2s 278us/step - loss: 6.7637e-05 - val_loss: 8.5757e-05\n",
      "\n",
      "Epoch 00042: val_loss did not improve from 0.00005\n",
      "Epoch 43/50\n",
      "8567/8567 [==============================] - 3s 322us/step - loss: 7.4904e-05 - val_loss: 8.5250e-05\n",
      "\n",
      "Epoch 00043: val_loss did not improve from 0.00005\n",
      "Epoch 44/50\n",
      "8567/8567 [==============================] - 3s 337us/step - loss: 7.0527e-05 - val_loss: 1.1325e-04\n",
      "\n",
      "Epoch 00044: val_loss did not improve from 0.00005\n",
      "Epoch 45/50\n",
      "8567/8567 [==============================] - 3s 351us/step - loss: 6.2860e-05 - val_loss: 5.7624e-05\n",
      "\n",
      "Epoch 00045: val_loss did not improve from 0.00005\n",
      "Epoch 46/50\n",
      "8567/8567 [==============================] - 3s 391us/step - loss: 6.0055e-05 - val_loss: 8.1294e-05\n",
      "\n",
      "Epoch 00046: val_loss did not improve from 0.00005\n",
      "Epoch 47/50\n",
      "8567/8567 [==============================] - 3s 395us/step - loss: 6.3830e-05 - val_loss: 6.9744e-05\n",
      "\n",
      "Epoch 00047: val_loss did not improve from 0.00005\n",
      "Epoch 48/50\n",
      "8567/8567 [==============================] - 4s 429us/step - loss: 6.3096e-05 - val_loss: 6.0191e-05\n",
      "\n",
      "Epoch 00048: val_loss did not improve from 0.00005\n",
      "Epoch 49/50\n",
      "8567/8567 [==============================] - 3s 364us/step - loss: 6.2710e-05 - val_loss: 6.0686e-05\n",
      "\n",
      "Epoch 00049: val_loss did not improve from 0.00005\n",
      "Epoch 50/50\n"
     ]
    },
    {
     "name": "stdout",
     "output_type": "stream",
     "text": [
      "8567/8567 [==============================] - 3s 310us/step - loss: 6.0044e-05 - val_loss: 6.5507e-05\n",
      "\n",
      "Epoch 00050: val_loss did not improve from 0.00005\n"
     ]
    },
    {
     "data": {
      "text/plain": [
       "<keras.callbacks.callbacks.History at 0x2013047ea58>"
      ]
     },
     "execution_count": 120,
     "metadata": {},
     "output_type": "execute_result"
    }
   ],
   "source": [
    "# fit model\n",
    "model.fit(X_train, y_train, epochs=50, callbacks=my_callbacks, validation_data=[X_valid, y_valid])"
   ]
  },
  {
   "cell_type": "code",
   "execution_count": 121,
   "metadata": {},
   "outputs": [],
   "source": [
    "yhat = model.predict(X_test, verbose=0)"
   ]
  },
  {
   "cell_type": "code",
   "execution_count": 123,
   "metadata": {},
   "outputs": [
    {
     "data": {
      "text/plain": [
       "139.701171875"
      ]
     },
     "execution_count": 123,
     "metadata": {},
     "output_type": "execute_result"
    }
   ],
   "source": [
    "y_actual = scaler.inverse_transform(y_test)\n",
    "y_pred = scaler.inverse_transform(yhat)\n",
    "np.sqrt(mean_squared_error(y_actual, y_pred))"
   ]
  },
  {
   "cell_type": "markdown",
   "metadata": {},
   "source": [
    "### univariate sequence many to many"
   ]
  },
  {
   "cell_type": "code",
   "execution_count": 125,
   "metadata": {},
   "outputs": [],
   "source": [
    "# function that segments the data\n",
    "# split a univariate sequence into samples\n",
    "def split_sequence(sequence, n_steps_in, n_steps_out):\n",
    "    X, y = list(), list()\n",
    "    for i in range(len(sequence)):\n",
    "        # find the end of this pattern\n",
    "        end_ix = i + n_steps_in\n",
    "        out_end_ix = end_ix + n_steps_out\n",
    "        # check if we are beyond the sequence\n",
    "        if out_end_ix > len(sequence):\n",
    "            break\n",
    "        # gather input and output parts of the pattern\n",
    "        seq_x, seq_y = sequence[i:end_ix], sequence[end_ix:out_end_ix]\n",
    "        X.append(seq_x)\n",
    "        y.append(seq_y)\n",
    "    return np.array(X), np.array(y)"
   ]
  },
  {
   "cell_type": "code",
   "execution_count": 170,
   "metadata": {},
   "outputs": [
    {
     "name": "stdout",
     "output_type": "stream",
     "text": [
      "[[0.04175824]\n",
      " [0.04175824]\n",
      " [0.04175824]\n",
      " [0.04175824]\n",
      " [0.04175824]\n",
      " [0.04029304]\n",
      " [0.04029304]\n",
      " [0.03882784]\n",
      " [0.03882784]\n",
      " [0.03882784]\n",
      " [0.03882784]\n",
      " [0.03882784]\n",
      " [0.03736264]\n",
      " [0.03736264]\n",
      " [0.03736264]\n",
      " [0.03736264]\n",
      " [0.03736264]\n",
      " [0.03736264]\n",
      " [0.03736264]\n",
      " [0.03663004]\n",
      " [0.03663004]\n",
      " [0.03663004]\n",
      " [0.03663004]\n",
      " [0.03663004]\n",
      " [0.03663004]\n",
      " [0.03663004]\n",
      " [0.03663004]\n",
      " [0.03663004]\n",
      " [0.03663004]\n",
      " [0.03663004]] \n",
      " Y:  [[0.03663004]\n",
      " [0.03663004]\n",
      " [0.03663004]\n",
      " [0.03443223]\n",
      " [0.03443223]\n",
      " [0.03443223]\n",
      " [0.03443223]\n",
      " [0.03443223]\n",
      " [0.03443223]\n",
      " [0.03443223]\n",
      " [0.03443223]\n",
      " [0.03443223]\n",
      " [0.03443223]\n",
      " [0.03443223]\n",
      " [0.03443223]\n",
      " [0.03443223]\n",
      " [0.03443223]\n",
      " [0.03443223]\n",
      " [0.03443223]\n",
      " [0.03443223]\n",
      " [0.03443223]\n",
      " [0.03443223]\n",
      " [0.03443223]\n",
      " [0.03443223]\n",
      " [0.03443223]\n",
      " [0.03443223]\n",
      " [0.14285714]\n",
      " [0.14285714]\n",
      " [0.14285714]\n",
      " [0.14285714]]\n",
      "[[0.04175824]\n",
      " [0.04175824]\n",
      " [0.04175824]\n",
      " [0.04175824]\n",
      " [0.04029304]\n",
      " [0.04029304]\n",
      " [0.03882784]\n",
      " [0.03882784]\n",
      " [0.03882784]\n",
      " [0.03882784]\n",
      " [0.03882784]\n",
      " [0.03736264]\n",
      " [0.03736264]\n",
      " [0.03736264]\n",
      " [0.03736264]\n",
      " [0.03736264]\n",
      " [0.03736264]\n",
      " [0.03736264]\n",
      " [0.03663004]\n",
      " [0.03663004]\n",
      " [0.03663004]\n",
      " [0.03663004]\n",
      " [0.03663004]\n",
      " [0.03663004]\n",
      " [0.03663004]\n",
      " [0.03663004]\n",
      " [0.03663004]\n",
      " [0.03663004]\n",
      " [0.03663004]\n",
      " [0.03663004]] \n",
      " Y:  [[0.03663004]\n",
      " [0.03663004]\n",
      " [0.03443223]\n",
      " [0.03443223]\n",
      " [0.03443223]\n",
      " [0.03443223]\n",
      " [0.03443223]\n",
      " [0.03443223]\n",
      " [0.03443223]\n",
      " [0.03443223]\n",
      " [0.03443223]\n",
      " [0.03443223]\n",
      " [0.03443223]\n",
      " [0.03443223]\n",
      " [0.03443223]\n",
      " [0.03443223]\n",
      " [0.03443223]\n",
      " [0.03443223]\n",
      " [0.03443223]\n",
      " [0.03443223]\n",
      " [0.03443223]\n",
      " [0.03443223]\n",
      " [0.03443223]\n",
      " [0.03443223]\n",
      " [0.03443223]\n",
      " [0.14285714]\n",
      " [0.14285714]\n",
      " [0.14285714]\n",
      " [0.14285714]\n",
      " [0.14285714]]\n",
      "[[0.04175824]\n",
      " [0.04175824]\n",
      " [0.04175824]\n",
      " [0.04029304]\n",
      " [0.04029304]\n",
      " [0.03882784]\n",
      " [0.03882784]\n",
      " [0.03882784]\n",
      " [0.03882784]\n",
      " [0.03882784]\n",
      " [0.03736264]\n",
      " [0.03736264]\n",
      " [0.03736264]\n",
      " [0.03736264]\n",
      " [0.03736264]\n",
      " [0.03736264]\n",
      " [0.03736264]\n",
      " [0.03663004]\n",
      " [0.03663004]\n",
      " [0.03663004]\n",
      " [0.03663004]\n",
      " [0.03663004]\n",
      " [0.03663004]\n",
      " [0.03663004]\n",
      " [0.03663004]\n",
      " [0.03663004]\n",
      " [0.03663004]\n",
      " [0.03663004]\n",
      " [0.03663004]\n",
      " [0.03663004]] \n",
      " Y:  [[0.03663004]\n",
      " [0.03443223]\n",
      " [0.03443223]\n",
      " [0.03443223]\n",
      " [0.03443223]\n",
      " [0.03443223]\n",
      " [0.03443223]\n",
      " [0.03443223]\n",
      " [0.03443223]\n",
      " [0.03443223]\n",
      " [0.03443223]\n",
      " [0.03443223]\n",
      " [0.03443223]\n",
      " [0.03443223]\n",
      " [0.03443223]\n",
      " [0.03443223]\n",
      " [0.03443223]\n",
      " [0.03443223]\n",
      " [0.03443223]\n",
      " [0.03443223]\n",
      " [0.03443223]\n",
      " [0.03443223]\n",
      " [0.03443223]\n",
      " [0.03443223]\n",
      " [0.14285714]\n",
      " [0.14285714]\n",
      " [0.14285714]\n",
      " [0.14285714]\n",
      " [0.14285714]\n",
      " [0.03443223]]\n"
     ]
    }
   ],
   "source": [
    "# choose a number of time steps\n",
    "n_steps_in, n_steps_out = 30, 30\n",
    "n_features = 1\n",
    "\n",
    "# split the data into samples\n",
    "X, y = split_sequence(scaled_df, n_steps_in, n_steps_out)\n",
    "\n",
    "# print the first 3 samples for trainX and trainY\n",
    "for i in range(3):\n",
    "    print(X[i], \"\\n Y: \"  ,y[i])"
   ]
  },
  {
   "cell_type": "code",
   "execution_count": 171,
   "metadata": {},
   "outputs": [
    {
     "data": {
      "text/plain": [
       "((8571, 30, 1), (8571, 30, 1))"
      ]
     },
     "execution_count": 171,
     "metadata": {},
     "output_type": "execute_result"
    }
   ],
   "source": [
    "X.shape, y.shape"
   ]
  },
  {
   "cell_type": "code",
   "execution_count": 172,
   "metadata": {},
   "outputs": [],
   "source": [
    "X_train, X_valid, X_test = X[:int(len(X)-60),], X[int(len(X)-60):int(len(X)-30),], X[int(len(X)-30):,]\n",
    "y_train, y_valid, y_test = y[:int(len(X)-60),], y[int(len(X)-60):int(len(X)-30),], y[int(len(X)-30):,]"
   ]
  },
  {
   "cell_type": "code",
   "execution_count": 173,
   "metadata": {},
   "outputs": [
    {
     "data": {
      "text/plain": [
       "((8511, 30, 1),\n",
       " (30, 30, 1),\n",
       " (30, 30, 1),\n",
       " (8511, 30, 1),\n",
       " (30, 30, 1),\n",
       " (30, 30, 1))"
      ]
     },
     "execution_count": 173,
     "metadata": {},
     "output_type": "execute_result"
    }
   ],
   "source": [
    "X_train.shape, X_valid.shape, X_test.shape, y_train.shape, y_valid.shape, y_test.shape"
   ]
  },
  {
   "cell_type": "code",
   "execution_count": 174,
   "metadata": {},
   "outputs": [],
   "source": [
    "# There are 30 (n_steps_out) predictions for each data point. \n",
    "# Thus, we need to take the predicitons on each 'n_steps_out' step \n",
    "X_valid, y_valid = X_test[::n_steps_out], y_test[::n_steps_out]\n",
    "X_test, y_test = X_test[::n_steps_out], y_test[::n_steps_out]"
   ]
  },
  {
   "cell_type": "code",
   "execution_count": 175,
   "metadata": {},
   "outputs": [
    {
     "data": {
      "text/plain": [
       "((8511, 30, 1), (1, 30, 1), (1, 30, 1), (8511, 30, 1), (1, 30, 1), (1, 30, 1))"
      ]
     },
     "execution_count": 175,
     "metadata": {},
     "output_type": "execute_result"
    }
   ],
   "source": [
    "X_train.shape, X_valid.shape, X_test.shape, y_train.shape, y_valid.shape, y_test.shape"
   ]
  },
  {
   "cell_type": "code",
   "execution_count": 201,
   "metadata": {},
   "outputs": [
    {
     "name": "stdout",
     "output_type": "stream",
     "text": [
      "Model: \"sequential_16\"\n",
      "_________________________________________________________________\n",
      "Layer (type)                 Output Shape              Param #   \n",
      "=================================================================\n",
      "lstm_18 (LSTM)               (None, 100)               40800     \n",
      "_________________________________________________________________\n",
      "repeat_vector_3 (RepeatVecto (None, 30, 100)           0         \n",
      "_________________________________________________________________\n",
      "dropout_1 (Dropout)          (None, 30, 100)           0         \n",
      "_________________________________________________________________\n",
      "lstm_19 (LSTM)               (None, 30, 100)           80400     \n",
      "_________________________________________________________________\n",
      "dropout_2 (Dropout)          (None, 30, 100)           0         \n",
      "_________________________________________________________________\n",
      "dense_15 (Dense)             (None, 30, 1)             101       \n",
      "=================================================================\n",
      "Total params: 121,301\n",
      "Trainable params: 121,301\n",
      "Non-trainable params: 0\n",
      "_________________________________________________________________\n",
      "None\n"
     ]
    }
   ],
   "source": [
    "from keras.layers import RepeatVector\n",
    "\n",
    "# define model\n",
    "\n",
    "model_many_to_many = Sequential()\n",
    "model_many_to_many.add(LSTM(100, activation='relu', input_shape=(n_steps_in, n_features)))\n",
    "model_many_to_many.add(RepeatVector(n_steps_out))\n",
    "model_many_to_many.add(Dropout(0.2))\n",
    "model_many_to_many.add(LSTM(100, activation='relu', return_sequences=True))\n",
    "model_many_to_many.add(Dropout(0.2))\n",
    "model_many_to_many.add(Dense(1))\n",
    "model_many_to_many.compile(optimizer='adam', loss='mae')\n",
    "print(model_many_to_many.summary())"
   ]
  },
  {
   "cell_type": "code",
   "execution_count": 202,
   "metadata": {
    "scrolled": true
   },
   "outputs": [
    {
     "name": "stdout",
     "output_type": "stream",
     "text": [
      "Train on 8511 samples, validate on 1 samples\n",
      "Epoch 1/50\n",
      "8511/8511 [==============================] - 33s 4ms/step - loss: 0.0487 - val_loss: 0.0201\n",
      "\n",
      "Epoch 00001: val_loss did not improve from 0.00005\n",
      "Epoch 2/50\n",
      "8511/8511 [==============================] - 31s 4ms/step - loss: 0.0264 - val_loss: 0.0252\n",
      "\n",
      "Epoch 00002: val_loss did not improve from 0.00005\n",
      "Epoch 3/50\n",
      "8511/8511 [==============================] - 32s 4ms/step - loss: 0.0248 - val_loss: 0.0468\n",
      "\n",
      "Epoch 00003: val_loss did not improve from 0.00005\n",
      "Epoch 4/50\n",
      "8511/8511 [==============================] - 31s 4ms/step - loss: 0.0236 - val_loss: 0.0294\n",
      "\n",
      "Epoch 00004: val_loss did not improve from 0.00005\n",
      "Epoch 5/50\n",
      "8511/8511 [==============================] - 32s 4ms/step - loss: 0.0229 - val_loss: 0.0444\n",
      "\n",
      "Epoch 00005: val_loss did not improve from 0.00005\n",
      "Epoch 6/50\n",
      "8511/8511 [==============================] - 31s 4ms/step - loss: 0.0220 - val_loss: 0.0622\n",
      "\n",
      "Epoch 00006: val_loss did not improve from 0.00005\n",
      "Epoch 7/50\n",
      "8511/8511 [==============================] - 32s 4ms/step - loss: 0.0221 - val_loss: 0.0269\n",
      "\n",
      "Epoch 00007: val_loss did not improve from 0.00005\n",
      "Epoch 8/50\n",
      "8511/8511 [==============================] - 32s 4ms/step - loss: 0.0213 - val_loss: 0.0121\n",
      "\n",
      "Epoch 00008: val_loss did not improve from 0.00005\n",
      "Epoch 9/50\n",
      "8511/8511 [==============================] - 35s 4ms/step - loss: 0.0210 - val_loss: 0.0461\n",
      "\n",
      "Epoch 00009: val_loss did not improve from 0.00005\n",
      "Epoch 10/50\n",
      "8511/8511 [==============================] - 31s 4ms/step - loss: 0.0212 - val_loss: 0.0359\n",
      "\n",
      "Epoch 00010: val_loss did not improve from 0.00005\n",
      "Epoch 11/50\n",
      "8511/8511 [==============================] - 33s 4ms/step - loss: 0.0209 - val_loss: 0.0124\n",
      "\n",
      "Epoch 00011: val_loss did not improve from 0.00005\n",
      "Epoch 12/50\n",
      "8511/8511 [==============================] - 31s 4ms/step - loss: 0.0208 - val_loss: 0.0379\n",
      "\n",
      "Epoch 00012: val_loss did not improve from 0.00005\n",
      "Epoch 13/50\n",
      "8511/8511 [==============================] - 34s 4ms/step - loss: 0.0207 - val_loss: 0.0344\n",
      "\n",
      "Epoch 00013: val_loss did not improve from 0.00005\n",
      "Epoch 14/50\n",
      "8511/8511 [==============================] - 32s 4ms/step - loss: 0.0207 - val_loss: 0.0443\n",
      "\n",
      "Epoch 00014: val_loss did not improve from 0.00005\n",
      "Epoch 15/50\n",
      "8511/8511 [==============================] - 33s 4ms/step - loss: 0.0204 - val_loss: 0.0414\n",
      "\n",
      "Epoch 00015: val_loss did not improve from 0.00005\n",
      "Epoch 16/50\n",
      "8511/8511 [==============================] - 32s 4ms/step - loss: 0.0205 - val_loss: 0.0133\n",
      "\n",
      "Epoch 00016: val_loss did not improve from 0.00005\n",
      "Epoch 17/50\n",
      "8511/8511 [==============================] - 32s 4ms/step - loss: 0.0201 - val_loss: 0.0119\n",
      "\n",
      "Epoch 00017: val_loss did not improve from 0.00005\n",
      "Epoch 18/50\n",
      "8511/8511 [==============================] - 32s 4ms/step - loss: 0.0202 - val_loss: 0.0175\n",
      "\n",
      "Epoch 00018: val_loss did not improve from 0.00005\n",
      "Epoch 19/50\n",
      "8511/8511 [==============================] - 33s 4ms/step - loss: 0.0202 - val_loss: 0.0433\n",
      "\n",
      "Epoch 00019: val_loss did not improve from 0.00005\n",
      "Epoch 20/50\n",
      "8511/8511 [==============================] - 34s 4ms/step - loss: 0.0202 - val_loss: 0.0335\n",
      "\n",
      "Epoch 00020: val_loss did not improve from 0.00005\n",
      "Epoch 21/50\n",
      "8511/8511 [==============================] - 32s 4ms/step - loss: 0.0204 - val_loss: 0.0476\n",
      "\n",
      "Epoch 00021: val_loss did not improve from 0.00005\n",
      "Epoch 22/50\n",
      "8511/8511 [==============================] - 33s 4ms/step - loss: 0.0201 - val_loss: 0.0369\n",
      "\n",
      "Epoch 00022: val_loss did not improve from 0.00005\n",
      "Epoch 23/50\n",
      "8511/8511 [==============================] - 33s 4ms/step - loss: 0.0200 - val_loss: 0.0186\n",
      "\n",
      "Epoch 00023: val_loss did not improve from 0.00005\n",
      "Epoch 24/50\n",
      "8511/8511 [==============================] - 32s 4ms/step - loss: 0.0199 - val_loss: 0.0257\n",
      "\n",
      "Epoch 00024: val_loss did not improve from 0.00005\n",
      "Epoch 25/50\n",
      "8511/8511 [==============================] - 34s 4ms/step - loss: 0.0198 - val_loss: 0.0305\n",
      "\n",
      "Epoch 00025: val_loss did not improve from 0.00005\n",
      "Epoch 26/50\n",
      "8511/8511 [==============================] - 31s 4ms/step - loss: 0.0199 - val_loss: 0.0467\n",
      "\n",
      "Epoch 00026: val_loss did not improve from 0.00005\n",
      "Epoch 27/50\n",
      "8511/8511 [==============================] - 31s 4ms/step - loss: 0.0197 - val_loss: 0.0204\n",
      "\n",
      "Epoch 00027: val_loss did not improve from 0.00005\n"
     ]
    },
    {
     "data": {
      "text/plain": [
       "<keras.callbacks.callbacks.History at 0x201401b99e8>"
      ]
     },
     "execution_count": 202,
     "metadata": {},
     "output_type": "execute_result"
    }
   ],
   "source": [
    "model_many_to_many.fit(X_train, y_train,\n",
    "                       epochs=50,\n",
    "                       callbacks=my_callbacks,\n",
    "                       verbose=1,\n",
    "                       validation_data=[X_valid, y_valid])"
   ]
  },
  {
   "cell_type": "code",
   "execution_count": 203,
   "metadata": {},
   "outputs": [],
   "source": [
    "# make predictions\n",
    "yhat = model_many_to_many.predict(X_test, verbose=0)"
   ]
  },
  {
   "cell_type": "code",
   "execution_count": 204,
   "metadata": {},
   "outputs": [],
   "source": [
    "yhat = yhat.reshape(yhat.shape[0]*yhat.shape[1],1)\n",
    "y_test = y_test.reshape(y_test.shape[0]*y_test.shape[1],1)"
   ]
  },
  {
   "cell_type": "code",
   "execution_count": 205,
   "metadata": {},
   "outputs": [
    {
     "data": {
      "text/plain": [
       "368.4492128354552"
      ]
     },
     "execution_count": 205,
     "metadata": {},
     "output_type": "execute_result"
    }
   ],
   "source": [
    "y_actual = scaler.inverse_transform(y_test)\n",
    "y_pred = scaler.inverse_transform(yhat)\n",
    "np.sqrt(mean_squared_error(y_actual, y_pred))"
   ]
  },
  {
   "cell_type": "code",
   "execution_count": 215,
   "metadata": {},
   "outputs": [],
   "source": [
    "y_train_pred = model_many_to_many.predict(X_train)\n",
    "y_train_pred = scaler.inverse_transform(y_train_pred.reshape(y_train_pred.shape[0]*y_train_pred.shape[1],1))"
   ]
  },
  {
   "cell_type": "code",
   "execution_count": 217,
   "metadata": {},
   "outputs": [],
   "source": [
    "y_valid_pred = model_many_to_many.predict(X_valid)\n",
    "y_valid_pred = scaler.inverse_transform(y_valid_pred.reshape(y_valid_pred.shape[0]*y_valid_pred.shape[1],1))"
   ]
  },
  {
   "cell_type": "code",
   "execution_count": 206,
   "metadata": {},
   "outputs": [
    {
     "data": {
      "image/png": "[encoded data removed]",
      "text/plain": [
       "<Figure size 432x288 with 1 Axes>"
      ]
     },
     "metadata": {
      "needs_background": "light"
     },
     "output_type": "display_data"
    }
   ],
   "source": [
    "# plot the test data and predicitons\n",
    "plt.plot(y_actual)\n",
    "plt.plot(y_pred)\n",
    "plt.show()"
   ]
  },
  {
   "cell_type": "code",
   "execution_count": 227,
   "metadata": {},
   "outputs": [
    {
     "data": {
      "image/png": "[encoded data removed]",
      "text/plain": [
       "<Figure size 1152x576 with 1 Axes>"
      ]
     },
     "metadata": {
      "needs_background": "light"
     },
     "output_type": "display_data"
    }
   ],
   "source": [
    "#plot the data\n",
    "train_actual = scaler.inverse_transform(y_train.reshape(y_train.shape[0]*y_train.shape[1],1))\n",
    "valid_actual = scaler.inverse_transform(y_valid.reshape(y_valid.shape[0]*y_valid.shape[1],1))\n",
    "test_actual = scaler.inverse_transform(y_test.reshape(y_test.shape[0]*y_test.shape[1],1))\n",
    "#valid['Predictions'] = predictions\n",
    "#Visualize the Plot\n",
    "plt.figure(figsize=(16,8))\n",
    "plt.title('Model')\n",
    "plt.xlabel('Date', fontsize=18)\n",
    "plt.ylabel('Closing Price in (MKD)', fontsize=18)\n",
    "#plt.plot(train)\n",
    "#plt.plot(train_actual)\n",
    "#plt.plot(y_train_pred)\n",
    "plt.plot(test_actual)\n",
    "plt.plot(y_pred)\n",
    "plt.legend(['Train','Val'], loc= 'lower right')\n",
    "plt.show()"
   ]
  }
 ],
 "metadata": {
  "kernelspec": {
   "display_name": "Python 3",
   "language": "python",
   "name": "python3"
  },
  "language_info": {
   "codemirror_mode": {
    "name": "ipython",
    "version": 3
   },
   "file_extension": ".py",
   "mimetype": "text/x-python",
   "name": "python",
   "nbconvert_exporter": "python",
   "pygments_lexer": "ipython3",
   "version": "3.7.3"
  }
 },
 "nbformat": 4,
 "nbformat_minor": 4
}
